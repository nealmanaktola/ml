{
 "cells": [
  {
   "cell_type": "code",
   "execution_count": 2,
   "id": "dbbf5864",
   "metadata": {},
   "outputs": [],
   "source": [
    "import numpy as np \n",
    "import pandas as pd \n",
    "import matplotlib.pyplot as plt\n",
    "from sklearn.model_selection import train_test_split\n",
    "from sklearn.preprocessing import StandardScaler\n",
    "from sklearn.tree import DecisionTreeClassifier\n",
    "from sklearn.ensemble import RandomForestClassifier\n",
    "from sklearn.neighbors import KNeighborsClassifier\n",
    "from sklearn.model_selection import RandomizedSearchCV\n",
    "from sklearn.metrics import accuracy_score\n",
    "from sklearn.model_selection import GridSearchCV\n",
    "from datetime import datetime\n",
    "import warnings\n",
    "from sklearn.model_selection import validation_curve, learning_curve\n",
    "from utils import load_grades_data\n",
    "import time\n",
    "from sklearn.neighbors import KNeighborsClassifier"
   ]
  },
  {
   "cell_type": "markdown",
   "id": "7e2c2aea",
   "metadata": {},
   "source": [
    "## Setup"
   ]
  },
  {
   "cell_type": "code",
   "execution_count": 6,
   "id": "83ea3df2",
   "metadata": {},
   "outputs": [],
   "source": [
    "X, y = load_grades_data()\n",
    "X_train, X_test, y_train, y_test = train_test_split(X, y, test_size=0.4, random_state=23)"
   ]
  },
  {
   "cell_type": "markdown",
   "id": "1fb8aa2f",
   "metadata": {},
   "source": [
    "## Model Complexity Curve -  knn"
   ]
  },
  {
   "cell_type": "code",
   "execution_count": null,
   "id": "36ea4692",
   "metadata": {},
   "outputs": [],
   "source": [
    "k_range = np.arange(1, 101)\n",
    "train_scores, test_scores = validation_curve(KNeighborsClassifier(), X_train, y_train, param_name=\"n_neighbors\", \n",
    "                                             param_range=k_range, cv=5)\n",
    "\n",
    "plt.figure()\n",
    "plt.plot(k_range, np.mean(train_scores, axis=1), label='Training score', color='r')\n",
    "plt.plot(k_range, np.mean(test_scores, axis=1), label='Cross-validation score', color='b')\n",
    "plt.title('Validation curve for kNN')\n",
    "plt.xlabel('k')\n",
    "plt.ylabel(\"Score\")\n",
    "plt.legend(loc=\"best\")\n",
    "plt.grid()\n",
    "#plt.savefig(fig_path + 'dt_validation_curve_1.png')\n",
    "plt.show()"
   ]
  },
  {
   "cell_type": "markdown",
   "id": "55af0207",
   "metadata": {},
   "source": [
    "## Optimal Model"
   ]
  },
  {
   "cell_type": "code",
   "execution_count": null,
   "id": "2bfb957a",
   "metadata": {},
   "outputs": [],
   "source": []
  },
  {
   "cell_type": "code",
   "execution_count": 10,
   "id": "81e838cd",
   "metadata": {},
   "outputs": [
    {
     "name": "stdout",
     "output_type": "stream",
     "text": [
      "Optimal value of k: 5\n",
      "Completed training in 0.005070 seconds\n",
      "Inference time on test data: 0.061141 seconds\n",
      "Accuracy of kNN with k = 5 is 82.14%\n"
     ]
    }
   ],
   "source": [
    "k_optimal = np.argmax(np.mean(test_scores, axis=1)) + 1\n",
    "print('Optimal value of k: %d' % k_optimal)\n",
    "best_clf_knn = KNeighborsClassifier(n_neighbors=k_optimal)\n",
    "t0 = time.time()\n",
    "best_clf_knn.fit(X_train, y_train)\n",
    "t1 = time.time()\n",
    "train_time = t1 - t0\n",
    "print('Completed training in %f seconds' % train_time)\n",
    "t0 = time.time()\n",
    "y_pred = best_clf_knn.predict(X_test)\n",
    "t1 = time.time()\n",
    "test_time = t1 - t0\n",
    "print('Inference time on test data: %f seconds' % test_time)\n",
    "best_accuracy = accuracy_score(y_test, y_pred)\n",
    "print('Accuracy of kNN with k = %d is %.2f%%' % (k_optimal, best_accuracy * 100))\n"
   ]
  },
  {
   "cell_type": "markdown",
   "id": "20251a75",
   "metadata": {},
   "source": [
    "## Learning Curve"
   ]
  },
  {
   "cell_type": "code",
   "execution_count": 11,
   "id": "629a0efc",
   "metadata": {},
   "outputs": [
    {
     "data": {
      "image/png": "[encoded data removed]",
      "text/plain": [
       "<Figure size 432x288 with 1 Axes>"
      ]
     },
     "metadata": {
      "needs_background": "light"
     },
     "output_type": "display_data"
    }
   ],
   "source": [
    "train_sizes = np.linspace(0.1, 1.0, 5)\n",
    "_, train_scores, test_scores = learning_curve(best_clf_knn, X_train, y_train, train_sizes=train_sizes, cv=5)\n",
    "\n",
    "plt.figure()\n",
    "plt.plot(train_sizes, np.mean(train_scores, axis=1), 'o-', label='Training score')\n",
    "plt.plot(train_sizes, np.mean(test_scores, axis=1), 'o-', label='Cross-validation score')\n",
    "plt.title('Learning curve for kNN')\n",
    "plt.xlabel('Fraction of training examples')\n",
    "plt.ylabel(\"Classification score\")\n",
    "plt.legend(loc=\"best\")\n",
    "plt.grid()\n",
    "#plt.savefig(fig_path + 'dt_learning_curve.png')\n",
    "plt.show()"
   ]
  },
  {
   "cell_type": "code",
   "execution_count": null,
   "id": "c9ac6a36",
   "metadata": {},
   "outputs": [],
   "source": []
  },
  {
   "cell_type": "code",
   "execution_count": null,
   "id": "5a768979",
   "metadata": {},
   "outputs": [],
   "source": []
  },
  {
   "cell_type": "code",
   "execution_count": null,
   "id": "f03daa88",
   "metadata": {},
   "outputs": [],
   "source": []
  },
  {
   "cell_type": "code",
   "execution_count": null,
   "id": "6c130031",
   "metadata": {},
   "outputs": [],
   "source": []
  }
 ],
 "metadata": {
  "kernelspec": {
   "display_name": "Python 3 (ipykernel)",
   "language": "python",
   "name": "python3"
  },
  "language_info": {
   "codemirror_mode": {
    "name": "ipython",
    "version": 3
   },
   "file_extension": ".py",
   "mimetype": "text/x-python",
   "name": "python",
   "nbconvert_exporter": "python",
   "pygments_lexer": "ipython3",
   "version": "3.8.3"
  }
 },
 "nbformat": 4,
 "nbformat_minor": 5
}
