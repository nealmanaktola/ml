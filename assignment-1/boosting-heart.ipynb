{
 "cells": [
  {
   "cell_type": "code",
   "execution_count": 1,
   "id": "dbbf5864",
   "metadata": {},
   "outputs": [],
   "source": [
    "import numpy as np \n",
    "import pandas as pd \n",
    "import matplotlib.pyplot as plt\n",
    "from sklearn.model_selection import train_test_split\n",
    "from sklearn.preprocessing import StandardScaler\n",
    "from sklearn.tree import DecisionTreeClassifier\n",
    "from sklearn.ensemble import RandomForestClassifier\n",
    "from sklearn.neighbors import KNeighborsClassifier\n",
    "from sklearn.ensemble import AdaBoostClassifier\n",
    "from sklearn.model_selection import RandomizedSearchCV\n",
    "from sklearn.metrics import accuracy_score\n",
    "from sklearn.model_selection import GridSearchCV\n",
    "from datetime import datetime\n",
    "import warnings\n",
    "from sklearn.model_selection import validation_curve, learning_curve\n",
    "from utils import load_heart_data\n",
    "import time\n",
    "from sklearn.model_selection import KFold"
   ]
  },
  {
   "cell_type": "markdown",
   "id": "7e2c2aea",
   "metadata": {},
   "source": [
    "## Setup"
   ]
  },
  {
   "cell_type": "code",
   "execution_count": 2,
   "id": "83ea3df2",
   "metadata": {},
   "outputs": [],
   "source": [
    "X, y = load_heart_data()\n",
    "X_train, X_test, y_train, y_test = train_test_split(X, y, test_size=0.4, random_state=23)"
   ]
  },
  {
   "cell_type": "code",
   "execution_count": 3,
   "id": "d6ddc542",
   "metadata": {},
   "outputs": [
    {
     "name": "stdout",
     "output_type": "stream",
     "text": [
      "Accuracy of Adaboost without hyperparameter tuning is 81.97%\n"
     ]
    }
   ],
   "source": [
    "dt_stump = DecisionTreeClassifier(max_depth=1, min_samples_leaf=1)\n",
    "clf_boosted = AdaBoostClassifier(base_estimator=dt_stump, random_state=7)\n",
    "clf_boosted.fit(X_train, y_train)\n",
    "y_pred = clf_boosted.predict(X_test)\n",
    "boosted_accuracy = accuracy_score(y_test, y_pred)\n",
    "print('Accuracy of Adaboost without hyperparameter tuning is %.2f%%' % (boosted_accuracy * 100))"
   ]
  },
  {
   "cell_type": "markdown",
   "id": "1fb8aa2f",
   "metadata": {},
   "source": [
    "## Model Complexity Curve - weak learners"
   ]
  },
  {
   "cell_type": "code",
   "execution_count": 4,
   "id": "36ea4692",
   "metadata": {},
   "outputs": [
    {
     "data": {
      "image/png": "[encoded data removed]",
      "text/plain": [
       "<Figure size 432x288 with 1 Axes>"
      ]
     },
     "metadata": {
      "needs_background": "light"
     },
     "output_type": "display_data"
    }
   ],
   "source": [
    "f1_test = []\n",
    "f1_train = []\n",
    "n_estimators = np.linspace(1,250,40).astype('int')\n",
    "for i in n_estimators:\n",
    "    dt = DecisionTreeClassifier(max_depth=10, min_samples_leaf=17)\n",
    "    boosted = AdaBoostClassifier(base_estimator=dt, n_estimators=i, random_state=7)\n",
    "    boosted.fit(X_train, y_train)\n",
    "    y_pred_test = boosted.predict(X_test)\n",
    "    y_pred_train = boosted.predict(X_train)\n",
    "    f1_test.append(accuracy_score(y_test, y_pred_test))\n",
    "    f1_train.append(accuracy_score(y_train, y_pred_train))\n",
    "\n",
    "plt.plot(n_estimators, f1_test, 'o-', color='b', label='Test F1 Score')\n",
    "plt.plot(n_estimators, f1_train, 'o-', color = 'r', label='Train F1 Score')\n",
    "plt.ylabel('Score')\n",
    "plt.xlabel('Weak Learners')\n",
    "\n",
    "plt.title(\"Model Complexity: #Adaboost - weak learners\")\n",
    "plt.legend(loc='best')\n",
    "plt.tight_layout()\n",
    "plt.show()\n"
   ]
  },
  {
   "cell_type": "markdown",
   "id": "e2511305",
   "metadata": {},
   "source": [
    "## Finding Hyperparameters"
   ]
  },
  {
   "cell_type": "code",
   "execution_count": 5,
   "id": "958c07ed",
   "metadata": {},
   "outputs": [
    {
     "data": {
      "text/plain": [
       "[0.8287292817679558,\n",
       " 1.0,\n",
       " 1.0,\n",
       " 1.0,\n",
       " 1.0,\n",
       " 1.0,\n",
       " 1.0,\n",
       " 1.0,\n",
       " 1.0,\n",
       " 1.0,\n",
       " 1.0,\n",
       " 1.0,\n",
       " 1.0,\n",
       " 1.0,\n",
       " 1.0,\n",
       " 1.0,\n",
       " 1.0,\n",
       " 1.0,\n",
       " 1.0,\n",
       " 1.0,\n",
       " 1.0,\n",
       " 1.0,\n",
       " 1.0,\n",
       " 1.0,\n",
       " 1.0,\n",
       " 1.0,\n",
       " 1.0,\n",
       " 1.0,\n",
       " 1.0,\n",
       " 1.0,\n",
       " 1.0,\n",
       " 1.0,\n",
       " 1.0,\n",
       " 1.0,\n",
       " 1.0,\n",
       " 1.0,\n",
       " 1.0,\n",
       " 1.0,\n",
       " 1.0,\n",
       " 1.0]"
      ]
     },
     "execution_count": 5,
     "metadata": {},
     "output_type": "execute_result"
    }
   ],
   "source": [
    "f1_train"
   ]
  },
  {
   "cell_type": "code",
   "execution_count": 6,
   "id": "c6034a32",
   "metadata": {},
   "outputs": [
    {
     "name": "stdout",
     "output_type": "stream",
     "text": [
      "Optimal number of learners for AdaBoost: 1\n",
      "Completed training in 0.003650 seconds\n",
      "Inference time on test data: 0.000749 seconds\n",
      "Accuracy of Adaboost with the best hyperparameters is 73.77%\n"
     ]
    }
   ],
   "source": [
    "\n",
    "num_learners_optimal = np.argmax(np.mean(f1_train)) + 1\n",
    "print('Optimal number of learners for AdaBoost: %d' % num_learners_optimal)\n",
    "best_clf_boosted = AdaBoostClassifier(base_estimator=dt_stump, n_estimators=num_learners_optimal, random_state=7)\n",
    "t0 = time.time()\n",
    "best_clf_boosted.fit(X_train, y_train)\n",
    "t1 = time.time()\n",
    "train_time = t1 - t0\n",
    "print('Completed training in %f seconds' % train_time)\n",
    "t0 = time.time()\n",
    "y_pred = best_clf_boosted.predict(X_test)\n",
    "t1 = time.time()\n",
    "test_time = t1 - t0\n",
    "print('Inference time on test data: %f seconds' % test_time)\n",
    "best_accuracy = accuracy_score(y_test, y_pred)\n",
    "print('Accuracy of Adaboost with the best hyperparameters is %.2f%%' % (best_accuracy * 100))\n"
   ]
  },
  {
   "cell_type": "markdown",
   "id": "20251a75",
   "metadata": {},
   "source": [
    "## Learning Curve"
   ]
  },
  {
   "cell_type": "code",
   "execution_count": 8,
   "id": "629a0efc",
   "metadata": {},
   "outputs": [
    {
     "data": {
      "image/png": "[encoded data removed]",
      "text/plain": [
       "<Figure size 432x288 with 1 Axes>"
      ]
     },
     "metadata": {
      "needs_background": "light"
     },
     "output_type": "display_data"
    }
   ],
   "source": [
    "train_sizes = np.linspace(0.1, 1.0, 5)\n",
    "best_clf_boosted = AdaBoostClassifier(base_estimator=dt_stump, n_estimators=num_learners_optimal, random_state=7)\n",
    "_, train_scores, test_scores = learning_curve(best_clf_boosted, X_train, y_train, train_sizes=train_sizes, cv=5)\n",
    "\n",
    "plt.figure()\n",
    "plt.plot(train_sizes, np.mean(train_scores, axis=1), 'ro-', label='Training score')\n",
    "plt.plot(train_sizes, np.mean(test_scores, axis=1), 'bo-', label='Cross-validation score')\n",
    "plt.title('Learning curve for AdaBoost (Heart)')\n",
    "plt.xlabel('Fraction of training examples')\n",
    "plt.ylabel(\"Score\")\n",
    "plt.legend(loc=\"best\")\n",
    "plt.grid()\n",
    "#plt.savefig(fig_path + 'dt_learning_curve.png')\n",
    "plt.show()"
   ]
  },
  {
   "cell_type": "code",
   "execution_count": null,
   "id": "c9ac6a36",
   "metadata": {},
   "outputs": [],
   "source": []
  },
  {
   "cell_type": "code",
   "execution_count": null,
   "id": "5a768979",
   "metadata": {},
   "outputs": [],
   "source": []
  },
  {
   "cell_type": "code",
   "execution_count": null,
   "id": "f03daa88",
   "metadata": {},
   "outputs": [],
   "source": []
  },
  {
   "cell_type": "code",
   "execution_count": null,
   "id": "6c130031",
   "metadata": {},
   "outputs": [],
   "source": []
  }
 ],
 "metadata": {
  "kernelspec": {
   "display_name": "Python 3 (ipykernel)",
   "language": "python",
   "name": "python3"
  },
  "language_info": {
   "codemirror_mode": {
    "name": "ipython",
    "version": 3
   },
   "file_extension": ".py",
   "mimetype": "text/x-python",
   "name": "python",
   "nbconvert_exporter": "python",
   "pygments_lexer": "ipython3",
   "version": "3.8.3"
  }
 },
 "nbformat": 4,
 "nbformat_minor": 5
}
