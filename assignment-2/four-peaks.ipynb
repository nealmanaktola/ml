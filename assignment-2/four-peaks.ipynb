{
 "cells": [
  {
   "cell_type": "code",
   "execution_count": 1,
   "id": "f886c514",
   "metadata": {},
   "outputs": [],
   "source": [
    "import time\n",
    "import githu as mlrh\n",
    "import numpy as np\n",
    "import pandas as pd\n",
    "import matplotlib as mpl\n",
    "import matplotlib.pyplot as plt\n",
    "%matplotlib inline\n",
    "plt.rcParams['figure.figsize'] = [7, 7]\n",
    "\n",
    "random_state = 2020\n",
    "np.random.seed(1)"
   ]
  },
  {
   "cell_type": "code",
   "execution_count": 2,
   "id": "61d2c071",
   "metadata": {},
   "outputs": [
    {
     "ename": "SyntaxError",
     "evalue": "unexpected EOF while parsing (3995833854.py, line 8)",
     "output_type": "error",
     "traceback": [
      "\u001b[0;36m  File \u001b[0;32m\"/var/folders/4p/41bttzcx5y163sbdhm1bfdl40000gn/T/ipykernel_69876/3995833854.py\"\u001b[0;36m, line \u001b[0;32m8\u001b[0m\n\u001b[0;31m    plt.show(\u001b[0m\n\u001b[0m             ^\u001b[0m\n\u001b[0;31mSyntaxError\u001b[0m\u001b[0;31m:\u001b[0m unexpected EOF while parsing\n"
     ]
    }
   ],
   "source": [
    "def plot_fitness_iteration(curve, title, x=\"Iteration\", y=\"Fitness\"):\n",
    "    plt.xlabel(x)\n",
    "    plt.ylabel(y)\n",
    "    plt.title(title)\n",
    "    length = len(curve)\n",
    "    plt.plot(range(length), curve, label=y, lw=2)\n",
    "    plt.legend(loc=\"best\")\n",
    "    plt.show("
   ]
  },
  {
   "cell_type": "code",
   "execution_count": 2,
   "id": "52b4a118",
   "metadata": {},
   "outputs": [],
   "source": [
    "def plot_fitness_iteration(curve, title, x=\"Iteration\", y=\"Fitness\"):\n",
    "    plt.xlabel(x)\n",
    "    plt.ylabel(y)\n",
    "    plt.title(title)\n",
    "    length = len(curve)\n",
    "    plt.plot(range(length), curve, label=y, lw=2)\n",
    "    plt.legend(loc=\"best\")\n",
    "    plt.show()"
   ]
  },
  {
   "cell_type": "code",
   "execution_count": 6,
   "id": "082f73c9",
   "metadata": {},
   "outputs": [],
   "source": [
    "length = 100\n",
    "t_pct = 0.9\n",
    "global eval_count\n",
    "eval_count = 0\n",
    "\n",
    "base_fit_func = mlrh.FourPeaks(t_pct=t_pct).evaluate\n",
    "\n",
    "def four_peaks_fit(state):\n",
    "    global eval_count\n",
    "    eval_count +=1\n",
    "    return base_fit_func(state)\n",
    "\n",
    "fitness = mlrh.CustomFitness(four_peaks_fit)\n",
    "prob = mlrh.DiscreteOpt(length=length,\n",
    "                        fitness_fn=fitness,\n",
    "                        maximize=True)\n",
    "prob.set_mimic_fast_mode(True)\n",
    "\n",
    "experiment_name = \"four_peaks\"\n",
    "output_directory = \"four_peaks\"\n",
    "\n"
   ]
  },
  {
   "cell_type": "code",
   "execution_count": null,
   "id": "7dac02d4",
   "metadata": {},
   "outputs": [],
   "source": [
    "mim = mlrh.MIMICRunner(problem=prob,\n",
    "                       experiment_name=experiment_name,\n",
    "                       output_directory=output_directory,\n",
    "                       seed=random_state,\n",
    "                       population_sizes=[1000, 2000, 3000],\n",
    "                       keep_percent_list=[0.05, 0.1, 0.15, 0.20],\n",
    "                       iteration_list=[25],\n",
    "                       max_attempts=100,\n",
    "                       use_fast_mimic=True)\n",
    "mim_stats, mim_curve = mim.run()"
   ]
  },
  {
   "cell_type": "code",
   "execution_count": 7,
   "id": "fde1310c",
   "metadata": {},
   "outputs": [
    {
     "name": "stdout",
     "output_type": "stream",
     "text": [
      "MIMIC - Total Function Evaluations: 251263\n"
     ]
    },
    {
     "data": {
      "image/png": "[encoded data removed]",
      "text/plain": [
       "<Figure size 504x504 with 1 Axes>"
      ]
     },
     "metadata": {
      "needs_background": "light"
     },
     "output_type": "display_data"
    }
   ],
   "source": [
    "max_attempts = 250\n",
    "max_iters = 250\n",
    "keep_pct=0.2\n",
    "pop_size = 1000\n",
    "global eval_count\n",
    "eval_count = 0\n",
    "best_state, best_fitness, mimic_curve = mlrh.mimic(prob,\n",
    "                                             max_attempts=max_attempts,\n",
    "                                             max_iters=max_iters,\n",
    "                                             random_state=5,\n",
    "                                             pop_size=pop_size,\n",
    "                                             keep_pct=keep_pct,\n",
    "                                             curve=True)\n",
    "print(\"MIMIC - Total Function Evaluations:\", eval_count)\n",
    "plot_fitness_iteration(mimic_curve,\n",
    "                       \"Four Peaks - Mimic: Population Size: {}, Keep Percent: {}\".format(pop_size, keep_pct))\n",
    "\n"
   ]
  },
  {
   "cell_type": "code",
   "execution_count": 9,
   "id": "710ebb42",
   "metadata": {},
   "outputs": [],
   "source": [
    "fitness = mlrh.FourPeaks()\n",
    "problem = mlrh.DiscreteOpt(length=100, fitness_fn=fitness, maximize=True)\n",
    "prob.set_mimic_fast_mode(True)\n",
    "max_attempts = 100\n",
    "max_iters = 100\n",
    "\n",
    "mimic_best_state, mimic_best_fitness, mimic_fitness_curve = mlrh.mimic(\n",
    "                                                            problem, \n",
    "                                                            max_attempts = 100, \n",
    "                                                            max_iters = 100,  \n",
    "                                                            curve = True, \n",
    "                                                            random_state = 42,\n",
    "                                                            keep_pct=0.25)"
   ]
  },
  {
   "cell_type": "code",
   "execution_count": 10,
   "id": "5ba5b3cb",
   "metadata": {},
   "outputs": [
    {
     "data": {
      "text/plain": [
       "21.0"
      ]
     },
     "execution_count": 10,
     "metadata": {},
     "output_type": "execute_result"
    }
   ],
   "source": [
    "mimic_best_fitness"
   ]
  },
  {
   "cell_type": "code",
   "execution_count": 11,
   "id": "44b3f778",
   "metadata": {},
   "outputs": [
    {
     "data": {
      "text/plain": [
       "array([[1.1000e+01, 4.0200e+02],\n",
       "       [1.4000e+01, 6.0400e+02],\n",
       "       [1.6000e+01, 8.0600e+02],\n",
       "       [1.6000e+01, 1.0070e+03],\n",
       "       [1.7000e+01, 1.2090e+03],\n",
       "       [1.7000e+01, 1.4100e+03],\n",
       "       [1.7000e+01, 1.6110e+03],\n",
       "       [1.7000e+01, 1.8120e+03],\n",
       "       [2.0000e+01, 2.0140e+03],\n",
       "       [2.0000e+01, 2.2150e+03],\n",
       "       [2.0000e+01, 2.4160e+03],\n",
       "       [2.0000e+01, 2.6170e+03],\n",
       "       [2.0000e+01, 2.8180e+03],\n",
       "       [2.0000e+01, 3.0190e+03],\n",
       "       [2.0000e+01, 3.2200e+03],\n",
       "       [2.0000e+01, 3.4210e+03],\n",
       "       [2.1000e+01, 3.6230e+03],\n",
       "       [2.1000e+01, 3.8240e+03],\n",
       "       [2.1000e+01, 4.0250e+03],\n",
       "       [2.1000e+01, 4.2260e+03],\n",
       "       [2.1000e+01, 4.4270e+03],\n",
       "       [2.1000e+01, 4.6280e+03],\n",
       "       [2.1000e+01, 4.8290e+03],\n",
       "       [2.1000e+01, 5.0300e+03],\n",
       "       [2.1000e+01, 5.2310e+03],\n",
       "       [2.1000e+01, 5.4320e+03],\n",
       "       [2.1000e+01, 5.6330e+03],\n",
       "       [2.1000e+01, 5.8340e+03],\n",
       "       [2.1000e+01, 6.0350e+03],\n",
       "       [2.1000e+01, 6.2360e+03],\n",
       "       [2.1000e+01, 6.4370e+03],\n",
       "       [2.1000e+01, 6.6380e+03],\n",
       "       [2.1000e+01, 6.8390e+03],\n",
       "       [2.1000e+01, 7.0400e+03],\n",
       "       [2.1000e+01, 7.2410e+03],\n",
       "       [2.1000e+01, 7.4420e+03],\n",
       "       [2.1000e+01, 7.6430e+03],\n",
       "       [2.1000e+01, 7.8440e+03],\n",
       "       [2.1000e+01, 8.0450e+03],\n",
       "       [2.1000e+01, 8.2460e+03],\n",
       "       [2.1000e+01, 8.4470e+03],\n",
       "       [2.1000e+01, 8.6480e+03],\n",
       "       [2.1000e+01, 8.8490e+03],\n",
       "       [2.1000e+01, 9.0500e+03],\n",
       "       [2.1000e+01, 9.2510e+03],\n",
       "       [2.1000e+01, 9.4520e+03],\n",
       "       [2.1000e+01, 9.6530e+03],\n",
       "       [2.1000e+01, 9.8540e+03],\n",
       "       [2.1000e+01, 1.0055e+04],\n",
       "       [2.1000e+01, 1.0256e+04],\n",
       "       [2.1000e+01, 1.0457e+04],\n",
       "       [2.1000e+01, 1.0658e+04],\n",
       "       [2.1000e+01, 1.0859e+04],\n",
       "       [2.1000e+01, 1.1060e+04],\n",
       "       [2.1000e+01, 1.1261e+04],\n",
       "       [2.1000e+01, 1.1462e+04],\n",
       "       [2.1000e+01, 1.1663e+04],\n",
       "       [2.1000e+01, 1.1864e+04],\n",
       "       [2.1000e+01, 1.2065e+04],\n",
       "       [2.1000e+01, 1.2266e+04],\n",
       "       [2.1000e+01, 1.2467e+04],\n",
       "       [2.1000e+01, 1.2668e+04],\n",
       "       [2.1000e+01, 1.2869e+04],\n",
       "       [2.1000e+01, 1.3070e+04],\n",
       "       [2.1000e+01, 1.3271e+04],\n",
       "       [2.1000e+01, 1.3472e+04],\n",
       "       [2.1000e+01, 1.3673e+04],\n",
       "       [2.1000e+01, 1.3874e+04],\n",
       "       [2.1000e+01, 1.4075e+04],\n",
       "       [2.1000e+01, 1.4276e+04],\n",
       "       [2.1000e+01, 1.4477e+04],\n",
       "       [2.1000e+01, 1.4678e+04],\n",
       "       [2.1000e+01, 1.4879e+04],\n",
       "       [2.1000e+01, 1.5080e+04],\n",
       "       [2.1000e+01, 1.5281e+04],\n",
       "       [2.1000e+01, 1.5482e+04],\n",
       "       [2.1000e+01, 1.5683e+04],\n",
       "       [2.1000e+01, 1.5884e+04],\n",
       "       [2.1000e+01, 1.6085e+04],\n",
       "       [2.1000e+01, 1.6286e+04],\n",
       "       [2.1000e+01, 1.6487e+04],\n",
       "       [2.1000e+01, 1.6688e+04],\n",
       "       [2.1000e+01, 1.6889e+04],\n",
       "       [2.1000e+01, 1.7090e+04],\n",
       "       [2.1000e+01, 1.7291e+04],\n",
       "       [2.1000e+01, 1.7492e+04],\n",
       "       [2.1000e+01, 1.7693e+04],\n",
       "       [2.1000e+01, 1.7894e+04],\n",
       "       [2.1000e+01, 1.8095e+04],\n",
       "       [2.1000e+01, 1.8296e+04],\n",
       "       [2.1000e+01, 1.8497e+04],\n",
       "       [2.1000e+01, 1.8698e+04],\n",
       "       [2.1000e+01, 1.8899e+04],\n",
       "       [2.1000e+01, 1.9100e+04],\n",
       "       [2.1000e+01, 1.9301e+04],\n",
       "       [2.1000e+01, 1.9502e+04],\n",
       "       [2.1000e+01, 1.9703e+04],\n",
       "       [2.1000e+01, 1.9904e+04],\n",
       "       [2.1000e+01, 2.0105e+04],\n",
       "       [2.1000e+01, 2.0306e+04]])"
      ]
     },
     "execution_count": 11,
     "metadata": {},
     "output_type": "execute_result"
    }
   ],
   "source": [
    "mimic_fitness_curve\n"
   ]
  },
  {
   "cell_type": "code",
   "execution_count": 12,
   "id": "c1eed9b2",
   "metadata": {},
   "outputs": [
    {
     "data": {
      "image/png": "[encoded data removed]",
      "text/plain": [
       "<Figure size 504x504 with 1 Axes>"
      ]
     },
     "metadata": {
      "needs_background": "light"
     },
     "output_type": "display_data"
    }
   ],
   "source": [
    "iterations = range(1, 101)\n",
    "plt.plot(iterations, mimic_fitness_curve, label='MIMIC', color='orange')\n",
    "plt.show()"
   ]
  },
  {
   "cell_type": "code",
   "execution_count": null,
   "id": "7e888c68",
   "metadata": {},
   "outputs": [],
   "source": []
  }
 ],
 "metadata": {
  "kernelspec": {
   "display_name": "Python 3 (ipykernel)",
   "language": "python",
   "name": "python3"
  },
  "language_info": {
   "codemirror_mode": {
    "name": "ipython",
    "version": 3
   },
   "file_extension": ".py",
   "mimetype": "text/x-python",
   "name": "python",
   "nbconvert_exporter": "python",
   "pygments_lexer": "ipython3",
   "version": "3.8.3"
  }
 },
 "nbformat": 4,
 "nbformat_minor": 5
}
