{
 "cells": [
  {
   "cell_type": "code",
   "execution_count": 1,
   "id": "901d46d7",
   "metadata": {},
   "outputs": [],
   "source": [
    "import hiive.mdptoolbox\n",
    "import hiive.mdptoolbox.mdp"
   ]
  },
  {
   "cell_type": "code",
   "execution_count": 18,
   "id": "4b5bbe9a",
   "metadata": {},
   "outputs": [
    {
     "ename": "AttributeError",
     "evalue": "module 'hiive.mdptoolbox.example' has no attribute 'frozenlake'",
     "output_type": "error",
     "traceback": [
      "\u001b[0;31m---------------------------------------------------------------------------\u001b[0m",
      "\u001b[0;31mAttributeError\u001b[0m                            Traceback (most recent call last)",
      "\u001b[0;32m/var/folders/4p/41bttzcx5y163sbdhm1bfdl40000gn/T/ipykernel_5033/2710536431.py\u001b[0m in \u001b[0;36m<module>\u001b[0;34m\u001b[0m\n\u001b[0;32m----> 1\u001b[0;31m \u001b[0mP\u001b[0m\u001b[0;34m,\u001b[0m \u001b[0mR\u001b[0m \u001b[0;34m=\u001b[0m \u001b[0mhiive\u001b[0m\u001b[0;34m.\u001b[0m\u001b[0mmdptoolbox\u001b[0m\u001b[0;34m.\u001b[0m\u001b[0mexample\u001b[0m\u001b[0;34m.\u001b[0m\u001b[0mfrozenlake\u001b[0m\u001b[0;34m(\u001b[0m\u001b[0;34m)\u001b[0m\u001b[0;34m\u001b[0m\u001b[0;34m\u001b[0m\u001b[0m\n\u001b[0m\u001b[1;32m      2\u001b[0m \u001b[0mvi\u001b[0m \u001b[0;34m=\u001b[0m \u001b[0mhiive\u001b[0m\u001b[0;34m.\u001b[0m\u001b[0mmdptoolbox\u001b[0m\u001b[0;34m.\u001b[0m\u001b[0mmdp\u001b[0m\u001b[0;34m.\u001b[0m\u001b[0mValueIteration\u001b[0m\u001b[0;34m(\u001b[0m\u001b[0mP\u001b[0m\u001b[0;34m,\u001b[0m \u001b[0mR\u001b[0m\u001b[0;34m,\u001b[0m \u001b[0;36m0.9\u001b[0m\u001b[0;34m)\u001b[0m\u001b[0;34m\u001b[0m\u001b[0;34m\u001b[0m\u001b[0m\n\u001b[1;32m      3\u001b[0m \u001b[0mvi\u001b[0m\u001b[0;34m.\u001b[0m\u001b[0mrun\u001b[0m\u001b[0;34m(\u001b[0m\u001b[0;34m)\u001b[0m\u001b[0;34m\u001b[0m\u001b[0;34m\u001b[0m\u001b[0m\n\u001b[1;32m      4\u001b[0m \u001b[0mvi\u001b[0m\u001b[0;34m.\u001b[0m\u001b[0mpolicy\u001b[0m \u001b[0;31m# result is (0, 0, 0)\u001b[0m\u001b[0;34m\u001b[0m\u001b[0;34m\u001b[0m\u001b[0m\n",
      "\u001b[0;31mAttributeError\u001b[0m: module 'hiive.mdptoolbox.example' has no attribute 'frozenlake'"
     ]
    }
   ],
   "source": [
    "P, R = hiive.mdptoolbox.example.forest\n",
    "vi = hiive.mdptoolbox.mdp.ValueIteration(P, R, 0.9)\n",
    "vi.run()\n",
    "vi.policy # result is (0, 0, 0)"
   ]
  },
  {
   "cell_type": "code",
   "execution_count": 19,
   "id": "e0b69362",
   "metadata": {},
   "outputs": [],
   "source": [
    "import hiive.mdptoolbox.example"
   ]
  },
  {
   "cell_type": "code",
   "execution_count": 20,
   "id": "fa4b51f3",
   "metadata": {},
   "outputs": [],
   "source": [
    "from gym.envs.toy_text.frozen_lake import generate_random_map"
   ]
  },
  {
   "cell_type": "code",
   "execution_count": 21,
   "id": "cdedd8f3",
   "metadata": {},
   "outputs": [],
   "source": [
    "random_map = generate_random_map(size=10, p=0.98)"
   ]
  },
  {
   "cell_type": "code",
   "execution_count": 22,
   "id": "22c7f86a",
   "metadata": {},
   "outputs": [
    {
     "ename": "AttributeError",
     "evalue": "module 'hiive.mdptoolbox.example' has no attribute 'openai'",
     "output_type": "error",
     "traceback": [
      "\u001b[0;31m---------------------------------------------------------------------------\u001b[0m",
      "\u001b[0;31mAttributeError\u001b[0m                            Traceback (most recent call last)",
      "\u001b[0;32m/var/folders/4p/41bttzcx5y163sbdhm1bfdl40000gn/T/ipykernel_5033/2913648274.py\u001b[0m in \u001b[0;36m<module>\u001b[0;34m\u001b[0m\n\u001b[0;32m----> 1\u001b[0;31m \u001b[0mP\u001b[0m\u001b[0;34m,\u001b[0m \u001b[0mR\u001b[0m \u001b[0;34m=\u001b[0m \u001b[0mhiive\u001b[0m\u001b[0;34m.\u001b[0m\u001b[0mmdptoolbox\u001b[0m\u001b[0;34m.\u001b[0m\u001b[0mexample\u001b[0m\u001b[0;34m.\u001b[0m\u001b[0mopenai\u001b[0m\u001b[0;34m(\u001b[0m\u001b[0;34m\"FrozenLake-v0\"\u001b[0m\u001b[0;34m,\u001b[0m \u001b[0mdesc\u001b[0m\u001b[0;34m=\u001b[0m\u001b[0mrandom_map\u001b[0m\u001b[0;34m)\u001b[0m\u001b[0;34m\u001b[0m\u001b[0;34m\u001b[0m\u001b[0m\n\u001b[0m",
      "\u001b[0;31mAttributeError\u001b[0m: module 'hiive.mdptoolbox.example' has no attribute 'openai'"
     ]
    }
   ],
   "source": [
    "P, R = hiive.mdptoolbox.example.openai(\"FrozenLake-v0\", desc=random_map)"
   ]
  },
  {
   "cell_type": "code",
   "execution_count": 2,
   "id": "4be3d364",
   "metadata": {},
   "outputs": [
    {
     "ename": "AttributeError",
     "evalue": "module 'hiive.mdptoolbox' has no attribute 'example'",
     "output_type": "error",
     "traceback": [
      "\u001b[0;31m---------------------------------------------------------------------------\u001b[0m",
      "\u001b[0;31mAttributeError\u001b[0m                            Traceback (most recent call last)",
      "\u001b[0;32m/var/folders/4p/41bttzcx5y163sbdhm1bfdl40000gn/T/ipykernel_21900/1379192450.py\u001b[0m in \u001b[0;36m<module>\u001b[0;34m\u001b[0m\n\u001b[0;32m----> 1\u001b[0;31m \u001b[0mhiive\u001b[0m\u001b[0;34m.\u001b[0m\u001b[0mmdptoolbox\u001b[0m\u001b[0;34m.\u001b[0m\u001b[0mexample\u001b[0m\u001b[0;34m\u001b[0m\u001b[0;34m\u001b[0m\u001b[0m\n\u001b[0m",
      "\u001b[0;31mAttributeError\u001b[0m: module 'hiive.mdptoolbox' has no attribute 'example'"
     ]
    }
   ],
   "source": [
    "hiive.mdptoolbox.example"
   ]
  },
  {
   "cell_type": "code",
   "execution_count": 3,
   "id": "542480ee",
   "metadata": {},
   "outputs": [
    {
     "data": {
      "text/plain": [
       "<module 'hiive' (namespace)>"
      ]
     },
     "execution_count": 3,
     "metadata": {},
     "output_type": "execute_result"
    }
   ],
   "source": [
    "hiive"
   ]
  },
  {
   "cell_type": "code",
   "execution_count": 2,
   "id": "e149d4f4",
   "metadata": {},
   "outputs": [
    {
     "data": {
      "text/plain": [
       "<module 'hiive.mdptoolbox' from '/opt/miniconda3/envs/cs7641/lib/python3.9/site-packages/hiive/mdptoolbox/__init__.py'>"
      ]
     },
     "execution_count": 2,
     "metadata": {},
     "output_type": "execute_result"
    }
   ],
   "source": [
    "hiive.mdptoolbox"
   ]
  },
  {
   "cell_type": "code",
   "execution_count": 3,
   "id": "2c9494fc",
   "metadata": {},
   "outputs": [],
   "source": [
    "import hiive.mdptoolbox.example"
   ]
  },
  {
   "cell_type": "code",
   "execution_count": 4,
   "id": "6fa6bc3b",
   "metadata": {},
   "outputs": [],
   "source": [
    "from gym.envs.toy_text.frozen_lake import generate_random_map"
   ]
  },
  {
   "cell_type": "code",
   "execution_count": 5,
   "id": "681df076",
   "metadata": {},
   "outputs": [],
   "source": [
    "random_map = generate_random_map(size=10, p=0.98)"
   ]
  },
  {
   "cell_type": "code",
   "execution_count": 6,
   "id": "e4ddd17f",
   "metadata": {},
   "outputs": [],
   "source": [
    "random_map = generate_random_map(size=4, p=0.98)"
   ]
  },
  {
   "cell_type": "code",
   "execution_count": 7,
   "id": "10a4eab1",
   "metadata": {},
   "outputs": [
    {
     "ename": "DeprecatedEnv",
     "evalue": "Env FrozenLake-v0 not found (valid versions include ['FrozenLake-v1'])",
     "output_type": "error",
     "traceback": [
      "\u001b[0;31m---------------------------------------------------------------------------\u001b[0m",
      "\u001b[0;31mKeyError\u001b[0m                                  Traceback (most recent call last)",
      "\u001b[0;32m/opt/miniconda3/envs/cs7641/lib/python3.9/site-packages/gym/envs/registration.py\u001b[0m in \u001b[0;36mspec\u001b[0;34m(self, path)\u001b[0m\n\u001b[1;32m    157\u001b[0m         \u001b[0;32mtry\u001b[0m\u001b[0;34m:\u001b[0m\u001b[0;34m\u001b[0m\u001b[0;34m\u001b[0m\u001b[0m\n\u001b[0;32m--> 158\u001b[0;31m             \u001b[0;32mreturn\u001b[0m \u001b[0mself\u001b[0m\u001b[0;34m.\u001b[0m\u001b[0menv_specs\u001b[0m\u001b[0;34m[\u001b[0m\u001b[0mid\u001b[0m\u001b[0;34m]\u001b[0m\u001b[0;34m\u001b[0m\u001b[0;34m\u001b[0m\u001b[0m\n\u001b[0m\u001b[1;32m    159\u001b[0m         \u001b[0;32mexcept\u001b[0m \u001b[0mKeyError\u001b[0m\u001b[0;34m:\u001b[0m\u001b[0;34m\u001b[0m\u001b[0;34m\u001b[0m\u001b[0m\n",
      "\u001b[0;31mKeyError\u001b[0m: 'FrozenLake-v0'",
      "\nDuring handling of the above exception, another exception occurred:\n",
      "\u001b[0;31mDeprecatedEnv\u001b[0m                             Traceback (most recent call last)",
      "\u001b[0;32m/var/folders/4p/41bttzcx5y163sbdhm1bfdl40000gn/T/ipykernel_22349/2913648274.py\u001b[0m in \u001b[0;36m<module>\u001b[0;34m\u001b[0m\n\u001b[0;32m----> 1\u001b[0;31m \u001b[0mP\u001b[0m\u001b[0;34m,\u001b[0m \u001b[0mR\u001b[0m \u001b[0;34m=\u001b[0m \u001b[0mhiive\u001b[0m\u001b[0;34m.\u001b[0m\u001b[0mmdptoolbox\u001b[0m\u001b[0;34m.\u001b[0m\u001b[0mexample\u001b[0m\u001b[0;34m.\u001b[0m\u001b[0mopenai\u001b[0m\u001b[0;34m(\u001b[0m\u001b[0;34m\"FrozenLake-v0\"\u001b[0m\u001b[0;34m,\u001b[0m \u001b[0mdesc\u001b[0m\u001b[0;34m=\u001b[0m\u001b[0mrandom_map\u001b[0m\u001b[0;34m)\u001b[0m\u001b[0;34m\u001b[0m\u001b[0;34m\u001b[0m\u001b[0m\n\u001b[0m",
      "\u001b[0;32m/opt/miniconda3/envs/cs7641/lib/python3.9/site-packages/hiive/mdptoolbox/example.py\u001b[0m in \u001b[0;36mopenai\u001b[0;34m(env_name, render, **kwargs)\u001b[0m\n\u001b[1;32m    462\u001b[0m     \"\"\"\n\u001b[1;32m    463\u001b[0m \u001b[0;34m\u001b[0m\u001b[0m\n\u001b[0;32m--> 464\u001b[0;31m     \u001b[0menv\u001b[0m \u001b[0;34m=\u001b[0m \u001b[0mopenai_\u001b[0m\u001b[0;34m.\u001b[0m\u001b[0mOpenAI_MDPToolbox\u001b[0m\u001b[0;34m(\u001b[0m\u001b[0menv_name\u001b[0m\u001b[0;34m,\u001b[0m \u001b[0mrender\u001b[0m\u001b[0;34m,\u001b[0m \u001b[0;34m**\u001b[0m\u001b[0mkwargs\u001b[0m\u001b[0;34m)\u001b[0m\u001b[0;34m\u001b[0m\u001b[0;34m\u001b[0m\u001b[0m\n\u001b[0m\u001b[1;32m    465\u001b[0m     \u001b[0;32mreturn\u001b[0m \u001b[0menv\u001b[0m\u001b[0;34m.\u001b[0m\u001b[0mP\u001b[0m\u001b[0;34m,\u001b[0m \u001b[0menv\u001b[0m\u001b[0;34m.\u001b[0m\u001b[0mR\u001b[0m\u001b[0;34m\u001b[0m\u001b[0;34m\u001b[0m\u001b[0m\n",
      "\u001b[0;32m/opt/miniconda3/envs/cs7641/lib/python3.9/site-packages/hiive/mdptoolbox/openai.py\u001b[0m in \u001b[0;36m__init__\u001b[0;34m(self, openAI_env_name, render, **kwargs)\u001b[0m\n\u001b[1;32m     25\u001b[0m         \u001b[0mself\u001b[0m\u001b[0;34m.\u001b[0m\u001b[0menv_name\u001b[0m \u001b[0;34m=\u001b[0m \u001b[0mopenAI_env_name\u001b[0m\u001b[0;34m\u001b[0m\u001b[0;34m\u001b[0m\u001b[0m\n\u001b[1;32m     26\u001b[0m \u001b[0;34m\u001b[0m\u001b[0m\n\u001b[0;32m---> 27\u001b[0;31m         \u001b[0mself\u001b[0m\u001b[0;34m.\u001b[0m\u001b[0menv\u001b[0m \u001b[0;34m=\u001b[0m \u001b[0mgym\u001b[0m\u001b[0;34m.\u001b[0m\u001b[0mmake\u001b[0m\u001b[0;34m(\u001b[0m\u001b[0mself\u001b[0m\u001b[0;34m.\u001b[0m\u001b[0menv_name\u001b[0m\u001b[0;34m,\u001b[0m \u001b[0;34m**\u001b[0m\u001b[0mkwargs\u001b[0m\u001b[0;34m)\u001b[0m\u001b[0;34m\u001b[0m\u001b[0;34m\u001b[0m\u001b[0m\n\u001b[0m\u001b[1;32m     28\u001b[0m         \u001b[0mself\u001b[0m\u001b[0;34m.\u001b[0m\u001b[0menv\u001b[0m\u001b[0;34m.\u001b[0m\u001b[0mreset\u001b[0m\u001b[0;34m(\u001b[0m\u001b[0;34m)\u001b[0m\u001b[0;34m\u001b[0m\u001b[0;34m\u001b[0m\u001b[0m\n\u001b[1;32m     29\u001b[0m \u001b[0;34m\u001b[0m\u001b[0m\n",
      "\u001b[0;32m/opt/miniconda3/envs/cs7641/lib/python3.9/site-packages/gym/envs/registration.py\u001b[0m in \u001b[0;36mmake\u001b[0;34m(id, **kwargs)\u001b[0m\n\u001b[1;32m    233\u001b[0m \u001b[0;34m\u001b[0m\u001b[0m\n\u001b[1;32m    234\u001b[0m \u001b[0;32mdef\u001b[0m \u001b[0mmake\u001b[0m\u001b[0;34m(\u001b[0m\u001b[0mid\u001b[0m\u001b[0;34m,\u001b[0m \u001b[0;34m**\u001b[0m\u001b[0mkwargs\u001b[0m\u001b[0;34m)\u001b[0m\u001b[0;34m:\u001b[0m\u001b[0;34m\u001b[0m\u001b[0;34m\u001b[0m\u001b[0m\n\u001b[0;32m--> 235\u001b[0;31m     \u001b[0;32mreturn\u001b[0m \u001b[0mregistry\u001b[0m\u001b[0;34m.\u001b[0m\u001b[0mmake\u001b[0m\u001b[0;34m(\u001b[0m\u001b[0mid\u001b[0m\u001b[0;34m,\u001b[0m \u001b[0;34m**\u001b[0m\u001b[0mkwargs\u001b[0m\u001b[0;34m)\u001b[0m\u001b[0;34m\u001b[0m\u001b[0;34m\u001b[0m\u001b[0m\n\u001b[0m\u001b[1;32m    236\u001b[0m \u001b[0;34m\u001b[0m\u001b[0m\n\u001b[1;32m    237\u001b[0m \u001b[0;34m\u001b[0m\u001b[0m\n",
      "\u001b[0;32m/opt/miniconda3/envs/cs7641/lib/python3.9/site-packages/gym/envs/registration.py\u001b[0m in \u001b[0;36mmake\u001b[0;34m(self, path, **kwargs)\u001b[0m\n\u001b[1;32m    126\u001b[0m         \u001b[0;32melse\u001b[0m\u001b[0;34m:\u001b[0m\u001b[0;34m\u001b[0m\u001b[0;34m\u001b[0m\u001b[0m\n\u001b[1;32m    127\u001b[0m             \u001b[0mlogger\u001b[0m\u001b[0;34m.\u001b[0m\u001b[0minfo\u001b[0m\u001b[0;34m(\u001b[0m\u001b[0;34m\"Making new env: %s\"\u001b[0m\u001b[0;34m,\u001b[0m \u001b[0mpath\u001b[0m\u001b[0;34m)\u001b[0m\u001b[0;34m\u001b[0m\u001b[0;34m\u001b[0m\u001b[0m\n\u001b[0;32m--> 128\u001b[0;31m         \u001b[0mspec\u001b[0m \u001b[0;34m=\u001b[0m \u001b[0mself\u001b[0m\u001b[0;34m.\u001b[0m\u001b[0mspec\u001b[0m\u001b[0;34m(\u001b[0m\u001b[0mpath\u001b[0m\u001b[0;34m)\u001b[0m\u001b[0;34m\u001b[0m\u001b[0;34m\u001b[0m\u001b[0m\n\u001b[0m\u001b[1;32m    129\u001b[0m         \u001b[0menv\u001b[0m \u001b[0;34m=\u001b[0m \u001b[0mspec\u001b[0m\u001b[0;34m.\u001b[0m\u001b[0mmake\u001b[0m\u001b[0;34m(\u001b[0m\u001b[0;34m**\u001b[0m\u001b[0mkwargs\u001b[0m\u001b[0;34m)\u001b[0m\u001b[0;34m\u001b[0m\u001b[0;34m\u001b[0m\u001b[0m\n\u001b[1;32m    130\u001b[0m         \u001b[0;32mreturn\u001b[0m \u001b[0menv\u001b[0m\u001b[0;34m\u001b[0m\u001b[0;34m\u001b[0m\u001b[0m\n",
      "\u001b[0;32m/opt/miniconda3/envs/cs7641/lib/python3.9/site-packages/gym/envs/registration.py\u001b[0m in \u001b[0;36mspec\u001b[0;34m(self, path)\u001b[0m\n\u001b[1;32m    183\u001b[0m             ]\n\u001b[1;32m    184\u001b[0m             \u001b[0;32mif\u001b[0m \u001b[0mmatching_envs\u001b[0m\u001b[0;34m:\u001b[0m\u001b[0;34m\u001b[0m\u001b[0;34m\u001b[0m\u001b[0m\n\u001b[0;32m--> 185\u001b[0;31m                 raise error.DeprecatedEnv(\n\u001b[0m\u001b[1;32m    186\u001b[0m                     \"Env {} not found (valid versions include {})\".format(\n\u001b[1;32m    187\u001b[0m                         \u001b[0mid\u001b[0m\u001b[0;34m,\u001b[0m \u001b[0mmatching_envs\u001b[0m\u001b[0;34m\u001b[0m\u001b[0;34m\u001b[0m\u001b[0m\n",
      "\u001b[0;31mDeprecatedEnv\u001b[0m: Env FrozenLake-v0 not found (valid versions include ['FrozenLake-v1'])"
     ]
    }
   ],
   "source": [
    "P, R = hiive.mdptoolbox.example.openai(\"FrozenLake-v0\", desc=random_map)"
   ]
  },
  {
   "cell_type": "code",
   "execution_count": 8,
   "id": "1a8b0c80",
   "metadata": {},
   "outputs": [],
   "source": [
    "P, R = hiive.mdptoolbox.example.openai(\"FrozenLake-v1\", desc=random_map)"
   ]
  },
  {
   "cell_type": "code",
   "execution_count": 9,
   "id": "949f3c7e",
   "metadata": {},
   "outputs": [
    {
     "data": {
      "text/plain": [
       "array([[[0.66666667, 0.        , 0.        , ..., 0.        ,\n",
       "         0.        , 0.        ],\n",
       "        [0.33333333, 0.33333333, 0.        , ..., 0.        ,\n",
       "         0.        , 0.        ],\n",
       "        [0.        , 0.33333333, 0.33333333, ..., 0.        ,\n",
       "         0.        , 0.        ],\n",
       "        ...,\n",
       "        [0.        , 0.        , 0.        , ..., 0.33333333,\n",
       "         0.        , 0.        ],\n",
       "        [0.        , 0.        , 0.        , ..., 0.33333333,\n",
       "         0.33333333, 0.        ],\n",
       "        [0.        , 0.        , 0.        , ..., 0.        ,\n",
       "         0.        , 1.        ]],\n",
       "\n",
       "       [[0.33333333, 0.33333333, 0.        , ..., 0.        ,\n",
       "         0.        , 0.        ],\n",
       "        [0.33333333, 0.        , 0.33333333, ..., 0.        ,\n",
       "         0.        , 0.        ],\n",
       "        [0.        , 0.33333333, 0.        , ..., 0.        ,\n",
       "         0.        , 0.        ],\n",
       "        ...,\n",
       "        [0.        , 0.        , 0.        , ..., 0.33333333,\n",
       "         0.33333333, 0.        ],\n",
       "        [0.        , 0.        , 0.        , ..., 0.33333333,\n",
       "         0.33333333, 0.33333333],\n",
       "        [0.        , 0.        , 0.        , ..., 0.        ,\n",
       "         0.        , 1.        ]],\n",
       "\n",
       "       [[0.33333333, 0.33333333, 0.        , ..., 0.        ,\n",
       "         0.        , 0.        ],\n",
       "        [0.        , 0.33333333, 0.33333333, ..., 0.        ,\n",
       "         0.        , 0.        ],\n",
       "        [0.        , 0.        , 0.33333333, ..., 0.        ,\n",
       "         0.        , 0.        ],\n",
       "        ...,\n",
       "        [0.        , 0.        , 0.        , ..., 0.33333333,\n",
       "         0.33333333, 0.        ],\n",
       "        [0.        , 0.        , 0.        , ..., 0.        ,\n",
       "         0.33333333, 0.33333333],\n",
       "        [0.        , 0.        , 0.        , ..., 0.        ,\n",
       "         0.        , 1.        ]],\n",
       "\n",
       "       [[0.66666667, 0.33333333, 0.        , ..., 0.        ,\n",
       "         0.        , 0.        ],\n",
       "        [0.33333333, 0.33333333, 0.33333333, ..., 0.        ,\n",
       "         0.        , 0.        ],\n",
       "        [0.        , 0.33333333, 0.33333333, ..., 0.        ,\n",
       "         0.        , 0.        ],\n",
       "        ...,\n",
       "        [0.        , 0.        , 0.        , ..., 0.        ,\n",
       "         0.33333333, 0.        ],\n",
       "        [0.        , 0.        , 0.        , ..., 0.33333333,\n",
       "         0.        , 0.33333333],\n",
       "        [0.        , 0.        , 0.        , ..., 0.        ,\n",
       "         0.        , 1.        ]]])"
      ]
     },
     "execution_count": 9,
     "metadata": {},
     "output_type": "execute_result"
    }
   ],
   "source": [
    "P\n"
   ]
  },
  {
   "cell_type": "code",
   "execution_count": 10,
   "id": "53f5b6bd",
   "metadata": {},
   "outputs": [
    {
     "data": {
      "text/plain": [
       "4"
      ]
     },
     "execution_count": 10,
     "metadata": {},
     "output_type": "execute_result"
    }
   ],
   "source": [
    "len(P)"
   ]
  },
  {
   "cell_type": "code",
   "execution_count": 11,
   "id": "96f41e1e",
   "metadata": {},
   "outputs": [
    {
     "data": {
      "text/plain": [
       "16"
      ]
     },
     "execution_count": 11,
     "metadata": {},
     "output_type": "execute_result"
    }
   ],
   "source": [
    "len(P[0])"
   ]
  },
  {
   "cell_type": "code",
   "execution_count": 12,
   "id": "23cb03cb",
   "metadata": {},
   "outputs": [
    {
     "data": {
      "text/plain": [
       "16"
      ]
     },
     "execution_count": 12,
     "metadata": {},
     "output_type": "execute_result"
    }
   ],
   "source": [
    "len(P[0][0])"
   ]
  },
  {
   "cell_type": "code",
   "execution_count": 13,
   "id": "ffa49c4b",
   "metadata": {},
   "outputs": [
    {
     "data": {
      "text/plain": [
       "array([[0.        , 0.        , 0.        , 0.        ],\n",
       "       [0.        , 0.        , 0.        , 0.        ],\n",
       "       [0.        , 0.        , 0.        , 0.        ],\n",
       "       [0.        , 0.        , 0.        , 0.        ],\n",
       "       [0.        , 0.        , 0.        , 0.        ],\n",
       "       [0.        , 0.        , 0.        , 0.        ],\n",
       "       [0.        , 0.        , 0.        , 0.        ],\n",
       "       [0.        , 0.        , 0.        , 0.        ],\n",
       "       [0.        , 0.        , 0.        , 0.        ],\n",
       "       [0.        , 0.        , 0.        , 0.        ],\n",
       "       [0.        , 0.        , 0.        , 0.        ],\n",
       "       [0.33333333, 0.33333333, 0.33333333, 0.        ],\n",
       "       [0.        , 0.        , 0.        , 0.        ],\n",
       "       [0.        , 0.        , 0.        , 0.        ],\n",
       "       [0.        , 0.33333333, 0.33333333, 0.33333333],\n",
       "       [0.        , 0.        , 0.        , 0.        ]])"
      ]
     },
     "execution_count": 13,
     "metadata": {},
     "output_type": "execute_result"
    }
   ],
   "source": [
    "R"
   ]
  },
  {
   "cell_type": "code",
   "execution_count": 14,
   "id": "31f1d71e",
   "metadata": {},
   "outputs": [
    {
     "data": {
      "text/plain": [
       "array([0., 0., 0., 0.])"
      ]
     },
     "execution_count": 14,
     "metadata": {},
     "output_type": "execute_result"
    }
   ],
   "source": [
    "R[0]"
   ]
  },
  {
   "cell_type": "code",
   "execution_count": 15,
   "id": "f9634f40",
   "metadata": {},
   "outputs": [
    {
     "data": {
      "text/plain": [
       "16"
      ]
     },
     "execution_count": 15,
     "metadata": {},
     "output_type": "execute_result"
    }
   ],
   "source": [
    "len(R)"
   ]
  },
  {
   "cell_type": "code",
   "execution_count": 16,
   "id": "2d58fc96",
   "metadata": {},
   "outputs": [
    {
     "data": {
      "text/plain": [
       "array([[[0.66666667, 0.        , 0.        , ..., 0.        ,\n",
       "         0.        , 0.        ],\n",
       "        [0.33333333, 0.33333333, 0.        , ..., 0.        ,\n",
       "         0.        , 0.        ],\n",
       "        [0.        , 0.33333333, 0.33333333, ..., 0.        ,\n",
       "         0.        , 0.        ],\n",
       "        ...,\n",
       "        [0.        , 0.        , 0.        , ..., 0.33333333,\n",
       "         0.        , 0.        ],\n",
       "        [0.        , 0.        , 0.        , ..., 0.33333333,\n",
       "         0.33333333, 0.        ],\n",
       "        [0.        , 0.        , 0.        , ..., 0.        ,\n",
       "         0.        , 1.        ]],\n",
       "\n",
       "       [[0.33333333, 0.33333333, 0.        , ..., 0.        ,\n",
       "         0.        , 0.        ],\n",
       "        [0.33333333, 0.        , 0.33333333, ..., 0.        ,\n",
       "         0.        , 0.        ],\n",
       "        [0.        , 0.33333333, 0.        , ..., 0.        ,\n",
       "         0.        , 0.        ],\n",
       "        ...,\n",
       "        [0.        , 0.        , 0.        , ..., 0.33333333,\n",
       "         0.33333333, 0.        ],\n",
       "        [0.        , 0.        , 0.        , ..., 0.33333333,\n",
       "         0.33333333, 0.33333333],\n",
       "        [0.        , 0.        , 0.        , ..., 0.        ,\n",
       "         0.        , 1.        ]],\n",
       "\n",
       "       [[0.33333333, 0.33333333, 0.        , ..., 0.        ,\n",
       "         0.        , 0.        ],\n",
       "        [0.        , 0.33333333, 0.33333333, ..., 0.        ,\n",
       "         0.        , 0.        ],\n",
       "        [0.        , 0.        , 0.33333333, ..., 0.        ,\n",
       "         0.        , 0.        ],\n",
       "        ...,\n",
       "        [0.        , 0.        , 0.        , ..., 0.33333333,\n",
       "         0.33333333, 0.        ],\n",
       "        [0.        , 0.        , 0.        , ..., 0.        ,\n",
       "         0.33333333, 0.33333333],\n",
       "        [0.        , 0.        , 0.        , ..., 0.        ,\n",
       "         0.        , 1.        ]],\n",
       "\n",
       "       [[0.66666667, 0.33333333, 0.        , ..., 0.        ,\n",
       "         0.        , 0.        ],\n",
       "        [0.33333333, 0.33333333, 0.33333333, ..., 0.        ,\n",
       "         0.        , 0.        ],\n",
       "        [0.        , 0.33333333, 0.33333333, ..., 0.        ,\n",
       "         0.        , 0.        ],\n",
       "        ...,\n",
       "        [0.        , 0.        , 0.        , ..., 0.        ,\n",
       "         0.33333333, 0.        ],\n",
       "        [0.        , 0.        , 0.        , ..., 0.33333333,\n",
       "         0.        , 0.33333333],\n",
       "        [0.        , 0.        , 0.        , ..., 0.        ,\n",
       "         0.        , 1.        ]]])"
      ]
     },
     "execution_count": 16,
     "metadata": {},
     "output_type": "execute_result"
    }
   ],
   "source": [
    "P\n"
   ]
  },
  {
   "cell_type": "code",
   "execution_count": 17,
   "id": "7abd1924",
   "metadata": {},
   "outputs": [],
   "source": [
    "from hiive.mdptoolbox import mdp"
   ]
  },
  {
   "cell_type": "code",
   "execution_count": 18,
   "id": "0384b8a5",
   "metadata": {},
   "outputs": [],
   "source": [
    "pi = mdp.PolicyIteration(P, R, 0.6, max_iter=100000)"
   ]
  },
  {
   "cell_type": "code",
   "execution_count": 19,
   "id": "9222898b",
   "metadata": {},
   "outputs": [
    {
     "data": {
      "text/plain": [
       "[{'State': None,\n",
       "  'Action': None,\n",
       "  'Reward': 0.41666666666666663,\n",
       "  'Error': 0.08333333333333331,\n",
       "  'Time': 0.00298309326171875,\n",
       "  'V[0]': 0.0,\n",
       "  'Max V': 0.41666666666666663,\n",
       "  'Mean V': 0.06227546491969568,\n",
       "  'Iteration': 1},\n",
       " {'State': None,\n",
       "  'Action': None,\n",
       "  'Reward': 0.4669278850639052,\n",
       "  'Error': 0.023346394253195256,\n",
       "  'Time': 0.003664255142211914,\n",
       "  'V[0]': 0.0,\n",
       "  'Max V': 0.4669278850639052,\n",
       "  'Mean V': 0.1014297042634574,\n",
       "  'Iteration': 2},\n",
       " {'State': None,\n",
       "  'Action': None,\n",
       "  'Reward': 0.4670304683947248,\n",
       "  'Error': 0.0005910459958742703,\n",
       "  'Time': 0.00428009033203125,\n",
       "  'V[0]': 0.007769657595789031,\n",
       "  'Max V': 0.4670304683947248,\n",
       "  'Mean V': 0.11084926733687683,\n",
       "  'Iteration': 3},\n",
       " {'State': None,\n",
       "  'Action': None,\n",
       "  'Reward': 0.4670689389073927,\n",
       "  'Error': 2.7755575615628914e-17,\n",
       "  'Time': 0.005312204360961914,\n",
       "  'V[0]': 0.007803981897749161,\n",
       "  'Max V': 0.4670689389073927,\n",
       "  'Mean V': 0.11096325656306164,\n",
       "  'Iteration': 4}]"
      ]
     },
     "execution_count": 19,
     "metadata": {},
     "output_type": "execute_result"
    }
   ],
   "source": [
    "pi.run()"
   ]
  },
  {
   "cell_type": "code",
   "execution_count": 20,
   "id": "09b6ac76",
   "metadata": {},
   "outputs": [],
   "source": [
    "pi.setVerbose()"
   ]
  },
  {
   "cell_type": "code",
   "execution_count": 21,
   "id": "64a3208f",
   "metadata": {},
   "outputs": [
    {
     "name": "stdout",
     "output_type": "stream",
     "text": [
      " Iteration   Variation\n"
     ]
    },
    {
     "ename": "AttributeError",
     "evalue": "'bool' object has no attribute 'nonzero'",
     "output_type": "error",
     "traceback": [
      "\u001b[0;31m---------------------------------------------------------------------------\u001b[0m",
      "\u001b[0;31mAttributeError\u001b[0m                            Traceback (most recent call last)",
      "\u001b[0;32m/var/folders/4p/41bttzcx5y163sbdhm1bfdl40000gn/T/ipykernel_22349/3697169541.py\u001b[0m in \u001b[0;36m<module>\u001b[0;34m\u001b[0m\n\u001b[0;32m----> 1\u001b[0;31m \u001b[0mpi\u001b[0m\u001b[0;34m.\u001b[0m\u001b[0mrun\u001b[0m\u001b[0;34m(\u001b[0m\u001b[0;34m)\u001b[0m\u001b[0;34m\u001b[0m\u001b[0;34m\u001b[0m\u001b[0m\n\u001b[0m",
      "\u001b[0;32m/opt/miniconda3/envs/cs7641/lib/python3.9/site-packages/hiive/mdptoolbox/mdp.py\u001b[0m in \u001b[0;36mrun\u001b[0;34m(self)\u001b[0m\n\u001b[1;32m    839\u001b[0m             \u001b[0;31m# these _evalPolicy* functions will update the classes value\u001b[0m\u001b[0;34m\u001b[0m\u001b[0;34m\u001b[0m\u001b[0m\n\u001b[1;32m    840\u001b[0m             \u001b[0;31m# attribute\u001b[0m\u001b[0;34m\u001b[0m\u001b[0;34m\u001b[0m\u001b[0m\n\u001b[0;32m--> 841\u001b[0;31m             policy_V, policy_R, itr = (self._evalPolicyMatrix()\n\u001b[0m\u001b[1;32m    842\u001b[0m                                        \u001b[0;32mif\u001b[0m \u001b[0mself\u001b[0m\u001b[0;34m.\u001b[0m\u001b[0meval_type\u001b[0m \u001b[0;34m==\u001b[0m \u001b[0;34m'matrix'\u001b[0m\u001b[0;34m\u001b[0m\u001b[0;34m\u001b[0m\u001b[0m\n\u001b[1;32m    843\u001b[0m                                        else self._evalPolicyIterative())\n",
      "\u001b[0;32m/opt/miniconda3/envs/cs7641/lib/python3.9/site-packages/hiive/mdptoolbox/mdp.py\u001b[0m in \u001b[0;36m_evalPolicyMatrix\u001b[0;34m(self)\u001b[0m\n\u001b[1;32m    799\u001b[0m         \u001b[0;31m# Vpolicy(S) = value function of the policy\u001b[0m\u001b[0;34m\u001b[0m\u001b[0;34m\u001b[0m\u001b[0m\n\u001b[1;32m    800\u001b[0m         \u001b[0;31m#\u001b[0m\u001b[0;34m\u001b[0m\u001b[0;34m\u001b[0m\u001b[0m\n\u001b[0;32m--> 801\u001b[0;31m         \u001b[0mPpolicy\u001b[0m\u001b[0;34m,\u001b[0m \u001b[0mRpolicy\u001b[0m \u001b[0;34m=\u001b[0m \u001b[0mself\u001b[0m\u001b[0;34m.\u001b[0m\u001b[0m_computePpolicyPRpolicy\u001b[0m\u001b[0;34m(\u001b[0m\u001b[0;34m)\u001b[0m\u001b[0;34m\u001b[0m\u001b[0;34m\u001b[0m\u001b[0m\n\u001b[0m\u001b[1;32m    802\u001b[0m         \u001b[0;31m# V = PR + gPV  => (I-gP)V = PR  => V = inv(I-gP)* PR\u001b[0m\u001b[0;34m\u001b[0m\u001b[0;34m\u001b[0m\u001b[0m\n\u001b[1;32m    803\u001b[0m         \u001b[0mpolicy_V\u001b[0m \u001b[0;34m=\u001b[0m \u001b[0m_np\u001b[0m\u001b[0;34m.\u001b[0m\u001b[0mlinalg\u001b[0m\u001b[0;34m.\u001b[0m\u001b[0msolve\u001b[0m\u001b[0;34m(\u001b[0m\u001b[0;34m(\u001b[0m\u001b[0m_sp\u001b[0m\u001b[0;34m.\u001b[0m\u001b[0meye\u001b[0m\u001b[0;34m(\u001b[0m\u001b[0mself\u001b[0m\u001b[0;34m.\u001b[0m\u001b[0mS\u001b[0m\u001b[0;34m,\u001b[0m \u001b[0mself\u001b[0m\u001b[0;34m.\u001b[0m\u001b[0mS\u001b[0m\u001b[0;34m)\u001b[0m \u001b[0;34m-\u001b[0m \u001b[0mself\u001b[0m\u001b[0;34m.\u001b[0m\u001b[0mgamma\u001b[0m \u001b[0;34m*\u001b[0m \u001b[0mPpolicy\u001b[0m\u001b[0;34m)\u001b[0m\u001b[0;34m,\u001b[0m \u001b[0mRpolicy\u001b[0m\u001b[0;34m)\u001b[0m\u001b[0;34m\u001b[0m\u001b[0;34m\u001b[0m\u001b[0m\n",
      "\u001b[0;32m/opt/miniconda3/envs/cs7641/lib/python3.9/site-packages/hiive/mdptoolbox/mdp.py\u001b[0m in \u001b[0;36m_computePpolicyPRpolicy\u001b[0;34m(self)\u001b[0m\n\u001b[1;32m    686\u001b[0m         \u001b[0;32mfor\u001b[0m \u001b[0maa\u001b[0m \u001b[0;32min\u001b[0m \u001b[0mrange\u001b[0m\u001b[0;34m(\u001b[0m\u001b[0mself\u001b[0m\u001b[0;34m.\u001b[0m\u001b[0mA\u001b[0m\u001b[0;34m)\u001b[0m\u001b[0;34m:\u001b[0m  \u001b[0;31m# avoid looping over S\u001b[0m\u001b[0;34m\u001b[0m\u001b[0;34m\u001b[0m\u001b[0m\n\u001b[1;32m    687\u001b[0m             \u001b[0;31m# the rows that use action a.\u001b[0m\u001b[0;34m\u001b[0m\u001b[0;34m\u001b[0m\u001b[0m\n\u001b[0;32m--> 688\u001b[0;31m             \u001b[0mind\u001b[0m \u001b[0;34m=\u001b[0m \u001b[0;34m(\u001b[0m\u001b[0mself\u001b[0m\u001b[0;34m.\u001b[0m\u001b[0mpolicy\u001b[0m \u001b[0;34m==\u001b[0m \u001b[0maa\u001b[0m\u001b[0;34m)\u001b[0m\u001b[0;34m.\u001b[0m\u001b[0mnonzero\u001b[0m\u001b[0;34m(\u001b[0m\u001b[0;34m)\u001b[0m\u001b[0;34m[\u001b[0m\u001b[0;36m0\u001b[0m\u001b[0;34m]\u001b[0m\u001b[0;34m\u001b[0m\u001b[0;34m\u001b[0m\u001b[0m\n\u001b[0m\u001b[1;32m    689\u001b[0m             \u001b[0;31m# if no rows use action a, then no need to assign this\u001b[0m\u001b[0;34m\u001b[0m\u001b[0;34m\u001b[0m\u001b[0m\n\u001b[1;32m    690\u001b[0m             \u001b[0;32mif\u001b[0m \u001b[0mind\u001b[0m\u001b[0;34m.\u001b[0m\u001b[0msize\u001b[0m \u001b[0;34m>\u001b[0m \u001b[0;36m0\u001b[0m\u001b[0;34m:\u001b[0m\u001b[0;34m\u001b[0m\u001b[0;34m\u001b[0m\u001b[0m\n",
      "\u001b[0;31mAttributeError\u001b[0m: 'bool' object has no attribute 'nonzero'"
     ]
    }
   ],
   "source": [
    "pi.run()"
   ]
  },
  {
   "cell_type": "code",
   "execution_count": 22,
   "id": "ded25005",
   "metadata": {},
   "outputs": [
    {
     "data": {
      "text/plain": [
       "array([[[0.66666667, 0.        , 0.        , ..., 0.        ,\n",
       "         0.        , 0.        ],\n",
       "        [0.33333333, 0.33333333, 0.        , ..., 0.        ,\n",
       "         0.        , 0.        ],\n",
       "        [0.        , 0.33333333, 0.33333333, ..., 0.        ,\n",
       "         0.        , 0.        ],\n",
       "        ...,\n",
       "        [0.        , 0.        , 0.        , ..., 0.33333333,\n",
       "         0.        , 0.        ],\n",
       "        [0.        , 0.        , 0.        , ..., 0.33333333,\n",
       "         0.33333333, 0.        ],\n",
       "        [0.        , 0.        , 0.        , ..., 0.        ,\n",
       "         0.        , 1.        ]],\n",
       "\n",
       "       [[0.33333333, 0.33333333, 0.        , ..., 0.        ,\n",
       "         0.        , 0.        ],\n",
       "        [0.33333333, 0.        , 0.33333333, ..., 0.        ,\n",
       "         0.        , 0.        ],\n",
       "        [0.        , 0.33333333, 0.        , ..., 0.        ,\n",
       "         0.        , 0.        ],\n",
       "        ...,\n",
       "        [0.        , 0.        , 0.        , ..., 0.33333333,\n",
       "         0.33333333, 0.        ],\n",
       "        [0.        , 0.        , 0.        , ..., 0.33333333,\n",
       "         0.33333333, 0.33333333],\n",
       "        [0.        , 0.        , 0.        , ..., 0.        ,\n",
       "         0.        , 1.        ]],\n",
       "\n",
       "       [[0.33333333, 0.33333333, 0.        , ..., 0.        ,\n",
       "         0.        , 0.        ],\n",
       "        [0.        , 0.33333333, 0.33333333, ..., 0.        ,\n",
       "         0.        , 0.        ],\n",
       "        [0.        , 0.        , 0.33333333, ..., 0.        ,\n",
       "         0.        , 0.        ],\n",
       "        ...,\n",
       "        [0.        , 0.        , 0.        , ..., 0.33333333,\n",
       "         0.33333333, 0.        ],\n",
       "        [0.        , 0.        , 0.        , ..., 0.        ,\n",
       "         0.33333333, 0.33333333],\n",
       "        [0.        , 0.        , 0.        , ..., 0.        ,\n",
       "         0.        , 1.        ]],\n",
       "\n",
       "       [[0.66666667, 0.33333333, 0.        , ..., 0.        ,\n",
       "         0.        , 0.        ],\n",
       "        [0.33333333, 0.33333333, 0.33333333, ..., 0.        ,\n",
       "         0.        , 0.        ],\n",
       "        [0.        , 0.33333333, 0.33333333, ..., 0.        ,\n",
       "         0.        , 0.        ],\n",
       "        ...,\n",
       "        [0.        , 0.        , 0.        , ..., 0.        ,\n",
       "         0.33333333, 0.        ],\n",
       "        [0.        , 0.        , 0.        , ..., 0.33333333,\n",
       "         0.        , 0.33333333],\n",
       "        [0.        , 0.        , 0.        , ..., 0.        ,\n",
       "         0.        , 1.        ]]])"
      ]
     },
     "execution_count": 22,
     "metadata": {},
     "output_type": "execute_result"
    }
   ],
   "source": [
    "P"
   ]
  },
  {
   "cell_type": "code",
   "execution_count": 23,
   "id": "b5a20bc6",
   "metadata": {},
   "outputs": [
    {
     "data": {
      "text/plain": [
       "hiive.mdptoolbox.mdp.PolicyIteration"
      ]
     },
     "execution_count": 23,
     "metadata": {},
     "output_type": "execute_result"
    }
   ],
   "source": [
    "mdp.PolicyIteration"
   ]
  },
  {
   "cell_type": "code",
   "execution_count": 24,
   "id": "7f2c4ac6",
   "metadata": {},
   "outputs": [],
   "source": [
    "mdp.PolicyIteration?"
   ]
  },
  {
   "cell_type": "code",
   "execution_count": 25,
   "id": "c607c319",
   "metadata": {},
   "outputs": [],
   "source": [
    "mdp.ValueIteration?"
   ]
  },
  {
   "cell_type": "code",
   "execution_count": 26,
   "id": "6a07689c",
   "metadata": {},
   "outputs": [
    {
     "name": "stdout",
     "output_type": "stream",
     "text": [
      " Iteration   Variation\n"
     ]
    },
    {
     "ename": "AttributeError",
     "evalue": "'bool' object has no attribute 'nonzero'",
     "output_type": "error",
     "traceback": [
      "\u001b[0;31m---------------------------------------------------------------------------\u001b[0m",
      "\u001b[0;31mAttributeError\u001b[0m                            Traceback (most recent call last)",
      "\u001b[0;32m/var/folders/4p/41bttzcx5y163sbdhm1bfdl40000gn/T/ipykernel_22349/3697169541.py\u001b[0m in \u001b[0;36m<module>\u001b[0;34m\u001b[0m\n\u001b[0;32m----> 1\u001b[0;31m \u001b[0mpi\u001b[0m\u001b[0;34m.\u001b[0m\u001b[0mrun\u001b[0m\u001b[0;34m(\u001b[0m\u001b[0;34m)\u001b[0m\u001b[0;34m\u001b[0m\u001b[0;34m\u001b[0m\u001b[0m\n\u001b[0m",
      "\u001b[0;32m/opt/miniconda3/envs/cs7641/lib/python3.9/site-packages/hiive/mdptoolbox/mdp.py\u001b[0m in \u001b[0;36mrun\u001b[0;34m(self)\u001b[0m\n\u001b[1;32m    839\u001b[0m             \u001b[0;31m# these _evalPolicy* functions will update the classes value\u001b[0m\u001b[0;34m\u001b[0m\u001b[0;34m\u001b[0m\u001b[0m\n\u001b[1;32m    840\u001b[0m             \u001b[0;31m# attribute\u001b[0m\u001b[0;34m\u001b[0m\u001b[0;34m\u001b[0m\u001b[0m\n\u001b[0;32m--> 841\u001b[0;31m             policy_V, policy_R, itr = (self._evalPolicyMatrix()\n\u001b[0m\u001b[1;32m    842\u001b[0m                                        \u001b[0;32mif\u001b[0m \u001b[0mself\u001b[0m\u001b[0;34m.\u001b[0m\u001b[0meval_type\u001b[0m \u001b[0;34m==\u001b[0m \u001b[0;34m'matrix'\u001b[0m\u001b[0;34m\u001b[0m\u001b[0;34m\u001b[0m\u001b[0m\n\u001b[1;32m    843\u001b[0m                                        else self._evalPolicyIterative())\n",
      "\u001b[0;32m/opt/miniconda3/envs/cs7641/lib/python3.9/site-packages/hiive/mdptoolbox/mdp.py\u001b[0m in \u001b[0;36m_evalPolicyMatrix\u001b[0;34m(self)\u001b[0m\n\u001b[1;32m    799\u001b[0m         \u001b[0;31m# Vpolicy(S) = value function of the policy\u001b[0m\u001b[0;34m\u001b[0m\u001b[0;34m\u001b[0m\u001b[0m\n\u001b[1;32m    800\u001b[0m         \u001b[0;31m#\u001b[0m\u001b[0;34m\u001b[0m\u001b[0;34m\u001b[0m\u001b[0m\n\u001b[0;32m--> 801\u001b[0;31m         \u001b[0mPpolicy\u001b[0m\u001b[0;34m,\u001b[0m \u001b[0mRpolicy\u001b[0m \u001b[0;34m=\u001b[0m \u001b[0mself\u001b[0m\u001b[0;34m.\u001b[0m\u001b[0m_computePpolicyPRpolicy\u001b[0m\u001b[0;34m(\u001b[0m\u001b[0;34m)\u001b[0m\u001b[0;34m\u001b[0m\u001b[0;34m\u001b[0m\u001b[0m\n\u001b[0m\u001b[1;32m    802\u001b[0m         \u001b[0;31m# V = PR + gPV  => (I-gP)V = PR  => V = inv(I-gP)* PR\u001b[0m\u001b[0;34m\u001b[0m\u001b[0;34m\u001b[0m\u001b[0m\n\u001b[1;32m    803\u001b[0m         \u001b[0mpolicy_V\u001b[0m \u001b[0;34m=\u001b[0m \u001b[0m_np\u001b[0m\u001b[0;34m.\u001b[0m\u001b[0mlinalg\u001b[0m\u001b[0;34m.\u001b[0m\u001b[0msolve\u001b[0m\u001b[0;34m(\u001b[0m\u001b[0;34m(\u001b[0m\u001b[0m_sp\u001b[0m\u001b[0;34m.\u001b[0m\u001b[0meye\u001b[0m\u001b[0;34m(\u001b[0m\u001b[0mself\u001b[0m\u001b[0;34m.\u001b[0m\u001b[0mS\u001b[0m\u001b[0;34m,\u001b[0m \u001b[0mself\u001b[0m\u001b[0;34m.\u001b[0m\u001b[0mS\u001b[0m\u001b[0;34m)\u001b[0m \u001b[0;34m-\u001b[0m \u001b[0mself\u001b[0m\u001b[0;34m.\u001b[0m\u001b[0mgamma\u001b[0m \u001b[0;34m*\u001b[0m \u001b[0mPpolicy\u001b[0m\u001b[0;34m)\u001b[0m\u001b[0;34m,\u001b[0m \u001b[0mRpolicy\u001b[0m\u001b[0;34m)\u001b[0m\u001b[0;34m\u001b[0m\u001b[0;34m\u001b[0m\u001b[0m\n",
      "\u001b[0;32m/opt/miniconda3/envs/cs7641/lib/python3.9/site-packages/hiive/mdptoolbox/mdp.py\u001b[0m in \u001b[0;36m_computePpolicyPRpolicy\u001b[0;34m(self)\u001b[0m\n\u001b[1;32m    686\u001b[0m         \u001b[0;32mfor\u001b[0m \u001b[0maa\u001b[0m \u001b[0;32min\u001b[0m \u001b[0mrange\u001b[0m\u001b[0;34m(\u001b[0m\u001b[0mself\u001b[0m\u001b[0;34m.\u001b[0m\u001b[0mA\u001b[0m\u001b[0;34m)\u001b[0m\u001b[0;34m:\u001b[0m  \u001b[0;31m# avoid looping over S\u001b[0m\u001b[0;34m\u001b[0m\u001b[0;34m\u001b[0m\u001b[0m\n\u001b[1;32m    687\u001b[0m             \u001b[0;31m# the rows that use action a.\u001b[0m\u001b[0;34m\u001b[0m\u001b[0;34m\u001b[0m\u001b[0m\n\u001b[0;32m--> 688\u001b[0;31m             \u001b[0mind\u001b[0m \u001b[0;34m=\u001b[0m \u001b[0;34m(\u001b[0m\u001b[0mself\u001b[0m\u001b[0;34m.\u001b[0m\u001b[0mpolicy\u001b[0m \u001b[0;34m==\u001b[0m \u001b[0maa\u001b[0m\u001b[0;34m)\u001b[0m\u001b[0;34m.\u001b[0m\u001b[0mnonzero\u001b[0m\u001b[0;34m(\u001b[0m\u001b[0;34m)\u001b[0m\u001b[0;34m[\u001b[0m\u001b[0;36m0\u001b[0m\u001b[0;34m]\u001b[0m\u001b[0;34m\u001b[0m\u001b[0;34m\u001b[0m\u001b[0m\n\u001b[0m\u001b[1;32m    689\u001b[0m             \u001b[0;31m# if no rows use action a, then no need to assign this\u001b[0m\u001b[0;34m\u001b[0m\u001b[0;34m\u001b[0m\u001b[0m\n\u001b[1;32m    690\u001b[0m             \u001b[0;32mif\u001b[0m \u001b[0mind\u001b[0m\u001b[0;34m.\u001b[0m\u001b[0msize\u001b[0m \u001b[0;34m>\u001b[0m \u001b[0;36m0\u001b[0m\u001b[0;34m:\u001b[0m\u001b[0;34m\u001b[0m\u001b[0;34m\u001b[0m\u001b[0m\n",
      "\u001b[0;31mAttributeError\u001b[0m: 'bool' object has no attribute 'nonzero'"
     ]
    }
   ],
   "source": [
    "pi.run()"
   ]
  },
  {
   "cell_type": "code",
   "execution_count": 27,
   "id": "94cc6089",
   "metadata": {},
   "outputs": [],
   "source": [
    "pi_2 = mdp.PolicyIteration(P, R, 0.6, max_iter=100000)"
   ]
  },
  {
   "cell_type": "code",
   "execution_count": 28,
   "id": "420c962b",
   "metadata": {},
   "outputs": [],
   "source": [
    "pi_2.setVerbose()"
   ]
  },
  {
   "cell_type": "code",
   "execution_count": 29,
   "id": "7dcf2f2a",
   "metadata": {},
   "outputs": [
    {
     "name": "stdout",
     "output_type": "stream",
     "text": [
      " Iteration   Variation\n",
      "         1          11\n",
      "         2           9\n",
      "         3           3\n",
      "         4           0\n",
      "Iterating stopped, unchanging policy found.\n"
     ]
    },
    {
     "data": {
      "text/plain": [
       "[{'State': None,\n",
       "  'Action': None,\n",
       "  'Reward': 0.41666666666666663,\n",
       "  'Error': 0.08333333333333331,\n",
       "  'Time': 0.0013098716735839844,\n",
       "  'V[0]': 0.0,\n",
       "  'Max V': 0.41666666666666663,\n",
       "  'Mean V': 0.06227546491969568,\n",
       "  'Iteration': 1},\n",
       " {'State': None,\n",
       "  'Action': None,\n",
       "  'Reward': 0.4669278850639052,\n",
       "  'Error': 0.023346394253195256,\n",
       "  'Time': 0.002628803253173828,\n",
       "  'V[0]': 0.0,\n",
       "  'Max V': 0.4669278850639052,\n",
       "  'Mean V': 0.1014297042634574,\n",
       "  'Iteration': 2},\n",
       " {'State': None,\n",
       "  'Action': None,\n",
       "  'Reward': 0.4670304683947248,\n",
       "  'Error': 0.0005910459958742703,\n",
       "  'Time': 0.003816843032836914,\n",
       "  'V[0]': 0.007769657595789031,\n",
       "  'Max V': 0.4670304683947248,\n",
       "  'Mean V': 0.11084926733687683,\n",
       "  'Iteration': 3},\n",
       " {'State': None,\n",
       "  'Action': None,\n",
       "  'Reward': 0.4670689389073927,\n",
       "  'Error': 2.7755575615628914e-17,\n",
       "  'Time': 0.004954814910888672,\n",
       "  'V[0]': 0.007803981897749161,\n",
       "  'Max V': 0.4670689389073927,\n",
       "  'Mean V': 0.11096325656306164,\n",
       "  'Iteration': 4}]"
      ]
     },
     "execution_count": 29,
     "metadata": {},
     "output_type": "execute_result"
    }
   ],
   "source": [
    "pi_2.run()"
   ]
  },
  {
   "cell_type": "code",
   "execution_count": 30,
   "id": "9257a251",
   "metadata": {},
   "outputs": [],
   "source": [
    "P, R = hiive.mdptoolbox.example.openai(\"FrozenLake-v1\", desc=random_map)"
   ]
  },
  {
   "cell_type": "code",
   "execution_count": 31,
   "id": "134cdb8f",
   "metadata": {},
   "outputs": [],
   "source": [
    "P, R = hiive.mdptoolbox.example.openai(\"FrozenLake-v1\", desc=random_map)"
   ]
  },
  {
   "cell_type": "code",
   "execution_count": 32,
   "id": "b1f01781",
   "metadata": {},
   "outputs": [
    {
     "ename": "DeprecatedEnv",
     "evalue": "Env FrozenLake-v0 not found (valid versions include ['FrozenLake-v1'])",
     "output_type": "error",
     "traceback": [
      "\u001b[0;31m---------------------------------------------------------------------------\u001b[0m",
      "\u001b[0;31mKeyError\u001b[0m                                  Traceback (most recent call last)",
      "\u001b[0;32m/opt/miniconda3/envs/cs7641/lib/python3.9/site-packages/gym/envs/registration.py\u001b[0m in \u001b[0;36mspec\u001b[0;34m(self, path)\u001b[0m\n\u001b[1;32m    157\u001b[0m         \u001b[0;32mtry\u001b[0m\u001b[0;34m:\u001b[0m\u001b[0;34m\u001b[0m\u001b[0;34m\u001b[0m\u001b[0m\n\u001b[0;32m--> 158\u001b[0;31m             \u001b[0;32mreturn\u001b[0m \u001b[0mself\u001b[0m\u001b[0;34m.\u001b[0m\u001b[0menv_specs\u001b[0m\u001b[0;34m[\u001b[0m\u001b[0mid\u001b[0m\u001b[0;34m]\u001b[0m\u001b[0;34m\u001b[0m\u001b[0;34m\u001b[0m\u001b[0m\n\u001b[0m\u001b[1;32m    159\u001b[0m         \u001b[0;32mexcept\u001b[0m \u001b[0mKeyError\u001b[0m\u001b[0;34m:\u001b[0m\u001b[0;34m\u001b[0m\u001b[0;34m\u001b[0m\u001b[0m\n",
      "\u001b[0;31mKeyError\u001b[0m: 'FrozenLake-v0'",
      "\nDuring handling of the above exception, another exception occurred:\n",
      "\u001b[0;31mDeprecatedEnv\u001b[0m                             Traceback (most recent call last)",
      "\u001b[0;32m/var/folders/4p/41bttzcx5y163sbdhm1bfdl40000gn/T/ipykernel_22349/2913648274.py\u001b[0m in \u001b[0;36m<module>\u001b[0;34m\u001b[0m\n\u001b[0;32m----> 1\u001b[0;31m \u001b[0mP\u001b[0m\u001b[0;34m,\u001b[0m \u001b[0mR\u001b[0m \u001b[0;34m=\u001b[0m \u001b[0mhiive\u001b[0m\u001b[0;34m.\u001b[0m\u001b[0mmdptoolbox\u001b[0m\u001b[0;34m.\u001b[0m\u001b[0mexample\u001b[0m\u001b[0;34m.\u001b[0m\u001b[0mopenai\u001b[0m\u001b[0;34m(\u001b[0m\u001b[0;34m\"FrozenLake-v0\"\u001b[0m\u001b[0;34m,\u001b[0m \u001b[0mdesc\u001b[0m\u001b[0;34m=\u001b[0m\u001b[0mrandom_map\u001b[0m\u001b[0;34m)\u001b[0m\u001b[0;34m\u001b[0m\u001b[0;34m\u001b[0m\u001b[0m\n\u001b[0m",
      "\u001b[0;32m/opt/miniconda3/envs/cs7641/lib/python3.9/site-packages/hiive/mdptoolbox/example.py\u001b[0m in \u001b[0;36mopenai\u001b[0;34m(env_name, render, **kwargs)\u001b[0m\n\u001b[1;32m    462\u001b[0m     \"\"\"\n\u001b[1;32m    463\u001b[0m \u001b[0;34m\u001b[0m\u001b[0m\n\u001b[0;32m--> 464\u001b[0;31m     \u001b[0menv\u001b[0m \u001b[0;34m=\u001b[0m \u001b[0mopenai_\u001b[0m\u001b[0;34m.\u001b[0m\u001b[0mOpenAI_MDPToolbox\u001b[0m\u001b[0;34m(\u001b[0m\u001b[0menv_name\u001b[0m\u001b[0;34m,\u001b[0m \u001b[0mrender\u001b[0m\u001b[0;34m,\u001b[0m \u001b[0;34m**\u001b[0m\u001b[0mkwargs\u001b[0m\u001b[0;34m)\u001b[0m\u001b[0;34m\u001b[0m\u001b[0;34m\u001b[0m\u001b[0m\n\u001b[0m\u001b[1;32m    465\u001b[0m     \u001b[0;32mreturn\u001b[0m \u001b[0menv\u001b[0m\u001b[0;34m.\u001b[0m\u001b[0mP\u001b[0m\u001b[0;34m,\u001b[0m \u001b[0menv\u001b[0m\u001b[0;34m.\u001b[0m\u001b[0mR\u001b[0m\u001b[0;34m\u001b[0m\u001b[0;34m\u001b[0m\u001b[0m\n",
      "\u001b[0;32m/opt/miniconda3/envs/cs7641/lib/python3.9/site-packages/hiive/mdptoolbox/openai.py\u001b[0m in \u001b[0;36m__init__\u001b[0;34m(self, openAI_env_name, render, **kwargs)\u001b[0m\n\u001b[1;32m     25\u001b[0m         \u001b[0mself\u001b[0m\u001b[0;34m.\u001b[0m\u001b[0menv_name\u001b[0m \u001b[0;34m=\u001b[0m \u001b[0mopenAI_env_name\u001b[0m\u001b[0;34m\u001b[0m\u001b[0;34m\u001b[0m\u001b[0m\n\u001b[1;32m     26\u001b[0m \u001b[0;34m\u001b[0m\u001b[0m\n\u001b[0;32m---> 27\u001b[0;31m         \u001b[0mself\u001b[0m\u001b[0;34m.\u001b[0m\u001b[0menv\u001b[0m \u001b[0;34m=\u001b[0m \u001b[0mgym\u001b[0m\u001b[0;34m.\u001b[0m\u001b[0mmake\u001b[0m\u001b[0;34m(\u001b[0m\u001b[0mself\u001b[0m\u001b[0;34m.\u001b[0m\u001b[0menv_name\u001b[0m\u001b[0;34m,\u001b[0m \u001b[0;34m**\u001b[0m\u001b[0mkwargs\u001b[0m\u001b[0;34m)\u001b[0m\u001b[0;34m\u001b[0m\u001b[0;34m\u001b[0m\u001b[0m\n\u001b[0m\u001b[1;32m     28\u001b[0m         \u001b[0mself\u001b[0m\u001b[0;34m.\u001b[0m\u001b[0menv\u001b[0m\u001b[0;34m.\u001b[0m\u001b[0mreset\u001b[0m\u001b[0;34m(\u001b[0m\u001b[0;34m)\u001b[0m\u001b[0;34m\u001b[0m\u001b[0;34m\u001b[0m\u001b[0m\n\u001b[1;32m     29\u001b[0m \u001b[0;34m\u001b[0m\u001b[0m\n",
      "\u001b[0;32m/opt/miniconda3/envs/cs7641/lib/python3.9/site-packages/gym/envs/registration.py\u001b[0m in \u001b[0;36mmake\u001b[0;34m(id, **kwargs)\u001b[0m\n\u001b[1;32m    233\u001b[0m \u001b[0;34m\u001b[0m\u001b[0m\n\u001b[1;32m    234\u001b[0m \u001b[0;32mdef\u001b[0m \u001b[0mmake\u001b[0m\u001b[0;34m(\u001b[0m\u001b[0mid\u001b[0m\u001b[0;34m,\u001b[0m \u001b[0;34m**\u001b[0m\u001b[0mkwargs\u001b[0m\u001b[0;34m)\u001b[0m\u001b[0;34m:\u001b[0m\u001b[0;34m\u001b[0m\u001b[0;34m\u001b[0m\u001b[0m\n\u001b[0;32m--> 235\u001b[0;31m     \u001b[0;32mreturn\u001b[0m \u001b[0mregistry\u001b[0m\u001b[0;34m.\u001b[0m\u001b[0mmake\u001b[0m\u001b[0;34m(\u001b[0m\u001b[0mid\u001b[0m\u001b[0;34m,\u001b[0m \u001b[0;34m**\u001b[0m\u001b[0mkwargs\u001b[0m\u001b[0;34m)\u001b[0m\u001b[0;34m\u001b[0m\u001b[0;34m\u001b[0m\u001b[0m\n\u001b[0m\u001b[1;32m    236\u001b[0m \u001b[0;34m\u001b[0m\u001b[0m\n\u001b[1;32m    237\u001b[0m \u001b[0;34m\u001b[0m\u001b[0m\n",
      "\u001b[0;32m/opt/miniconda3/envs/cs7641/lib/python3.9/site-packages/gym/envs/registration.py\u001b[0m in \u001b[0;36mmake\u001b[0;34m(self, path, **kwargs)\u001b[0m\n\u001b[1;32m    126\u001b[0m         \u001b[0;32melse\u001b[0m\u001b[0;34m:\u001b[0m\u001b[0;34m\u001b[0m\u001b[0;34m\u001b[0m\u001b[0m\n\u001b[1;32m    127\u001b[0m             \u001b[0mlogger\u001b[0m\u001b[0;34m.\u001b[0m\u001b[0minfo\u001b[0m\u001b[0;34m(\u001b[0m\u001b[0;34m\"Making new env: %s\"\u001b[0m\u001b[0;34m,\u001b[0m \u001b[0mpath\u001b[0m\u001b[0;34m)\u001b[0m\u001b[0;34m\u001b[0m\u001b[0;34m\u001b[0m\u001b[0m\n\u001b[0;32m--> 128\u001b[0;31m         \u001b[0mspec\u001b[0m \u001b[0;34m=\u001b[0m \u001b[0mself\u001b[0m\u001b[0;34m.\u001b[0m\u001b[0mspec\u001b[0m\u001b[0;34m(\u001b[0m\u001b[0mpath\u001b[0m\u001b[0;34m)\u001b[0m\u001b[0;34m\u001b[0m\u001b[0;34m\u001b[0m\u001b[0m\n\u001b[0m\u001b[1;32m    129\u001b[0m         \u001b[0menv\u001b[0m \u001b[0;34m=\u001b[0m \u001b[0mspec\u001b[0m\u001b[0;34m.\u001b[0m\u001b[0mmake\u001b[0m\u001b[0;34m(\u001b[0m\u001b[0;34m**\u001b[0m\u001b[0mkwargs\u001b[0m\u001b[0;34m)\u001b[0m\u001b[0;34m\u001b[0m\u001b[0;34m\u001b[0m\u001b[0m\n\u001b[1;32m    130\u001b[0m         \u001b[0;32mreturn\u001b[0m \u001b[0menv\u001b[0m\u001b[0;34m\u001b[0m\u001b[0;34m\u001b[0m\u001b[0m\n",
      "\u001b[0;32m/opt/miniconda3/envs/cs7641/lib/python3.9/site-packages/gym/envs/registration.py\u001b[0m in \u001b[0;36mspec\u001b[0;34m(self, path)\u001b[0m\n\u001b[1;32m    183\u001b[0m             ]\n\u001b[1;32m    184\u001b[0m             \u001b[0;32mif\u001b[0m \u001b[0mmatching_envs\u001b[0m\u001b[0;34m:\u001b[0m\u001b[0;34m\u001b[0m\u001b[0;34m\u001b[0m\u001b[0m\n\u001b[0;32m--> 185\u001b[0;31m                 raise error.DeprecatedEnv(\n\u001b[0m\u001b[1;32m    186\u001b[0m                     \"Env {} not found (valid versions include {})\".format(\n\u001b[1;32m    187\u001b[0m                         \u001b[0mid\u001b[0m\u001b[0;34m,\u001b[0m \u001b[0mmatching_envs\u001b[0m\u001b[0;34m\u001b[0m\u001b[0;34m\u001b[0m\u001b[0m\n",
      "\u001b[0;31mDeprecatedEnv\u001b[0m: Env FrozenLake-v0 not found (valid versions include ['FrozenLake-v1'])"
     ]
    }
   ],
   "source": [
    "P, R = hiive.mdptoolbox.example.openai(\"FrozenLake-v0\", desc=random_map)"
   ]
  },
  {
   "cell_type": "code",
   "execution_count": 33,
   "id": "5d4e1855",
   "metadata": {},
   "outputs": [],
   "source": [
    "P, R = hiive.mdptoolbox.example.openai(\"FrozenLake-v1\", desc=random_map)"
   ]
  },
  {
   "cell_type": "code",
   "execution_count": 34,
   "id": "2ef04804",
   "metadata": {},
   "outputs": [],
   "source": [
    "pi = mdp.PolicyIteration(P, R, 0.6, max_iter=100000)"
   ]
  },
  {
   "cell_type": "code",
   "execution_count": 35,
   "id": "29c1d376",
   "metadata": {},
   "outputs": [
    {
     "data": {
      "text/plain": [
       "[{'State': None,\n",
       "  'Action': None,\n",
       "  'Reward': 0.41666666666666663,\n",
       "  'Error': 0.08333333333333331,\n",
       "  'Time': 0.0013380050659179688,\n",
       "  'V[0]': 0.0,\n",
       "  'Max V': 0.41666666666666663,\n",
       "  'Mean V': 0.06227546491969568,\n",
       "  'Iteration': 1},\n",
       " {'State': None,\n",
       "  'Action': None,\n",
       "  'Reward': 0.4669278850639052,\n",
       "  'Error': 0.023346394253195256,\n",
       "  'Time': 0.0022149085998535156,\n",
       "  'V[0]': 0.0,\n",
       "  'Max V': 0.4669278850639052,\n",
       "  'Mean V': 0.1014297042634574,\n",
       "  'Iteration': 2},\n",
       " {'State': None,\n",
       "  'Action': None,\n",
       "  'Reward': 0.4670304683947248,\n",
       "  'Error': 0.0005910459958742703,\n",
       "  'Time': 0.002875089645385742,\n",
       "  'V[0]': 0.007769657595789031,\n",
       "  'Max V': 0.4670304683947248,\n",
       "  'Mean V': 0.11084926733687683,\n",
       "  'Iteration': 3},\n",
       " {'State': None,\n",
       "  'Action': None,\n",
       "  'Reward': 0.4670689389073927,\n",
       "  'Error': 2.7755575615628914e-17,\n",
       "  'Time': 0.0037038326263427734,\n",
       "  'V[0]': 0.007803981897749161,\n",
       "  'Max V': 0.4670689389073927,\n",
       "  'Mean V': 0.11096325656306164,\n",
       "  'Iteration': 4}]"
      ]
     },
     "execution_count": 35,
     "metadata": {},
     "output_type": "execute_result"
    }
   ],
   "source": [
    "pi.run()"
   ]
  },
  {
   "cell_type": "code",
   "execution_count": 36,
   "id": "5117b2e1",
   "metadata": {},
   "outputs": [],
   "source": [
    "pi.setVerbose()"
   ]
  },
  {
   "cell_type": "code",
   "execution_count": 37,
   "id": "27ce2e97",
   "metadata": {},
   "outputs": [
    {
     "name": "stdout",
     "output_type": "stream",
     "text": [
      " Iteration   Variation\n"
     ]
    },
    {
     "ename": "AttributeError",
     "evalue": "'bool' object has no attribute 'nonzero'",
     "output_type": "error",
     "traceback": [
      "\u001b[0;31m---------------------------------------------------------------------------\u001b[0m",
      "\u001b[0;31mAttributeError\u001b[0m                            Traceback (most recent call last)",
      "\u001b[0;32m/var/folders/4p/41bttzcx5y163sbdhm1bfdl40000gn/T/ipykernel_22349/3697169541.py\u001b[0m in \u001b[0;36m<module>\u001b[0;34m\u001b[0m\n\u001b[0;32m----> 1\u001b[0;31m \u001b[0mpi\u001b[0m\u001b[0;34m.\u001b[0m\u001b[0mrun\u001b[0m\u001b[0;34m(\u001b[0m\u001b[0;34m)\u001b[0m\u001b[0;34m\u001b[0m\u001b[0;34m\u001b[0m\u001b[0m\n\u001b[0m",
      "\u001b[0;32m/opt/miniconda3/envs/cs7641/lib/python3.9/site-packages/hiive/mdptoolbox/mdp.py\u001b[0m in \u001b[0;36mrun\u001b[0;34m(self)\u001b[0m\n\u001b[1;32m    839\u001b[0m             \u001b[0;31m# these _evalPolicy* functions will update the classes value\u001b[0m\u001b[0;34m\u001b[0m\u001b[0;34m\u001b[0m\u001b[0m\n\u001b[1;32m    840\u001b[0m             \u001b[0;31m# attribute\u001b[0m\u001b[0;34m\u001b[0m\u001b[0;34m\u001b[0m\u001b[0m\n\u001b[0;32m--> 841\u001b[0;31m             policy_V, policy_R, itr = (self._evalPolicyMatrix()\n\u001b[0m\u001b[1;32m    842\u001b[0m                                        \u001b[0;32mif\u001b[0m \u001b[0mself\u001b[0m\u001b[0;34m.\u001b[0m\u001b[0meval_type\u001b[0m \u001b[0;34m==\u001b[0m \u001b[0;34m'matrix'\u001b[0m\u001b[0;34m\u001b[0m\u001b[0;34m\u001b[0m\u001b[0m\n\u001b[1;32m    843\u001b[0m                                        else self._evalPolicyIterative())\n",
      "\u001b[0;32m/opt/miniconda3/envs/cs7641/lib/python3.9/site-packages/hiive/mdptoolbox/mdp.py\u001b[0m in \u001b[0;36m_evalPolicyMatrix\u001b[0;34m(self)\u001b[0m\n\u001b[1;32m    799\u001b[0m         \u001b[0;31m# Vpolicy(S) = value function of the policy\u001b[0m\u001b[0;34m\u001b[0m\u001b[0;34m\u001b[0m\u001b[0m\n\u001b[1;32m    800\u001b[0m         \u001b[0;31m#\u001b[0m\u001b[0;34m\u001b[0m\u001b[0;34m\u001b[0m\u001b[0m\n\u001b[0;32m--> 801\u001b[0;31m         \u001b[0mPpolicy\u001b[0m\u001b[0;34m,\u001b[0m \u001b[0mRpolicy\u001b[0m \u001b[0;34m=\u001b[0m \u001b[0mself\u001b[0m\u001b[0;34m.\u001b[0m\u001b[0m_computePpolicyPRpolicy\u001b[0m\u001b[0;34m(\u001b[0m\u001b[0;34m)\u001b[0m\u001b[0;34m\u001b[0m\u001b[0;34m\u001b[0m\u001b[0m\n\u001b[0m\u001b[1;32m    802\u001b[0m         \u001b[0;31m# V = PR + gPV  => (I-gP)V = PR  => V = inv(I-gP)* PR\u001b[0m\u001b[0;34m\u001b[0m\u001b[0;34m\u001b[0m\u001b[0m\n\u001b[1;32m    803\u001b[0m         \u001b[0mpolicy_V\u001b[0m \u001b[0;34m=\u001b[0m \u001b[0m_np\u001b[0m\u001b[0;34m.\u001b[0m\u001b[0mlinalg\u001b[0m\u001b[0;34m.\u001b[0m\u001b[0msolve\u001b[0m\u001b[0;34m(\u001b[0m\u001b[0;34m(\u001b[0m\u001b[0m_sp\u001b[0m\u001b[0;34m.\u001b[0m\u001b[0meye\u001b[0m\u001b[0;34m(\u001b[0m\u001b[0mself\u001b[0m\u001b[0;34m.\u001b[0m\u001b[0mS\u001b[0m\u001b[0;34m,\u001b[0m \u001b[0mself\u001b[0m\u001b[0;34m.\u001b[0m\u001b[0mS\u001b[0m\u001b[0;34m)\u001b[0m \u001b[0;34m-\u001b[0m \u001b[0mself\u001b[0m\u001b[0;34m.\u001b[0m\u001b[0mgamma\u001b[0m \u001b[0;34m*\u001b[0m \u001b[0mPpolicy\u001b[0m\u001b[0;34m)\u001b[0m\u001b[0;34m,\u001b[0m \u001b[0mRpolicy\u001b[0m\u001b[0;34m)\u001b[0m\u001b[0;34m\u001b[0m\u001b[0;34m\u001b[0m\u001b[0m\n",
      "\u001b[0;32m/opt/miniconda3/envs/cs7641/lib/python3.9/site-packages/hiive/mdptoolbox/mdp.py\u001b[0m in \u001b[0;36m_computePpolicyPRpolicy\u001b[0;34m(self)\u001b[0m\n\u001b[1;32m    686\u001b[0m         \u001b[0;32mfor\u001b[0m \u001b[0maa\u001b[0m \u001b[0;32min\u001b[0m \u001b[0mrange\u001b[0m\u001b[0;34m(\u001b[0m\u001b[0mself\u001b[0m\u001b[0;34m.\u001b[0m\u001b[0mA\u001b[0m\u001b[0;34m)\u001b[0m\u001b[0;34m:\u001b[0m  \u001b[0;31m# avoid looping over S\u001b[0m\u001b[0;34m\u001b[0m\u001b[0;34m\u001b[0m\u001b[0m\n\u001b[1;32m    687\u001b[0m             \u001b[0;31m# the rows that use action a.\u001b[0m\u001b[0;34m\u001b[0m\u001b[0;34m\u001b[0m\u001b[0m\n\u001b[0;32m--> 688\u001b[0;31m             \u001b[0mind\u001b[0m \u001b[0;34m=\u001b[0m \u001b[0;34m(\u001b[0m\u001b[0mself\u001b[0m\u001b[0;34m.\u001b[0m\u001b[0mpolicy\u001b[0m \u001b[0;34m==\u001b[0m \u001b[0maa\u001b[0m\u001b[0;34m)\u001b[0m\u001b[0;34m.\u001b[0m\u001b[0mnonzero\u001b[0m\u001b[0;34m(\u001b[0m\u001b[0;34m)\u001b[0m\u001b[0;34m[\u001b[0m\u001b[0;36m0\u001b[0m\u001b[0;34m]\u001b[0m\u001b[0;34m\u001b[0m\u001b[0;34m\u001b[0m\u001b[0m\n\u001b[0m\u001b[1;32m    689\u001b[0m             \u001b[0;31m# if no rows use action a, then no need to assign this\u001b[0m\u001b[0;34m\u001b[0m\u001b[0;34m\u001b[0m\u001b[0m\n\u001b[1;32m    690\u001b[0m             \u001b[0;32mif\u001b[0m \u001b[0mind\u001b[0m\u001b[0;34m.\u001b[0m\u001b[0msize\u001b[0m \u001b[0;34m>\u001b[0m \u001b[0;36m0\u001b[0m\u001b[0;34m:\u001b[0m\u001b[0;34m\u001b[0m\u001b[0;34m\u001b[0m\u001b[0m\n",
      "\u001b[0;31mAttributeError\u001b[0m: 'bool' object has no attribute 'nonzero'"
     ]
    }
   ],
   "source": [
    "pi.run()"
   ]
  },
  {
   "cell_type": "code",
   "execution_count": 38,
   "id": "ff1c97a4",
   "metadata": {},
   "outputs": [],
   "source": [
    "vi = mdp.ValueIteration(P, R, 0.6, max_iter=100000)"
   ]
  },
  {
   "cell_type": "code",
   "execution_count": 39,
   "id": "1a345811",
   "metadata": {},
   "outputs": [],
   "source": [
    "vi.setVerbose()"
   ]
  },
  {
   "cell_type": "code",
   "execution_count": 40,
   "id": "5bcc1a0a",
   "metadata": {},
   "outputs": [
    {
     "name": "stdout",
     "output_type": "stream",
     "text": [
      " Iteration   Variation\n",
      "         1    0.333333\n",
      "         2    0.133333\n",
      "         3    0.040000\n",
      "         4    0.024000\n",
      "         5    0.012267\n",
      "         6    0.005973\n",
      "Iterating stopped, epsilon-optimal policy found.\n"
     ]
    },
    {
     "data": {
      "text/plain": [
       "[{'State': None,\n",
       "  'Action': None,\n",
       "  'Reward': 0.3333333333333333,\n",
       "  'Error': 0.3333333333333333,\n",
       "  'Time': 0.0006191730499267578,\n",
       "  'Max V': 0.3333333333333333,\n",
       "  'Mean V': 0.041666666666666664,\n",
       "  'Iteration': 1},\n",
       " {'State': None,\n",
       "  'Action': None,\n",
       "  'Reward': 0.39999999999999997,\n",
       "  'Error': 0.13333333333333333,\n",
       "  'Time': 0.0012133121490478516,\n",
       "  'Max V': 0.39999999999999997,\n",
       "  'Mean V': 0.06666666666666667,\n",
       "  'Iteration': 2},\n",
       " {'State': None,\n",
       "  'Action': None,\n",
       "  'Reward': 0.43999999999999995,\n",
       "  'Error': 0.03999999999999999,\n",
       "  'Time': 0.0014331340789794922,\n",
       "  'Max V': 0.43999999999999995,\n",
       "  'Mean V': 0.08333333333333331,\n",
       "  'Iteration': 3},\n",
       " {'State': None,\n",
       "  'Action': None,\n",
       "  'Reward': 0.45333333333333325,\n",
       "  'Error': 0.02400000000000002,\n",
       "  'Time': 0.001722097396850586,\n",
       "  'Max V': 0.45333333333333325,\n",
       "  'Mean V': 0.09416666666666665,\n",
       "  'Iteration': 4},\n",
       " {'State': None,\n",
       "  'Action': None,\n",
       "  'Reward': 0.4608,\n",
       "  'Error': 0.012266666666666662,\n",
       "  'Time': 0.0018582344055175781,\n",
       "  'Max V': 0.4608,\n",
       "  'Mean V': 0.10103333333333332,\n",
       "  'Iteration': 5},\n",
       " {'State': None,\n",
       "  'Action': None,\n",
       "  'Reward': 0.4637866666666666,\n",
       "  'Error': 0.0059733333333333305,\n",
       "  'Time': 0.002289295196533203,\n",
       "  'Max V': 0.4637866666666666,\n",
       "  'Mean V': 0.10522666666666664,\n",
       "  'Iteration': 6}]"
      ]
     },
     "execution_count": 40,
     "metadata": {},
     "output_type": "execute_result"
    }
   ],
   "source": [
    "vi.run()"
   ]
  },
  {
   "cell_type": "code",
   "execution_count": 41,
   "id": "a5685e3a",
   "metadata": {},
   "outputs": [
    {
     "data": {
      "text/plain": [
       "(1, 2, 2, 2, 1, 1, 1, 1, 1, 2, 1, 1, 1, 2, 2, 0)"
      ]
     },
     "execution_count": 41,
     "metadata": {},
     "output_type": "execute_result"
    }
   ],
   "source": [
    "vi.policy\n"
   ]
  },
  {
   "cell_type": "code",
   "execution_count": 42,
   "id": "99115495",
   "metadata": {},
   "outputs": [
    {
     "data": {
      "text/plain": [
       "array([[[0.66666667, 0.        , 0.        , ..., 0.        ,\n",
       "         0.        , 0.        ],\n",
       "        [0.33333333, 0.33333333, 0.        , ..., 0.        ,\n",
       "         0.        , 0.        ],\n",
       "        [0.        , 0.33333333, 0.33333333, ..., 0.        ,\n",
       "         0.        , 0.        ],\n",
       "        ...,\n",
       "        [0.        , 0.        , 0.        , ..., 0.33333333,\n",
       "         0.        , 0.        ],\n",
       "        [0.        , 0.        , 0.        , ..., 0.33333333,\n",
       "         0.33333333, 0.        ],\n",
       "        [0.        , 0.        , 0.        , ..., 0.        ,\n",
       "         0.        , 1.        ]],\n",
       "\n",
       "       [[0.33333333, 0.33333333, 0.        , ..., 0.        ,\n",
       "         0.        , 0.        ],\n",
       "        [0.33333333, 0.        , 0.33333333, ..., 0.        ,\n",
       "         0.        , 0.        ],\n",
       "        [0.        , 0.33333333, 0.        , ..., 0.        ,\n",
       "         0.        , 0.        ],\n",
       "        ...,\n",
       "        [0.        , 0.        , 0.        , ..., 0.33333333,\n",
       "         0.33333333, 0.        ],\n",
       "        [0.        , 0.        , 0.        , ..., 0.33333333,\n",
       "         0.33333333, 0.33333333],\n",
       "        [0.        , 0.        , 0.        , ..., 0.        ,\n",
       "         0.        , 1.        ]],\n",
       "\n",
       "       [[0.33333333, 0.33333333, 0.        , ..., 0.        ,\n",
       "         0.        , 0.        ],\n",
       "        [0.        , 0.33333333, 0.33333333, ..., 0.        ,\n",
       "         0.        , 0.        ],\n",
       "        [0.        , 0.        , 0.33333333, ..., 0.        ,\n",
       "         0.        , 0.        ],\n",
       "        ...,\n",
       "        [0.        , 0.        , 0.        , ..., 0.33333333,\n",
       "         0.33333333, 0.        ],\n",
       "        [0.        , 0.        , 0.        , ..., 0.        ,\n",
       "         0.33333333, 0.33333333],\n",
       "        [0.        , 0.        , 0.        , ..., 0.        ,\n",
       "         0.        , 1.        ]],\n",
       "\n",
       "       [[0.66666667, 0.33333333, 0.        , ..., 0.        ,\n",
       "         0.        , 0.        ],\n",
       "        [0.33333333, 0.33333333, 0.33333333, ..., 0.        ,\n",
       "         0.        , 0.        ],\n",
       "        [0.        , 0.33333333, 0.33333333, ..., 0.        ,\n",
       "         0.        , 0.        ],\n",
       "        ...,\n",
       "        [0.        , 0.        , 0.        , ..., 0.        ,\n",
       "         0.33333333, 0.        ],\n",
       "        [0.        , 0.        , 0.        , ..., 0.33333333,\n",
       "         0.        , 0.33333333],\n",
       "        [0.        , 0.        , 0.        , ..., 0.        ,\n",
       "         0.        , 1.        ]]])"
      ]
     },
     "execution_count": 42,
     "metadata": {},
     "output_type": "execute_result"
    }
   ],
   "source": [
    "P\n"
   ]
  },
  {
   "cell_type": "code",
   "execution_count": 43,
   "id": "e500d248",
   "metadata": {},
   "outputs": [
    {
     "data": {
      "text/plain": [
       "(1, 2, 2, 2, 1, 1, 1, 1, 1, 2, 1, 1, 1, 2, 2, 0)"
      ]
     },
     "execution_count": 43,
     "metadata": {},
     "output_type": "execute_result"
    }
   ],
   "source": [
    "vi.policy\n"
   ]
  },
  {
   "cell_type": "code",
   "execution_count": 44,
   "id": "efd65a0d",
   "metadata": {},
   "outputs": [],
   "source": [
    "# Prints out each step of a policy for OpenAI Gym Env\n",
    "def render_env_policy(env, policy, display=False):\n",
    "    t=0\n",
    "    total_reward = 0\n",
    "    observation = env.reset() # initial state\n",
    "    for action in policy:\n",
    "        t += 1\n",
    "        if display:\n",
    "            env.render()\n",
    "        print(t)\n",
    "        # action = env.action_space.sample()\n",
    "        observation, reward, done, info = env.step(action)\n",
    "        if done and reward == 0.0:\n",
    "            reward = -0.75\n",
    "        total_reward += reward\n",
    "        if done:\n",
    "            print(\"Episode finished after {} timesteps\".format(t+1))\n",
    "            break\n",
    "    env.render()\n",
    "    print('Total Reward: %f' %total_reward)\n",
    "    return total_reward"
   ]
  },
  {
   "cell_type": "code",
   "execution_count": 45,
   "id": "ea1d6099",
   "metadata": {},
   "outputs": [],
   "source": [
    "def transform_for_MDPToolbox(env):\n",
    "    nA, nS = env.nA, env.nS\n",
    "    P = np.zeros([nA, nS, nS])\n",
    "    R = np.zeros([nS, nA])\n",
    "    for s in range(nS):\n",
    "        for a in range(nA):\n",
    "            transitions = env.P[s][a]\n",
    "            for (p_trans, next_s, reward, done) in transitions:\n",
    "                P[a,s,next_s] += p_trans\n",
    "                if done and reward == 0.0:\n",
    "                    reward = -0.75\n",
    "                R[s,a] = reward\n",
    "            P[a,s,:] /= np.sum(P[a,s,:])\n",
    "    # pprint(P)\n",
    "    return P, R"
   ]
  },
  {
   "cell_type": "code",
   "execution_count": 46,
   "id": "b598c8fd",
   "metadata": {},
   "outputs": [],
   "source": [
    "\n",
    "def print_policy(policy):\n",
    "    for i, action in enumerate(policy):\n",
    "        if action == LEFT:\n",
    "            print(i, ' LEFT')\n",
    "        elif action == RIGHT: \n",
    "            print(i, ' RIGHT')\n",
    "        elif action == DOWN:\n",
    "            print(i, ' DOWN')\n",
    "        elif action == UP:\n",
    "            print(i, ' UP')"
   ]
  },
  {
   "cell_type": "code",
   "execution_count": 47,
   "id": "379c2d3f",
   "metadata": {},
   "outputs": [],
   "source": [
    "import gym"
   ]
  },
  {
   "cell_type": "code",
   "execution_count": 48,
   "id": "867c794d",
   "metadata": {},
   "outputs": [],
   "source": [
    "env = gym.make('FrozenLake-v1', is_slippery=True)"
   ]
  },
  {
   "cell_type": "code",
   "execution_count": 49,
   "id": "0560f0e3",
   "metadata": {},
   "outputs": [
    {
     "ename": "NameError",
     "evalue": "name 'np' is not defined",
     "output_type": "error",
     "traceback": [
      "\u001b[0;31m---------------------------------------------------------------------------\u001b[0m",
      "\u001b[0;31mNameError\u001b[0m                                 Traceback (most recent call last)",
      "\u001b[0;32m/var/folders/4p/41bttzcx5y163sbdhm1bfdl40000gn/T/ipykernel_22349/3288691135.py\u001b[0m in \u001b[0;36m<module>\u001b[0;34m\u001b[0m\n\u001b[0;32m----> 1\u001b[0;31m \u001b[0mP\u001b[0m\u001b[0;34m,\u001b[0m \u001b[0mR\u001b[0m \u001b[0;34m=\u001b[0m \u001b[0mtransform_for_MDPToolbox\u001b[0m\u001b[0;34m(\u001b[0m\u001b[0menv\u001b[0m\u001b[0;34m)\u001b[0m\u001b[0;34m\u001b[0m\u001b[0;34m\u001b[0m\u001b[0m\n\u001b[0m",
      "\u001b[0;32m/var/folders/4p/41bttzcx5y163sbdhm1bfdl40000gn/T/ipykernel_22349/1212455257.py\u001b[0m in \u001b[0;36mtransform_for_MDPToolbox\u001b[0;34m(env)\u001b[0m\n\u001b[1;32m      1\u001b[0m \u001b[0;32mdef\u001b[0m \u001b[0mtransform_for_MDPToolbox\u001b[0m\u001b[0;34m(\u001b[0m\u001b[0menv\u001b[0m\u001b[0;34m)\u001b[0m\u001b[0;34m:\u001b[0m\u001b[0;34m\u001b[0m\u001b[0;34m\u001b[0m\u001b[0m\n\u001b[1;32m      2\u001b[0m     \u001b[0mnA\u001b[0m\u001b[0;34m,\u001b[0m \u001b[0mnS\u001b[0m \u001b[0;34m=\u001b[0m \u001b[0menv\u001b[0m\u001b[0;34m.\u001b[0m\u001b[0mnA\u001b[0m\u001b[0;34m,\u001b[0m \u001b[0menv\u001b[0m\u001b[0;34m.\u001b[0m\u001b[0mnS\u001b[0m\u001b[0;34m\u001b[0m\u001b[0;34m\u001b[0m\u001b[0m\n\u001b[0;32m----> 3\u001b[0;31m     \u001b[0mP\u001b[0m \u001b[0;34m=\u001b[0m \u001b[0mnp\u001b[0m\u001b[0;34m.\u001b[0m\u001b[0mzeros\u001b[0m\u001b[0;34m(\u001b[0m\u001b[0;34m[\u001b[0m\u001b[0mnA\u001b[0m\u001b[0;34m,\u001b[0m \u001b[0mnS\u001b[0m\u001b[0;34m,\u001b[0m \u001b[0mnS\u001b[0m\u001b[0;34m]\u001b[0m\u001b[0;34m)\u001b[0m\u001b[0;34m\u001b[0m\u001b[0;34m\u001b[0m\u001b[0m\n\u001b[0m\u001b[1;32m      4\u001b[0m     \u001b[0mR\u001b[0m \u001b[0;34m=\u001b[0m \u001b[0mnp\u001b[0m\u001b[0;34m.\u001b[0m\u001b[0mzeros\u001b[0m\u001b[0;34m(\u001b[0m\u001b[0;34m[\u001b[0m\u001b[0mnS\u001b[0m\u001b[0;34m,\u001b[0m \u001b[0mnA\u001b[0m\u001b[0;34m]\u001b[0m\u001b[0;34m)\u001b[0m\u001b[0;34m\u001b[0m\u001b[0;34m\u001b[0m\u001b[0m\n\u001b[1;32m      5\u001b[0m     \u001b[0;32mfor\u001b[0m \u001b[0ms\u001b[0m \u001b[0;32min\u001b[0m \u001b[0mrange\u001b[0m\u001b[0;34m(\u001b[0m\u001b[0mnS\u001b[0m\u001b[0;34m)\u001b[0m\u001b[0;34m:\u001b[0m\u001b[0;34m\u001b[0m\u001b[0;34m\u001b[0m\u001b[0m\n",
      "\u001b[0;31mNameError\u001b[0m: name 'np' is not defined"
     ]
    }
   ],
   "source": [
    "P, R = transform_for_MDPToolbox(env)"
   ]
  },
  {
   "cell_type": "code",
   "execution_count": 50,
   "id": "d0158b71",
   "metadata": {},
   "outputs": [],
   "source": [
    "import numpy as np"
   ]
  },
  {
   "cell_type": "code",
   "execution_count": 51,
   "id": "e672ec7d",
   "metadata": {},
   "outputs": [],
   "source": [
    "P, R = transform_for_MDPToolbox(env)"
   ]
  },
  {
   "cell_type": "code",
   "execution_count": 52,
   "id": "02c4a6bc",
   "metadata": {},
   "outputs": [],
   "source": [
    "vi = mdp.ValueIteration(P, R, 0.6, epsilon=0.005, max_iter=10000)"
   ]
  },
  {
   "cell_type": "code",
   "execution_count": 53,
   "id": "2357f3bf",
   "metadata": {},
   "outputs": [],
   "source": [
    "vi.setVerbose()"
   ]
  },
  {
   "cell_type": "code",
   "execution_count": 54,
   "id": "86ec9846",
   "metadata": {},
   "outputs": [
    {
     "name": "stdout",
     "output_type": "stream",
     "text": [
      " Iteration   Variation\n",
      "         1    1.000000\n",
      "         2    0.450000\n",
      "         3    0.270000\n",
      "         4    0.162000\n",
      "         5    0.097200\n",
      "         6    0.058320\n",
      "         7    0.034992\n",
      "         8    0.020995\n",
      "         9    0.012597\n",
      "        10    0.007558\n",
      "        11    0.004535\n",
      "Iterating stopped, epsilon-optimal policy found.\n"
     ]
    },
    {
     "data": {
      "text/plain": [
       "[{'State': None,\n",
       "  'Action': None,\n",
       "  'Reward': 1.0,\n",
       "  'Error': 1.0,\n",
       "  'Time': 0.0003571510314941406,\n",
       "  'Max V': 1.0,\n",
       "  'Mean V': -0.171875,\n",
       "  'Iteration': 1},\n",
       " {'State': None,\n",
       "  'Action': None,\n",
       "  'Reward': 1.05,\n",
       "  'Error': 0.44999999999999996,\n",
       "  'Time': 0.0014309883117675781,\n",
       "  'Max V': 1.05,\n",
       "  'Mean V': -0.29375,\n",
       "  'Iteration': 2},\n",
       " {'State': None,\n",
       "  'Action': None,\n",
       "  'Reward': 1.01,\n",
       "  'Error': 0.27,\n",
       "  'Time': 0.0018579959869384766,\n",
       "  'Max V': 1.01,\n",
       "  'Mean V': -0.376875,\n",
       "  'Iteration': 3},\n",
       " {'State': None,\n",
       "  'Action': None,\n",
       "  'Reward': 0.958,\n",
       "  'Error': 0.16200000000000014,\n",
       "  'Time': 0.002286195755004883,\n",
       "  'Max V': 0.958,\n",
       "  'Mean V': -0.43200000000000005,\n",
       "  'Iteration': 4},\n",
       " {'State': None,\n",
       "  'Action': None,\n",
       "  'Reward': 0.9188,\n",
       "  'Error': 0.09719999999999995,\n",
       "  'Time': 0.0024750232696533203,\n",
       "  'Max V': 0.9188,\n",
       "  'Mean V': -0.46765,\n",
       "  'Iteration': 5},\n",
       " {'State': None,\n",
       "  'Action': None,\n",
       "  'Reward': 0.8904,\n",
       "  'Error': 0.05831999999999993,\n",
       "  'Time': 0.003063201904296875,\n",
       "  'Max V': 0.8904,\n",
       "  'Mean V': -0.49039,\n",
       "  'Iteration': 6},\n",
       " {'State': None,\n",
       "  'Action': None,\n",
       "  'Reward': 0.8715200000000001,\n",
       "  'Error': 0.03499199999999991,\n",
       "  'Time': 0.0034003257751464844,\n",
       "  'Max V': 0.8715200000000001,\n",
       "  'Mean V': -0.5047299999999999,\n",
       "  'Iteration': 7},\n",
       " {'State': None,\n",
       "  'Action': None,\n",
       "  'Reward': 0.8591264000000001,\n",
       "  'Error': 0.02099519999999999,\n",
       "  'Time': 0.003523111343383789,\n",
       "  'Max V': 0.8591264000000001,\n",
       "  'Mean V': -0.5137052,\n",
       "  'Iteration': 8},\n",
       " {'State': None,\n",
       "  'Action': None,\n",
       "  'Reward': 0.8512256,\n",
       "  'Error': 0.012597119999999906,\n",
       "  'Time': 0.003802061080932617,\n",
       "  'Max V': 0.8512256,\n",
       "  'Mean V': -0.51928804,\n",
       "  'Iteration': 9},\n",
       " {'State': None,\n",
       "  'Action': None,\n",
       "  'Reward': 0.8462305280000001,\n",
       "  'Error': 0.0075582720000000325,\n",
       "  'Time': 0.003957033157348633,\n",
       "  'Max V': 0.8462305280000001,\n",
       "  'Mean V': -0.522745416,\n",
       "  'Iteration': 10},\n",
       " {'State': None,\n",
       "  'Action': None,\n",
       "  'Reward': 0.8431127808000001,\n",
       "  'Error': 0.0045349632000000195,\n",
       "  'Time': 0.004127979278564453,\n",
       "  'Max V': 0.8431127808000001,\n",
       "  'Mean V': -0.524878848,\n",
       "  'Iteration': 11}]"
      ]
     },
     "execution_count": 54,
     "metadata": {},
     "output_type": "execute_result"
    }
   ],
   "source": [
    "vi.run()"
   ]
  },
  {
   "cell_type": "code",
   "execution_count": 55,
   "id": "2860b0c9",
   "metadata": {},
   "outputs": [
    {
     "ename": "NameError",
     "evalue": "name 'verbose' is not defined",
     "output_type": "error",
     "traceback": [
      "\u001b[0;31m---------------------------------------------------------------------------\u001b[0m",
      "\u001b[0;31mNameError\u001b[0m                                 Traceback (most recent call last)",
      "\u001b[0;32m/var/folders/4p/41bttzcx5y163sbdhm1bfdl40000gn/T/ipykernel_22349/1159876383.py\u001b[0m in \u001b[0;36m<module>\u001b[0;34m\u001b[0m\n\u001b[0;32m----> 1\u001b[0;31m \u001b[0mtotal_r_vi\u001b[0m \u001b[0;34m=\u001b[0m \u001b[0mrender_env_policy\u001b[0m\u001b[0;34m(\u001b[0m\u001b[0menv\u001b[0m\u001b[0;34m,\u001b[0m \u001b[0mpi\u001b[0m\u001b[0;34m.\u001b[0m\u001b[0mpolicy\u001b[0m\u001b[0;34m,\u001b[0m \u001b[0mdisplay\u001b[0m\u001b[0;34m=\u001b[0m\u001b[0mverbose\u001b[0m\u001b[0;34m)\u001b[0m\u001b[0;34m\u001b[0m\u001b[0;34m\u001b[0m\u001b[0m\n\u001b[0m",
      "\u001b[0;31mNameError\u001b[0m: name 'verbose' is not defined"
     ]
    }
   ],
   "source": [
    "total_r_vi = render_env_policy(env, pi.policy, display=verbose)"
   ]
  },
  {
   "cell_type": "code",
   "execution_count": 56,
   "id": "7377f4b9",
   "metadata": {},
   "outputs": [
    {
     "name": "stdout",
     "output_type": "stream",
     "text": [
      "\n",
      "\u001b[41mS\u001b[0mFFF\n",
      "FHFH\n",
      "FFFH\n",
      "HFFG\n",
      "1\n",
      "  (Down)\n",
      "SFFF\n",
      "\u001b[41mF\u001b[0mHFH\n",
      "FFFH\n",
      "HFFG\n",
      "2\n",
      "  (Right)\n",
      "\u001b[41mS\u001b[0mFFF\n",
      "FHFH\n",
      "FFFH\n",
      "HFFG\n",
      "3\n",
      "  (Right)\n",
      "S\u001b[41mF\u001b[0mFF\n",
      "FHFH\n",
      "FFFH\n",
      "HFFG\n",
      "4\n",
      "  (Right)\n",
      "S\u001b[41mF\u001b[0mFF\n",
      "FHFH\n",
      "FFFH\n",
      "HFFG\n",
      "5\n",
      "Episode finished after 6 timesteps\n",
      "  (Down)\n",
      "SFFF\n",
      "F\u001b[41mH\u001b[0mFH\n",
      "FFFH\n",
      "HFFG\n",
      "Total Reward: -0.750000\n"
     ]
    }
   ],
   "source": [
    "total_r_vi = render_env_policy(env, pi.policy, display=True)"
   ]
  },
  {
   "cell_type": "code",
   "execution_count": 57,
   "id": "73c5fe9f",
   "metadata": {},
   "outputs": [
    {
     "data": {
      "text/plain": [
       "(0, 3, 3, 3, 0, 0, 0, 0, 3, 1, 0, 0, 0, 2, 1, 0)"
      ]
     },
     "execution_count": 57,
     "metadata": {},
     "output_type": "execute_result"
    }
   ],
   "source": [
    "vi.policy"
   ]
  },
  {
   "cell_type": "code",
   "execution_count": 58,
   "id": "3ead00fe",
   "metadata": {},
   "outputs": [
    {
     "name": "stdout",
     "output_type": "stream",
     "text": [
      "\n",
      "\u001b[41mS\u001b[0mFFF\n",
      "FHFH\n",
      "FFFH\n",
      "HFFG\n",
      "1\n",
      "  (Left)\n",
      "SFFF\n",
      "\u001b[41mF\u001b[0mHFH\n",
      "FFFH\n",
      "HFFG\n",
      "2\n",
      "Episode finished after 3 timesteps\n",
      "  (Up)\n",
      "SFFF\n",
      "F\u001b[41mH\u001b[0mFH\n",
      "FFFH\n",
      "HFFG\n",
      "Total Reward: -0.750000\n"
     ]
    }
   ],
   "source": [
    "total_r_vi = render_env_policy(env, vi.policy, display=True)"
   ]
  },
  {
   "cell_type": "code",
   "execution_count": 59,
   "id": "3806900a",
   "metadata": {},
   "outputs": [
    {
     "name": "stdout",
     "output_type": "stream",
     "text": [
      "\n",
      "\u001b[41mS\u001b[0mFFF\n",
      "FHFH\n",
      "FFFH\n",
      "HFFG\n",
      "1\n",
      "  (Left)\n",
      "SFFF\n",
      "\u001b[41mF\u001b[0mHFH\n",
      "FFFH\n",
      "HFFG\n",
      "2\n",
      "  (Up)\n",
      "SFFF\n",
      "\u001b[41mF\u001b[0mHFH\n",
      "FFFH\n",
      "HFFG\n",
      "3\n",
      "Episode finished after 4 timesteps\n",
      "  (Up)\n",
      "SFFF\n",
      "F\u001b[41mH\u001b[0mFH\n",
      "FFFH\n",
      "HFFG\n",
      "Total Reward: -0.750000\n"
     ]
    }
   ],
   "source": [
    "total_r_vi = render_env_policy(env, vi.policy, display=True)"
   ]
  },
  {
   "cell_type": "code",
   "execution_count": 60,
   "id": "541cf47b",
   "metadata": {},
   "outputs": [
    {
     "name": "stdout",
     "output_type": "stream",
     "text": [
      "\n",
      "\u001b[41mS\u001b[0mFFF\n",
      "FHFH\n",
      "FFFH\n",
      "HFFG\n",
      "1\n",
      "  (Left)\n",
      "SFFF\n",
      "\u001b[41mF\u001b[0mHFH\n",
      "FFFH\n",
      "HFFG\n",
      "2\n",
      "Episode finished after 3 timesteps\n",
      "  (Up)\n",
      "SFFF\n",
      "F\u001b[41mH\u001b[0mFH\n",
      "FFFH\n",
      "HFFG\n",
      "Total Reward: -0.750000\n"
     ]
    }
   ],
   "source": [
    "total_r_vi = render_env_policy(env, vi.policy, display=True)"
   ]
  },
  {
   "cell_type": "code",
   "execution_count": 61,
   "id": "25743257",
   "metadata": {},
   "outputs": [],
   "source": [
    "P, R = transform_for_MDPToolbox(env)"
   ]
  },
  {
   "cell_type": "code",
   "execution_count": 62,
   "id": "85bd0ad6",
   "metadata": {},
   "outputs": [
    {
     "data": {
      "text/plain": [
       "array([[[0.66666667, 0.        , 0.        , ..., 0.        ,\n",
       "         0.        , 0.        ],\n",
       "        [0.33333333, 0.33333333, 0.        , ..., 0.        ,\n",
       "         0.        , 0.        ],\n",
       "        [0.        , 0.33333333, 0.33333333, ..., 0.        ,\n",
       "         0.        , 0.        ],\n",
       "        ...,\n",
       "        [0.        , 0.        , 0.        , ..., 0.33333333,\n",
       "         0.        , 0.        ],\n",
       "        [0.        , 0.        , 0.        , ..., 0.33333333,\n",
       "         0.33333333, 0.        ],\n",
       "        [0.        , 0.        , 0.        , ..., 0.        ,\n",
       "         0.        , 1.        ]],\n",
       "\n",
       "       [[0.33333333, 0.33333333, 0.        , ..., 0.        ,\n",
       "         0.        , 0.        ],\n",
       "        [0.33333333, 0.        , 0.33333333, ..., 0.        ,\n",
       "         0.        , 0.        ],\n",
       "        [0.        , 0.33333333, 0.        , ..., 0.        ,\n",
       "         0.        , 0.        ],\n",
       "        ...,\n",
       "        [0.        , 0.        , 0.        , ..., 0.33333333,\n",
       "         0.33333333, 0.        ],\n",
       "        [0.        , 0.        , 0.        , ..., 0.33333333,\n",
       "         0.33333333, 0.33333333],\n",
       "        [0.        , 0.        , 0.        , ..., 0.        ,\n",
       "         0.        , 1.        ]],\n",
       "\n",
       "       [[0.33333333, 0.33333333, 0.        , ..., 0.        ,\n",
       "         0.        , 0.        ],\n",
       "        [0.        , 0.33333333, 0.33333333, ..., 0.        ,\n",
       "         0.        , 0.        ],\n",
       "        [0.        , 0.        , 0.33333333, ..., 0.        ,\n",
       "         0.        , 0.        ],\n",
       "        ...,\n",
       "        [0.        , 0.        , 0.        , ..., 0.33333333,\n",
       "         0.33333333, 0.        ],\n",
       "        [0.        , 0.        , 0.        , ..., 0.        ,\n",
       "         0.33333333, 0.33333333],\n",
       "        [0.        , 0.        , 0.        , ..., 0.        ,\n",
       "         0.        , 1.        ]],\n",
       "\n",
       "       [[0.66666667, 0.33333333, 0.        , ..., 0.        ,\n",
       "         0.        , 0.        ],\n",
       "        [0.33333333, 0.33333333, 0.33333333, ..., 0.        ,\n",
       "         0.        , 0.        ],\n",
       "        [0.        , 0.33333333, 0.33333333, ..., 0.        ,\n",
       "         0.        , 0.        ],\n",
       "        ...,\n",
       "        [0.        , 0.        , 0.        , ..., 0.        ,\n",
       "         0.33333333, 0.        ],\n",
       "        [0.        , 0.        , 0.        , ..., 0.33333333,\n",
       "         0.        , 0.33333333],\n",
       "        [0.        , 0.        , 0.        , ..., 0.        ,\n",
       "         0.        , 1.        ]]])"
      ]
     },
     "execution_count": 62,
     "metadata": {},
     "output_type": "execute_result"
    }
   ],
   "source": [
    "P"
   ]
  },
  {
   "cell_type": "code",
   "execution_count": 63,
   "id": "ba509339",
   "metadata": {},
   "outputs": [],
   "source": [
    "    vi = mdp.ValueIteration(P, R, 0.6, epsilon=0.005, max_iter=10000)"
   ]
  },
  {
   "cell_type": "code",
   "execution_count": 64,
   "id": "1d168b6c",
   "metadata": {},
   "outputs": [
    {
     "data": {
      "text/plain": [
       "[{'State': None,\n",
       "  'Action': None,\n",
       "  'Reward': 1.0,\n",
       "  'Error': 1.0,\n",
       "  'Time': 0.00047898292541503906,\n",
       "  'Max V': 1.0,\n",
       "  'Mean V': -0.171875,\n",
       "  'Iteration': 1},\n",
       " {'State': None,\n",
       "  'Action': None,\n",
       "  'Reward': 1.05,\n",
       "  'Error': 0.44999999999999996,\n",
       "  'Time': 0.0006952285766601562,\n",
       "  'Max V': 1.05,\n",
       "  'Mean V': -0.29375,\n",
       "  'Iteration': 2},\n",
       " {'State': None,\n",
       "  'Action': None,\n",
       "  'Reward': 1.01,\n",
       "  'Error': 0.27,\n",
       "  'Time': 0.0009322166442871094,\n",
       "  'Max V': 1.01,\n",
       "  'Mean V': -0.376875,\n",
       "  'Iteration': 3},\n",
       " {'State': None,\n",
       "  'Action': None,\n",
       "  'Reward': 0.958,\n",
       "  'Error': 0.16200000000000014,\n",
       "  'Time': 0.0011801719665527344,\n",
       "  'Max V': 0.958,\n",
       "  'Mean V': -0.43200000000000005,\n",
       "  'Iteration': 4},\n",
       " {'State': None,\n",
       "  'Action': None,\n",
       "  'Reward': 0.9188,\n",
       "  'Error': 0.09719999999999995,\n",
       "  'Time': 0.001516103744506836,\n",
       "  'Max V': 0.9188,\n",
       "  'Mean V': -0.46765,\n",
       "  'Iteration': 5},\n",
       " {'State': None,\n",
       "  'Action': None,\n",
       "  'Reward': 0.8904,\n",
       "  'Error': 0.05831999999999993,\n",
       "  'Time': 0.0016090869903564453,\n",
       "  'Max V': 0.8904,\n",
       "  'Mean V': -0.49039,\n",
       "  'Iteration': 6},\n",
       " {'State': None,\n",
       "  'Action': None,\n",
       "  'Reward': 0.8715200000000001,\n",
       "  'Error': 0.03499199999999991,\n",
       "  'Time': 0.0016901493072509766,\n",
       "  'Max V': 0.8715200000000001,\n",
       "  'Mean V': -0.5047299999999999,\n",
       "  'Iteration': 7},\n",
       " {'State': None,\n",
       "  'Action': None,\n",
       "  'Reward': 0.8591264000000001,\n",
       "  'Error': 0.02099519999999999,\n",
       "  'Time': 0.0017671585083007812,\n",
       "  'Max V': 0.8591264000000001,\n",
       "  'Mean V': -0.5137052,\n",
       "  'Iteration': 8},\n",
       " {'State': None,\n",
       "  'Action': None,\n",
       "  'Reward': 0.8512256,\n",
       "  'Error': 0.012597119999999906,\n",
       "  'Time': 0.0018382072448730469,\n",
       "  'Max V': 0.8512256,\n",
       "  'Mean V': -0.51928804,\n",
       "  'Iteration': 9},\n",
       " {'State': None,\n",
       "  'Action': None,\n",
       "  'Reward': 0.8462305280000001,\n",
       "  'Error': 0.0075582720000000325,\n",
       "  'Time': 0.001980304718017578,\n",
       "  'Max V': 0.8462305280000001,\n",
       "  'Mean V': -0.522745416,\n",
       "  'Iteration': 10},\n",
       " {'State': None,\n",
       "  'Action': None,\n",
       "  'Reward': 0.8431127808000001,\n",
       "  'Error': 0.0045349632000000195,\n",
       "  'Time': 0.0022542476654052734,\n",
       "  'Max V': 0.8431127808000001,\n",
       "  'Mean V': -0.524878848,\n",
       "  'Iteration': 11}]"
      ]
     },
     "execution_count": 64,
     "metadata": {},
     "output_type": "execute_result"
    }
   ],
   "source": [
    "vi.run()"
   ]
  },
  {
   "cell_type": "code",
   "execution_count": 65,
   "id": "6cf6e459",
   "metadata": {},
   "outputs": [
    {
     "data": {
      "text/plain": [
       "(0, 3, 3, 3, 0, 0, 0, 0, 3, 1, 0, 0, 0, 2, 1, 0)"
      ]
     },
     "execution_count": 65,
     "metadata": {},
     "output_type": "execute_result"
    }
   ],
   "source": [
    "vi.policy"
   ]
  },
  {
   "cell_type": "code",
   "execution_count": 66,
   "id": "306ea070",
   "metadata": {},
   "outputs": [
    {
     "ename": "NameError",
     "evalue": "name 'verbose' is not defined",
     "output_type": "error",
     "traceback": [
      "\u001b[0;31m---------------------------------------------------------------------------\u001b[0m",
      "\u001b[0;31mNameError\u001b[0m                                 Traceback (most recent call last)",
      "\u001b[0;32m/var/folders/4p/41bttzcx5y163sbdhm1bfdl40000gn/T/ipykernel_22349/3617510467.py\u001b[0m in \u001b[0;36m<module>\u001b[0;34m\u001b[0m\n\u001b[0;32m----> 1\u001b[0;31m \u001b[0mtotal_r_vi\u001b[0m \u001b[0;34m=\u001b[0m \u001b[0mrender_env_policy\u001b[0m\u001b[0;34m(\u001b[0m\u001b[0menv\u001b[0m\u001b[0;34m,\u001b[0m \u001b[0mpi\u001b[0m\u001b[0;34m.\u001b[0m\u001b[0mpolicy\u001b[0m\u001b[0;34m,\u001b[0m \u001b[0mdisplay\u001b[0m\u001b[0;34m=\u001b[0m\u001b[0mverbose\u001b[0m\u001b[0;34m)\u001b[0m\u001b[0;34m\u001b[0m\u001b[0;34m\u001b[0m\u001b[0m\n\u001b[0m",
      "\u001b[0;31mNameError\u001b[0m: name 'verbose' is not defined"
     ]
    }
   ],
   "source": [
    "    total_r_vi = render_env_policy(env, pi.policy, display=verbose)"
   ]
  },
  {
   "cell_type": "code",
   "execution_count": 67,
   "id": "ae6eefb4",
   "metadata": {},
   "outputs": [
    {
     "name": "stdout",
     "output_type": "stream",
     "text": [
      "\n",
      "\u001b[41mS\u001b[0mFFF\n",
      "FHFH\n",
      "FFFH\n",
      "HFFG\n",
      "1\n",
      "  (Down)\n",
      "\u001b[41mS\u001b[0mFFF\n",
      "FHFH\n",
      "FFFH\n",
      "HFFG\n",
      "2\n",
      "  (Right)\n",
      "\u001b[41mS\u001b[0mFFF\n",
      "FHFH\n",
      "FFFH\n",
      "HFFG\n",
      "3\n",
      "  (Right)\n",
      "S\u001b[41mF\u001b[0mFF\n",
      "FHFH\n",
      "FFFH\n",
      "HFFG\n",
      "4\n",
      "  (Right)\n",
      "S\u001b[41mF\u001b[0mFF\n",
      "FHFH\n",
      "FFFH\n",
      "HFFG\n",
      "5\n",
      "Episode finished after 6 timesteps\n",
      "  (Down)\n",
      "SFFF\n",
      "F\u001b[41mH\u001b[0mFH\n",
      "FFFH\n",
      "HFFG\n",
      "Total Reward: -0.750000\n"
     ]
    }
   ],
   "source": [
    "    total_r_vi = render_env_policy(env, pi.policy, display=True)"
   ]
  },
  {
   "cell_type": "code",
   "execution_count": 68,
   "id": "c39693e5",
   "metadata": {},
   "outputs": [
    {
     "ename": "NameError",
     "evalue": "name 'verbose' is not defined",
     "output_type": "error",
     "traceback": [
      "\u001b[0;31m---------------------------------------------------------------------------\u001b[0m",
      "\u001b[0;31mNameError\u001b[0m                                 Traceback (most recent call last)",
      "\u001b[0;32m/var/folders/4p/41bttzcx5y163sbdhm1bfdl40000gn/T/ipykernel_22349/3617510467.py\u001b[0m in \u001b[0;36m<module>\u001b[0;34m\u001b[0m\n\u001b[0;32m----> 1\u001b[0;31m \u001b[0mtotal_r_vi\u001b[0m \u001b[0;34m=\u001b[0m \u001b[0mrender_env_policy\u001b[0m\u001b[0;34m(\u001b[0m\u001b[0menv\u001b[0m\u001b[0;34m,\u001b[0m \u001b[0mpi\u001b[0m\u001b[0;34m.\u001b[0m\u001b[0mpolicy\u001b[0m\u001b[0;34m,\u001b[0m \u001b[0mdisplay\u001b[0m\u001b[0;34m=\u001b[0m\u001b[0mverbose\u001b[0m\u001b[0;34m)\u001b[0m\u001b[0;34m\u001b[0m\u001b[0;34m\u001b[0m\u001b[0m\n\u001b[0m",
      "\u001b[0;31mNameError\u001b[0m: name 'verbose' is not defined"
     ]
    }
   ],
   "source": [
    "    total_r_vi = render_env_policy(env, pi.policy, display=verbose)"
   ]
  },
  {
   "cell_type": "code",
   "execution_count": 69,
   "id": "fc661737",
   "metadata": {},
   "outputs": [
    {
     "data": {
      "text/plain": [
       "(0, 3, 3, 3, 0, 0, 0, 0, 3, 1, 0, 0, 0, 2, 1, 0)"
      ]
     },
     "execution_count": 69,
     "metadata": {},
     "output_type": "execute_result"
    }
   ],
   "source": [
    "vi.policy"
   ]
  },
  {
   "cell_type": "code",
   "execution_count": 70,
   "id": "180ef070",
   "metadata": {},
   "outputs": [
    {
     "data": {
      "text/plain": [
       "-0.75"
      ]
     },
     "execution_count": 70,
     "metadata": {},
     "output_type": "execute_result"
    }
   ],
   "source": [
    "total_r_vi"
   ]
  },
  {
   "cell_type": "code",
   "execution_count": 71,
   "id": "0f077456",
   "metadata": {},
   "outputs": [
    {
     "data": {
      "text/plain": [
       "(0, 3, 3, 3, 0, 0, 0, 0, 3, 1, 0, 0, 0, 2, 1, 0)"
      ]
     },
     "execution_count": 71,
     "metadata": {},
     "output_type": "execute_result"
    }
   ],
   "source": [
    "vi.policy"
   ]
  },
  {
   "cell_type": "code",
   "execution_count": 72,
   "id": "a2953005",
   "metadata": {},
   "outputs": [
    {
     "ename": "NameError",
     "evalue": "name 'verbose' is not defined",
     "output_type": "error",
     "traceback": [
      "\u001b[0;31m---------------------------------------------------------------------------\u001b[0m",
      "\u001b[0;31mNameError\u001b[0m                                 Traceback (most recent call last)",
      "\u001b[0;32m/var/folders/4p/41bttzcx5y163sbdhm1bfdl40000gn/T/ipykernel_22349/329470588.py\u001b[0m in \u001b[0;36m<module>\u001b[0;34m\u001b[0m\n\u001b[0;32m----> 1\u001b[0;31m \u001b[0mtotal_r_vi\u001b[0m \u001b[0;34m=\u001b[0m \u001b[0mrender_env_policy\u001b[0m\u001b[0;34m(\u001b[0m\u001b[0menv\u001b[0m\u001b[0;34m,\u001b[0m \u001b[0mvi\u001b[0m\u001b[0;34m.\u001b[0m\u001b[0mpolicy\u001b[0m\u001b[0;34m,\u001b[0m \u001b[0mdisplay\u001b[0m\u001b[0;34m=\u001b[0m\u001b[0mverbose\u001b[0m\u001b[0;34m)\u001b[0m\u001b[0;34m\u001b[0m\u001b[0;34m\u001b[0m\u001b[0m\n\u001b[0m",
      "\u001b[0;31mNameError\u001b[0m: name 'verbose' is not defined"
     ]
    }
   ],
   "source": [
    "    total_r_vi = render_env_policy(env, vi.policy, display=verbose)"
   ]
  },
  {
   "cell_type": "code",
   "execution_count": 73,
   "id": "556827db",
   "metadata": {},
   "outputs": [
    {
     "name": "stdout",
     "output_type": "stream",
     "text": [
      "\n",
      "\u001b[41mS\u001b[0mFFF\n",
      "FHFH\n",
      "FFFH\n",
      "HFFG\n",
      "1\n",
      "  (Left)\n",
      "\u001b[41mS\u001b[0mFFF\n",
      "FHFH\n",
      "FFFH\n",
      "HFFG\n",
      "2\n",
      "  (Up)\n",
      "\u001b[41mS\u001b[0mFFF\n",
      "FHFH\n",
      "FFFH\n",
      "HFFG\n",
      "3\n",
      "  (Up)\n",
      "\u001b[41mS\u001b[0mFFF\n",
      "FHFH\n",
      "FFFH\n",
      "HFFG\n",
      "4\n",
      "  (Up)\n",
      "\u001b[41mS\u001b[0mFFF\n",
      "FHFH\n",
      "FFFH\n",
      "HFFG\n",
      "5\n",
      "  (Left)\n",
      "\u001b[41mS\u001b[0mFFF\n",
      "FHFH\n",
      "FFFH\n",
      "HFFG\n",
      "6\n",
      "  (Left)\n",
      "SFFF\n",
      "\u001b[41mF\u001b[0mHFH\n",
      "FFFH\n",
      "HFFG\n",
      "7\n",
      "  (Left)\n",
      "SFFF\n",
      "FHFH\n",
      "\u001b[41mF\u001b[0mFFH\n",
      "HFFG\n",
      "8\n",
      "  (Left)\n",
      "SFFF\n",
      "\u001b[41mF\u001b[0mHFH\n",
      "FFFH\n",
      "HFFG\n",
      "9\n",
      "Episode finished after 10 timesteps\n",
      "  (Up)\n",
      "SFFF\n",
      "F\u001b[41mH\u001b[0mFH\n",
      "FFFH\n",
      "HFFG\n",
      "Total Reward: -0.750000\n"
     ]
    }
   ],
   "source": [
    "    total_r_vi = render_env_policy(env, vi.policy, display=True)"
   ]
  },
  {
   "cell_type": "code",
   "execution_count": 74,
   "id": "eeb23c24",
   "metadata": {},
   "outputs": [
    {
     "ename": "NameError",
     "evalue": "name 'verbose' is not defined",
     "output_type": "error",
     "traceback": [
      "\u001b[0;31m---------------------------------------------------------------------------\u001b[0m",
      "\u001b[0;31mNameError\u001b[0m                                 Traceback (most recent call last)",
      "\u001b[0;32m/var/folders/4p/41bttzcx5y163sbdhm1bfdl40000gn/T/ipykernel_22349/1483362847.py\u001b[0m in \u001b[0;36m<module>\u001b[0;34m\u001b[0m\n\u001b[0;32m----> 1\u001b[0;31m \u001b[0mtotal_r_vi\u001b[0m \u001b[0;34m=\u001b[0m \u001b[0mrender_env_policy\u001b[0m\u001b[0;34m(\u001b[0m\u001b[0menv\u001b[0m\u001b[0;34m,\u001b[0m \u001b[0mvi\u001b[0m\u001b[0;34m.\u001b[0m\u001b[0mpolicy\u001b[0m\u001b[0;34m,\u001b[0m \u001b[0mdisplay\u001b[0m\u001b[0;34m=\u001b[0m\u001b[0mverbose\u001b[0m\u001b[0;34m)\u001b[0m\u001b[0;34m\u001b[0m\u001b[0;34m\u001b[0m\u001b[0m\n\u001b[0m\u001b[1;32m      2\u001b[0m \u001b[0;34m\u001b[0m\u001b[0m\n",
      "\u001b[0;31mNameError\u001b[0m: name 'verbose' is not defined"
     ]
    }
   ],
   "source": [
    "    total_r_vi = render_env_policy(env, vi.policy, display=verbose)\n",
    "    "
   ]
  },
  {
   "cell_type": "code",
   "execution_count": 75,
   "id": "0dbb0a4c",
   "metadata": {},
   "outputs": [
    {
     "ename": "AttributeError",
     "evalue": "'tuple' object has no attribute 'copy'",
     "output_type": "error",
     "traceback": [
      "\u001b[0;31m---------------------------------------------------------------------------\u001b[0m",
      "\u001b[0;31mAttributeError\u001b[0m                            Traceback (most recent call last)",
      "\u001b[0;32m/var/folders/4p/41bttzcx5y163sbdhm1bfdl40000gn/T/ipykernel_22349/2491318609.py\u001b[0m in \u001b[0;36m<module>\u001b[0;34m\u001b[0m\n\u001b[0;32m----> 1\u001b[0;31m \u001b[0mvi\u001b[0m\u001b[0;34m.\u001b[0m\u001b[0mrun\u001b[0m\u001b[0;34m(\u001b[0m\u001b[0;34m)\u001b[0m\u001b[0;34m\u001b[0m\u001b[0;34m\u001b[0m\u001b[0m\n\u001b[0m",
      "\u001b[0;32m/opt/miniconda3/envs/cs7641/lib/python3.9/site-packages/hiive/mdptoolbox/mdp.py\u001b[0m in \u001b[0;36mrun\u001b[0;34m(self)\u001b[0m\n\u001b[1;32m   1586\u001b[0m             \u001b[0mtake_run_stat\u001b[0m \u001b[0;34m=\u001b[0m \u001b[0mself\u001b[0m\u001b[0;34m.\u001b[0m\u001b[0miter\u001b[0m \u001b[0;34m%\u001b[0m \u001b[0mself\u001b[0m\u001b[0;34m.\u001b[0m\u001b[0mrun_stat_frequency\u001b[0m \u001b[0;34m==\u001b[0m \u001b[0;36m0\u001b[0m \u001b[0;32mor\u001b[0m \u001b[0mself\u001b[0m\u001b[0;34m.\u001b[0m\u001b[0miter\u001b[0m \u001b[0;34m==\u001b[0m \u001b[0mself\u001b[0m\u001b[0;34m.\u001b[0m\u001b[0mmax_iter\u001b[0m\u001b[0;34m\u001b[0m\u001b[0;34m\u001b[0m\u001b[0m\n\u001b[1;32m   1587\u001b[0m \u001b[0;34m\u001b[0m\u001b[0m\n\u001b[0;32m-> 1588\u001b[0;31m             \u001b[0mVprev\u001b[0m \u001b[0;34m=\u001b[0m \u001b[0mself\u001b[0m\u001b[0;34m.\u001b[0m\u001b[0mV\u001b[0m\u001b[0;34m.\u001b[0m\u001b[0mcopy\u001b[0m\u001b[0;34m(\u001b[0m\u001b[0;34m)\u001b[0m\u001b[0;34m\u001b[0m\u001b[0;34m\u001b[0m\u001b[0m\n\u001b[0m\u001b[1;32m   1589\u001b[0m \u001b[0;34m\u001b[0m\u001b[0m\n\u001b[1;32m   1590\u001b[0m             \u001b[0;31m# Bellman Operator: compute policy and value functions\u001b[0m\u001b[0;34m\u001b[0m\u001b[0;34m\u001b[0m\u001b[0m\n",
      "\u001b[0;31mAttributeError\u001b[0m: 'tuple' object has no attribute 'copy'"
     ]
    }
   ],
   "source": [
    "vi.run()"
   ]
  },
  {
   "cell_type": "code",
   "execution_count": 76,
   "id": "8aba8eaa",
   "metadata": {},
   "outputs": [
    {
     "data": {
      "text/plain": [
       "P: \n",
       "array([[0.66666667, 0.        , 0.        , 0.        , 0.33333333,\n",
       "        0.        , 0.        , 0.        , 0.        , 0.        ,\n",
       "        0.        , 0.        , 0.        , 0.        , 0.        ,\n",
       "        0.        ],\n",
       "       [0.33333333, 0.33333333, 0.        , 0.        , 0.        ,\n",
       "        0.33333333, 0.        , 0.        , 0.        , 0.        ,\n",
       "        0.        , 0.        , 0.        , 0.        , 0.        ,\n",
       "        0.        ],\n",
       "       [0.        , 0.33333333, 0.33333333, 0.        , 0.        ,\n",
       "        0.        , 0.33333333, 0.        , 0.        , 0.        ,\n",
       "        0.        , 0.        , 0.        , 0.        , 0.        ,\n",
       "        0.        ],\n",
       "       [0.        , 0.        , 0.33333333, 0.33333333, 0.        ,\n",
       "        0.        , 0.        , 0.33333333, 0.        , 0.        ,\n",
       "        0.        , 0.        , 0.        , 0.        , 0.        ,\n",
       "        0.        ],\n",
       "       [0.33333333, 0.        , 0.        , 0.        , 0.33333333,\n",
       "        0.        , 0.        , 0.        , 0.33333333, 0.        ,\n",
       "        0.        , 0.        , 0.        , 0.        , 0.        ,\n",
       "        0.        ],\n",
       "       [0.        , 0.        , 0.        , 0.        , 0.        ,\n",
       "        1.        , 0.        , 0.        , 0.        , 0.        ,\n",
       "        0.        , 0.        , 0.        , 0.        , 0.        ,\n",
       "        0.        ],\n",
       "       [0.        , 0.        , 0.33333333, 0.        , 0.        ,\n",
       "        0.33333333, 0.        , 0.        , 0.        , 0.        ,\n",
       "        0.33333333, 0.        , 0.        , 0.        , 0.        ,\n",
       "        0.        ],\n",
       "       [0.        , 0.        , 0.        , 0.        , 0.        ,\n",
       "        0.        , 0.        , 1.        , 0.        , 0.        ,\n",
       "        0.        , 0.        , 0.        , 0.        , 0.        ,\n",
       "        0.        ],\n",
       "       [0.        , 0.        , 0.        , 0.        , 0.33333333,\n",
       "        0.        , 0.        , 0.        , 0.33333333, 0.        ,\n",
       "        0.        , 0.        , 0.33333333, 0.        , 0.        ,\n",
       "        0.        ],\n",
       "       [0.        , 0.        , 0.        , 0.        , 0.        ,\n",
       "        0.33333333, 0.        , 0.        , 0.33333333, 0.        ,\n",
       "        0.        , 0.        , 0.        , 0.33333333, 0.        ,\n",
       "        0.        ],\n",
       "       [0.        , 0.        , 0.        , 0.        , 0.        ,\n",
       "        0.        , 0.33333333, 0.        , 0.        , 0.33333333,\n",
       "        0.        , 0.        , 0.        , 0.        , 0.33333333,\n",
       "        0.        ],\n",
       "       [0.        , 0.        , 0.        , 0.        , 0.        ,\n",
       "        0.        , 0.        , 0.        , 0.        , 0.        ,\n",
       "        0.        , 1.        , 0.        , 0.        , 0.        ,\n",
       "        0.        ],\n",
       "       [0.        , 0.        , 0.        , 0.        , 0.        ,\n",
       "        0.        , 0.        , 0.        , 0.        , 0.        ,\n",
       "        0.        , 0.        , 1.        , 0.        , 0.        ,\n",
       "        0.        ],\n",
       "       [0.        , 0.        , 0.        , 0.        , 0.        ,\n",
       "        0.        , 0.        , 0.        , 0.        , 0.33333333,\n",
       "        0.        , 0.        , 0.33333333, 0.33333333, 0.        ,\n",
       "        0.        ],\n",
       "       [0.        , 0.        , 0.        , 0.        , 0.        ,\n",
       "        0.        , 0.        , 0.        , 0.        , 0.        ,\n",
       "        0.33333333, 0.        , 0.        , 0.33333333, 0.33333333,\n",
       "        0.        ],\n",
       "       [0.        , 0.        , 0.        , 0.        , 0.        ,\n",
       "        0.        , 0.        , 0.        , 0.        , 0.        ,\n",
       "        0.        , 0.        , 0.        , 0.        , 0.        ,\n",
       "        1.        ]])\n",
       "array([[0.33333333, 0.33333333, 0.        , 0.        , 0.33333333,\n",
       "        0.        , 0.        , 0.        , 0.        , 0.        ,\n",
       "        0.        , 0.        , 0.        , 0.        , 0.        ,\n",
       "        0.        ],\n",
       "       [0.33333333, 0.        , 0.33333333, 0.        , 0.        ,\n",
       "        0.33333333, 0.        , 0.        , 0.        , 0.        ,\n",
       "        0.        , 0.        , 0.        , 0.        , 0.        ,\n",
       "        0.        ],\n",
       "       [0.        , 0.33333333, 0.        , 0.33333333, 0.        ,\n",
       "        0.        , 0.33333333, 0.        , 0.        , 0.        ,\n",
       "        0.        , 0.        , 0.        , 0.        , 0.        ,\n",
       "        0.        ],\n",
       "       [0.        , 0.        , 0.33333333, 0.33333333, 0.        ,\n",
       "        0.        , 0.        , 0.33333333, 0.        , 0.        ,\n",
       "        0.        , 0.        , 0.        , 0.        , 0.        ,\n",
       "        0.        ],\n",
       "       [0.        , 0.        , 0.        , 0.        , 0.33333333,\n",
       "        0.33333333, 0.        , 0.        , 0.33333333, 0.        ,\n",
       "        0.        , 0.        , 0.        , 0.        , 0.        ,\n",
       "        0.        ],\n",
       "       [0.        , 0.        , 0.        , 0.        , 0.        ,\n",
       "        1.        , 0.        , 0.        , 0.        , 0.        ,\n",
       "        0.        , 0.        , 0.        , 0.        , 0.        ,\n",
       "        0.        ],\n",
       "       [0.        , 0.        , 0.        , 0.        , 0.        ,\n",
       "        0.33333333, 0.        , 0.33333333, 0.        , 0.        ,\n",
       "        0.33333333, 0.        , 0.        , 0.        , 0.        ,\n",
       "        0.        ],\n",
       "       [0.        , 0.        , 0.        , 0.        , 0.        ,\n",
       "        0.        , 0.        , 1.        , 0.        , 0.        ,\n",
       "        0.        , 0.        , 0.        , 0.        , 0.        ,\n",
       "        0.        ],\n",
       "       [0.        , 0.        , 0.        , 0.        , 0.        ,\n",
       "        0.        , 0.        , 0.        , 0.33333333, 0.33333333,\n",
       "        0.        , 0.        , 0.33333333, 0.        , 0.        ,\n",
       "        0.        ],\n",
       "       [0.        , 0.        , 0.        , 0.        , 0.        ,\n",
       "        0.        , 0.        , 0.        , 0.33333333, 0.        ,\n",
       "        0.33333333, 0.        , 0.        , 0.33333333, 0.        ,\n",
       "        0.        ],\n",
       "       [0.        , 0.        , 0.        , 0.        , 0.        ,\n",
       "        0.        , 0.        , 0.        , 0.        , 0.33333333,\n",
       "        0.        , 0.33333333, 0.        , 0.        , 0.33333333,\n",
       "        0.        ],\n",
       "       [0.        , 0.        , 0.        , 0.        , 0.        ,\n",
       "        0.        , 0.        , 0.        , 0.        , 0.        ,\n",
       "        0.        , 1.        , 0.        , 0.        , 0.        ,\n",
       "        0.        ],\n",
       "       [0.        , 0.        , 0.        , 0.        , 0.        ,\n",
       "        0.        , 0.        , 0.        , 0.        , 0.        ,\n",
       "        0.        , 0.        , 1.        , 0.        , 0.        ,\n",
       "        0.        ],\n",
       "       [0.        , 0.        , 0.        , 0.        , 0.        ,\n",
       "        0.        , 0.        , 0.        , 0.        , 0.        ,\n",
       "        0.        , 0.        , 0.33333333, 0.33333333, 0.33333333,\n",
       "        0.        ],\n",
       "       [0.        , 0.        , 0.        , 0.        , 0.        ,\n",
       "        0.        , 0.        , 0.        , 0.        , 0.        ,\n",
       "        0.        , 0.        , 0.        , 0.33333333, 0.33333333,\n",
       "        0.33333333],\n",
       "       [0.        , 0.        , 0.        , 0.        , 0.        ,\n",
       "        0.        , 0.        , 0.        , 0.        , 0.        ,\n",
       "        0.        , 0.        , 0.        , 0.        , 0.        ,\n",
       "        1.        ]])\n",
       "array([[0.33333333, 0.33333333, 0.        , 0.        , 0.33333333,\n",
       "        0.        , 0.        , 0.        , 0.        , 0.        ,\n",
       "        0.        , 0.        , 0.        , 0.        , 0.        ,\n",
       "        0.        ],\n",
       "       [0.        , 0.33333333, 0.33333333, 0.        , 0.        ,\n",
       "        0.33333333, 0.        , 0.        , 0.        , 0.        ,\n",
       "        0.        , 0.        , 0.        , 0.        , 0.        ,\n",
       "        0.        ],\n",
       "       [0.        , 0.        , 0.33333333, 0.33333333, 0.        ,\n",
       "        0.        , 0.33333333, 0.        , 0.        , 0.        ,\n",
       "        0.        , 0.        , 0.        , 0.        , 0.        ,\n",
       "        0.        ],\n",
       "       [0.        , 0.        , 0.        , 0.66666667, 0.        ,\n",
       "        0.        , 0.        , 0.33333333, 0.        , 0.        ,\n",
       "        0.        , 0.        , 0.        , 0.        , 0.        ,\n",
       "        0.        ],\n",
       "       [0.33333333, 0.        , 0.        , 0.        , 0.        ,\n",
       "        0.33333333, 0.        , 0.        , 0.33333333, 0.        ,\n",
       "        0.        , 0.        , 0.        , 0.        , 0.        ,\n",
       "        0.        ],\n",
       "       [0.        , 0.        , 0.        , 0.        , 0.        ,\n",
       "        1.        , 0.        , 0.        , 0.        , 0.        ,\n",
       "        0.        , 0.        , 0.        , 0.        , 0.        ,\n",
       "        0.        ],\n",
       "       [0.        , 0.        , 0.33333333, 0.        , 0.        ,\n",
       "        0.        , 0.        , 0.33333333, 0.        , 0.        ,\n",
       "        0.33333333, 0.        , 0.        , 0.        , 0.        ,\n",
       "        0.        ],\n",
       "       [0.        , 0.        , 0.        , 0.        , 0.        ,\n",
       "        0.        , 0.        , 1.        , 0.        , 0.        ,\n",
       "        0.        , 0.        , 0.        , 0.        , 0.        ,\n",
       "        0.        ],\n",
       "       [0.        , 0.        , 0.        , 0.        , 0.33333333,\n",
       "        0.        , 0.        , 0.        , 0.        , 0.33333333,\n",
       "        0.        , 0.        , 0.33333333, 0.        , 0.        ,\n",
       "        0.        ],\n",
       "       [0.        , 0.        , 0.        , 0.        , 0.        ,\n",
       "        0.33333333, 0.        , 0.        , 0.        , 0.        ,\n",
       "        0.33333333, 0.        , 0.        , 0.33333333, 0.        ,\n",
       "        0.        ],\n",
       "       [0.        , 0.        , 0.        , 0.        , 0.        ,\n",
       "        0.        , 0.33333333, 0.        , 0.        , 0.        ,\n",
       "        0.        , 0.33333333, 0.        , 0.        , 0.33333333,\n",
       "        0.        ],\n",
       "       [0.        , 0.        , 0.        , 0.        , 0.        ,\n",
       "        0.        , 0.        , 0.        , 0.        , 0.        ,\n",
       "        0.        , 1.        , 0.        , 0.        , 0.        ,\n",
       "        0.        ],\n",
       "       [0.        , 0.        , 0.        , 0.        , 0.        ,\n",
       "        0.        , 0.        , 0.        , 0.        , 0.        ,\n",
       "        0.        , 0.        , 1.        , 0.        , 0.        ,\n",
       "        0.        ],\n",
       "       [0.        , 0.        , 0.        , 0.        , 0.        ,\n",
       "        0.        , 0.        , 0.        , 0.        , 0.33333333,\n",
       "        0.        , 0.        , 0.        , 0.33333333, 0.33333333,\n",
       "        0.        ],\n",
       "       [0.        , 0.        , 0.        , 0.        , 0.        ,\n",
       "        0.        , 0.        , 0.        , 0.        , 0.        ,\n",
       "        0.33333333, 0.        , 0.        , 0.        , 0.33333333,\n",
       "        0.33333333],\n",
       "       [0.        , 0.        , 0.        , 0.        , 0.        ,\n",
       "        0.        , 0.        , 0.        , 0.        , 0.        ,\n",
       "        0.        , 0.        , 0.        , 0.        , 0.        ,\n",
       "        1.        ]])\n",
       "array([[0.66666667, 0.33333333, 0.        , 0.        , 0.        ,\n",
       "        0.        , 0.        , 0.        , 0.        , 0.        ,\n",
       "        0.        , 0.        , 0.        , 0.        , 0.        ,\n",
       "        0.        ],\n",
       "       [0.33333333, 0.33333333, 0.33333333, 0.        , 0.        ,\n",
       "        0.        , 0.        , 0.        , 0.        , 0.        ,\n",
       "        0.        , 0.        , 0.        , 0.        , 0.        ,\n",
       "        0.        ],\n",
       "       [0.        , 0.33333333, 0.33333333, 0.33333333, 0.        ,\n",
       "        0.        , 0.        , 0.        , 0.        , 0.        ,\n",
       "        0.        , 0.        , 0.        , 0.        , 0.        ,\n",
       "        0.        ],\n",
       "       [0.        , 0.        , 0.33333333, 0.66666667, 0.        ,\n",
       "        0.        , 0.        , 0.        , 0.        , 0.        ,\n",
       "        0.        , 0.        , 0.        , 0.        , 0.        ,\n",
       "        0.        ],\n",
       "       [0.33333333, 0.        , 0.        , 0.        , 0.33333333,\n",
       "        0.33333333, 0.        , 0.        , 0.        , 0.        ,\n",
       "        0.        , 0.        , 0.        , 0.        , 0.        ,\n",
       "        0.        ],\n",
       "       [0.        , 0.        , 0.        , 0.        , 0.        ,\n",
       "        1.        , 0.        , 0.        , 0.        , 0.        ,\n",
       "        0.        , 0.        , 0.        , 0.        , 0.        ,\n",
       "        0.        ],\n",
       "       [0.        , 0.        , 0.33333333, 0.        , 0.        ,\n",
       "        0.33333333, 0.        , 0.33333333, 0.        , 0.        ,\n",
       "        0.        , 0.        , 0.        , 0.        , 0.        ,\n",
       "        0.        ],\n",
       "       [0.        , 0.        , 0.        , 0.        , 0.        ,\n",
       "        0.        , 0.        , 1.        , 0.        , 0.        ,\n",
       "        0.        , 0.        , 0.        , 0.        , 0.        ,\n",
       "        0.        ],\n",
       "       [0.        , 0.        , 0.        , 0.        , 0.33333333,\n",
       "        0.        , 0.        , 0.        , 0.33333333, 0.33333333,\n",
       "        0.        , 0.        , 0.        , 0.        , 0.        ,\n",
       "        0.        ],\n",
       "       [0.        , 0.        , 0.        , 0.        , 0.        ,\n",
       "        0.33333333, 0.        , 0.        , 0.33333333, 0.        ,\n",
       "        0.33333333, 0.        , 0.        , 0.        , 0.        ,\n",
       "        0.        ],\n",
       "       [0.        , 0.        , 0.        , 0.        , 0.        ,\n",
       "        0.        , 0.33333333, 0.        , 0.        , 0.33333333,\n",
       "        0.        , 0.33333333, 0.        , 0.        , 0.        ,\n",
       "        0.        ],\n",
       "       [0.        , 0.        , 0.        , 0.        , 0.        ,\n",
       "        0.        , 0.        , 0.        , 0.        , 0.        ,\n",
       "        0.        , 1.        , 0.        , 0.        , 0.        ,\n",
       "        0.        ],\n",
       "       [0.        , 0.        , 0.        , 0.        , 0.        ,\n",
       "        0.        , 0.        , 0.        , 0.        , 0.        ,\n",
       "        0.        , 0.        , 1.        , 0.        , 0.        ,\n",
       "        0.        ],\n",
       "       [0.        , 0.        , 0.        , 0.        , 0.        ,\n",
       "        0.        , 0.        , 0.        , 0.        , 0.33333333,\n",
       "        0.        , 0.        , 0.33333333, 0.        , 0.33333333,\n",
       "        0.        ],\n",
       "       [0.        , 0.        , 0.        , 0.        , 0.        ,\n",
       "        0.        , 0.        , 0.        , 0.        , 0.        ,\n",
       "        0.33333333, 0.        , 0.        , 0.33333333, 0.        ,\n",
       "        0.33333333],\n",
       "       [0.        , 0.        , 0.        , 0.        , 0.        ,\n",
       "        0.        , 0.        , 0.        , 0.        , 0.        ,\n",
       "        0.        , 0.        , 0.        , 0.        , 0.        ,\n",
       "        1.        ]])\n",
       "\n",
       "R: \n",
       "array([ 0.  , -0.75,  0.  , -0.75,  0.  , -0.75,  0.  , -0.75, -0.75,\n",
       "        0.  ,  0.  , -0.75, -0.75,  0.  ,  0.  , -0.75])\n",
       "array([ 0.  ,  0.  ,  0.  ,  0.  , -0.75, -0.75, -0.75, -0.75,  0.  ,\n",
       "        0.  , -0.75, -0.75, -0.75,  0.  ,  1.  , -0.75])\n",
       "array([ 0.  ,  0.  ,  0.  ,  0.  ,  0.  , -0.75,  0.  , -0.75,  0.  ,\n",
       "       -0.75,  0.  , -0.75, -0.75,  0.  ,  0.  , -0.75])\n",
       "array([ 0.  ,  0.  ,  0.  ,  0.  ,  0.  , -0.75, -0.75, -0.75,  0.  ,\n",
       "        0.  ,  0.  , -0.75, -0.75, -0.75,  0.  , -0.75])"
      ]
     },
     "execution_count": 76,
     "metadata": {},
     "output_type": "execute_result"
    }
   ],
   "source": [
    "vi"
   ]
  },
  {
   "cell_type": "code",
   "execution_count": 77,
   "id": "0a8b2007",
   "metadata": {},
   "outputs": [
    {
     "data": {
      "text/plain": [
       "P: \n",
       "array([[0.66666667, 0.        , 0.        , 0.        , 0.33333333,\n",
       "        0.        , 0.        , 0.        , 0.        , 0.        ,\n",
       "        0.        , 0.        , 0.        , 0.        , 0.        ,\n",
       "        0.        ],\n",
       "       [0.33333333, 0.33333333, 0.        , 0.        , 0.        ,\n",
       "        0.33333333, 0.        , 0.        , 0.        , 0.        ,\n",
       "        0.        , 0.        , 0.        , 0.        , 0.        ,\n",
       "        0.        ],\n",
       "       [0.        , 0.33333333, 0.33333333, 0.        , 0.        ,\n",
       "        0.        , 0.33333333, 0.        , 0.        , 0.        ,\n",
       "        0.        , 0.        , 0.        , 0.        , 0.        ,\n",
       "        0.        ],\n",
       "       [0.        , 0.        , 0.33333333, 0.33333333, 0.        ,\n",
       "        0.        , 0.        , 0.33333333, 0.        , 0.        ,\n",
       "        0.        , 0.        , 0.        , 0.        , 0.        ,\n",
       "        0.        ],\n",
       "       [0.33333333, 0.        , 0.        , 0.        , 0.33333333,\n",
       "        0.        , 0.        , 0.        , 0.33333333, 0.        ,\n",
       "        0.        , 0.        , 0.        , 0.        , 0.        ,\n",
       "        0.        ],\n",
       "       [0.        , 0.        , 0.        , 0.        , 0.        ,\n",
       "        1.        , 0.        , 0.        , 0.        , 0.        ,\n",
       "        0.        , 0.        , 0.        , 0.        , 0.        ,\n",
       "        0.        ],\n",
       "       [0.        , 0.        , 0.33333333, 0.        , 0.        ,\n",
       "        0.33333333, 0.        , 0.        , 0.        , 0.        ,\n",
       "        0.33333333, 0.        , 0.        , 0.        , 0.        ,\n",
       "        0.        ],\n",
       "       [0.        , 0.        , 0.        , 0.        , 0.        ,\n",
       "        0.        , 0.        , 1.        , 0.        , 0.        ,\n",
       "        0.        , 0.        , 0.        , 0.        , 0.        ,\n",
       "        0.        ],\n",
       "       [0.        , 0.        , 0.        , 0.        , 0.33333333,\n",
       "        0.        , 0.        , 0.        , 0.33333333, 0.        ,\n",
       "        0.        , 0.        , 0.33333333, 0.        , 0.        ,\n",
       "        0.        ],\n",
       "       [0.        , 0.        , 0.        , 0.        , 0.        ,\n",
       "        0.33333333, 0.        , 0.        , 0.33333333, 0.        ,\n",
       "        0.        , 0.        , 0.        , 0.33333333, 0.        ,\n",
       "        0.        ],\n",
       "       [0.        , 0.        , 0.        , 0.        , 0.        ,\n",
       "        0.        , 0.33333333, 0.        , 0.        , 0.33333333,\n",
       "        0.        , 0.        , 0.        , 0.        , 0.33333333,\n",
       "        0.        ],\n",
       "       [0.        , 0.        , 0.        , 0.        , 0.        ,\n",
       "        0.        , 0.        , 0.        , 0.        , 0.        ,\n",
       "        0.        , 1.        , 0.        , 0.        , 0.        ,\n",
       "        0.        ],\n",
       "       [0.        , 0.        , 0.        , 0.        , 0.        ,\n",
       "        0.        , 0.        , 0.        , 0.        , 0.        ,\n",
       "        0.        , 0.        , 1.        , 0.        , 0.        ,\n",
       "        0.        ],\n",
       "       [0.        , 0.        , 0.        , 0.        , 0.        ,\n",
       "        0.        , 0.        , 0.        , 0.        , 0.33333333,\n",
       "        0.        , 0.        , 0.33333333, 0.33333333, 0.        ,\n",
       "        0.        ],\n",
       "       [0.        , 0.        , 0.        , 0.        , 0.        ,\n",
       "        0.        , 0.        , 0.        , 0.        , 0.        ,\n",
       "        0.33333333, 0.        , 0.        , 0.33333333, 0.33333333,\n",
       "        0.        ],\n",
       "       [0.        , 0.        , 0.        , 0.        , 0.        ,\n",
       "        0.        , 0.        , 0.        , 0.        , 0.        ,\n",
       "        0.        , 0.        , 0.        , 0.        , 0.        ,\n",
       "        1.        ]])\n",
       "array([[0.33333333, 0.33333333, 0.        , 0.        , 0.33333333,\n",
       "        0.        , 0.        , 0.        , 0.        , 0.        ,\n",
       "        0.        , 0.        , 0.        , 0.        , 0.        ,\n",
       "        0.        ],\n",
       "       [0.33333333, 0.        , 0.33333333, 0.        , 0.        ,\n",
       "        0.33333333, 0.        , 0.        , 0.        , 0.        ,\n",
       "        0.        , 0.        , 0.        , 0.        , 0.        ,\n",
       "        0.        ],\n",
       "       [0.        , 0.33333333, 0.        , 0.33333333, 0.        ,\n",
       "        0.        , 0.33333333, 0.        , 0.        , 0.        ,\n",
       "        0.        , 0.        , 0.        , 0.        , 0.        ,\n",
       "        0.        ],\n",
       "       [0.        , 0.        , 0.33333333, 0.33333333, 0.        ,\n",
       "        0.        , 0.        , 0.33333333, 0.        , 0.        ,\n",
       "        0.        , 0.        , 0.        , 0.        , 0.        ,\n",
       "        0.        ],\n",
       "       [0.        , 0.        , 0.        , 0.        , 0.33333333,\n",
       "        0.33333333, 0.        , 0.        , 0.33333333, 0.        ,\n",
       "        0.        , 0.        , 0.        , 0.        , 0.        ,\n",
       "        0.        ],\n",
       "       [0.        , 0.        , 0.        , 0.        , 0.        ,\n",
       "        1.        , 0.        , 0.        , 0.        , 0.        ,\n",
       "        0.        , 0.        , 0.        , 0.        , 0.        ,\n",
       "        0.        ],\n",
       "       [0.        , 0.        , 0.        , 0.        , 0.        ,\n",
       "        0.33333333, 0.        , 0.33333333, 0.        , 0.        ,\n",
       "        0.33333333, 0.        , 0.        , 0.        , 0.        ,\n",
       "        0.        ],\n",
       "       [0.        , 0.        , 0.        , 0.        , 0.        ,\n",
       "        0.        , 0.        , 1.        , 0.        , 0.        ,\n",
       "        0.        , 0.        , 0.        , 0.        , 0.        ,\n",
       "        0.        ],\n",
       "       [0.        , 0.        , 0.        , 0.        , 0.        ,\n",
       "        0.        , 0.        , 0.        , 0.33333333, 0.33333333,\n",
       "        0.        , 0.        , 0.33333333, 0.        , 0.        ,\n",
       "        0.        ],\n",
       "       [0.        , 0.        , 0.        , 0.        , 0.        ,\n",
       "        0.        , 0.        , 0.        , 0.33333333, 0.        ,\n",
       "        0.33333333, 0.        , 0.        , 0.33333333, 0.        ,\n",
       "        0.        ],\n",
       "       [0.        , 0.        , 0.        , 0.        , 0.        ,\n",
       "        0.        , 0.        , 0.        , 0.        , 0.33333333,\n",
       "        0.        , 0.33333333, 0.        , 0.        , 0.33333333,\n",
       "        0.        ],\n",
       "       [0.        , 0.        , 0.        , 0.        , 0.        ,\n",
       "        0.        , 0.        , 0.        , 0.        , 0.        ,\n",
       "        0.        , 1.        , 0.        , 0.        , 0.        ,\n",
       "        0.        ],\n",
       "       [0.        , 0.        , 0.        , 0.        , 0.        ,\n",
       "        0.        , 0.        , 0.        , 0.        , 0.        ,\n",
       "        0.        , 0.        , 1.        , 0.        , 0.        ,\n",
       "        0.        ],\n",
       "       [0.        , 0.        , 0.        , 0.        , 0.        ,\n",
       "        0.        , 0.        , 0.        , 0.        , 0.        ,\n",
       "        0.        , 0.        , 0.33333333, 0.33333333, 0.33333333,\n",
       "        0.        ],\n",
       "       [0.        , 0.        , 0.        , 0.        , 0.        ,\n",
       "        0.        , 0.        , 0.        , 0.        , 0.        ,\n",
       "        0.        , 0.        , 0.        , 0.33333333, 0.33333333,\n",
       "        0.33333333],\n",
       "       [0.        , 0.        , 0.        , 0.        , 0.        ,\n",
       "        0.        , 0.        , 0.        , 0.        , 0.        ,\n",
       "        0.        , 0.        , 0.        , 0.        , 0.        ,\n",
       "        1.        ]])\n",
       "array([[0.33333333, 0.33333333, 0.        , 0.        , 0.33333333,\n",
       "        0.        , 0.        , 0.        , 0.        , 0.        ,\n",
       "        0.        , 0.        , 0.        , 0.        , 0.        ,\n",
       "        0.        ],\n",
       "       [0.        , 0.33333333, 0.33333333, 0.        , 0.        ,\n",
       "        0.33333333, 0.        , 0.        , 0.        , 0.        ,\n",
       "        0.        , 0.        , 0.        , 0.        , 0.        ,\n",
       "        0.        ],\n",
       "       [0.        , 0.        , 0.33333333, 0.33333333, 0.        ,\n",
       "        0.        , 0.33333333, 0.        , 0.        , 0.        ,\n",
       "        0.        , 0.        , 0.        , 0.        , 0.        ,\n",
       "        0.        ],\n",
       "       [0.        , 0.        , 0.        , 0.66666667, 0.        ,\n",
       "        0.        , 0.        , 0.33333333, 0.        , 0.        ,\n",
       "        0.        , 0.        , 0.        , 0.        , 0.        ,\n",
       "        0.        ],\n",
       "       [0.33333333, 0.        , 0.        , 0.        , 0.        ,\n",
       "        0.33333333, 0.        , 0.        , 0.33333333, 0.        ,\n",
       "        0.        , 0.        , 0.        , 0.        , 0.        ,\n",
       "        0.        ],\n",
       "       [0.        , 0.        , 0.        , 0.        , 0.        ,\n",
       "        1.        , 0.        , 0.        , 0.        , 0.        ,\n",
       "        0.        , 0.        , 0.        , 0.        , 0.        ,\n",
       "        0.        ],\n",
       "       [0.        , 0.        , 0.33333333, 0.        , 0.        ,\n",
       "        0.        , 0.        , 0.33333333, 0.        , 0.        ,\n",
       "        0.33333333, 0.        , 0.        , 0.        , 0.        ,\n",
       "        0.        ],\n",
       "       [0.        , 0.        , 0.        , 0.        , 0.        ,\n",
       "        0.        , 0.        , 1.        , 0.        , 0.        ,\n",
       "        0.        , 0.        , 0.        , 0.        , 0.        ,\n",
       "        0.        ],\n",
       "       [0.        , 0.        , 0.        , 0.        , 0.33333333,\n",
       "        0.        , 0.        , 0.        , 0.        , 0.33333333,\n",
       "        0.        , 0.        , 0.33333333, 0.        , 0.        ,\n",
       "        0.        ],\n",
       "       [0.        , 0.        , 0.        , 0.        , 0.        ,\n",
       "        0.33333333, 0.        , 0.        , 0.        , 0.        ,\n",
       "        0.33333333, 0.        , 0.        , 0.33333333, 0.        ,\n",
       "        0.        ],\n",
       "       [0.        , 0.        , 0.        , 0.        , 0.        ,\n",
       "        0.        , 0.33333333, 0.        , 0.        , 0.        ,\n",
       "        0.        , 0.33333333, 0.        , 0.        , 0.33333333,\n",
       "        0.        ],\n",
       "       [0.        , 0.        , 0.        , 0.        , 0.        ,\n",
       "        0.        , 0.        , 0.        , 0.        , 0.        ,\n",
       "        0.        , 1.        , 0.        , 0.        , 0.        ,\n",
       "        0.        ],\n",
       "       [0.        , 0.        , 0.        , 0.        , 0.        ,\n",
       "        0.        , 0.        , 0.        , 0.        , 0.        ,\n",
       "        0.        , 0.        , 1.        , 0.        , 0.        ,\n",
       "        0.        ],\n",
       "       [0.        , 0.        , 0.        , 0.        , 0.        ,\n",
       "        0.        , 0.        , 0.        , 0.        , 0.33333333,\n",
       "        0.        , 0.        , 0.        , 0.33333333, 0.33333333,\n",
       "        0.        ],\n",
       "       [0.        , 0.        , 0.        , 0.        , 0.        ,\n",
       "        0.        , 0.        , 0.        , 0.        , 0.        ,\n",
       "        0.33333333, 0.        , 0.        , 0.        , 0.33333333,\n",
       "        0.33333333],\n",
       "       [0.        , 0.        , 0.        , 0.        , 0.        ,\n",
       "        0.        , 0.        , 0.        , 0.        , 0.        ,\n",
       "        0.        , 0.        , 0.        , 0.        , 0.        ,\n",
       "        1.        ]])\n",
       "array([[0.66666667, 0.33333333, 0.        , 0.        , 0.        ,\n",
       "        0.        , 0.        , 0.        , 0.        , 0.        ,\n",
       "        0.        , 0.        , 0.        , 0.        , 0.        ,\n",
       "        0.        ],\n",
       "       [0.33333333, 0.33333333, 0.33333333, 0.        , 0.        ,\n",
       "        0.        , 0.        , 0.        , 0.        , 0.        ,\n",
       "        0.        , 0.        , 0.        , 0.        , 0.        ,\n",
       "        0.        ],\n",
       "       [0.        , 0.33333333, 0.33333333, 0.33333333, 0.        ,\n",
       "        0.        , 0.        , 0.        , 0.        , 0.        ,\n",
       "        0.        , 0.        , 0.        , 0.        , 0.        ,\n",
       "        0.        ],\n",
       "       [0.        , 0.        , 0.33333333, 0.66666667, 0.        ,\n",
       "        0.        , 0.        , 0.        , 0.        , 0.        ,\n",
       "        0.        , 0.        , 0.        , 0.        , 0.        ,\n",
       "        0.        ],\n",
       "       [0.33333333, 0.        , 0.        , 0.        , 0.33333333,\n",
       "        0.33333333, 0.        , 0.        , 0.        , 0.        ,\n",
       "        0.        , 0.        , 0.        , 0.        , 0.        ,\n",
       "        0.        ],\n",
       "       [0.        , 0.        , 0.        , 0.        , 0.        ,\n",
       "        1.        , 0.        , 0.        , 0.        , 0.        ,\n",
       "        0.        , 0.        , 0.        , 0.        , 0.        ,\n",
       "        0.        ],\n",
       "       [0.        , 0.        , 0.33333333, 0.        , 0.        ,\n",
       "        0.33333333, 0.        , 0.33333333, 0.        , 0.        ,\n",
       "        0.        , 0.        , 0.        , 0.        , 0.        ,\n",
       "        0.        ],\n",
       "       [0.        , 0.        , 0.        , 0.        , 0.        ,\n",
       "        0.        , 0.        , 1.        , 0.        , 0.        ,\n",
       "        0.        , 0.        , 0.        , 0.        , 0.        ,\n",
       "        0.        ],\n",
       "       [0.        , 0.        , 0.        , 0.        , 0.33333333,\n",
       "        0.        , 0.        , 0.        , 0.33333333, 0.33333333,\n",
       "        0.        , 0.        , 0.        , 0.        , 0.        ,\n",
       "        0.        ],\n",
       "       [0.        , 0.        , 0.        , 0.        , 0.        ,\n",
       "        0.33333333, 0.        , 0.        , 0.33333333, 0.        ,\n",
       "        0.33333333, 0.        , 0.        , 0.        , 0.        ,\n",
       "        0.        ],\n",
       "       [0.        , 0.        , 0.        , 0.        , 0.        ,\n",
       "        0.        , 0.33333333, 0.        , 0.        , 0.33333333,\n",
       "        0.        , 0.33333333, 0.        , 0.        , 0.        ,\n",
       "        0.        ],\n",
       "       [0.        , 0.        , 0.        , 0.        , 0.        ,\n",
       "        0.        , 0.        , 0.        , 0.        , 0.        ,\n",
       "        0.        , 1.        , 0.        , 0.        , 0.        ,\n",
       "        0.        ],\n",
       "       [0.        , 0.        , 0.        , 0.        , 0.        ,\n",
       "        0.        , 0.        , 0.        , 0.        , 0.        ,\n",
       "        0.        , 0.        , 1.        , 0.        , 0.        ,\n",
       "        0.        ],\n",
       "       [0.        , 0.        , 0.        , 0.        , 0.        ,\n",
       "        0.        , 0.        , 0.        , 0.        , 0.33333333,\n",
       "        0.        , 0.        , 0.33333333, 0.        , 0.33333333,\n",
       "        0.        ],\n",
       "       [0.        , 0.        , 0.        , 0.        , 0.        ,\n",
       "        0.        , 0.        , 0.        , 0.        , 0.        ,\n",
       "        0.33333333, 0.        , 0.        , 0.33333333, 0.        ,\n",
       "        0.33333333],\n",
       "       [0.        , 0.        , 0.        , 0.        , 0.        ,\n",
       "        0.        , 0.        , 0.        , 0.        , 0.        ,\n",
       "        0.        , 0.        , 0.        , 0.        , 0.        ,\n",
       "        1.        ]])\n",
       "\n",
       "R: \n",
       "array([ 0.  , -0.75,  0.  , -0.75,  0.  , -0.75,  0.  , -0.75, -0.75,\n",
       "        0.  ,  0.  , -0.75, -0.75,  0.  ,  0.  , -0.75])\n",
       "array([ 0.  ,  0.  ,  0.  ,  0.  , -0.75, -0.75, -0.75, -0.75,  0.  ,\n",
       "        0.  , -0.75, -0.75, -0.75,  0.  ,  1.  , -0.75])\n",
       "array([ 0.  ,  0.  ,  0.  ,  0.  ,  0.  , -0.75,  0.  , -0.75,  0.  ,\n",
       "       -0.75,  0.  , -0.75, -0.75,  0.  ,  0.  , -0.75])\n",
       "array([ 0.  ,  0.  ,  0.  ,  0.  ,  0.  , -0.75, -0.75, -0.75,  0.  ,\n",
       "        0.  ,  0.  , -0.75, -0.75, -0.75,  0.  , -0.75])"
      ]
     },
     "execution_count": 77,
     "metadata": {},
     "output_type": "execute_result"
    }
   ],
   "source": [
    "vi"
   ]
  },
  {
   "cell_type": "code",
   "execution_count": 78,
   "id": "222c0613",
   "metadata": {},
   "outputs": [
    {
     "ename": "DeprecatedEnv",
     "evalue": "Env FrozenLake-v0 not found (valid versions include ['FrozenLake-v1'])",
     "output_type": "error",
     "traceback": [
      "\u001b[0;31m---------------------------------------------------------------------------\u001b[0m",
      "\u001b[0;31mKeyError\u001b[0m                                  Traceback (most recent call last)",
      "\u001b[0;32m/opt/miniconda3/envs/cs7641/lib/python3.9/site-packages/gym/envs/registration.py\u001b[0m in \u001b[0;36mspec\u001b[0;34m(self, path)\u001b[0m\n\u001b[1;32m    157\u001b[0m         \u001b[0;32mtry\u001b[0m\u001b[0;34m:\u001b[0m\u001b[0;34m\u001b[0m\u001b[0;34m\u001b[0m\u001b[0m\n\u001b[0;32m--> 158\u001b[0;31m             \u001b[0;32mreturn\u001b[0m \u001b[0mself\u001b[0m\u001b[0;34m.\u001b[0m\u001b[0menv_specs\u001b[0m\u001b[0;34m[\u001b[0m\u001b[0mid\u001b[0m\u001b[0;34m]\u001b[0m\u001b[0;34m\u001b[0m\u001b[0;34m\u001b[0m\u001b[0m\n\u001b[0m\u001b[1;32m    159\u001b[0m         \u001b[0;32mexcept\u001b[0m \u001b[0mKeyError\u001b[0m\u001b[0;34m:\u001b[0m\u001b[0;34m\u001b[0m\u001b[0;34m\u001b[0m\u001b[0m\n",
      "\u001b[0;31mKeyError\u001b[0m: 'FrozenLake-v0'",
      "\nDuring handling of the above exception, another exception occurred:\n",
      "\u001b[0;31mDeprecatedEnv\u001b[0m                             Traceback (most recent call last)",
      "\u001b[0;32m/var/folders/4p/41bttzcx5y163sbdhm1bfdl40000gn/T/ipykernel_22349/2913648274.py\u001b[0m in \u001b[0;36m<module>\u001b[0;34m\u001b[0m\n\u001b[0;32m----> 1\u001b[0;31m \u001b[0mP\u001b[0m\u001b[0;34m,\u001b[0m \u001b[0mR\u001b[0m \u001b[0;34m=\u001b[0m \u001b[0mhiive\u001b[0m\u001b[0;34m.\u001b[0m\u001b[0mmdptoolbox\u001b[0m\u001b[0;34m.\u001b[0m\u001b[0mexample\u001b[0m\u001b[0;34m.\u001b[0m\u001b[0mopenai\u001b[0m\u001b[0;34m(\u001b[0m\u001b[0;34m\"FrozenLake-v0\"\u001b[0m\u001b[0;34m,\u001b[0m \u001b[0mdesc\u001b[0m\u001b[0;34m=\u001b[0m\u001b[0mrandom_map\u001b[0m\u001b[0;34m)\u001b[0m\u001b[0;34m\u001b[0m\u001b[0;34m\u001b[0m\u001b[0m\n\u001b[0m",
      "\u001b[0;32m/opt/miniconda3/envs/cs7641/lib/python3.9/site-packages/hiive/mdptoolbox/example.py\u001b[0m in \u001b[0;36mopenai\u001b[0;34m(env_name, render, **kwargs)\u001b[0m\n\u001b[1;32m    462\u001b[0m     \"\"\"\n\u001b[1;32m    463\u001b[0m \u001b[0;34m\u001b[0m\u001b[0m\n\u001b[0;32m--> 464\u001b[0;31m     \u001b[0menv\u001b[0m \u001b[0;34m=\u001b[0m \u001b[0mopenai_\u001b[0m\u001b[0;34m.\u001b[0m\u001b[0mOpenAI_MDPToolbox\u001b[0m\u001b[0;34m(\u001b[0m\u001b[0menv_name\u001b[0m\u001b[0;34m,\u001b[0m \u001b[0mrender\u001b[0m\u001b[0;34m,\u001b[0m \u001b[0;34m**\u001b[0m\u001b[0mkwargs\u001b[0m\u001b[0;34m)\u001b[0m\u001b[0;34m\u001b[0m\u001b[0;34m\u001b[0m\u001b[0m\n\u001b[0m\u001b[1;32m    465\u001b[0m     \u001b[0;32mreturn\u001b[0m \u001b[0menv\u001b[0m\u001b[0;34m.\u001b[0m\u001b[0mP\u001b[0m\u001b[0;34m,\u001b[0m \u001b[0menv\u001b[0m\u001b[0;34m.\u001b[0m\u001b[0mR\u001b[0m\u001b[0;34m\u001b[0m\u001b[0;34m\u001b[0m\u001b[0m\n",
      "\u001b[0;32m/opt/miniconda3/envs/cs7641/lib/python3.9/site-packages/hiive/mdptoolbox/openai.py\u001b[0m in \u001b[0;36m__init__\u001b[0;34m(self, openAI_env_name, render, **kwargs)\u001b[0m\n\u001b[1;32m     25\u001b[0m         \u001b[0mself\u001b[0m\u001b[0;34m.\u001b[0m\u001b[0menv_name\u001b[0m \u001b[0;34m=\u001b[0m \u001b[0mopenAI_env_name\u001b[0m\u001b[0;34m\u001b[0m\u001b[0;34m\u001b[0m\u001b[0m\n\u001b[1;32m     26\u001b[0m \u001b[0;34m\u001b[0m\u001b[0m\n\u001b[0;32m---> 27\u001b[0;31m         \u001b[0mself\u001b[0m\u001b[0;34m.\u001b[0m\u001b[0menv\u001b[0m \u001b[0;34m=\u001b[0m \u001b[0mgym\u001b[0m\u001b[0;34m.\u001b[0m\u001b[0mmake\u001b[0m\u001b[0;34m(\u001b[0m\u001b[0mself\u001b[0m\u001b[0;34m.\u001b[0m\u001b[0menv_name\u001b[0m\u001b[0;34m,\u001b[0m \u001b[0;34m**\u001b[0m\u001b[0mkwargs\u001b[0m\u001b[0;34m)\u001b[0m\u001b[0;34m\u001b[0m\u001b[0;34m\u001b[0m\u001b[0m\n\u001b[0m\u001b[1;32m     28\u001b[0m         \u001b[0mself\u001b[0m\u001b[0;34m.\u001b[0m\u001b[0menv\u001b[0m\u001b[0;34m.\u001b[0m\u001b[0mreset\u001b[0m\u001b[0;34m(\u001b[0m\u001b[0;34m)\u001b[0m\u001b[0;34m\u001b[0m\u001b[0;34m\u001b[0m\u001b[0m\n\u001b[1;32m     29\u001b[0m \u001b[0;34m\u001b[0m\u001b[0m\n",
      "\u001b[0;32m/opt/miniconda3/envs/cs7641/lib/python3.9/site-packages/gym/envs/registration.py\u001b[0m in \u001b[0;36mmake\u001b[0;34m(id, **kwargs)\u001b[0m\n\u001b[1;32m    233\u001b[0m \u001b[0;34m\u001b[0m\u001b[0m\n\u001b[1;32m    234\u001b[0m \u001b[0;32mdef\u001b[0m \u001b[0mmake\u001b[0m\u001b[0;34m(\u001b[0m\u001b[0mid\u001b[0m\u001b[0;34m,\u001b[0m \u001b[0;34m**\u001b[0m\u001b[0mkwargs\u001b[0m\u001b[0;34m)\u001b[0m\u001b[0;34m:\u001b[0m\u001b[0;34m\u001b[0m\u001b[0;34m\u001b[0m\u001b[0m\n\u001b[0;32m--> 235\u001b[0;31m     \u001b[0;32mreturn\u001b[0m \u001b[0mregistry\u001b[0m\u001b[0;34m.\u001b[0m\u001b[0mmake\u001b[0m\u001b[0;34m(\u001b[0m\u001b[0mid\u001b[0m\u001b[0;34m,\u001b[0m \u001b[0;34m**\u001b[0m\u001b[0mkwargs\u001b[0m\u001b[0;34m)\u001b[0m\u001b[0;34m\u001b[0m\u001b[0;34m\u001b[0m\u001b[0m\n\u001b[0m\u001b[1;32m    236\u001b[0m \u001b[0;34m\u001b[0m\u001b[0m\n\u001b[1;32m    237\u001b[0m \u001b[0;34m\u001b[0m\u001b[0m\n",
      "\u001b[0;32m/opt/miniconda3/envs/cs7641/lib/python3.9/site-packages/gym/envs/registration.py\u001b[0m in \u001b[0;36mmake\u001b[0;34m(self, path, **kwargs)\u001b[0m\n\u001b[1;32m    126\u001b[0m         \u001b[0;32melse\u001b[0m\u001b[0;34m:\u001b[0m\u001b[0;34m\u001b[0m\u001b[0;34m\u001b[0m\u001b[0m\n\u001b[1;32m    127\u001b[0m             \u001b[0mlogger\u001b[0m\u001b[0;34m.\u001b[0m\u001b[0minfo\u001b[0m\u001b[0;34m(\u001b[0m\u001b[0;34m\"Making new env: %s\"\u001b[0m\u001b[0;34m,\u001b[0m \u001b[0mpath\u001b[0m\u001b[0;34m)\u001b[0m\u001b[0;34m\u001b[0m\u001b[0;34m\u001b[0m\u001b[0m\n\u001b[0;32m--> 128\u001b[0;31m         \u001b[0mspec\u001b[0m \u001b[0;34m=\u001b[0m \u001b[0mself\u001b[0m\u001b[0;34m.\u001b[0m\u001b[0mspec\u001b[0m\u001b[0;34m(\u001b[0m\u001b[0mpath\u001b[0m\u001b[0;34m)\u001b[0m\u001b[0;34m\u001b[0m\u001b[0;34m\u001b[0m\u001b[0m\n\u001b[0m\u001b[1;32m    129\u001b[0m         \u001b[0menv\u001b[0m \u001b[0;34m=\u001b[0m \u001b[0mspec\u001b[0m\u001b[0;34m.\u001b[0m\u001b[0mmake\u001b[0m\u001b[0;34m(\u001b[0m\u001b[0;34m**\u001b[0m\u001b[0mkwargs\u001b[0m\u001b[0;34m)\u001b[0m\u001b[0;34m\u001b[0m\u001b[0;34m\u001b[0m\u001b[0m\n\u001b[1;32m    130\u001b[0m         \u001b[0;32mreturn\u001b[0m \u001b[0menv\u001b[0m\u001b[0;34m\u001b[0m\u001b[0;34m\u001b[0m\u001b[0m\n",
      "\u001b[0;32m/opt/miniconda3/envs/cs7641/lib/python3.9/site-packages/gym/envs/registration.py\u001b[0m in \u001b[0;36mspec\u001b[0;34m(self, path)\u001b[0m\n\u001b[1;32m    183\u001b[0m             ]\n\u001b[1;32m    184\u001b[0m             \u001b[0;32mif\u001b[0m \u001b[0mmatching_envs\u001b[0m\u001b[0;34m:\u001b[0m\u001b[0;34m\u001b[0m\u001b[0;34m\u001b[0m\u001b[0m\n\u001b[0;32m--> 185\u001b[0;31m                 raise error.DeprecatedEnv(\n\u001b[0m\u001b[1;32m    186\u001b[0m                     \"Env {} not found (valid versions include {})\".format(\n\u001b[1;32m    187\u001b[0m                         \u001b[0mid\u001b[0m\u001b[0;34m,\u001b[0m \u001b[0mmatching_envs\u001b[0m\u001b[0;34m\u001b[0m\u001b[0;34m\u001b[0m\u001b[0m\n",
      "\u001b[0;31mDeprecatedEnv\u001b[0m: Env FrozenLake-v0 not found (valid versions include ['FrozenLake-v1'])"
     ]
    }
   ],
   "source": [
    "P, R = hiive.mdptoolbox.example.openai(\"FrozenLake-v0\", desc=random_map)"
   ]
  },
  {
   "cell_type": "code",
   "execution_count": 79,
   "id": "28ac55db",
   "metadata": {},
   "outputs": [],
   "source": [
    "P, R = hiive.mdptoolbox.example.openai(\"FrozenLake-v1\", desc=random_map)"
   ]
  },
  {
   "cell_type": "code",
   "execution_count": 80,
   "id": "06eb05e0",
   "metadata": {},
   "outputs": [],
   "source": [
    "    vi = mdp.ValueIteration(P, R, 0.6, epsilon=0.005, max_iter=10000)"
   ]
  },
  {
   "cell_type": "code",
   "execution_count": 81,
   "id": "4b33218d",
   "metadata": {},
   "outputs": [
    {
     "data": {
      "text/plain": [
       "[{'State': None,\n",
       "  'Action': None,\n",
       "  'Reward': 0.3333333333333333,\n",
       "  'Error': 0.3333333333333333,\n",
       "  'Time': 0.0002949237823486328,\n",
       "  'Max V': 0.3333333333333333,\n",
       "  'Mean V': 0.041666666666666664,\n",
       "  'Iteration': 1},\n",
       " {'State': None,\n",
       "  'Action': None,\n",
       "  'Reward': 0.39999999999999997,\n",
       "  'Error': 0.13333333333333333,\n",
       "  'Time': 0.0006990432739257812,\n",
       "  'Max V': 0.39999999999999997,\n",
       "  'Mean V': 0.06666666666666667,\n",
       "  'Iteration': 2},\n",
       " {'State': None,\n",
       "  'Action': None,\n",
       "  'Reward': 0.43999999999999995,\n",
       "  'Error': 0.03999999999999999,\n",
       "  'Time': 0.0012278556823730469,\n",
       "  'Max V': 0.43999999999999995,\n",
       "  'Mean V': 0.08333333333333331,\n",
       "  'Iteration': 3},\n",
       " {'State': None,\n",
       "  'Action': None,\n",
       "  'Reward': 0.45333333333333325,\n",
       "  'Error': 0.02400000000000002,\n",
       "  'Time': 0.001641988754272461,\n",
       "  'Max V': 0.45333333333333325,\n",
       "  'Mean V': 0.09416666666666665,\n",
       "  'Iteration': 4},\n",
       " {'State': None,\n",
       "  'Action': None,\n",
       "  'Reward': 0.4608,\n",
       "  'Error': 0.012266666666666662,\n",
       "  'Time': 0.001806020736694336,\n",
       "  'Max V': 0.4608,\n",
       "  'Mean V': 0.10103333333333332,\n",
       "  'Iteration': 5},\n",
       " {'State': None,\n",
       "  'Action': None,\n",
       "  'Reward': 0.4637866666666666,\n",
       "  'Error': 0.0059733333333333305,\n",
       "  'Time': 0.0019059181213378906,\n",
       "  'Max V': 0.4637866666666666,\n",
       "  'Mean V': 0.10522666666666664,\n",
       "  'Iteration': 6},\n",
       " {'State': None,\n",
       "  'Action': None,\n",
       "  'Reward': 0.465472,\n",
       "  'Error': 0.003434666666666669,\n",
       "  'Time': 0.0019960403442382812,\n",
       "  'Max V': 0.465472,\n",
       "  'Mean V': 0.107708,\n",
       "  'Iteration': 7}]"
      ]
     },
     "execution_count": 81,
     "metadata": {},
     "output_type": "execute_result"
    }
   ],
   "source": [
    "    vi.run()"
   ]
  },
  {
   "cell_type": "code",
   "execution_count": 82,
   "id": "b14715a0",
   "metadata": {},
   "outputs": [
    {
     "name": "stdout",
     "output_type": "stream",
     "text": [
      "\n",
      "\u001b[41mS\u001b[0mFFF\n",
      "FHFH\n",
      "FFFH\n",
      "HFFG\n",
      "1\n",
      "  (Down)\n",
      "S\u001b[41mF\u001b[0mFF\n",
      "FHFH\n",
      "FFFH\n",
      "HFFG\n",
      "2\n",
      "Episode finished after 3 timesteps\n",
      "  (Right)\n",
      "SFFF\n",
      "F\u001b[41mH\u001b[0mFH\n",
      "FFFH\n",
      "HFFG\n",
      "Total Reward: -0.750000\n"
     ]
    }
   ],
   "source": [
    "    total_r_vi = render_env_policy(env, vi.policy, display=True)"
   ]
  },
  {
   "cell_type": "code",
   "execution_count": 83,
   "id": "eb4627f0",
   "metadata": {},
   "outputs": [
    {
     "ename": "NameError",
     "evalue": "name 'verbose' is not defined",
     "output_type": "error",
     "traceback": [
      "\u001b[0;31m---------------------------------------------------------------------------\u001b[0m",
      "\u001b[0;31mNameError\u001b[0m                                 Traceback (most recent call last)",
      "\u001b[0;32m/var/folders/4p/41bttzcx5y163sbdhm1bfdl40000gn/T/ipykernel_22349/3617510467.py\u001b[0m in \u001b[0;36m<module>\u001b[0;34m\u001b[0m\n\u001b[0;32m----> 1\u001b[0;31m \u001b[0mtotal_r_vi\u001b[0m \u001b[0;34m=\u001b[0m \u001b[0mrender_env_policy\u001b[0m\u001b[0;34m(\u001b[0m\u001b[0menv\u001b[0m\u001b[0;34m,\u001b[0m \u001b[0mpi\u001b[0m\u001b[0;34m.\u001b[0m\u001b[0mpolicy\u001b[0m\u001b[0;34m,\u001b[0m \u001b[0mdisplay\u001b[0m\u001b[0;34m=\u001b[0m\u001b[0mverbose\u001b[0m\u001b[0;34m)\u001b[0m\u001b[0;34m\u001b[0m\u001b[0;34m\u001b[0m\u001b[0m\n\u001b[0m",
      "\u001b[0;31mNameError\u001b[0m: name 'verbose' is not defined"
     ]
    }
   ],
   "source": [
    "    total_r_vi = render_env_policy(env, pi.policy, display=verbose)"
   ]
  },
  {
   "cell_type": "code",
   "execution_count": 84,
   "id": "d70d8e0b",
   "metadata": {},
   "outputs": [
    {
     "name": "stdout",
     "output_type": "stream",
     "text": [
      "\n",
      "\u001b[41mS\u001b[0mFFF\n",
      "FHFH\n",
      "FFFH\n",
      "HFFG\n",
      "1\n",
      "  (Down)\n",
      "SFFF\n",
      "\u001b[41mF\u001b[0mHFH\n",
      "FFFH\n",
      "HFFG\n",
      "2\n",
      "  (Right)\n",
      "SFFF\n",
      "FHFH\n",
      "\u001b[41mF\u001b[0mFFH\n",
      "HFFG\n",
      "3\n",
      "  (Right)\n",
      "SFFF\n",
      "FHFH\n",
      "F\u001b[41mF\u001b[0mFH\n",
      "HFFG\n",
      "4\n",
      "  (Right)\n",
      "SFFF\n",
      "FHFH\n",
      "FF\u001b[41mF\u001b[0mH\n",
      "HFFG\n",
      "5\n",
      "Episode finished after 6 timesteps\n",
      "  (Down)\n",
      "SFFF\n",
      "FHFH\n",
      "FFF\u001b[41mH\u001b[0m\n",
      "HFFG\n",
      "Total Reward: -0.750000\n"
     ]
    }
   ],
   "source": [
    "    total_r_vi = render_env_policy(env, vi.policy, display=True)"
   ]
  },
  {
   "cell_type": "code",
   "execution_count": 85,
   "id": "5395ceb2",
   "metadata": {},
   "outputs": [
    {
     "data": {
      "text/plain": [
       "(1, 2, 2, 2, 1, 1, 1, 1, 1, 2, 1, 1, 1, 2, 2, 0)"
      ]
     },
     "execution_count": 85,
     "metadata": {},
     "output_type": "execute_result"
    }
   ],
   "source": [
    "vi.policy"
   ]
  },
  {
   "cell_type": "code",
   "execution_count": 86,
   "id": "b0ce40ef",
   "metadata": {},
   "outputs": [
    {
     "ename": "AttributeError",
     "evalue": "'tuple' object has no attribute 'copy'",
     "output_type": "error",
     "traceback": [
      "\u001b[0;31m---------------------------------------------------------------------------\u001b[0m",
      "\u001b[0;31mAttributeError\u001b[0m                            Traceback (most recent call last)",
      "\u001b[0;32m/var/folders/4p/41bttzcx5y163sbdhm1bfdl40000gn/T/ipykernel_22349/2491318609.py\u001b[0m in \u001b[0;36m<module>\u001b[0;34m\u001b[0m\n\u001b[0;32m----> 1\u001b[0;31m \u001b[0mvi\u001b[0m\u001b[0;34m.\u001b[0m\u001b[0mrun\u001b[0m\u001b[0;34m(\u001b[0m\u001b[0;34m)\u001b[0m\u001b[0;34m\u001b[0m\u001b[0;34m\u001b[0m\u001b[0m\n\u001b[0m",
      "\u001b[0;32m/opt/miniconda3/envs/cs7641/lib/python3.9/site-packages/hiive/mdptoolbox/mdp.py\u001b[0m in \u001b[0;36mrun\u001b[0;34m(self)\u001b[0m\n\u001b[1;32m   1586\u001b[0m             \u001b[0mtake_run_stat\u001b[0m \u001b[0;34m=\u001b[0m \u001b[0mself\u001b[0m\u001b[0;34m.\u001b[0m\u001b[0miter\u001b[0m \u001b[0;34m%\u001b[0m \u001b[0mself\u001b[0m\u001b[0;34m.\u001b[0m\u001b[0mrun_stat_frequency\u001b[0m \u001b[0;34m==\u001b[0m \u001b[0;36m0\u001b[0m \u001b[0;32mor\u001b[0m \u001b[0mself\u001b[0m\u001b[0;34m.\u001b[0m\u001b[0miter\u001b[0m \u001b[0;34m==\u001b[0m \u001b[0mself\u001b[0m\u001b[0;34m.\u001b[0m\u001b[0mmax_iter\u001b[0m\u001b[0;34m\u001b[0m\u001b[0;34m\u001b[0m\u001b[0m\n\u001b[1;32m   1587\u001b[0m \u001b[0;34m\u001b[0m\u001b[0m\n\u001b[0;32m-> 1588\u001b[0;31m             \u001b[0mVprev\u001b[0m \u001b[0;34m=\u001b[0m \u001b[0mself\u001b[0m\u001b[0;34m.\u001b[0m\u001b[0mV\u001b[0m\u001b[0;34m.\u001b[0m\u001b[0mcopy\u001b[0m\u001b[0;34m(\u001b[0m\u001b[0;34m)\u001b[0m\u001b[0;34m\u001b[0m\u001b[0;34m\u001b[0m\u001b[0m\n\u001b[0m\u001b[1;32m   1589\u001b[0m \u001b[0;34m\u001b[0m\u001b[0m\n\u001b[1;32m   1590\u001b[0m             \u001b[0;31m# Bellman Operator: compute policy and value functions\u001b[0m\u001b[0;34m\u001b[0m\u001b[0;34m\u001b[0m\u001b[0m\n",
      "\u001b[0;31mAttributeError\u001b[0m: 'tuple' object has no attribute 'copy'"
     ]
    }
   ],
   "source": [
    "vi.run()"
   ]
  },
  {
   "cell_type": "code",
   "execution_count": 87,
   "id": "e7103ff5",
   "metadata": {},
   "outputs": [],
   "source": [
    "    vi = mdp.ValueIteration(P, R, 0.6, epsilon=0.005, max_iter=10000)"
   ]
  },
  {
   "cell_type": "code",
   "execution_count": 88,
   "id": "a87aa7f5",
   "metadata": {},
   "outputs": [
    {
     "data": {
      "text/plain": [
       "[{'State': None,\n",
       "  'Action': None,\n",
       "  'Reward': 0.3333333333333333,\n",
       "  'Error': 0.3333333333333333,\n",
       "  'Time': 0.0007359981536865234,\n",
       "  'Max V': 0.3333333333333333,\n",
       "  'Mean V': 0.041666666666666664,\n",
       "  'Iteration': 1},\n",
       " {'State': None,\n",
       "  'Action': None,\n",
       "  'Reward': 0.39999999999999997,\n",
       "  'Error': 0.13333333333333333,\n",
       "  'Time': 0.0013010501861572266,\n",
       "  'Max V': 0.39999999999999997,\n",
       "  'Mean V': 0.06666666666666667,\n",
       "  'Iteration': 2},\n",
       " {'State': None,\n",
       "  'Action': None,\n",
       "  'Reward': 0.43999999999999995,\n",
       "  'Error': 0.03999999999999999,\n",
       "  'Time': 0.0013959407806396484,\n",
       "  'Max V': 0.43999999999999995,\n",
       "  'Mean V': 0.08333333333333331,\n",
       "  'Iteration': 3},\n",
       " {'State': None,\n",
       "  'Action': None,\n",
       "  'Reward': 0.45333333333333325,\n",
       "  'Error': 0.02400000000000002,\n",
       "  'Time': 0.0014693737030029297,\n",
       "  'Max V': 0.45333333333333325,\n",
       "  'Mean V': 0.09416666666666665,\n",
       "  'Iteration': 4},\n",
       " {'State': None,\n",
       "  'Action': None,\n",
       "  'Reward': 0.4608,\n",
       "  'Error': 0.012266666666666662,\n",
       "  'Time': 0.0015361309051513672,\n",
       "  'Max V': 0.4608,\n",
       "  'Mean V': 0.10103333333333332,\n",
       "  'Iteration': 5},\n",
       " {'State': None,\n",
       "  'Action': None,\n",
       "  'Reward': 0.4637866666666666,\n",
       "  'Error': 0.0059733333333333305,\n",
       "  'Time': 0.0016012191772460938,\n",
       "  'Max V': 0.4637866666666666,\n",
       "  'Mean V': 0.10522666666666664,\n",
       "  'Iteration': 6},\n",
       " {'State': None,\n",
       "  'Action': None,\n",
       "  'Reward': 0.465472,\n",
       "  'Error': 0.003434666666666669,\n",
       "  'Time': 0.0016641616821289062,\n",
       "  'Max V': 0.465472,\n",
       "  'Mean V': 0.107708,\n",
       "  'Iteration': 7}]"
      ]
     },
     "execution_count": 88,
     "metadata": {},
     "output_type": "execute_result"
    }
   ],
   "source": [
    "vi.run()"
   ]
  },
  {
   "cell_type": "code",
   "execution_count": 89,
   "id": "fd16f009",
   "metadata": {},
   "outputs": [],
   "source": [
    "\n",
    "\n",
    "def value_iteration(env, discount=0.9, epsilon=1e-12):\n",
    "    \n",
    "    start = timer()\n",
    "    \n",
    "    number_of_states = env.observation_space.n\n",
    "    number_of_actions = env.action_space.n\n",
    "    policy = np.zeros((1, number_of_states))\n",
    "    value_list = np.zeros((1, number_of_states))\n",
    "    old_value_list = value_list.copy()\n",
    "    episode = 0\n",
    "    max_change = 1\n",
    "    sigma = discount\n",
    "    while max_change > epsilon:\n",
    "        episode += 1\n",
    "        for s in range(number_of_states):\n",
    "            assigned_value = -np.inf\n",
    "            for a in range(number_of_actions):\n",
    "                # get new state and its reward        \n",
    "                total_cand_value = 0\n",
    "                for prob, new_state, reward, done in env.P[s][a]:\n",
    "                    # get new states value\n",
    "                    value_new_state = old_value_list[0][new_state]\n",
    "                    cand_value = 0\n",
    "                    if done:\n",
    "                        cand_value = reward \n",
    "                    else:\n",
    "                        cand_value = reward + sigma*value_new_state\n",
    "                    total_cand_value += cand_value*prob \n",
    "                        \n",
    "                if total_cand_value > assigned_value:\n",
    "                    assigned_value = total_cand_value\n",
    "                    policy[0][s] = a\n",
    "                    value_list[0][s] = assigned_value\n",
    "        changes = np.abs(value_list - old_value_list)\n",
    "        max_change = np.max(changes)\n",
    "        old_value_list = value_list.copy()\n",
    "        \n",
    "    end = timer()\n",
    "    time_spent = timedelta(seconds=end-start)\n",
    "    print(\"Solved in: {} episodes and {} seconds\".format(episode, time_spent))\n",
    "    return policy[0], episode, time_spent\n",
    "\n"
   ]
  },
  {
   "cell_type": "code",
   "execution_count": 90,
   "id": "e7aeecef",
   "metadata": {},
   "outputs": [
    {
     "ename": "NameError",
     "evalue": "name 'timer' is not defined",
     "output_type": "error",
     "traceback": [
      "\u001b[0;31m---------------------------------------------------------------------------\u001b[0m",
      "\u001b[0;31mNameError\u001b[0m                                 Traceback (most recent call last)",
      "\u001b[0;32m/var/folders/4p/41bttzcx5y163sbdhm1bfdl40000gn/T/ipykernel_22349/1317819280.py\u001b[0m in \u001b[0;36m<module>\u001b[0;34m\u001b[0m\n\u001b[0;32m----> 1\u001b[0;31m \u001b[0mvalue_iteration\u001b[0m\u001b[0;34m(\u001b[0m\u001b[0menv\u001b[0m\u001b[0;34m)\u001b[0m\u001b[0;34m\u001b[0m\u001b[0;34m\u001b[0m\u001b[0m\n\u001b[0m",
      "\u001b[0;32m/var/folders/4p/41bttzcx5y163sbdhm1bfdl40000gn/T/ipykernel_22349/2740580495.py\u001b[0m in \u001b[0;36mvalue_iteration\u001b[0;34m(env, discount, epsilon)\u001b[0m\n\u001b[1;32m      1\u001b[0m \u001b[0;32mdef\u001b[0m \u001b[0mvalue_iteration\u001b[0m\u001b[0;34m(\u001b[0m\u001b[0menv\u001b[0m\u001b[0;34m,\u001b[0m \u001b[0mdiscount\u001b[0m\u001b[0;34m=\u001b[0m\u001b[0;36m0.9\u001b[0m\u001b[0;34m,\u001b[0m \u001b[0mepsilon\u001b[0m\u001b[0;34m=\u001b[0m\u001b[0;36m1e-12\u001b[0m\u001b[0;34m)\u001b[0m\u001b[0;34m:\u001b[0m\u001b[0;34m\u001b[0m\u001b[0;34m\u001b[0m\u001b[0m\n\u001b[1;32m      2\u001b[0m \u001b[0;34m\u001b[0m\u001b[0m\n\u001b[0;32m----> 3\u001b[0;31m     \u001b[0mstart\u001b[0m \u001b[0;34m=\u001b[0m \u001b[0mtimer\u001b[0m\u001b[0;34m(\u001b[0m\u001b[0;34m)\u001b[0m\u001b[0;34m\u001b[0m\u001b[0;34m\u001b[0m\u001b[0m\n\u001b[0m\u001b[1;32m      4\u001b[0m \u001b[0;34m\u001b[0m\u001b[0m\n\u001b[1;32m      5\u001b[0m     \u001b[0mnumber_of_states\u001b[0m \u001b[0;34m=\u001b[0m \u001b[0menv\u001b[0m\u001b[0;34m.\u001b[0m\u001b[0mobservation_space\u001b[0m\u001b[0;34m.\u001b[0m\u001b[0mn\u001b[0m\u001b[0;34m\u001b[0m\u001b[0;34m\u001b[0m\u001b[0m\n",
      "\u001b[0;31mNameError\u001b[0m: name 'timer' is not defined"
     ]
    }
   ],
   "source": [
    "value_iteration(env)"
   ]
  },
  {
   "cell_type": "code",
   "execution_count": 91,
   "id": "d7b0a0c1",
   "metadata": {},
   "outputs": [
    {
     "ename": "ModuleNotFoundError",
     "evalue": "No module named 'timer'",
     "output_type": "error",
     "traceback": [
      "\u001b[0;31m---------------------------------------------------------------------------\u001b[0m",
      "\u001b[0;31mModuleNotFoundError\u001b[0m                       Traceback (most recent call last)",
      "\u001b[0;32m/var/folders/4p/41bttzcx5y163sbdhm1bfdl40000gn/T/ipykernel_22349/820304243.py\u001b[0m in \u001b[0;36m<module>\u001b[0;34m\u001b[0m\n\u001b[0;32m----> 1\u001b[0;31m \u001b[0;32mimport\u001b[0m \u001b[0mtimer\u001b[0m\u001b[0;34m\u001b[0m\u001b[0;34m\u001b[0m\u001b[0m\n\u001b[0m",
      "\u001b[0;31mModuleNotFoundError\u001b[0m: No module named 'timer'"
     ]
    }
   ],
   "source": [
    "import timer"
   ]
  },
  {
   "cell_type": "code",
   "execution_count": 92,
   "id": "b3646856",
   "metadata": {},
   "outputs": [],
   "source": [
    "from timeit import default_timer as timer"
   ]
  },
  {
   "cell_type": "code",
   "execution_count": 93,
   "id": "8ba44c9b",
   "metadata": {},
   "outputs": [],
   "source": [
    "def value_iteration(env, discount=0.9, epsilon=1e-12):\n",
    "    \n",
    "    start = timer()\n",
    "    \n",
    "    number_of_states = env.observation_space.n\n",
    "    number_of_actions = env.action_space.n\n",
    "    policy = np.zeros((1, number_of_states))\n",
    "    value_list = np.zeros((1, number_of_states))\n",
    "    old_value_list = value_list.copy()\n",
    "    episode = 0\n",
    "    max_change = 1\n",
    "    sigma = discount\n",
    "    while max_change > epsilon:\n",
    "        episode += 1\n",
    "        for s in range(number_of_states):\n",
    "            assigned_value = -np.inf\n",
    "            for a in range(number_of_actions):\n",
    "                # get new state and its reward        \n",
    "                total_cand_value = 0\n",
    "                for prob, new_state, reward, done in env.P[s][a]:\n",
    "                    # get new states value\n",
    "                    value_new_state = old_value_list[0][new_state]\n",
    "                    cand_value = 0\n",
    "                    if done:\n",
    "                        cand_value = reward \n",
    "                    else:\n",
    "                        cand_value = reward + sigma*value_new_state\n",
    "                    total_cand_value += cand_value*prob \n",
    "                        \n",
    "                if total_cand_value > assigned_value:\n",
    "                    assigned_value = total_cand_value\n",
    "                    policy[0][s] = a\n",
    "                    value_list[0][s] = assigned_value\n",
    "        changes = np.abs(value_list - old_value_list)\n",
    "        max_change = np.max(changes)\n",
    "        old_value_list = value_list.copy()\n",
    "        \n",
    "    end = timer()\n",
    "    time_spent = timedelta(seconds=end-start)\n",
    "    print(\"Solved in: {} episodes and {} seconds\".format(episode, time_spent))\n",
    "    return policy[0], episode, time_spent"
   ]
  },
  {
   "cell_type": "code",
   "execution_count": 94,
   "id": "9a02adbf",
   "metadata": {},
   "outputs": [
    {
     "name": "stdout",
     "output_type": "stream",
     "text": [
      "<built-in function perf_counter>\n"
     ]
    }
   ],
   "source": [
    "print(timer)"
   ]
  },
  {
   "cell_type": "code",
   "execution_count": 95,
   "id": "44d7dbb2",
   "metadata": {},
   "outputs": [
    {
     "ename": "NameError",
     "evalue": "name 'timedelta' is not defined",
     "output_type": "error",
     "traceback": [
      "\u001b[0;31m---------------------------------------------------------------------------\u001b[0m",
      "\u001b[0;31mNameError\u001b[0m                                 Traceback (most recent call last)",
      "\u001b[0;32m/var/folders/4p/41bttzcx5y163sbdhm1bfdl40000gn/T/ipykernel_22349/1317819280.py\u001b[0m in \u001b[0;36m<module>\u001b[0;34m\u001b[0m\n\u001b[0;32m----> 1\u001b[0;31m \u001b[0mvalue_iteration\u001b[0m\u001b[0;34m(\u001b[0m\u001b[0menv\u001b[0m\u001b[0;34m)\u001b[0m\u001b[0;34m\u001b[0m\u001b[0;34m\u001b[0m\u001b[0m\n\u001b[0m",
      "\u001b[0;32m/var/folders/4p/41bttzcx5y163sbdhm1bfdl40000gn/T/ipykernel_22349/2587601380.py\u001b[0m in \u001b[0;36mvalue_iteration\u001b[0;34m(env, discount, epsilon)\u001b[0m\n\u001b[1;32m     37\u001b[0m \u001b[0;34m\u001b[0m\u001b[0m\n\u001b[1;32m     38\u001b[0m     \u001b[0mend\u001b[0m \u001b[0;34m=\u001b[0m \u001b[0mtimer\u001b[0m\u001b[0;34m(\u001b[0m\u001b[0;34m)\u001b[0m\u001b[0;34m\u001b[0m\u001b[0;34m\u001b[0m\u001b[0m\n\u001b[0;32m---> 39\u001b[0;31m     \u001b[0mtime_spent\u001b[0m \u001b[0;34m=\u001b[0m \u001b[0mtimedelta\u001b[0m\u001b[0;34m(\u001b[0m\u001b[0mseconds\u001b[0m\u001b[0;34m=\u001b[0m\u001b[0mend\u001b[0m\u001b[0;34m-\u001b[0m\u001b[0mstart\u001b[0m\u001b[0;34m)\u001b[0m\u001b[0;34m\u001b[0m\u001b[0;34m\u001b[0m\u001b[0m\n\u001b[0m\u001b[1;32m     40\u001b[0m     \u001b[0mprint\u001b[0m\u001b[0;34m(\u001b[0m\u001b[0;34m\"Solved in: {} episodes and {} seconds\"\u001b[0m\u001b[0;34m.\u001b[0m\u001b[0mformat\u001b[0m\u001b[0;34m(\u001b[0m\u001b[0mepisode\u001b[0m\u001b[0;34m,\u001b[0m \u001b[0mtime_spent\u001b[0m\u001b[0;34m)\u001b[0m\u001b[0;34m)\u001b[0m\u001b[0;34m\u001b[0m\u001b[0;34m\u001b[0m\u001b[0m\n\u001b[1;32m     41\u001b[0m     \u001b[0;32mreturn\u001b[0m \u001b[0mpolicy\u001b[0m\u001b[0;34m[\u001b[0m\u001b[0;36m0\u001b[0m\u001b[0;34m]\u001b[0m\u001b[0;34m,\u001b[0m \u001b[0mepisode\u001b[0m\u001b[0;34m,\u001b[0m \u001b[0mtime_spent\u001b[0m\u001b[0;34m\u001b[0m\u001b[0;34m\u001b[0m\u001b[0m\n",
      "\u001b[0;31mNameError\u001b[0m: name 'timedelta' is not defined"
     ]
    }
   ],
   "source": [
    "value_iteration(env)"
   ]
  },
  {
   "cell_type": "code",
   "execution_count": 96,
   "id": "97b7122f",
   "metadata": {},
   "outputs": [],
   "source": [
    "from datetime import timedelta"
   ]
  },
  {
   "cell_type": "code",
   "execution_count": 97,
   "id": "eba04844",
   "metadata": {},
   "outputs": [
    {
     "name": "stdout",
     "output_type": "stream",
     "text": [
      "Solved in: 179 episodes and 0:00:00.043847 seconds\n"
     ]
    },
    {
     "data": {
      "text/plain": [
       "(array([0., 3., 0., 3., 0., 0., 0., 0., 3., 1., 0., 0., 0., 2., 1., 0.]),\n",
       " 179,\n",
       " datetime.timedelta(microseconds=43847))"
      ]
     },
     "execution_count": 97,
     "metadata": {},
     "output_type": "execute_result"
    }
   ],
   "source": [
    "value_iteration(env)"
   ]
  },
  {
   "cell_type": "code",
   "execution_count": 98,
   "id": "191f2b90",
   "metadata": {},
   "outputs": [
    {
     "name": "stdout",
     "output_type": "stream",
     "text": [
      "Solved in: 179 episodes and 0:00:00.045049 seconds\n"
     ]
    }
   ],
   "source": [
    "policy, _ , _ = value_iteration(env)"
   ]
  },
  {
   "cell_type": "code",
   "execution_count": 99,
   "id": "c815e864",
   "metadata": {},
   "outputs": [
    {
     "name": "stdout",
     "output_type": "stream",
     "text": [
      "\n",
      "\u001b[41mS\u001b[0mFFF\n",
      "FHFH\n",
      "FFFH\n",
      "HFFG\n",
      "1\n"
     ]
    },
    {
     "ename": "TypeError",
     "evalue": "list indices must be integers or slices, not numpy.float64",
     "output_type": "error",
     "traceback": [
      "\u001b[0;31m---------------------------------------------------------------------------\u001b[0m",
      "\u001b[0;31mTypeError\u001b[0m                                 Traceback (most recent call last)",
      "\u001b[0;32m/var/folders/4p/41bttzcx5y163sbdhm1bfdl40000gn/T/ipykernel_22349/860664118.py\u001b[0m in \u001b[0;36m<module>\u001b[0;34m\u001b[0m\n\u001b[0;32m----> 1\u001b[0;31m \u001b[0mtotal_r_vi\u001b[0m \u001b[0;34m=\u001b[0m \u001b[0mrender_env_policy\u001b[0m\u001b[0;34m(\u001b[0m\u001b[0menv\u001b[0m\u001b[0;34m,\u001b[0m \u001b[0mpolicy\u001b[0m\u001b[0;34m,\u001b[0m \u001b[0mdisplay\u001b[0m\u001b[0;34m=\u001b[0m\u001b[0;32mTrue\u001b[0m\u001b[0;34m)\u001b[0m\u001b[0;34m\u001b[0m\u001b[0;34m\u001b[0m\u001b[0m\n\u001b[0m",
      "\u001b[0;32m/var/folders/4p/41bttzcx5y163sbdhm1bfdl40000gn/T/ipykernel_22349/403460501.py\u001b[0m in \u001b[0;36mrender_env_policy\u001b[0;34m(env, policy, display)\u001b[0m\n\u001b[1;32m      7\u001b[0m         \u001b[0mt\u001b[0m \u001b[0;34m+=\u001b[0m \u001b[0;36m1\u001b[0m\u001b[0;34m\u001b[0m\u001b[0;34m\u001b[0m\u001b[0m\n\u001b[1;32m      8\u001b[0m         \u001b[0;32mif\u001b[0m \u001b[0mdisplay\u001b[0m\u001b[0;34m:\u001b[0m\u001b[0;34m\u001b[0m\u001b[0;34m\u001b[0m\u001b[0m\n\u001b[0;32m----> 9\u001b[0;31m             \u001b[0menv\u001b[0m\u001b[0;34m.\u001b[0m\u001b[0mrender\u001b[0m\u001b[0;34m(\u001b[0m\u001b[0;34m)\u001b[0m\u001b[0;34m\u001b[0m\u001b[0;34m\u001b[0m\u001b[0m\n\u001b[0m\u001b[1;32m     10\u001b[0m         \u001b[0mprint\u001b[0m\u001b[0;34m(\u001b[0m\u001b[0mt\u001b[0m\u001b[0;34m)\u001b[0m\u001b[0;34m\u001b[0m\u001b[0;34m\u001b[0m\u001b[0m\n\u001b[1;32m     11\u001b[0m         \u001b[0;31m# action = env.action_space.sample()\u001b[0m\u001b[0;34m\u001b[0m\u001b[0;34m\u001b[0m\u001b[0m\n",
      "\u001b[0;32m/opt/miniconda3/envs/cs7641/lib/python3.9/site-packages/gym/core.py\u001b[0m in \u001b[0;36mrender\u001b[0;34m(self, mode, **kwargs)\u001b[0m\n\u001b[1;32m    293\u001b[0m \u001b[0;34m\u001b[0m\u001b[0m\n\u001b[1;32m    294\u001b[0m     \u001b[0;32mdef\u001b[0m \u001b[0mrender\u001b[0m\u001b[0;34m(\u001b[0m\u001b[0mself\u001b[0m\u001b[0;34m,\u001b[0m \u001b[0mmode\u001b[0m\u001b[0;34m=\u001b[0m\u001b[0;34m\"human\"\u001b[0m\u001b[0;34m,\u001b[0m \u001b[0;34m**\u001b[0m\u001b[0mkwargs\u001b[0m\u001b[0;34m)\u001b[0m\u001b[0;34m:\u001b[0m\u001b[0;34m\u001b[0m\u001b[0;34m\u001b[0m\u001b[0m\n\u001b[0;32m--> 295\u001b[0;31m         \u001b[0;32mreturn\u001b[0m \u001b[0mself\u001b[0m\u001b[0;34m.\u001b[0m\u001b[0menv\u001b[0m\u001b[0;34m.\u001b[0m\u001b[0mrender\u001b[0m\u001b[0;34m(\u001b[0m\u001b[0mmode\u001b[0m\u001b[0;34m,\u001b[0m \u001b[0;34m**\u001b[0m\u001b[0mkwargs\u001b[0m\u001b[0;34m)\u001b[0m\u001b[0;34m\u001b[0m\u001b[0;34m\u001b[0m\u001b[0m\n\u001b[0m\u001b[1;32m    296\u001b[0m \u001b[0;34m\u001b[0m\u001b[0m\n\u001b[1;32m    297\u001b[0m     \u001b[0;32mdef\u001b[0m \u001b[0mclose\u001b[0m\u001b[0;34m(\u001b[0m\u001b[0mself\u001b[0m\u001b[0;34m)\u001b[0m\u001b[0;34m:\u001b[0m\u001b[0;34m\u001b[0m\u001b[0;34m\u001b[0m\u001b[0m\n",
      "\u001b[0;32m/opt/miniconda3/envs/cs7641/lib/python3.9/site-packages/gym/envs/toy_text/frozen_lake.py\u001b[0m in \u001b[0;36mrender\u001b[0;34m(self, mode)\u001b[0m\n\u001b[1;32m    159\u001b[0m         \u001b[0;32mif\u001b[0m \u001b[0mself\u001b[0m\u001b[0;34m.\u001b[0m\u001b[0mlastaction\u001b[0m \u001b[0;32mis\u001b[0m \u001b[0;32mnot\u001b[0m \u001b[0;32mNone\u001b[0m\u001b[0;34m:\u001b[0m\u001b[0;34m\u001b[0m\u001b[0;34m\u001b[0m\u001b[0m\n\u001b[1;32m    160\u001b[0m             outfile.write(\n\u001b[0;32m--> 161\u001b[0;31m                 \u001b[0;34m\"  ({})\\n\"\u001b[0m\u001b[0;34m.\u001b[0m\u001b[0mformat\u001b[0m\u001b[0;34m(\u001b[0m\u001b[0;34m[\u001b[0m\u001b[0;34m\"Left\"\u001b[0m\u001b[0;34m,\u001b[0m \u001b[0;34m\"Down\"\u001b[0m\u001b[0;34m,\u001b[0m \u001b[0;34m\"Right\"\u001b[0m\u001b[0;34m,\u001b[0m \u001b[0;34m\"Up\"\u001b[0m\u001b[0;34m]\u001b[0m\u001b[0;34m[\u001b[0m\u001b[0mself\u001b[0m\u001b[0;34m.\u001b[0m\u001b[0mlastaction\u001b[0m\u001b[0;34m]\u001b[0m\u001b[0;34m)\u001b[0m\u001b[0;34m\u001b[0m\u001b[0;34m\u001b[0m\u001b[0m\n\u001b[0m\u001b[1;32m    162\u001b[0m             )\n\u001b[1;32m    163\u001b[0m         \u001b[0;32melse\u001b[0m\u001b[0;34m:\u001b[0m\u001b[0;34m\u001b[0m\u001b[0;34m\u001b[0m\u001b[0m\n",
      "\u001b[0;31mTypeError\u001b[0m: list indices must be integers or slices, not numpy.float64"
     ]
    }
   ],
   "source": [
    "total_r_vi = render_env_policy(env, policy, display=True)"
   ]
  },
  {
   "cell_type": "code",
   "execution_count": 100,
   "id": "7929ecb7",
   "metadata": {},
   "outputs": [
    {
     "data": {
      "text/plain": [
       "array([0., 3., 0., 3., 0., 0., 0., 0., 3., 1., 0., 0., 0., 2., 1., 0.])"
      ]
     },
     "execution_count": 100,
     "metadata": {},
     "output_type": "execute_result"
    }
   ],
   "source": [
    "policy"
   ]
  },
  {
   "cell_type": "code",
   "execution_count": 101,
   "id": "92922592",
   "metadata": {},
   "outputs": [
    {
     "ename": "NameError",
     "evalue": "name 'array' is not defined",
     "output_type": "error",
     "traceback": [
      "\u001b[0;31m---------------------------------------------------------------------------\u001b[0m",
      "\u001b[0;31mNameError\u001b[0m                                 Traceback (most recent call last)",
      "\u001b[0;32m/var/folders/4p/41bttzcx5y163sbdhm1bfdl40000gn/T/ipykernel_22349/1595642562.py\u001b[0m in \u001b[0;36m<module>\u001b[0;34m\u001b[0m\n\u001b[0;32m----> 1\u001b[0;31m \u001b[0marray\u001b[0m\u001b[0;34m(\u001b[0m\u001b[0mpolicy\u001b[0m\u001b[0;34m)\u001b[0m\u001b[0;34m\u001b[0m\u001b[0;34m\u001b[0m\u001b[0m\n\u001b[0m",
      "\u001b[0;31mNameError\u001b[0m: name 'array' is not defined"
     ]
    }
   ],
   "source": [
    "array(policy)"
   ]
  },
  {
   "cell_type": "code",
   "execution_count": 102,
   "id": "ed52c59e",
   "metadata": {},
   "outputs": [
    {
     "ename": "NameError",
     "evalue": "name 'Array' is not defined",
     "output_type": "error",
     "traceback": [
      "\u001b[0;31m---------------------------------------------------------------------------\u001b[0m",
      "\u001b[0;31mNameError\u001b[0m                                 Traceback (most recent call last)",
      "\u001b[0;32m/var/folders/4p/41bttzcx5y163sbdhm1bfdl40000gn/T/ipykernel_22349/4040911441.py\u001b[0m in \u001b[0;36m<module>\u001b[0;34m\u001b[0m\n\u001b[0;32m----> 1\u001b[0;31m \u001b[0mArray\u001b[0m\u001b[0;34m(\u001b[0m\u001b[0mpolicy\u001b[0m\u001b[0;34m)\u001b[0m\u001b[0;34m\u001b[0m\u001b[0;34m\u001b[0m\u001b[0m\n\u001b[0m",
      "\u001b[0;31mNameError\u001b[0m: name 'Array' is not defined"
     ]
    }
   ],
   "source": [
    "Array(policy)"
   ]
  },
  {
   "cell_type": "code",
   "execution_count": 103,
   "id": "8c634222",
   "metadata": {},
   "outputs": [
    {
     "ename": "SyntaxError",
     "evalue": "unmatched ')' (833755033.py, line 1)",
     "output_type": "error",
     "traceback": [
      "\u001b[0;36m  File \u001b[0;32m\"/var/folders/4p/41bttzcx5y163sbdhm1bfdl40000gn/T/ipykernel_22349/833755033.py\"\u001b[0;36m, line \u001b[0;32m1\u001b[0m\n\u001b[0;31m    policy.tolist())\u001b[0m\n\u001b[0m                   ^\u001b[0m\n\u001b[0;31mSyntaxError\u001b[0m\u001b[0;31m:\u001b[0m unmatched ')'\n"
     ]
    }
   ],
   "source": [
    "policy.tolist())"
   ]
  },
  {
   "cell_type": "code",
   "execution_count": 104,
   "id": "5aefa9e5",
   "metadata": {},
   "outputs": [
    {
     "data": {
      "text/plain": [
       "[0.0,\n",
       " 3.0,\n",
       " 0.0,\n",
       " 3.0,\n",
       " 0.0,\n",
       " 0.0,\n",
       " 0.0,\n",
       " 0.0,\n",
       " 3.0,\n",
       " 1.0,\n",
       " 0.0,\n",
       " 0.0,\n",
       " 0.0,\n",
       " 2.0,\n",
       " 1.0,\n",
       " 0.0]"
      ]
     },
     "execution_count": 104,
     "metadata": {},
     "output_type": "execute_result"
    }
   ],
   "source": [
    "policy.tolist()"
   ]
  },
  {
   "cell_type": "code",
   "execution_count": 105,
   "id": "fbc00f3a",
   "metadata": {},
   "outputs": [],
   "source": [
    "policy = policy.astype(int)"
   ]
  },
  {
   "cell_type": "code",
   "execution_count": 106,
   "id": "9f753736",
   "metadata": {},
   "outputs": [
    {
     "data": {
      "text/plain": [
       "array([0, 3, 0, 3, 0, 0, 0, 0, 3, 1, 0, 0, 0, 2, 1, 0])"
      ]
     },
     "execution_count": 106,
     "metadata": {},
     "output_type": "execute_result"
    }
   ],
   "source": [
    "policy"
   ]
  },
  {
   "cell_type": "code",
   "execution_count": 107,
   "id": "01f5d5cb",
   "metadata": {},
   "outputs": [
    {
     "name": "stdout",
     "output_type": "stream",
     "text": [
      "\n",
      "\u001b[41mS\u001b[0mFFF\n",
      "FHFH\n",
      "FFFH\n",
      "HFFG\n",
      "1\n",
      "  (Left)\n",
      "\u001b[41mS\u001b[0mFFF\n",
      "FHFH\n",
      "FFFH\n",
      "HFFG\n",
      "2\n",
      "  (Up)\n",
      "S\u001b[41mF\u001b[0mFF\n",
      "FHFH\n",
      "FFFH\n",
      "HFFG\n",
      "3\n",
      "  (Left)\n",
      "S\u001b[41mF\u001b[0mFF\n",
      "FHFH\n",
      "FFFH\n",
      "HFFG\n",
      "4\n",
      "  (Up)\n",
      "S\u001b[41mF\u001b[0mFF\n",
      "FHFH\n",
      "FFFH\n",
      "HFFG\n",
      "5\n",
      "  (Left)\n",
      "S\u001b[41mF\u001b[0mFF\n",
      "FHFH\n",
      "FFFH\n",
      "HFFG\n",
      "6\n",
      "Episode finished after 7 timesteps\n",
      "  (Left)\n",
      "SFFF\n",
      "F\u001b[41mH\u001b[0mFH\n",
      "FFFH\n",
      "HFFG\n",
      "Total Reward: -0.750000\n"
     ]
    }
   ],
   "source": [
    "total_r_vi = render_env_policy(env, policy, display=True)"
   ]
  },
  {
   "cell_type": "code",
   "execution_count": 108,
   "id": "f2da95b4",
   "metadata": {},
   "outputs": [
    {
     "data": {
      "text/plain": [
       "{0: {0: [(0.3333333333333333, 0, 0.0, False),\n",
       "   (0.3333333333333333, 0, 0.0, False),\n",
       "   (0.3333333333333333, 4, 0.0, False)],\n",
       "  1: [(0.3333333333333333, 0, 0.0, False),\n",
       "   (0.3333333333333333, 4, 0.0, False),\n",
       "   (0.3333333333333333, 1, 0.0, False)],\n",
       "  2: [(0.3333333333333333, 4, 0.0, False),\n",
       "   (0.3333333333333333, 1, 0.0, False),\n",
       "   (0.3333333333333333, 0, 0.0, False)],\n",
       "  3: [(0.3333333333333333, 1, 0.0, False),\n",
       "   (0.3333333333333333, 0, 0.0, False),\n",
       "   (0.3333333333333333, 0, 0.0, False)]},\n",
       " 1: {0: [(0.3333333333333333, 1, 0.0, False),\n",
       "   (0.3333333333333333, 0, 0.0, False),\n",
       "   (0.3333333333333333, 5, 0.0, True)],\n",
       "  1: [(0.3333333333333333, 0, 0.0, False),\n",
       "   (0.3333333333333333, 5, 0.0, True),\n",
       "   (0.3333333333333333, 2, 0.0, False)],\n",
       "  2: [(0.3333333333333333, 5, 0.0, True),\n",
       "   (0.3333333333333333, 2, 0.0, False),\n",
       "   (0.3333333333333333, 1, 0.0, False)],\n",
       "  3: [(0.3333333333333333, 2, 0.0, False),\n",
       "   (0.3333333333333333, 1, 0.0, False),\n",
       "   (0.3333333333333333, 0, 0.0, False)]},\n",
       " 2: {0: [(0.3333333333333333, 2, 0.0, False),\n",
       "   (0.3333333333333333, 1, 0.0, False),\n",
       "   (0.3333333333333333, 6, 0.0, False)],\n",
       "  1: [(0.3333333333333333, 1, 0.0, False),\n",
       "   (0.3333333333333333, 6, 0.0, False),\n",
       "   (0.3333333333333333, 3, 0.0, False)],\n",
       "  2: [(0.3333333333333333, 6, 0.0, False),\n",
       "   (0.3333333333333333, 3, 0.0, False),\n",
       "   (0.3333333333333333, 2, 0.0, False)],\n",
       "  3: [(0.3333333333333333, 3, 0.0, False),\n",
       "   (0.3333333333333333, 2, 0.0, False),\n",
       "   (0.3333333333333333, 1, 0.0, False)]},\n",
       " 3: {0: [(0.3333333333333333, 3, 0.0, False),\n",
       "   (0.3333333333333333, 2, 0.0, False),\n",
       "   (0.3333333333333333, 7, 0.0, True)],\n",
       "  1: [(0.3333333333333333, 2, 0.0, False),\n",
       "   (0.3333333333333333, 7, 0.0, True),\n",
       "   (0.3333333333333333, 3, 0.0, False)],\n",
       "  2: [(0.3333333333333333, 7, 0.0, True),\n",
       "   (0.3333333333333333, 3, 0.0, False),\n",
       "   (0.3333333333333333, 3, 0.0, False)],\n",
       "  3: [(0.3333333333333333, 3, 0.0, False),\n",
       "   (0.3333333333333333, 3, 0.0, False),\n",
       "   (0.3333333333333333, 2, 0.0, False)]},\n",
       " 4: {0: [(0.3333333333333333, 0, 0.0, False),\n",
       "   (0.3333333333333333, 4, 0.0, False),\n",
       "   (0.3333333333333333, 8, 0.0, False)],\n",
       "  1: [(0.3333333333333333, 4, 0.0, False),\n",
       "   (0.3333333333333333, 8, 0.0, False),\n",
       "   (0.3333333333333333, 5, 0.0, True)],\n",
       "  2: [(0.3333333333333333, 8, 0.0, False),\n",
       "   (0.3333333333333333, 5, 0.0, True),\n",
       "   (0.3333333333333333, 0, 0.0, False)],\n",
       "  3: [(0.3333333333333333, 5, 0.0, True),\n",
       "   (0.3333333333333333, 0, 0.0, False),\n",
       "   (0.3333333333333333, 4, 0.0, False)]},\n",
       " 5: {0: [(1.0, 5, 0, True)],\n",
       "  1: [(1.0, 5, 0, True)],\n",
       "  2: [(1.0, 5, 0, True)],\n",
       "  3: [(1.0, 5, 0, True)]},\n",
       " 6: {0: [(0.3333333333333333, 2, 0.0, False),\n",
       "   (0.3333333333333333, 5, 0.0, True),\n",
       "   (0.3333333333333333, 10, 0.0, False)],\n",
       "  1: [(0.3333333333333333, 5, 0.0, True),\n",
       "   (0.3333333333333333, 10, 0.0, False),\n",
       "   (0.3333333333333333, 7, 0.0, True)],\n",
       "  2: [(0.3333333333333333, 10, 0.0, False),\n",
       "   (0.3333333333333333, 7, 0.0, True),\n",
       "   (0.3333333333333333, 2, 0.0, False)],\n",
       "  3: [(0.3333333333333333, 7, 0.0, True),\n",
       "   (0.3333333333333333, 2, 0.0, False),\n",
       "   (0.3333333333333333, 5, 0.0, True)]},\n",
       " 7: {0: [(1.0, 7, 0, True)],\n",
       "  1: [(1.0, 7, 0, True)],\n",
       "  2: [(1.0, 7, 0, True)],\n",
       "  3: [(1.0, 7, 0, True)]},\n",
       " 8: {0: [(0.3333333333333333, 4, 0.0, False),\n",
       "   (0.3333333333333333, 8, 0.0, False),\n",
       "   (0.3333333333333333, 12, 0.0, True)],\n",
       "  1: [(0.3333333333333333, 8, 0.0, False),\n",
       "   (0.3333333333333333, 12, 0.0, True),\n",
       "   (0.3333333333333333, 9, 0.0, False)],\n",
       "  2: [(0.3333333333333333, 12, 0.0, True),\n",
       "   (0.3333333333333333, 9, 0.0, False),\n",
       "   (0.3333333333333333, 4, 0.0, False)],\n",
       "  3: [(0.3333333333333333, 9, 0.0, False),\n",
       "   (0.3333333333333333, 4, 0.0, False),\n",
       "   (0.3333333333333333, 8, 0.0, False)]},\n",
       " 9: {0: [(0.3333333333333333, 5, 0.0, True),\n",
       "   (0.3333333333333333, 8, 0.0, False),\n",
       "   (0.3333333333333333, 13, 0.0, False)],\n",
       "  1: [(0.3333333333333333, 8, 0.0, False),\n",
       "   (0.3333333333333333, 13, 0.0, False),\n",
       "   (0.3333333333333333, 10, 0.0, False)],\n",
       "  2: [(0.3333333333333333, 13, 0.0, False),\n",
       "   (0.3333333333333333, 10, 0.0, False),\n",
       "   (0.3333333333333333, 5, 0.0, True)],\n",
       "  3: [(0.3333333333333333, 10, 0.0, False),\n",
       "   (0.3333333333333333, 5, 0.0, True),\n",
       "   (0.3333333333333333, 8, 0.0, False)]},\n",
       " 10: {0: [(0.3333333333333333, 6, 0.0, False),\n",
       "   (0.3333333333333333, 9, 0.0, False),\n",
       "   (0.3333333333333333, 14, 0.0, False)],\n",
       "  1: [(0.3333333333333333, 9, 0.0, False),\n",
       "   (0.3333333333333333, 14, 0.0, False),\n",
       "   (0.3333333333333333, 11, 0.0, True)],\n",
       "  2: [(0.3333333333333333, 14, 0.0, False),\n",
       "   (0.3333333333333333, 11, 0.0, True),\n",
       "   (0.3333333333333333, 6, 0.0, False)],\n",
       "  3: [(0.3333333333333333, 11, 0.0, True),\n",
       "   (0.3333333333333333, 6, 0.0, False),\n",
       "   (0.3333333333333333, 9, 0.0, False)]},\n",
       " 11: {0: [(1.0, 11, 0, True)],\n",
       "  1: [(1.0, 11, 0, True)],\n",
       "  2: [(1.0, 11, 0, True)],\n",
       "  3: [(1.0, 11, 0, True)]},\n",
       " 12: {0: [(1.0, 12, 0, True)],\n",
       "  1: [(1.0, 12, 0, True)],\n",
       "  2: [(1.0, 12, 0, True)],\n",
       "  3: [(1.0, 12, 0, True)]},\n",
       " 13: {0: [(0.3333333333333333, 9, 0.0, False),\n",
       "   (0.3333333333333333, 12, 0.0, True),\n",
       "   (0.3333333333333333, 13, 0.0, False)],\n",
       "  1: [(0.3333333333333333, 12, 0.0, True),\n",
       "   (0.3333333333333333, 13, 0.0, False),\n",
       "   (0.3333333333333333, 14, 0.0, False)],\n",
       "  2: [(0.3333333333333333, 13, 0.0, False),\n",
       "   (0.3333333333333333, 14, 0.0, False),\n",
       "   (0.3333333333333333, 9, 0.0, False)],\n",
       "  3: [(0.3333333333333333, 14, 0.0, False),\n",
       "   (0.3333333333333333, 9, 0.0, False),\n",
       "   (0.3333333333333333, 12, 0.0, True)]},\n",
       " 14: {0: [(0.3333333333333333, 10, 0.0, False),\n",
       "   (0.3333333333333333, 13, 0.0, False),\n",
       "   (0.3333333333333333, 14, 0.0, False)],\n",
       "  1: [(0.3333333333333333, 13, 0.0, False),\n",
       "   (0.3333333333333333, 14, 0.0, False),\n",
       "   (0.3333333333333333, 15, 1.0, True)],\n",
       "  2: [(0.3333333333333333, 14, 0.0, False),\n",
       "   (0.3333333333333333, 15, 1.0, True),\n",
       "   (0.3333333333333333, 10, 0.0, False)],\n",
       "  3: [(0.3333333333333333, 15, 1.0, True),\n",
       "   (0.3333333333333333, 10, 0.0, False),\n",
       "   (0.3333333333333333, 13, 0.0, False)]},\n",
       " 15: {0: [(1.0, 15, 0, True)],\n",
       "  1: [(1.0, 15, 0, True)],\n",
       "  2: [(1.0, 15, 0, True)],\n",
       "  3: [(1.0, 15, 0, True)]}}"
      ]
     },
     "execution_count": 108,
     "metadata": {},
     "output_type": "execute_result"
    }
   ],
   "source": [
    "env.P"
   ]
  },
  {
   "cell_type": "code",
   "execution_count": 109,
   "id": "1720251d",
   "metadata": {},
   "outputs": [
    {
     "name": "stdout",
     "output_type": "stream",
     "text": [
      "\n",
      "\u001b[41mS\u001b[0mFFF\n",
      "FHFH\n",
      "FFFH\n",
      "HFFG\n",
      "1\n",
      "  (Left)\n",
      "\u001b[41mS\u001b[0mFFF\n",
      "FHFH\n",
      "FFFH\n",
      "HFFG\n",
      "2\n",
      "  (Up)\n",
      "S\u001b[41mF\u001b[0mFF\n",
      "FHFH\n",
      "FFFH\n",
      "HFFG\n",
      "3\n",
      "  (Left)\n",
      "\u001b[41mS\u001b[0mFFF\n",
      "FHFH\n",
      "FFFH\n",
      "HFFG\n",
      "4\n",
      "  (Up)\n",
      "S\u001b[41mF\u001b[0mFF\n",
      "FHFH\n",
      "FFFH\n",
      "HFFG\n",
      "5\n",
      "  (Left)\n",
      "S\u001b[41mF\u001b[0mFF\n",
      "FHFH\n",
      "FFFH\n",
      "HFFG\n",
      "6\n",
      "Episode finished after 7 timesteps\n",
      "  (Left)\n",
      "SFFF\n",
      "F\u001b[41mH\u001b[0mFH\n",
      "FFFH\n",
      "HFFG\n",
      "Total Reward: -0.750000\n"
     ]
    }
   ],
   "source": [
    "total_r_vi = render_env_policy(env, policy, display=True)"
   ]
  },
  {
   "cell_type": "code",
   "execution_count": 110,
   "id": "867684ee",
   "metadata": {},
   "outputs": [
    {
     "name": "stdout",
     "output_type": "stream",
     "text": [
      "\n",
      "\u001b[41mS\u001b[0mFFF\n",
      "FHFH\n",
      "FFFH\n",
      "HFFG\n",
      "1\n",
      "  (Left)\n",
      "\u001b[41mS\u001b[0mFFF\n",
      "FHFH\n",
      "FFFH\n",
      "HFFG\n",
      "2\n",
      "  (Up)\n",
      "\u001b[41mS\u001b[0mFFF\n",
      "FHFH\n",
      "FFFH\n",
      "HFFG\n",
      "3\n",
      "  (Left)\n",
      "SFFF\n",
      "\u001b[41mF\u001b[0mHFH\n",
      "FFFH\n",
      "HFFG\n",
      "4\n",
      "  (Up)\n",
      "SFFF\n",
      "\u001b[41mF\u001b[0mHFH\n",
      "FFFH\n",
      "HFFG\n",
      "5\n",
      "  (Left)\n",
      "SFFF\n",
      "FHFH\n",
      "\u001b[41mF\u001b[0mFFH\n",
      "HFFG\n",
      "6\n",
      "  (Left)\n",
      "SFFF\n",
      "\u001b[41mF\u001b[0mHFH\n",
      "FFFH\n",
      "HFFG\n",
      "7\n",
      "  (Left)\n",
      "\u001b[41mS\u001b[0mFFF\n",
      "FHFH\n",
      "FFFH\n",
      "HFFG\n",
      "8\n",
      "  (Left)\n",
      "\u001b[41mS\u001b[0mFFF\n",
      "FHFH\n",
      "FFFH\n",
      "HFFG\n",
      "9\n",
      "  (Up)\n",
      "\u001b[41mS\u001b[0mFFF\n",
      "FHFH\n",
      "FFFH\n",
      "HFFG\n",
      "10\n",
      "  (Down)\n",
      "\u001b[41mS\u001b[0mFFF\n",
      "FHFH\n",
      "FFFH\n",
      "HFFG\n",
      "11\n",
      "  (Left)\n",
      "SFFF\n",
      "\u001b[41mF\u001b[0mHFH\n",
      "FFFH\n",
      "HFFG\n",
      "12\n",
      "  (Left)\n",
      "\u001b[41mS\u001b[0mFFF\n",
      "FHFH\n",
      "FFFH\n",
      "HFFG\n",
      "13\n",
      "  (Left)\n",
      "\u001b[41mS\u001b[0mFFF\n",
      "FHFH\n",
      "FFFH\n",
      "HFFG\n",
      "14\n",
      "  (Right)\n",
      "SFFF\n",
      "\u001b[41mF\u001b[0mHFH\n",
      "FFFH\n",
      "HFFG\n",
      "15\n",
      "  (Down)\n",
      "SFFF\n",
      "\u001b[41mF\u001b[0mHFH\n",
      "FFFH\n",
      "HFFG\n",
      "16\n",
      "  (Left)\n",
      "SFFF\n",
      "\u001b[41mF\u001b[0mHFH\n",
      "FFFH\n",
      "HFFG\n",
      "Total Reward: 0.000000\n"
     ]
    }
   ],
   "source": [
    "total_r_vi = render_env_policy(env, policy, display=True)"
   ]
  },
  {
   "cell_type": "code",
   "execution_count": 111,
   "id": "f8e87dde",
   "metadata": {},
   "outputs": [
    {
     "name": "stdout",
     "output_type": "stream",
     "text": [
      "\n",
      "\u001b[41mS\u001b[0mFFF\n",
      "FHFH\n",
      "FFFH\n",
      "HFFG\n",
      "1\n",
      "  (Left)\n",
      "SFFF\n",
      "\u001b[41mF\u001b[0mHFH\n",
      "FFFH\n",
      "HFFG\n",
      "2\n",
      "  (Up)\n",
      "\u001b[41mS\u001b[0mFFF\n",
      "FHFH\n",
      "FFFH\n",
      "HFFG\n",
      "3\n",
      "  (Left)\n",
      "\u001b[41mS\u001b[0mFFF\n",
      "FHFH\n",
      "FFFH\n",
      "HFFG\n",
      "4\n",
      "  (Up)\n",
      "S\u001b[41mF\u001b[0mFF\n",
      "FHFH\n",
      "FFFH\n",
      "HFFG\n",
      "5\n",
      "  (Left)\n",
      "\u001b[41mS\u001b[0mFFF\n",
      "FHFH\n",
      "FFFH\n",
      "HFFG\n",
      "6\n",
      "  (Left)\n",
      "\u001b[41mS\u001b[0mFFF\n",
      "FHFH\n",
      "FFFH\n",
      "HFFG\n",
      "7\n",
      "  (Left)\n",
      "\u001b[41mS\u001b[0mFFF\n",
      "FHFH\n",
      "FFFH\n",
      "HFFG\n",
      "8\n",
      "  (Left)\n",
      "\u001b[41mS\u001b[0mFFF\n",
      "FHFH\n",
      "FFFH\n",
      "HFFG\n",
      "9\n",
      "  (Up)\n",
      "S\u001b[41mF\u001b[0mFF\n",
      "FHFH\n",
      "FFFH\n",
      "HFFG\n",
      "10\n",
      "Episode finished after 11 timesteps\n",
      "  (Down)\n",
      "SFFF\n",
      "F\u001b[41mH\u001b[0mFH\n",
      "FFFH\n",
      "HFFG\n",
      "Total Reward: -0.750000\n"
     ]
    }
   ],
   "source": [
    "total_r_vi = render_env_policy(env, policy, display=True)"
   ]
  },
  {
   "cell_type": "code",
   "execution_count": 112,
   "id": "701c9fa9",
   "metadata": {},
   "outputs": [
    {
     "name": "stdout",
     "output_type": "stream",
     "text": [
      "\n",
      "\u001b[41mS\u001b[0mFFF\n",
      "FHFH\n",
      "FFFH\n",
      "HFFG\n",
      "1\n",
      "  (Left)\n",
      "SFFF\n",
      "\u001b[41mF\u001b[0mHFH\n",
      "FFFH\n",
      "HFFG\n",
      "2\n",
      "  (Up)\n",
      "SFFF\n",
      "\u001b[41mF\u001b[0mHFH\n",
      "FFFH\n",
      "HFFG\n",
      "3\n",
      "  (Left)\n",
      "SFFF\n",
      "\u001b[41mF\u001b[0mHFH\n",
      "FFFH\n",
      "HFFG\n",
      "4\n",
      "  (Up)\n",
      "\u001b[41mS\u001b[0mFFF\n",
      "FHFH\n",
      "FFFH\n",
      "HFFG\n",
      "5\n",
      "  (Left)\n",
      "\u001b[41mS\u001b[0mFFF\n",
      "FHFH\n",
      "FFFH\n",
      "HFFG\n",
      "6\n",
      "  (Left)\n",
      "\u001b[41mS\u001b[0mFFF\n",
      "FHFH\n",
      "FFFH\n",
      "HFFG\n",
      "7\n",
      "  (Left)\n",
      "\u001b[41mS\u001b[0mFFF\n",
      "FHFH\n",
      "FFFH\n",
      "HFFG\n",
      "8\n",
      "  (Left)\n",
      "\u001b[41mS\u001b[0mFFF\n",
      "FHFH\n",
      "FFFH\n",
      "HFFG\n",
      "9\n",
      "  (Up)\n",
      "S\u001b[41mF\u001b[0mFF\n",
      "FHFH\n",
      "FFFH\n",
      "HFFG\n",
      "10\n",
      "  (Down)\n",
      "\u001b[41mS\u001b[0mFFF\n",
      "FHFH\n",
      "FFFH\n",
      "HFFG\n",
      "11\n",
      "  (Left)\n",
      "\u001b[41mS\u001b[0mFFF\n",
      "FHFH\n",
      "FFFH\n",
      "HFFG\n",
      "12\n",
      "  (Left)\n",
      "SFFF\n",
      "\u001b[41mF\u001b[0mHFH\n",
      "FFFH\n",
      "HFFG\n",
      "13\n",
      "  (Left)\n",
      "\u001b[41mS\u001b[0mFFF\n",
      "FHFH\n",
      "FFFH\n",
      "HFFG\n",
      "14\n",
      "  (Right)\n",
      "SFFF\n",
      "\u001b[41mF\u001b[0mHFH\n",
      "FFFH\n",
      "HFFG\n",
      "15\n",
      "Episode finished after 16 timesteps\n",
      "  (Down)\n",
      "SFFF\n",
      "F\u001b[41mH\u001b[0mFH\n",
      "FFFH\n",
      "HFFG\n",
      "Total Reward: -0.750000\n"
     ]
    }
   ],
   "source": [
    "total_r_vi = render_env_policy(env, policy, display=True)"
   ]
  },
  {
   "cell_type": "code",
   "execution_count": 113,
   "id": "d3f59dec",
   "metadata": {},
   "outputs": [
    {
     "name": "stdout",
     "output_type": "stream",
     "text": [
      "\n",
      "\u001b[41mS\u001b[0mFFF\n",
      "FHFH\n",
      "FFFH\n",
      "HFFG\n",
      "1\n",
      "  (Left)\n",
      "SFFF\n",
      "\u001b[41mF\u001b[0mHFH\n",
      "FFFH\n",
      "HFFG\n",
      "2\n",
      "  (Up)\n",
      "SFFF\n",
      "\u001b[41mF\u001b[0mHFH\n",
      "FFFH\n",
      "HFFG\n",
      "3\n",
      "  (Left)\n",
      "SFFF\n",
      "FHFH\n",
      "\u001b[41mF\u001b[0mFFH\n",
      "HFFG\n",
      "4\n",
      "  (Up)\n",
      "SFFF\n",
      "FHFH\n",
      "F\u001b[41mF\u001b[0mFH\n",
      "HFFG\n",
      "5\n",
      "  (Left)\n",
      "SFFF\n",
      "FHFH\n",
      "FFFH\n",
      "H\u001b[41mF\u001b[0mFG\n",
      "6\n",
      "  (Left)\n",
      "SFFF\n",
      "FHFH\n",
      "FFFH\n",
      "H\u001b[41mF\u001b[0mFG\n",
      "7\n",
      "  (Left)\n",
      "SFFF\n",
      "FHFH\n",
      "FFFH\n",
      "H\u001b[41mF\u001b[0mFG\n",
      "8\n",
      "  (Left)\n",
      "SFFF\n",
      "FHFH\n",
      "FFFH\n",
      "H\u001b[41mF\u001b[0mFG\n",
      "9\n",
      "  (Up)\n",
      "SFFF\n",
      "FHFH\n",
      "F\u001b[41mF\u001b[0mFH\n",
      "HFFG\n",
      "10\n",
      "  (Down)\n",
      "SFFF\n",
      "FHFH\n",
      "\u001b[41mF\u001b[0mFFH\n",
      "HFFG\n",
      "11\n",
      "Episode finished after 12 timesteps\n",
      "  (Left)\n",
      "SFFF\n",
      "FHFH\n",
      "FFFH\n",
      "\u001b[41mH\u001b[0mFFG\n",
      "Total Reward: -0.750000\n"
     ]
    }
   ],
   "source": [
    "total_r_vi = render_env_policy(env, policy, display=True)"
   ]
  },
  {
   "cell_type": "code",
   "execution_count": 114,
   "id": "6e5bc819",
   "metadata": {},
   "outputs": [
    {
     "name": "stdout",
     "output_type": "stream",
     "text": [
      "\n",
      "\u001b[41mS\u001b[0mFFF\n",
      "FHFH\n",
      "FFFH\n",
      "HFFG\n",
      "1\n",
      "  (Left)\n",
      "\u001b[41mS\u001b[0mFFF\n",
      "FHFH\n",
      "FFFH\n",
      "HFFG\n",
      "2\n",
      "  (Up)\n",
      "S\u001b[41mF\u001b[0mFF\n",
      "FHFH\n",
      "FFFH\n",
      "HFFG\n",
      "3\n",
      "  (Left)\n",
      "\u001b[41mS\u001b[0mFFF\n",
      "FHFH\n",
      "FFFH\n",
      "HFFG\n",
      "4\n",
      "  (Up)\n",
      "\u001b[41mS\u001b[0mFFF\n",
      "FHFH\n",
      "FFFH\n",
      "HFFG\n",
      "5\n",
      "  (Left)\n",
      "SFFF\n",
      "\u001b[41mF\u001b[0mHFH\n",
      "FFFH\n",
      "HFFG\n",
      "6\n",
      "  (Left)\n",
      "SFFF\n",
      "\u001b[41mF\u001b[0mHFH\n",
      "FFFH\n",
      "HFFG\n",
      "7\n",
      "  (Left)\n",
      "SFFF\n",
      "\u001b[41mF\u001b[0mHFH\n",
      "FFFH\n",
      "HFFG\n",
      "8\n",
      "  (Left)\n",
      "SFFF\n",
      "\u001b[41mF\u001b[0mHFH\n",
      "FFFH\n",
      "HFFG\n",
      "9\n",
      "  (Up)\n",
      "SFFF\n",
      "\u001b[41mF\u001b[0mHFH\n",
      "FFFH\n",
      "HFFG\n",
      "10\n",
      "Episode finished after 11 timesteps\n",
      "  (Down)\n",
      "SFFF\n",
      "F\u001b[41mH\u001b[0mFH\n",
      "FFFH\n",
      "HFFG\n",
      "Total Reward: -0.750000\n"
     ]
    }
   ],
   "source": [
    "total_r_vi = render_env_policy(env, policy, display=True)"
   ]
  },
  {
   "cell_type": "code",
   "execution_count": 115,
   "id": "87484c06",
   "metadata": {},
   "outputs": [
    {
     "name": "stdout",
     "output_type": "stream",
     "text": [
      "\n",
      "\u001b[41mS\u001b[0mFFF\n",
      "FHFH\n",
      "FFFH\n",
      "HFFG\n",
      "1\n",
      "  (Left)\n",
      "\u001b[41mS\u001b[0mFFF\n",
      "FHFH\n",
      "FFFH\n",
      "HFFG\n",
      "2\n",
      "  (Up)\n",
      "S\u001b[41mF\u001b[0mFF\n",
      "FHFH\n",
      "FFFH\n",
      "HFFG\n",
      "3\n",
      "  (Left)\n",
      "\u001b[41mS\u001b[0mFFF\n",
      "FHFH\n",
      "FFFH\n",
      "HFFG\n",
      "4\n",
      "  (Up)\n",
      "\u001b[41mS\u001b[0mFFF\n",
      "FHFH\n",
      "FFFH\n",
      "HFFG\n",
      "5\n",
      "  (Left)\n",
      "SFFF\n",
      "\u001b[41mF\u001b[0mHFH\n",
      "FFFH\n",
      "HFFG\n",
      "6\n",
      "  (Left)\n",
      "SFFF\n",
      "FHFH\n",
      "\u001b[41mF\u001b[0mFFH\n",
      "HFFG\n",
      "7\n",
      "  (Left)\n",
      "SFFF\n",
      "\u001b[41mF\u001b[0mHFH\n",
      "FFFH\n",
      "HFFG\n",
      "8\n",
      "  (Left)\n",
      "\u001b[41mS\u001b[0mFFF\n",
      "FHFH\n",
      "FFFH\n",
      "HFFG\n",
      "9\n",
      "  (Up)\n",
      "S\u001b[41mF\u001b[0mFF\n",
      "FHFH\n",
      "FFFH\n",
      "HFFG\n",
      "10\n",
      "  (Down)\n",
      "\u001b[41mS\u001b[0mFFF\n",
      "FHFH\n",
      "FFFH\n",
      "HFFG\n",
      "11\n",
      "  (Left)\n",
      "\u001b[41mS\u001b[0mFFF\n",
      "FHFH\n",
      "FFFH\n",
      "HFFG\n",
      "12\n",
      "  (Left)\n",
      "\u001b[41mS\u001b[0mFFF\n",
      "FHFH\n",
      "FFFH\n",
      "HFFG\n",
      "13\n",
      "  (Left)\n",
      "\u001b[41mS\u001b[0mFFF\n",
      "FHFH\n",
      "FFFH\n",
      "HFFG\n",
      "14\n",
      "  (Right)\n",
      "\u001b[41mS\u001b[0mFFF\n",
      "FHFH\n",
      "FFFH\n",
      "HFFG\n",
      "15\n",
      "  (Down)\n",
      "\u001b[41mS\u001b[0mFFF\n",
      "FHFH\n",
      "FFFH\n",
      "HFFG\n",
      "16\n",
      "  (Left)\n",
      "\u001b[41mS\u001b[0mFFF\n",
      "FHFH\n",
      "FFFH\n",
      "HFFG\n",
      "Total Reward: 0.000000\n"
     ]
    }
   ],
   "source": [
    "total_r_vi = render_env_policy(env, policy, display=True)"
   ]
  },
  {
   "cell_type": "code",
   "execution_count": 116,
   "id": "b9e4655d",
   "metadata": {},
   "outputs": [],
   "source": [
    "def value_iteration(env, max_iterations=100000, lmbda=0.9):\n",
    "  stateValue = [0 for i in range(env.nS)]\n",
    "  newStateValue = stateValue.copy()\n",
    "  for i in range(max_iterations):\n",
    "    for state in range(env.nS):\n",
    "      action_values = []      \n",
    "      for action in range(env.nA):\n",
    "        state_value = 0\n",
    "        for i in range(len(env.P[state][action])):\n",
    "          prob, next_state, reward, done = env.P[state][action][i]\n",
    "          state_action_value = prob * (reward + lmbda*stateValue[next_state])\n",
    "          state_value += state_action_value\n",
    "        action_values.append(state_value)      #the value of each action\n",
    "        best_action = np.argmax(np.asarray(action_values))   # choose the action which gives the maximum value\n",
    "        newStateValue[state] = action_values[best_action]  #update the value of the state\n",
    "    if i > 1000: \n",
    "      if sum(stateValue) - sum(newStateValue) < 1e-04:   # if there is negligible difference break the loop\n",
    "        break\n",
    "        print(i)\n",
    "    else:\n",
    "      stateValue = newStateValue.copy()\n",
    "  return stateValue "
   ]
  },
  {
   "cell_type": "code",
   "execution_count": 117,
   "id": "ba9a351a",
   "metadata": {},
   "outputs": [
    {
     "ename": "SyntaxError",
     "evalue": "invalid syntax (1990892565.py, line 14)",
     "output_type": "error",
     "traceback": [
      "\u001b[0;36m  File \u001b[0;32m\"/var/folders/4p/41bttzcx5y163sbdhm1bfdl40000gn/T/ipykernel_22349/1990892565.py\"\u001b[0;36m, line \u001b[0;32m14\u001b[0m\n\u001b[0;31m    view raw\u001b[0m\n\u001b[0m         ^\u001b[0m\n\u001b[0;31mSyntaxError\u001b[0m\u001b[0;31m:\u001b[0m invalid syntax\n"
     ]
    }
   ],
   "source": [
    " \tdef get_policy(env,stateValue, lmbda=0.9):\n",
    "  policy = [0 for i in range(env.nS)]\n",
    "  for state in range(env.nS):\n",
    "    action_values = []\n",
    "    for action in range(env.nA):\n",
    "      action_value = 0\n",
    "      for i in range(len(env.P[state][action])):\n",
    "        prob, next_state, r, _ = env.P[state][action][i]\n",
    "        action_value += prob * (r + lmbda * stateValue[next_state])\n",
    "      action_values.append(action_value)\n",
    "    best_action = np.argmax(np.asarray(action_values))\n",
    "    policy[state] = best_action\n",
    "  return policy \n",
    "view raw\n"
   ]
  },
  {
   "cell_type": "code",
   "execution_count": 118,
   "id": "2669e87c",
   "metadata": {},
   "outputs": [],
   "source": [
    "def get_policy(env,stateValue, lmbda=0.9):\n",
    "  policy = [0 for i in range(env.nS)]\n",
    "  for state in range(env.nS):\n",
    "    action_values = []\n",
    "    for action in range(env.nA):\n",
    "      action_value = 0\n",
    "      for i in range(len(env.P[state][action])):\n",
    "        prob, next_state, r, _ = env.P[state][action][i]\n",
    "        action_value += prob * (r + lmbda * stateValue[next_state])\n",
    "      action_values.append(action_value)\n",
    "    best_action = np.argmax(np.asarray(action_values))\n",
    "    policy[state] = best_action\n",
    "  return policy "
   ]
  },
  {
   "cell_type": "code",
   "execution_count": 119,
   "id": "c8669bdc",
   "metadata": {},
   "outputs": [
    {
     "data": {
      "text/plain": [
       "[0.06889090488900329,\n",
       " 0.061414571509356086,\n",
       " 0.07440976196616092,\n",
       " 0.05580732147462067,\n",
       " 0.09185453985200442,\n",
       " 0.0,\n",
       " 0.11220820641168608,\n",
       " 0.0,\n",
       " 0.1454363547656737,\n",
       " 0.24749695460123428,\n",
       " 0.29961759273945937,\n",
       " 0.0,\n",
       " 0.0,\n",
       " 0.3799359011656479,\n",
       " 0.6390201481186109,\n",
       " 0.0]"
      ]
     },
     "execution_count": 119,
     "metadata": {},
     "output_type": "execute_result"
    }
   ],
   "source": [
    "value_iteration(env)"
   ]
  },
  {
   "cell_type": "code",
   "execution_count": 120,
   "id": "ea0981de",
   "metadata": {},
   "outputs": [],
   "source": [
    "stateValue = _"
   ]
  },
  {
   "cell_type": "code",
   "execution_count": 121,
   "id": "ee279261",
   "metadata": {},
   "outputs": [
    {
     "data": {
      "text/plain": [
       "datetime.timedelta(microseconds=45049)"
      ]
     },
     "execution_count": 121,
     "metadata": {},
     "output_type": "execute_result"
    }
   ],
   "source": [
    "stateValue"
   ]
  },
  {
   "cell_type": "code",
   "execution_count": 122,
   "id": "6fbd8ad1",
   "metadata": {},
   "outputs": [],
   "source": [
    "stateValue = value_iteration(env)\n"
   ]
  },
  {
   "cell_type": "code",
   "execution_count": 123,
   "id": "688b7d7c",
   "metadata": {},
   "outputs": [
    {
     "ename": "NameError",
     "evalue": "name 'state_value' is not defined",
     "output_type": "error",
     "traceback": [
      "\u001b[0;31m---------------------------------------------------------------------------\u001b[0m",
      "\u001b[0;31mNameError\u001b[0m                                 Traceback (most recent call last)",
      "\u001b[0;32m/var/folders/4p/41bttzcx5y163sbdhm1bfdl40000gn/T/ipykernel_22349/2315462669.py\u001b[0m in \u001b[0;36m<module>\u001b[0;34m\u001b[0m\n\u001b[0;32m----> 1\u001b[0;31m \u001b[0mpolicy\u001b[0m \u001b[0;34m=\u001b[0m \u001b[0mget_policy\u001b[0m\u001b[0;34m(\u001b[0m\u001b[0mstate_value\u001b[0m\u001b[0;34m)\u001b[0m\u001b[0;34m\u001b[0m\u001b[0;34m\u001b[0m\u001b[0m\n\u001b[0m",
      "\u001b[0;31mNameError\u001b[0m: name 'state_value' is not defined"
     ]
    }
   ],
   "source": [
    "policy = get_policy(state_value)"
   ]
  },
  {
   "cell_type": "code",
   "execution_count": 124,
   "id": "499e3980",
   "metadata": {},
   "outputs": [
    {
     "ename": "TypeError",
     "evalue": "get_policy() missing 1 required positional argument: 'stateValue'",
     "output_type": "error",
     "traceback": [
      "\u001b[0;31m---------------------------------------------------------------------------\u001b[0m",
      "\u001b[0;31mTypeError\u001b[0m                                 Traceback (most recent call last)",
      "\u001b[0;32m/var/folders/4p/41bttzcx5y163sbdhm1bfdl40000gn/T/ipykernel_22349/622259879.py\u001b[0m in \u001b[0;36m<module>\u001b[0;34m\u001b[0m\n\u001b[0;32m----> 1\u001b[0;31m \u001b[0mpolicy\u001b[0m \u001b[0;34m=\u001b[0m \u001b[0mget_policy\u001b[0m\u001b[0;34m(\u001b[0m\u001b[0mstateValue\u001b[0m\u001b[0;34m)\u001b[0m\u001b[0;34m\u001b[0m\u001b[0;34m\u001b[0m\u001b[0m\n\u001b[0m",
      "\u001b[0;31mTypeError\u001b[0m: get_policy() missing 1 required positional argument: 'stateValue'"
     ]
    }
   ],
   "source": [
    "policy = get_policy(stateValue)"
   ]
  },
  {
   "cell_type": "code",
   "execution_count": 125,
   "id": "8563c856",
   "metadata": {},
   "outputs": [
    {
     "ename": "NameError",
     "evalue": "name 'state_value' is not defined",
     "output_type": "error",
     "traceback": [
      "\u001b[0;31m---------------------------------------------------------------------------\u001b[0m",
      "\u001b[0;31mNameError\u001b[0m                                 Traceback (most recent call last)",
      "\u001b[0;32m/var/folders/4p/41bttzcx5y163sbdhm1bfdl40000gn/T/ipykernel_22349/3449237562.py\u001b[0m in \u001b[0;36m<module>\u001b[0;34m\u001b[0m\n\u001b[0;32m----> 1\u001b[0;31m \u001b[0mpolicy\u001b[0m \u001b[0;34m=\u001b[0m \u001b[0mget_policy\u001b[0m\u001b[0;34m(\u001b[0m\u001b[0menv\u001b[0m\u001b[0;34m,\u001b[0m \u001b[0mstate_value\u001b[0m\u001b[0;34m)\u001b[0m\u001b[0;34m\u001b[0m\u001b[0;34m\u001b[0m\u001b[0m\n\u001b[0m",
      "\u001b[0;31mNameError\u001b[0m: name 'state_value' is not defined"
     ]
    }
   ],
   "source": [
    "policy = get_policy(env, state_value)"
   ]
  },
  {
   "cell_type": "code",
   "execution_count": 126,
   "id": "a0f2faf9",
   "metadata": {},
   "outputs": [],
   "source": [
    "policy = get_policy(env, stateValue)"
   ]
  },
  {
   "cell_type": "code",
   "execution_count": 127,
   "id": "b61979d7",
   "metadata": {},
   "outputs": [
    {
     "data": {
      "text/plain": [
       "[0, 3, 0, 3, 0, 0, 0, 0, 3, 1, 0, 0, 0, 2, 1, 0]"
      ]
     },
     "execution_count": 127,
     "metadata": {},
     "output_type": "execute_result"
    }
   ],
   "source": [
    "policy"
   ]
  },
  {
   "cell_type": "code",
   "execution_count": 128,
   "id": "5d66eec0",
   "metadata": {},
   "outputs": [
    {
     "data": {
      "text/plain": [
       "''"
      ]
     },
     "execution_count": 128,
     "metadata": {},
     "output_type": "execute_result"
    }
   ],
   "source": [
    "\"\"\"\"\"\""
   ]
  },
  {
   "cell_type": "code",
   "execution_count": 129,
   "id": "f0050072",
   "metadata": {},
   "outputs": [
    {
     "data": {
      "text/plain": [
       "'\\nSFFF\\nFHFH\\nFFFH\\nHFFG\\n\\n'"
      ]
     },
     "execution_count": 129,
     "metadata": {},
     "output_type": "execute_result"
    }
   ],
   "source": [
    "\"\"\"\n",
    "SFFF\n",
    "FHFH\n",
    "FFFH\n",
    "HFFG\n",
    "\n",
    "\"\"\""
   ]
  },
  {
   "cell_type": "code",
   "execution_count": 130,
   "id": "90b841c4",
   "metadata": {},
   "outputs": [],
   "source": [
    "def get_score(env, policy, episodes=1000):\n",
    "  misses = 0\n",
    "  steps_list = []\n",
    "  for episode in range(episodes):\n",
    "    observation = env.reset()\n",
    "    steps=0\n",
    "    while True:\n",
    "      \n",
    "      action = policy[observation]\n",
    "      observation, reward, done, _ = env.step(action)\n",
    "      steps+=1\n",
    "      if done and reward == 1:\n",
    "        # print('You have got the fucking Frisbee after {} steps'.format(steps))\n",
    "        steps_list.append(steps)\n",
    "        break\n",
    "      elif done and reward == 0:\n",
    "        # print(\"You fell in a hole!\")\n",
    "        misses += 1\n",
    "        break\n",
    "  print('----------------------------------------------')\n",
    "  print('You took an average of {:.0f} steps to get the frisbee'.format(np.mean(steps_list)))\n",
    "  print('And you fell in the hole {:.2f} % of the times'.format((misses/episodes) * 100))\n",
    "  print('----------------------------------------------')"
   ]
  },
  {
   "cell_type": "code",
   "execution_count": 131,
   "id": "d1a06569",
   "metadata": {},
   "outputs": [
    {
     "name": "stdout",
     "output_type": "stream",
     "text": [
      "----------------------------------------------\n",
      "You took an average of 37 steps to get the frisbee\n",
      "And you fell in the hole 26.60 % of the times\n",
      "----------------------------------------------\n"
     ]
    }
   ],
   "source": [
    "get_score(env, policy)"
   ]
  },
  {
   "cell_type": "code",
   "execution_count": 132,
   "id": "d6ad04da",
   "metadata": {},
   "outputs": [
    {
     "data": {
      "text/plain": [
       "{0: [(1.0, 15, 0, True)],\n",
       " 1: [(1.0, 15, 0, True)],\n",
       " 2: [(1.0, 15, 0, True)],\n",
       " 3: [(1.0, 15, 0, True)]}"
      ]
     },
     "execution_count": 132,
     "metadata": {},
     "output_type": "execute_result"
    }
   ],
   "source": [
    "env.P[15]"
   ]
  },
  {
   "cell_type": "code",
   "execution_count": 133,
   "id": "6cbda313",
   "metadata": {},
   "outputs": [
    {
     "data": {
      "text/plain": [
       "{0: [(1.0, 15, 0, True)],\n",
       " 1: [(1.0, 15, 0, True)],\n",
       " 2: [(1.0, 15, 0, True)],\n",
       " 3: [(1.0, 15, 0, True)]}"
      ]
     },
     "execution_count": 133,
     "metadata": {},
     "output_type": "execute_result"
    }
   ],
   "source": [
    "env.P[15]"
   ]
  },
  {
   "cell_type": "code",
   "execution_count": 134,
   "id": "963090d5",
   "metadata": {},
   "outputs": [
    {
     "data": {
      "text/plain": [
       "{0: [(0.3333333333333333, 10, 0.0, False),\n",
       "  (0.3333333333333333, 13, 0.0, False),\n",
       "  (0.3333333333333333, 14, 0.0, False)],\n",
       " 1: [(0.3333333333333333, 13, 0.0, False),\n",
       "  (0.3333333333333333, 14, 0.0, False),\n",
       "  (0.3333333333333333, 15, 1.0, True)],\n",
       " 2: [(0.3333333333333333, 14, 0.0, False),\n",
       "  (0.3333333333333333, 15, 1.0, True),\n",
       "  (0.3333333333333333, 10, 0.0, False)],\n",
       " 3: [(0.3333333333333333, 15, 1.0, True),\n",
       "  (0.3333333333333333, 10, 0.0, False),\n",
       "  (0.3333333333333333, 13, 0.0, False)]}"
      ]
     },
     "execution_count": 134,
     "metadata": {},
     "output_type": "execute_result"
    }
   ],
   "source": [
    "env.P[14]"
   ]
  },
  {
   "cell_type": "code",
   "execution_count": 135,
   "id": "9e31c828",
   "metadata": {},
   "outputs": [],
   "source": [
    "P, R = hiive.mdptoolbox.example.openai(\"FrozenLake-v1\", desc=random_map)"
   ]
  },
  {
   "cell_type": "code",
   "execution_count": 136,
   "id": "da56dbad",
   "metadata": {},
   "outputs": [],
   "source": [
    "vi = mdp.ValueIteration(P, R, 0.6, epsilon=0.005, max_iter=10000)"
   ]
  },
  {
   "cell_type": "code",
   "execution_count": 137,
   "id": "b36f7b91",
   "metadata": {},
   "outputs": [
    {
     "ename": "TypeError",
     "evalue": "'NoneType' object is not subscriptable",
     "output_type": "error",
     "traceback": [
      "\u001b[0;31m---------------------------------------------------------------------------\u001b[0m",
      "\u001b[0;31mTypeError\u001b[0m                                 Traceback (most recent call last)",
      "\u001b[0;32m/var/folders/4p/41bttzcx5y163sbdhm1bfdl40000gn/T/ipykernel_22349/656893007.py\u001b[0m in \u001b[0;36m<module>\u001b[0;34m\u001b[0m\n\u001b[0;32m----> 1\u001b[0;31m \u001b[0mget_score\u001b[0m\u001b[0;34m(\u001b[0m\u001b[0menv\u001b[0m\u001b[0;34m,\u001b[0m \u001b[0mvi\u001b[0m\u001b[0;34m.\u001b[0m\u001b[0mpolicy\u001b[0m\u001b[0;34m)\u001b[0m\u001b[0;34m\u001b[0m\u001b[0;34m\u001b[0m\u001b[0m\n\u001b[0m",
      "\u001b[0;32m/var/folders/4p/41bttzcx5y163sbdhm1bfdl40000gn/T/ipykernel_22349/452922668.py\u001b[0m in \u001b[0;36mget_score\u001b[0;34m(env, policy, episodes)\u001b[0m\n\u001b[1;32m      7\u001b[0m     \u001b[0;32mwhile\u001b[0m \u001b[0;32mTrue\u001b[0m\u001b[0;34m:\u001b[0m\u001b[0;34m\u001b[0m\u001b[0;34m\u001b[0m\u001b[0m\n\u001b[1;32m      8\u001b[0m \u001b[0;34m\u001b[0m\u001b[0m\n\u001b[0;32m----> 9\u001b[0;31m       \u001b[0maction\u001b[0m \u001b[0;34m=\u001b[0m \u001b[0mpolicy\u001b[0m\u001b[0;34m[\u001b[0m\u001b[0mobservation\u001b[0m\u001b[0;34m]\u001b[0m\u001b[0;34m\u001b[0m\u001b[0;34m\u001b[0m\u001b[0m\n\u001b[0m\u001b[1;32m     10\u001b[0m       \u001b[0mobservation\u001b[0m\u001b[0;34m,\u001b[0m \u001b[0mreward\u001b[0m\u001b[0;34m,\u001b[0m \u001b[0mdone\u001b[0m\u001b[0;34m,\u001b[0m \u001b[0m_\u001b[0m \u001b[0;34m=\u001b[0m \u001b[0menv\u001b[0m\u001b[0;34m.\u001b[0m\u001b[0mstep\u001b[0m\u001b[0;34m(\u001b[0m\u001b[0maction\u001b[0m\u001b[0;34m)\u001b[0m\u001b[0;34m\u001b[0m\u001b[0;34m\u001b[0m\u001b[0m\n\u001b[1;32m     11\u001b[0m       \u001b[0msteps\u001b[0m\u001b[0;34m+=\u001b[0m\u001b[0;36m1\u001b[0m\u001b[0;34m\u001b[0m\u001b[0;34m\u001b[0m\u001b[0m\n",
      "\u001b[0;31mTypeError\u001b[0m: 'NoneType' object is not subscriptable"
     ]
    }
   ],
   "source": [
    "get_score(env, vi.policy)"
   ]
  },
  {
   "cell_type": "code",
   "execution_count": 138,
   "id": "d3d0de1f",
   "metadata": {},
   "outputs": [],
   "source": [
    "vi.policy"
   ]
  },
  {
   "cell_type": "code",
   "execution_count": 139,
   "id": "d1770f76",
   "metadata": {},
   "outputs": [
    {
     "ename": "AttributeError",
     "evalue": "'ValueIteration' object has no attribute 'polic'",
     "output_type": "error",
     "traceback": [
      "\u001b[0;31m---------------------------------------------------------------------------\u001b[0m",
      "\u001b[0;31mAttributeError\u001b[0m                            Traceback (most recent call last)",
      "\u001b[0;32m/var/folders/4p/41bttzcx5y163sbdhm1bfdl40000gn/T/ipykernel_22349/3115787633.py\u001b[0m in \u001b[0;36m<module>\u001b[0;34m\u001b[0m\n\u001b[0;32m----> 1\u001b[0;31m \u001b[0mvi\u001b[0m\u001b[0;34m.\u001b[0m\u001b[0mpolic\u001b[0m\u001b[0;34m\u001b[0m\u001b[0;34m\u001b[0m\u001b[0m\n\u001b[0m",
      "\u001b[0;31mAttributeError\u001b[0m: 'ValueIteration' object has no attribute 'polic'"
     ]
    }
   ],
   "source": [
    "vi.polic"
   ]
  },
  {
   "cell_type": "code",
   "execution_count": 140,
   "id": "afdf041e",
   "metadata": {},
   "outputs": [],
   "source": [
    "vi = mdp.ValueIteration(P, R, 0.6, epsilon=0.005, max_iter=10000)"
   ]
  },
  {
   "cell_type": "code",
   "execution_count": 141,
   "id": "e0129e9f",
   "metadata": {},
   "outputs": [
    {
     "data": {
      "text/plain": [
       "[{'State': None,\n",
       "  'Action': None,\n",
       "  'Reward': 0.3333333333333333,\n",
       "  'Error': 0.3333333333333333,\n",
       "  'Time': 0.0005061626434326172,\n",
       "  'Max V': 0.3333333333333333,\n",
       "  'Mean V': 0.041666666666666664,\n",
       "  'Iteration': 1},\n",
       " {'State': None,\n",
       "  'Action': None,\n",
       "  'Reward': 0.39999999999999997,\n",
       "  'Error': 0.13333333333333333,\n",
       "  'Time': 0.000904083251953125,\n",
       "  'Max V': 0.39999999999999997,\n",
       "  'Mean V': 0.06666666666666667,\n",
       "  'Iteration': 2},\n",
       " {'State': None,\n",
       "  'Action': None,\n",
       "  'Reward': 0.43999999999999995,\n",
       "  'Error': 0.03999999999999999,\n",
       "  'Time': 0.0010743141174316406,\n",
       "  'Max V': 0.43999999999999995,\n",
       "  'Mean V': 0.08333333333333331,\n",
       "  'Iteration': 3},\n",
       " {'State': None,\n",
       "  'Action': None,\n",
       "  'Reward': 0.45333333333333325,\n",
       "  'Error': 0.02400000000000002,\n",
       "  'Time': 0.0015721321105957031,\n",
       "  'Max V': 0.45333333333333325,\n",
       "  'Mean V': 0.09416666666666665,\n",
       "  'Iteration': 4},\n",
       " {'State': None,\n",
       "  'Action': None,\n",
       "  'Reward': 0.4608,\n",
       "  'Error': 0.012266666666666662,\n",
       "  'Time': 0.0017039775848388672,\n",
       "  'Max V': 0.4608,\n",
       "  'Mean V': 0.10103333333333332,\n",
       "  'Iteration': 5},\n",
       " {'State': None,\n",
       "  'Action': None,\n",
       "  'Reward': 0.4637866666666666,\n",
       "  'Error': 0.0059733333333333305,\n",
       "  'Time': 0.0019130706787109375,\n",
       "  'Max V': 0.4637866666666666,\n",
       "  'Mean V': 0.10522666666666664,\n",
       "  'Iteration': 6},\n",
       " {'State': None,\n",
       "  'Action': None,\n",
       "  'Reward': 0.465472,\n",
       "  'Error': 0.003434666666666669,\n",
       "  'Time': 0.002064228057861328,\n",
       "  'Max V': 0.465472,\n",
       "  'Mean V': 0.107708,\n",
       "  'Iteration': 7}]"
      ]
     },
     "execution_count": 141,
     "metadata": {},
     "output_type": "execute_result"
    }
   ],
   "source": [
    "vi.run()"
   ]
  },
  {
   "cell_type": "code",
   "execution_count": 142,
   "id": "7cbe2d0f",
   "metadata": {},
   "outputs": [
    {
     "ename": "TypeError",
     "evalue": "'tuple' object is not callable",
     "output_type": "error",
     "traceback": [
      "\u001b[0;31m---------------------------------------------------------------------------\u001b[0m",
      "\u001b[0;31mTypeError\u001b[0m                                 Traceback (most recent call last)",
      "\u001b[0;32m/var/folders/4p/41bttzcx5y163sbdhm1bfdl40000gn/T/ipykernel_22349/4223965928.py\u001b[0m in \u001b[0;36m<module>\u001b[0;34m\u001b[0m\n\u001b[0;32m----> 1\u001b[0;31m \u001b[0mvi\u001b[0m\u001b[0;34m.\u001b[0m\u001b[0mpolicy\u001b[0m\u001b[0;34m(\u001b[0m\u001b[0;34m)\u001b[0m\u001b[0;34m\u001b[0m\u001b[0;34m\u001b[0m\u001b[0m\n\u001b[0m",
      "\u001b[0;31mTypeError\u001b[0m: 'tuple' object is not callable"
     ]
    }
   ],
   "source": [
    "vi.policy()"
   ]
  },
  {
   "cell_type": "code",
   "execution_count": 143,
   "id": "7c89a4c0",
   "metadata": {},
   "outputs": [
    {
     "data": {
      "text/plain": [
       "(1, 2, 2, 2, 1, 1, 1, 1, 1, 2, 1, 1, 1, 2, 2, 0)"
      ]
     },
     "execution_count": 143,
     "metadata": {},
     "output_type": "execute_result"
    }
   ],
   "source": [
    "vi.policy"
   ]
  },
  {
   "cell_type": "code",
   "execution_count": 144,
   "id": "6f130bb9",
   "metadata": {},
   "outputs": [
    {
     "name": "stdout",
     "output_type": "stream",
     "text": [
      "----------------------------------------------\n",
      "You took an average of 10 steps to get the frisbee\n",
      "And you fell in the hole 96.50 % of the times\n",
      "----------------------------------------------\n"
     ]
    }
   ],
   "source": [
    "get_score(env, vi.policy)"
   ]
  },
  {
   "cell_type": "code",
   "execution_count": 145,
   "id": "4ee94c2a",
   "metadata": {},
   "outputs": [],
   "source": [
    "def value_iteration(env, max_iterations=100000, lmbda=0.9):\n",
    "  stateValue = [0 for i in range(env.nS)]\n",
    "  newStateValue = stateValue.copy()\n",
    "  for i in range(max_iterations):\n",
    "    for state in range(env.nS):\n",
    "      action_values = []      \n",
    "      for action in range(env.nA):\n",
    "        state_value = 0\n",
    "        for i in range(len(env.P[state][action])):\n",
    "          prob, next_state, reward, done = env.P[state][action][i]\n",
    "          state_action_value = prob * (reward + lmbda*stateValue[next_state])\n",
    "          state_value += state_action_value\n",
    "        action_values.append(state_value)      #the value of each action\n",
    "        best_action = np.argmax(np.asarray(action_values))   # choose the action which gives the maximum value\n",
    "        newStateValue[state] = action_values[best_action]  #update the value of the state\n",
    "      stateValue = newStateValue.copy()\n",
    "  return stateValue,i"
   ]
  },
  {
   "cell_type": "code",
   "execution_count": 146,
   "id": "2093f3af",
   "metadata": {},
   "outputs": [],
   "source": [
    "stateValue, i = value_iteration(env)"
   ]
  },
  {
   "cell_type": "code",
   "execution_count": 158,
   "id": "bfdd0a2b",
   "metadata": {},
   "outputs": [],
   "source": [
    "def value_iteration(env, max_iterations=100000, lmbda=0.9):\n",
    "  stateValue = [0 for i in range(env.nS)]\n",
    "  newStateValue = stateValue.copy()\n",
    "  for i in range(max_iterations):\n",
    "    for state in range(env.nS):\n",
    "      action_values = []      \n",
    "      for action in range(env.nA):\n",
    "        state_value = 0\n",
    "        for i in range(len(env.P[state][action])):\n",
    "          prob, next_state, reward, done = env.P[state][action][i]\n",
    "          state_action_value = prob * (reward + lmbda*stateValue[next_state])\n",
    "          state_value += state_action_value\n",
    "        action_values.append(state_value)      #the value of each action\n",
    "        best_action = np.argmax(np.asarray(action_values))   # choose the action which gives the maximum value\n",
    "        newStateValue[state] = action_values[best_action]  #update the value of the state\n",
    "\n",
    "    if sum(stateValue) - sum(newStateValue) < 1e-04:   # if there is negligible difference break the loop\n",
    "        print(i, sum(stateValue), sum(newStateValue))\n",
    "        break\n",
    "\n",
    "    stateValue = newStateValue.copy()\n",
    "  return stateValue,i "
   ]
  },
  {
   "cell_type": "code",
   "execution_count": 156,
   "id": "c78c1196",
   "metadata": {},
   "outputs": [
    {
     "name": "stdout",
     "output_type": "stream",
     "text": [
      "0\n"
     ]
    }
   ],
   "source": [
    "stateValue, i = value_iteration(env)"
   ]
  },
  {
   "cell_type": "code",
   "execution_count": 157,
   "id": "abc67f58",
   "metadata": {},
   "outputs": [
    {
     "data": {
      "text/plain": [
       "0"
      ]
     },
     "execution_count": 157,
     "metadata": {},
     "output_type": "execute_result"
    }
   ],
   "source": [
    "i"
   ]
  },
  {
   "cell_type": "code",
   "execution_count": 161,
   "id": "57497397",
   "metadata": {},
   "outputs": [],
   "source": [
    "def value_iteration(env, gamma = 1.0):\n",
    "    \"\"\" Value-iteration algorithm \"\"\"\n",
    "    v = np.zeros(env.nS)  # initialize value-function\n",
    "    max_iterations = 100000\n",
    "    eps = 1e-4\n",
    "    for i in range(max_iterations):\n",
    "        prev_v = np.copy(v)\n",
    "        for s in range(env.nS):\n",
    "            q_sa = [sum([p*(r + prev_v[s_]) for p, s_, r, _ in env.P[s][a]]) for a in range(env.nA)] \n",
    "            v[s] = max(q_sa)\n",
    "        if (np.sum(np.fabs(prev_v - v)) <= eps):\n",
    "            print ('Value-iteration converged at iteration# %d.' %(i+1))\n",
    "            break\n",
    "    return v"
   ]
  },
  {
   "cell_type": "code",
   "execution_count": 162,
   "id": "2272a34c",
   "metadata": {},
   "outputs": [
    {
     "name": "stdout",
     "output_type": "stream",
     "text": [
      "Value-iteration converged at iteration# 315.\n"
     ]
    }
   ],
   "source": [
    "stateValue = value_iteration(env)"
   ]
  },
  {
   "cell_type": "code",
   "execution_count": 163,
   "id": "9dbb4b41",
   "metadata": {},
   "outputs": [],
   "source": [
    "def extract_policy(v, gamma = 1.0):\n",
    "    \"\"\" Extract the policy given a value-function \"\"\"\n",
    "    policy = np.zeros(env.nS)\n",
    "    for s in range(env.nS):\n",
    "        q_sa = np.zeros(env.action_space.n)\n",
    "        for a in range(env.action_space.n):\n",
    "            for next_sr in env.P[s][a]:\n",
    "                # next_sr is a tuple of (probability, next state, reward, done)\n",
    "                p, s_, r, _ = next_sr\n",
    "                q_sa[a] += (p * (r + gamma * v[s_]))\n",
    "        policy[s] = np.argmax(q_sa)\n",
    "    return policy\n"
   ]
  },
  {
   "cell_type": "code",
   "execution_count": 164,
   "id": "c3bcfa94",
   "metadata": {},
   "outputs": [],
   "source": [
    "policy = extract_policy(stateValue)"
   ]
  },
  {
   "cell_type": "code",
   "execution_count": 165,
   "id": "1e7b20a8",
   "metadata": {},
   "outputs": [
    {
     "data": {
      "text/plain": [
       "array([0., 3., 3., 3., 0., 0., 0., 0., 3., 1., 0., 0., 0., 2., 1., 0.])"
      ]
     },
     "execution_count": 165,
     "metadata": {},
     "output_type": "execute_result"
    }
   ],
   "source": [
    "policy"
   ]
  },
  {
   "cell_type": "code",
   "execution_count": 166,
   "id": "bdcdd44f",
   "metadata": {},
   "outputs": [],
   "source": [
    "policy = policy.astype(int)"
   ]
  },
  {
   "cell_type": "code",
   "execution_count": 167,
   "id": "9042f8e4",
   "metadata": {},
   "outputs": [
    {
     "data": {
      "text/plain": [
       "array([0, 3, 3, 3, 0, 0, 0, 0, 3, 1, 0, 0, 0, 2, 1, 0])"
      ]
     },
     "execution_count": 167,
     "metadata": {},
     "output_type": "execute_result"
    }
   ],
   "source": [
    "policy"
   ]
  },
  {
   "cell_type": "code",
   "execution_count": 168,
   "id": "e0be122c",
   "metadata": {},
   "outputs": [
    {
     "name": "stdout",
     "output_type": "stream",
     "text": [
      "----------------------------------------------\n",
      "You took an average of 36 steps to get the frisbee\n",
      "And you fell in the hole 27.10 % of the times\n",
      "----------------------------------------------\n"
     ]
    }
   ],
   "source": [
    "get_score(env, policy)"
   ]
  },
  {
   "cell_type": "code",
   "execution_count": 169,
   "id": "1173009d",
   "metadata": {},
   "outputs": [],
   "source": [
    "P, R = hiive.mdptoolbox.example.openai(\"FrozenLake-v1\", desc=random_map)"
   ]
  },
  {
   "cell_type": "code",
   "execution_count": 170,
   "id": "335ac2c7",
   "metadata": {},
   "outputs": [],
   "source": [
    "vi = mdp.ValueIteration(P, R, 0.95, max_iter=100000)"
   ]
  },
  {
   "cell_type": "code",
   "execution_count": 171,
   "id": "2cb50ee9",
   "metadata": {},
   "outputs": [
    {
     "ename": "TypeError",
     "evalue": "'NoneType' object is not subscriptable",
     "output_type": "error",
     "traceback": [
      "\u001b[0;31m---------------------------------------------------------------------------\u001b[0m",
      "\u001b[0;31mTypeError\u001b[0m                                 Traceback (most recent call last)",
      "\u001b[0;32m/var/folders/4p/41bttzcx5y163sbdhm1bfdl40000gn/T/ipykernel_22349/656893007.py\u001b[0m in \u001b[0;36m<module>\u001b[0;34m\u001b[0m\n\u001b[0;32m----> 1\u001b[0;31m \u001b[0mget_score\u001b[0m\u001b[0;34m(\u001b[0m\u001b[0menv\u001b[0m\u001b[0;34m,\u001b[0m \u001b[0mvi\u001b[0m\u001b[0;34m.\u001b[0m\u001b[0mpolicy\u001b[0m\u001b[0;34m)\u001b[0m\u001b[0;34m\u001b[0m\u001b[0;34m\u001b[0m\u001b[0m\n\u001b[0m",
      "\u001b[0;32m/var/folders/4p/41bttzcx5y163sbdhm1bfdl40000gn/T/ipykernel_22349/452922668.py\u001b[0m in \u001b[0;36mget_score\u001b[0;34m(env, policy, episodes)\u001b[0m\n\u001b[1;32m      7\u001b[0m     \u001b[0;32mwhile\u001b[0m \u001b[0;32mTrue\u001b[0m\u001b[0;34m:\u001b[0m\u001b[0;34m\u001b[0m\u001b[0;34m\u001b[0m\u001b[0m\n\u001b[1;32m      8\u001b[0m \u001b[0;34m\u001b[0m\u001b[0m\n\u001b[0;32m----> 9\u001b[0;31m       \u001b[0maction\u001b[0m \u001b[0;34m=\u001b[0m \u001b[0mpolicy\u001b[0m\u001b[0;34m[\u001b[0m\u001b[0mobservation\u001b[0m\u001b[0;34m]\u001b[0m\u001b[0;34m\u001b[0m\u001b[0;34m\u001b[0m\u001b[0m\n\u001b[0m\u001b[1;32m     10\u001b[0m       \u001b[0mobservation\u001b[0m\u001b[0;34m,\u001b[0m \u001b[0mreward\u001b[0m\u001b[0;34m,\u001b[0m \u001b[0mdone\u001b[0m\u001b[0;34m,\u001b[0m \u001b[0m_\u001b[0m \u001b[0;34m=\u001b[0m \u001b[0menv\u001b[0m\u001b[0;34m.\u001b[0m\u001b[0mstep\u001b[0m\u001b[0;34m(\u001b[0m\u001b[0maction\u001b[0m\u001b[0;34m)\u001b[0m\u001b[0;34m\u001b[0m\u001b[0;34m\u001b[0m\u001b[0m\n\u001b[1;32m     11\u001b[0m       \u001b[0msteps\u001b[0m\u001b[0;34m+=\u001b[0m\u001b[0;36m1\u001b[0m\u001b[0;34m\u001b[0m\u001b[0;34m\u001b[0m\u001b[0m\n",
      "\u001b[0;31mTypeError\u001b[0m: 'NoneType' object is not subscriptable"
     ]
    }
   ],
   "source": [
    "get_score(env, vi.policy)"
   ]
  },
  {
   "cell_type": "code",
   "execution_count": 172,
   "id": "51fe525c",
   "metadata": {},
   "outputs": [],
   "source": [
    "vi.policy"
   ]
  },
  {
   "cell_type": "code",
   "execution_count": 173,
   "id": "4230f7f0",
   "metadata": {},
   "outputs": [
    {
     "data": {
      "text/plain": [
       "[{'State': None,\n",
       "  'Action': None,\n",
       "  'Reward': 0.3333333333333333,\n",
       "  'Error': 0.3333333333333333,\n",
       "  'Time': 0.0006318092346191406,\n",
       "  'Max V': 0.3333333333333333,\n",
       "  'Mean V': 0.041666666666666664,\n",
       "  'Iteration': 1},\n",
       " {'State': None,\n",
       "  'Action': None,\n",
       "  'Reward': 0.4388888888888889,\n",
       "  'Error': 0.21111111111111108,\n",
       "  'Time': 0.0007441043853759766,\n",
       "  'Max V': 0.4388888888888889,\n",
       "  'Mean V': 0.08124999999999999,\n",
       "  'Iteration': 2},\n",
       " {'State': None,\n",
       "  'Action': None,\n",
       "  'Reward': 0.5391666666666666,\n",
       "  'Error': 0.10027777777777776,\n",
       "  'Time': 0.0008788108825683594,\n",
       "  'Max V': 0.5391666666666666,\n",
       "  'Mean V': 0.1230324074074074,\n",
       "  'Iteration': 3},\n",
       " {'State': None,\n",
       "  'Action': None,\n",
       "  'Reward': 0.592091049382716,\n",
       "  'Error': 0.09526388888888881,\n",
       "  'Time': 0.0010628700256347656,\n",
       "  'Max V': 0.592091049382716,\n",
       "  'Mean V': 0.16603346836419752,\n",
       "  'Iteration': 4},\n",
       " {'State': None,\n",
       "  'Action': None,\n",
       "  'Reward': 0.6390173353909464,\n",
       "  'Error': 0.07709318415637856,\n",
       "  'Time': 0.0013871192932128906,\n",
       "  'Max V': 0.6390173353909464,\n",
       "  'Mean V': 0.2091888921039094,\n",
       "  'Iteration': 5},\n",
       " {'State': None,\n",
       "  'Action': None,\n",
       "  'Reward': 0.6687373165294923,\n",
       "  'Error': 0.05943996227709186,\n",
       "  'Time': 0.0015399456024169922,\n",
       "  'Max V': 0.6687373165294923,\n",
       "  'Mean V': 0.2509162763363768,\n",
       "  'Iteration': 6},\n",
       " {'State': None,\n",
       "  'Action': None,\n",
       "  'Reward': 0.695290704439586,\n",
       "  'Error': 0.054115132323102444,\n",
       "  'Time': 0.0017099380493164062,\n",
       "  'Max V': 0.695290704439586,\n",
       "  'Mean V': 0.2900110982514752,\n",
       "  'Iteration': 7},\n",
       " {'State': None,\n",
       "  'Action': None,\n",
       "  'Reward': 0.7138108522097906,\n",
       "  'Error': 0.04885487256622942,\n",
       "  'Time': 0.001992940902709961,\n",
       "  'Max V': 0.7138108522097906,\n",
       "  'Mean V': 0.3257475328138097,\n",
       "  'Iteration': 8},\n",
       " {'State': None,\n",
       "  'Action': None,\n",
       "  'Reward': 0.7304275403480576,\n",
       "  'Error': 0.04364829845650234,\n",
       "  'Time': 0.0022759437561035156,\n",
       "  'Max V': 0.7304275403480576,\n",
       "  'Mean V': 0.3578138648169409,\n",
       "  'Iteration': 9},\n",
       " {'State': None,\n",
       "  'Action': None,\n",
       "  'Reward': 0.7428619687436133,\n",
       "  'Error': 0.039619397600259926,\n",
       "  'Time': 0.002624034881591797,\n",
       "  'Max V': 0.7428619687436133,\n",
       "  'Mean V': 0.38630135496154694,\n",
       "  'Iteration': 10},\n",
       " {'State': None,\n",
       "  'Action': None,\n",
       "  'Reward': 0.7539817987723141,\n",
       "  'Error': 0.036394629103054826,\n",
       "  'Time': 0.0027201175689697266,\n",
       "  'Max V': 0.7539817987723141,\n",
       "  'Mean V': 0.41130089735048125,\n",
       "  'Iteration': 11},\n",
       " {'State': None,\n",
       "  'Action': None,\n",
       "  'Reward': 0.7628131259509637,\n",
       "  'Error': 0.0343265885761366,\n",
       "  'Time': 0.003464937210083008,\n",
       "  'Max V': 0.7628131259509637,\n",
       "  'Mean V': 0.43318745685408017,\n",
       "  'Iteration': 12},\n",
       " {'State': None,\n",
       "  'Action': None,\n",
       "  'Reward': 0.770607878389806,\n",
       "  'Error': 0.03046406291461301,\n",
       "  'Time': 0.003574848175048828,\n",
       "  'Max V': 0.770607878389806,\n",
       "  'Mean V': 0.45218809584078057,\n",
       "  'Iteration': 13},\n",
       " {'State': None,\n",
       "  'Action': None,\n",
       "  'Reward': 0.7770703299374362,\n",
       "  'Error': 0.02737204660788045,\n",
       "  'Time': 0.003651857376098633,\n",
       "  'Max V': 0.7770703299374362,\n",
       "  'Mean V': 0.46865372976216624,\n",
       "  'Iteration': 14},\n",
       " {'State': None,\n",
       "  'Action': None,\n",
       "  'Reward': 0.7826912142099736,\n",
       "  'Error': 0.02394105914515471,\n",
       "  'Time': 0.0037238597869873047,\n",
       "  'Max V': 0.7826912142099736,\n",
       "  'Mean V': 0.4828626760112956,\n",
       "  'Iteration': 15},\n",
       " {'State': None,\n",
       "  'Action': None,\n",
       "  'Reward': 0.787443075871111,\n",
       "  'Error': 0.020993828025926475,\n",
       "  'Time': 0.0038449764251708984,\n",
       "  'Max V': 0.787443075871111,\n",
       "  'Mean V': 0.4951097736556348,\n",
       "  'Iteration': 16},\n",
       " {'State': None,\n",
       "  'Action': None,\n",
       "  'Reward': 0.7915458943915235,\n",
       "  'Error': 0.01818251047535202,\n",
       "  'Time': 0.00399017333984375,\n",
       "  'Max V': 0.7915458943915235,\n",
       "  'Mean V': 0.5056446571675806,\n",
       "  'Iteration': 17},\n",
       " {'State': None,\n",
       "  'Action': None,\n",
       "  'Reward': 0.7950434822567081,\n",
       "  'Error': 0.01575445636728745,\n",
       "  'Time': 0.004068851470947266,\n",
       "  'Max V': 0.7950434822567081,\n",
       "  'Mean V': 0.514701208861481,\n",
       "  'Iteration': 18},\n",
       " {'State': None,\n",
       "  'Action': None,\n",
       "  'Reward': 0.7980528244095696,\n",
       "  'Error': 0.013573813562956172,\n",
       "  'Time': 0.004146099090576172,\n",
       "  'Max V': 0.7980528244095696,\n",
       "  'Mean V': 0.5224797256856543,\n",
       "  'Iteration': 19},\n",
       " {'State': None,\n",
       "  'Action': None,\n",
       "  'Reward': 0.8006274287244528,\n",
       "  'Error': 0.011695617515239343,\n",
       "  'Time': 0.004214048385620117,\n",
       "  'Max V': 0.8006274287244528,\n",
       "  'Mean V': 0.5291587032429625,\n",
       "  'Iteration': 20},\n",
       " {'State': None,\n",
       "  'Action': None,\n",
       "  'Reward': 0.8028390531784177,\n",
       "  'Error': 0.010052022525286308,\n",
       "  'Time': 0.004278898239135742,\n",
       "  'Max V': 0.8028390531784177,\n",
       "  'Mean V': 0.5348912456152085,\n",
       "  'Iteration': 21},\n",
       " {'State': None,\n",
       "  'Action': None,\n",
       "  'Reward': 0.8047340937171742,\n",
       "  'Error': 0.008639507104768684,\n",
       "  'Time': 0.004342794418334961,\n",
       "  'Max V': 0.8047340937171742,\n",
       "  'Mean V': 0.5398108793325915,\n",
       "  'Iteration': 22}]"
      ]
     },
     "execution_count": 173,
     "metadata": {},
     "output_type": "execute_result"
    }
   ],
   "source": [
    "vi.run()"
   ]
  },
  {
   "cell_type": "code",
   "execution_count": 174,
   "id": "b83fc235",
   "metadata": {},
   "outputs": [],
   "source": [
    "vi = mdp.ValueIteration(P, R, 0.95, max_iter=100000)"
   ]
  },
  {
   "cell_type": "code",
   "execution_count": 175,
   "id": "3dba9c62",
   "metadata": {},
   "outputs": [
    {
     "data": {
      "text/plain": [
       "[{'State': None,\n",
       "  'Action': None,\n",
       "  'Reward': 0.3333333333333333,\n",
       "  'Error': 0.3333333333333333,\n",
       "  'Time': 0.0007467269897460938,\n",
       "  'Max V': 0.3333333333333333,\n",
       "  'Mean V': 0.041666666666666664,\n",
       "  'Iteration': 1},\n",
       " {'State': None,\n",
       "  'Action': None,\n",
       "  'Reward': 0.4388888888888889,\n",
       "  'Error': 0.21111111111111108,\n",
       "  'Time': 0.0010209083557128906,\n",
       "  'Max V': 0.4388888888888889,\n",
       "  'Mean V': 0.08124999999999999,\n",
       "  'Iteration': 2},\n",
       " {'State': None,\n",
       "  'Action': None,\n",
       "  'Reward': 0.5391666666666666,\n",
       "  'Error': 0.10027777777777776,\n",
       "  'Time': 0.0011928081512451172,\n",
       "  'Max V': 0.5391666666666666,\n",
       "  'Mean V': 0.1230324074074074,\n",
       "  'Iteration': 3},\n",
       " {'State': None,\n",
       "  'Action': None,\n",
       "  'Reward': 0.592091049382716,\n",
       "  'Error': 0.09526388888888881,\n",
       "  'Time': 0.0015130043029785156,\n",
       "  'Max V': 0.592091049382716,\n",
       "  'Mean V': 0.16603346836419752,\n",
       "  'Iteration': 4},\n",
       " {'State': None,\n",
       "  'Action': None,\n",
       "  'Reward': 0.6390173353909464,\n",
       "  'Error': 0.07709318415637856,\n",
       "  'Time': 0.0016520023345947266,\n",
       "  'Max V': 0.6390173353909464,\n",
       "  'Mean V': 0.2091888921039094,\n",
       "  'Iteration': 5},\n",
       " {'State': None,\n",
       "  'Action': None,\n",
       "  'Reward': 0.6687373165294923,\n",
       "  'Error': 0.05943996227709186,\n",
       "  'Time': 0.001898050308227539,\n",
       "  'Max V': 0.6687373165294923,\n",
       "  'Mean V': 0.2509162763363768,\n",
       "  'Iteration': 6},\n",
       " {'State': None,\n",
       "  'Action': None,\n",
       "  'Reward': 0.695290704439586,\n",
       "  'Error': 0.054115132323102444,\n",
       "  'Time': 0.0021219253540039062,\n",
       "  'Max V': 0.695290704439586,\n",
       "  'Mean V': 0.2900110982514752,\n",
       "  'Iteration': 7},\n",
       " {'State': None,\n",
       "  'Action': None,\n",
       "  'Reward': 0.7138108522097906,\n",
       "  'Error': 0.04885487256622942,\n",
       "  'Time': 0.0022118091583251953,\n",
       "  'Max V': 0.7138108522097906,\n",
       "  'Mean V': 0.3257475328138097,\n",
       "  'Iteration': 8},\n",
       " {'State': None,\n",
       "  'Action': None,\n",
       "  'Reward': 0.7304275403480576,\n",
       "  'Error': 0.04364829845650234,\n",
       "  'Time': 0.0022857189178466797,\n",
       "  'Max V': 0.7304275403480576,\n",
       "  'Mean V': 0.3578138648169409,\n",
       "  'Iteration': 9},\n",
       " {'State': None,\n",
       "  'Action': None,\n",
       "  'Reward': 0.7428619687436133,\n",
       "  'Error': 0.039619397600259926,\n",
       "  'Time': 0.0023539066314697266,\n",
       "  'Max V': 0.7428619687436133,\n",
       "  'Mean V': 0.38630135496154694,\n",
       "  'Iteration': 10},\n",
       " {'State': None,\n",
       "  'Action': None,\n",
       "  'Reward': 0.7539817987723141,\n",
       "  'Error': 0.036394629103054826,\n",
       "  'Time': 0.0024199485778808594,\n",
       "  'Max V': 0.7539817987723141,\n",
       "  'Mean V': 0.41130089735048125,\n",
       "  'Iteration': 11},\n",
       " {'State': None,\n",
       "  'Action': None,\n",
       "  'Reward': 0.7628131259509637,\n",
       "  'Error': 0.0343265885761366,\n",
       "  'Time': 0.002483844757080078,\n",
       "  'Max V': 0.7628131259509637,\n",
       "  'Mean V': 0.43318745685408017,\n",
       "  'Iteration': 12},\n",
       " {'State': None,\n",
       "  'Action': None,\n",
       "  'Reward': 0.770607878389806,\n",
       "  'Error': 0.03046406291461301,\n",
       "  'Time': 0.0025467872619628906,\n",
       "  'Max V': 0.770607878389806,\n",
       "  'Mean V': 0.45218809584078057,\n",
       "  'Iteration': 13},\n",
       " {'State': None,\n",
       "  'Action': None,\n",
       "  'Reward': 0.7770703299374362,\n",
       "  'Error': 0.02737204660788045,\n",
       "  'Time': 0.0026099681854248047,\n",
       "  'Max V': 0.7770703299374362,\n",
       "  'Mean V': 0.46865372976216624,\n",
       "  'Iteration': 14},\n",
       " {'State': None,\n",
       "  'Action': None,\n",
       "  'Reward': 0.7826912142099736,\n",
       "  'Error': 0.02394105914515471,\n",
       "  'Time': 0.002754688262939453,\n",
       "  'Max V': 0.7826912142099736,\n",
       "  'Mean V': 0.4828626760112956,\n",
       "  'Iteration': 15},\n",
       " {'State': None,\n",
       "  'Action': None,\n",
       "  'Reward': 0.787443075871111,\n",
       "  'Error': 0.020993828025926475,\n",
       "  'Time': 0.002931833267211914,\n",
       "  'Max V': 0.787443075871111,\n",
       "  'Mean V': 0.4951097736556348,\n",
       "  'Iteration': 16},\n",
       " {'State': None,\n",
       "  'Action': None,\n",
       "  'Reward': 0.7915458943915235,\n",
       "  'Error': 0.01818251047535202,\n",
       "  'Time': 0.003078937530517578,\n",
       "  'Max V': 0.7915458943915235,\n",
       "  'Mean V': 0.5056446571675806,\n",
       "  'Iteration': 17},\n",
       " {'State': None,\n",
       "  'Action': None,\n",
       "  'Reward': 0.7950434822567081,\n",
       "  'Error': 0.01575445636728745,\n",
       "  'Time': 0.0032546520233154297,\n",
       "  'Max V': 0.7950434822567081,\n",
       "  'Mean V': 0.514701208861481,\n",
       "  'Iteration': 18},\n",
       " {'State': None,\n",
       "  'Action': None,\n",
       "  'Reward': 0.7980528244095696,\n",
       "  'Error': 0.013573813562956172,\n",
       "  'Time': 0.0035636425018310547,\n",
       "  'Max V': 0.7980528244095696,\n",
       "  'Mean V': 0.5224797256856543,\n",
       "  'Iteration': 19},\n",
       " {'State': None,\n",
       "  'Action': None,\n",
       "  'Reward': 0.8006274287244528,\n",
       "  'Error': 0.011695617515239343,\n",
       "  'Time': 0.0037069320678710938,\n",
       "  'Max V': 0.8006274287244528,\n",
       "  'Mean V': 0.5291587032429625,\n",
       "  'Iteration': 20},\n",
       " {'State': None,\n",
       "  'Action': None,\n",
       "  'Reward': 0.8028390531784177,\n",
       "  'Error': 0.010052022525286308,\n",
       "  'Time': 0.0037877559661865234,\n",
       "  'Max V': 0.8028390531784177,\n",
       "  'Mean V': 0.5348912456152085,\n",
       "  'Iteration': 21},\n",
       " {'State': None,\n",
       "  'Action': None,\n",
       "  'Reward': 0.8047340937171742,\n",
       "  'Error': 0.008639507104768684,\n",
       "  'Time': 0.003857851028442383,\n",
       "  'Max V': 0.8047340937171742,\n",
       "  'Mean V': 0.5398108793325915,\n",
       "  'Iteration': 22}]"
      ]
     },
     "execution_count": 175,
     "metadata": {},
     "output_type": "execute_result"
    }
   ],
   "source": [
    "vi.run()"
   ]
  },
  {
   "cell_type": "code",
   "execution_count": 176,
   "id": "92dd3086",
   "metadata": {},
   "outputs": [
    {
     "name": "stdout",
     "output_type": "stream",
     "text": [
      "----------------------------------------------\n",
      "You took an average of 12 steps to get the frisbee\n",
      "And you fell in the hole 93.90 % of the times\n",
      "----------------------------------------------\n"
     ]
    }
   ],
   "source": [
    "get_score(env, vi.policy)"
   ]
  },
  {
   "cell_type": "code",
   "execution_count": 177,
   "id": "10243210",
   "metadata": {},
   "outputs": [
    {
     "ename": "TypeError",
     "evalue": "'tuple' object is not callable",
     "output_type": "error",
     "traceback": [
      "\u001b[0;31m---------------------------------------------------------------------------\u001b[0m",
      "\u001b[0;31mTypeError\u001b[0m                                 Traceback (most recent call last)",
      "\u001b[0;32m/var/folders/4p/41bttzcx5y163sbdhm1bfdl40000gn/T/ipykernel_22349/4223965928.py\u001b[0m in \u001b[0;36m<module>\u001b[0;34m\u001b[0m\n\u001b[0;32m----> 1\u001b[0;31m \u001b[0mvi\u001b[0m\u001b[0;34m.\u001b[0m\u001b[0mpolicy\u001b[0m\u001b[0;34m(\u001b[0m\u001b[0;34m)\u001b[0m\u001b[0;34m\u001b[0m\u001b[0;34m\u001b[0m\u001b[0m\n\u001b[0m",
      "\u001b[0;31mTypeError\u001b[0m: 'tuple' object is not callable"
     ]
    }
   ],
   "source": [
    "vi.policy()"
   ]
  },
  {
   "cell_type": "code",
   "execution_count": 178,
   "id": "d30bc817",
   "metadata": {},
   "outputs": [
    {
     "data": {
      "text/plain": [
       "(1, 2, 2, 2, 1, 1, 2, 1, 1, 1, 1, 1, 1, 2, 2, 0)"
      ]
     },
     "execution_count": 178,
     "metadata": {},
     "output_type": "execute_result"
    }
   ],
   "source": [
    "vi.policy"
   ]
  },
  {
   "cell_type": "code",
   "execution_count": 179,
   "id": "5c0dcdf9",
   "metadata": {},
   "outputs": [],
   "source": [
    "mdp.ValueIteration?"
   ]
  },
  {
   "cell_type": "code",
   "execution_count": 180,
   "id": "79a8ec5a",
   "metadata": {},
   "outputs": [],
   "source": [
    "vi = mdp.ValueIteration(P, R, 0.99, max_iter=100000)"
   ]
  },
  {
   "cell_type": "code",
   "execution_count": 181,
   "id": "7cd91b02",
   "metadata": {},
   "outputs": [
    {
     "data": {
      "text/plain": [
       "[{'State': None,\n",
       "  'Action': None,\n",
       "  'Reward': 0.3333333333333333,\n",
       "  'Error': 0.3333333333333333,\n",
       "  'Time': 0.0001690387725830078,\n",
       "  'Max V': 0.3333333333333333,\n",
       "  'Mean V': 0.041666666666666664,\n",
       "  'Iteration': 1},\n",
       " {'State': None,\n",
       "  'Action': None,\n",
       "  'Reward': 0.4433333333333333,\n",
       "  'Error': 0.21999999999999997,\n",
       "  'Time': 0.0008130073547363281,\n",
       "  'Max V': 0.4433333333333333,\n",
       "  'Mean V': 0.08291666666666667,\n",
       "  'Iteration': 2},\n",
       " {'State': None,\n",
       "  'Action': None,\n",
       "  'Reward': 0.5522333333333334,\n",
       "  'Error': 0.10890000000000005,\n",
       "  'Time': 0.00096893310546875,\n",
       "  'Max V': 0.5522333333333334,\n",
       "  'Mean V': 0.12829166666666666,\n",
       "  'Iteration': 3},\n",
       " {'State': None,\n",
       "  'Action': None,\n",
       "  'Reward': 0.6121283333333333,\n",
       "  'Error': 0.10781100000000005,\n",
       "  'Time': 0.0014340877532958984,\n",
       "  'Max V': 0.6121283333333333,\n",
       "  'Mean V': 0.17695635416666664,\n",
       "  'Iteration': 4},\n",
       " {'State': None,\n",
       "  'Action': None,\n",
       "  'Reward': 0.6674713133333333,\n",
       "  'Error': 0.09092061000000001,\n",
       "  'Time': 0.0015201568603515625,\n",
       "  'Max V': 0.6674713133333333,\n",
       "  'Mean V': 0.22785213041666663,\n",
       "  'Iteration': 5},\n",
       " {'State': None,\n",
       "  'Action': None,\n",
       "  'Reward': 0.7039976801333332,\n",
       "  'Error': 0.0730527336,\n",
       "  'Time': 0.0015931129455566406,\n",
       "  'Max V': 0.7039976801333332,\n",
       "  'Mean V': 0.2791358016604166,\n",
       "  'Iteration': 6},\n",
       " {'State': None,\n",
       "  'Action': None,\n",
       "  'Reward': 0.7380063366503332,\n",
       "  'Error': 0.06930878100300003,\n",
       "  'Time': 0.001661062240600586,\n",
       "  'Max V': 0.7380063366503332,\n",
       "  'Mean V': 0.3292070910418541,\n",
       "  'Iteration': 7},\n",
       " {'State': None,\n",
       "  'Action': None,\n",
       "  'Reward': 0.7627250335769933,\n",
       "  'Error': 0.06520621775480998,\n",
       "  'Time': 0.001728057861328125,\n",
       "  'Max V': 0.7627250335769933,\n",
       "  'Mean V': 0.37690423180694654,\n",
       "  'Iteration': 8},\n",
       " {'State': None,\n",
       "  'Action': None,\n",
       "  'Reward': 0.7858370152034203,\n",
       "  'Error': 0.0607099720207365,\n",
       "  'Time': 0.0017931461334228516,\n",
       "  'Max V': 0.7858370152034203,\n",
       "  'Mean V': 0.42150496511291424,\n",
       "  'Iteration': 9},\n",
       " {'State': None,\n",
       "  'Action': None,\n",
       "  'Reward': 0.8038601416461788,\n",
       "  'Error': 0.057426476700016466,\n",
       "  'Time': 0.0019161701202392578,\n",
       "  'Max V': 0.8038601416461788,\n",
       "  'Mean V': 0.4628954319262558,\n",
       "  'Iteration': 10},\n",
       " {'State': None,\n",
       "  'Action': None,\n",
       "  'Reward': 0.8206564578512455,\n",
       "  'Error': 0.054973475044425235,\n",
       "  'Time': 0.0020380020141601562,\n",
       "  'Max V': 0.8206564578512455,\n",
       "  'Mean V': 0.5007713649289123,\n",
       "  'Iteration': 11},\n",
       " {'State': None,\n",
       "  'Action': None,\n",
       "  'Reward': 0.8346440946244842,\n",
       "  'Error': 0.05403288133694145,\n",
       "  'Time': 0.0021741390228271484,\n",
       "  'Max V': 0.8346440946244842,\n",
       "  'Mean V': 0.5353306139166262,\n",
       "  'Iteration': 12},\n",
       " {'State': None,\n",
       "  'Action': None,\n",
       "  'Reward': 0.8474588036519901,\n",
       "  'Error': 0.05014308982959326,\n",
       "  'Time': 0.002301931381225586,\n",
       "  'Max V': 0.8474588036519901,\n",
       "  'Mean V': 0.5666054143414174,\n",
       "  'Iteration': 13},\n",
       " {'State': None,\n",
       "  'Action': None,\n",
       "  'Reward': 0.8585623488179572,\n",
       "  'Error': 0.04692225111697962,\n",
       "  'Time': 0.002376079559326172,\n",
       "  'Max V': 0.8585623488179572,\n",
       "  'Mean V': 0.5948474852729326,\n",
       "  'Iteration': 14},\n",
       " {'State': None,\n",
       "  'Action': None,\n",
       "  'Reward': 0.8686064599385261,\n",
       "  'Error': 0.04280392844661707,\n",
       "  'Time': 0.002557039260864258,\n",
       "  'Max V': 0.8686064599385261,\n",
       "  'Mean V': 0.6202468693201126,\n",
       "  'Iteration': 15},\n",
       " {'State': None,\n",
       "  'Action': None,\n",
       "  'Reward': 0.8774657735266513,\n",
       "  'Error': 0.03909815174006637,\n",
       "  'Time': 0.0027611255645751953,\n",
       "  'Max V': 0.8774657735266513,\n",
       "  'Mean V': 0.6430605006608929,\n",
       "  'Iteration': 16},\n",
       " {'State': None,\n",
       "  'Action': None,\n",
       "  'Reward': 0.8854296931568157,\n",
       "  'Error': 0.035297820920345724,\n",
       "  'Time': 0.0029802322387695312,\n",
       "  'Max V': 0.8854296931568157,\n",
       "  'Mean V': 0.6635116849514886,\n",
       "  'Iteration': 17},\n",
       " {'State': None,\n",
       "  'Action': None,\n",
       "  'Reward': 0.8925082732994798,\n",
       "  'Error': 0.031866122762719495,\n",
       "  'Time': 0.0031402111053466797,\n",
       "  'Max V': 0.8925082732994798,\n",
       "  'Mean V': 0.6818332400862812,\n",
       "  'Iteration': 18},\n",
       " {'State': None,\n",
       "  'Action': None,\n",
       "  'Reward': 0.8988525195323598,\n",
       "  'Error': 0.028615383590612997,\n",
       "  'Time': 0.003396272659301758,\n",
       "  'Max V': 0.8988525195323598,\n",
       "  'Mean V': 0.6982322895424535,\n",
       "  'Iteration': 19},\n",
       " {'State': None,\n",
       "  'Action': None,\n",
       "  'Reward': 0.9045100609675656,\n",
       "  'Error': 0.025692612316102093,\n",
       "  'Time': 0.0035390853881835938,\n",
       "  'Max V': 0.9045100609675656,\n",
       "  'Mean V': 0.7129062040325771,\n",
       "  'Iteration': 20},\n",
       " {'State': None,\n",
       "  'Action': None,\n",
       "  'Reward': 0.9095736773330934,\n",
       "  'Error': 0.023013627237343015,\n",
       "  'Time': 0.0036122798919677734,\n",
       "  'Max V': 0.9095736773330934,\n",
       "  'Mean V': 0.726031272372053,\n",
       "  'Iteration': 21},\n",
       " {'State': None,\n",
       "  'Action': None,\n",
       "  'Reward': 0.9140955966353719,\n",
       "  'Error': 0.02061235179297971,\n",
       "  'Time': 0.0036890506744384766,\n",
       "  'Max V': 0.9140955966353719,\n",
       "  'Mean V': 0.7377694581799379,\n",
       "  'Iteration': 22},\n",
       " {'State': None,\n",
       "  'Action': None,\n",
       "  'Reward': 0.9181402431261094,\n",
       "  'Error': 0.018442366122387588,\n",
       "  'Time': 0.003801107406616211,\n",
       "  'Max V': 0.9181402431261094,\n",
       "  'Mean V': 0.7482655091345798,\n",
       "  'Iteration': 23},\n",
       " {'State': None,\n",
       "  'Action': None,\n",
       "  'Reward': 0.9217544065519274,\n",
       "  'Error': 0.016500336366223833,\n",
       "  'Time': 0.003904104232788086,\n",
       "  'Max V': 0.9217544065519274,\n",
       "  'Mean V': 0.7576503586811405,\n",
       "  'Iteration': 24},\n",
       " {'State': None,\n",
       "  'Action': None,\n",
       "  'Reward': 0.9249861774143715,\n",
       "  'Error': 0.014756117604506347,\n",
       "  'Time': 0.003985881805419922,\n",
       "  'Max V': 0.9249861774143715,\n",
       "  'Mean V': 0.7660410332200023,\n",
       "  'Iteration': 25},\n",
       " {'State': None,\n",
       "  'Action': None,\n",
       "  'Reward': 0.9278747457619498,\n",
       "  'Error': 0.013196178223619293,\n",
       "  'Time': 0.004313230514526367,\n",
       "  'Max V': 0.9278747457619498,\n",
       "  'Mean V': 0.7735426834643682,\n",
       "  'Iteration': 26},\n",
       " {'State': None,\n",
       "  'Action': None,\n",
       "  'Reward': 0.9304573568220147,\n",
       "  'Error': 0.011798843951210003,\n",
       "  'Time': 0.004509925842285156,\n",
       "  'Max V': 0.9304573568220147,\n",
       "  'Mean V': 0.7802492968928176,\n",
       "  'Iteration': 27},\n",
       " {'State': None,\n",
       "  'Action': None,\n",
       "  'Reward': 0.9327659689315138,\n",
       "  'Error': 0.010549473297766232,\n",
       "  'Time': 0.004588127136230469,\n",
       "  'Max V': 0.9327659689315138,\n",
       "  'Mean V': 0.7862450796155634,\n",
       "  'Iteration': 28},\n",
       " {'State': None,\n",
       "  'Action': None,\n",
       "  'Reward': 0.934829932186598,\n",
       "  'Error': 0.009431608717043627,\n",
       "  'Time': 0.004658222198486328,\n",
       "  'Max V': 0.934829932186598,\n",
       "  'Mean V': 0.7916053022659324,\n",
       "  'Iteration': 29}]"
      ]
     },
     "execution_count": 181,
     "metadata": {},
     "output_type": "execute_result"
    }
   ],
   "source": [
    "vi.run()\n"
   ]
  },
  {
   "cell_type": "code",
   "execution_count": 182,
   "id": "998bbc52",
   "metadata": {},
   "outputs": [
    {
     "data": {
      "text/plain": [
       "(1, 2, 2, 2, 1, 1, 2, 1, 1, 1, 1, 1, 1, 2, 2, 0)"
      ]
     },
     "execution_count": 182,
     "metadata": {},
     "output_type": "execute_result"
    }
   ],
   "source": [
    "vi.policy"
   ]
  },
  {
   "cell_type": "code",
   "execution_count": 183,
   "id": "6a0a394f",
   "metadata": {},
   "outputs": [
    {
     "name": "stdout",
     "output_type": "stream",
     "text": [
      "----------------------------------------------\n",
      "You took an average of 12 steps to get the frisbee\n",
      "And you fell in the hole 94.60 % of the times\n",
      "----------------------------------------------\n"
     ]
    }
   ],
   "source": [
    "get_score(env, vi.policy)"
   ]
  },
  {
   "cell_type": "code",
   "execution_count": 184,
   "id": "8080e649",
   "metadata": {},
   "outputs": [],
   "source": [
    "vi = mdp.ValueIteration(P, R, 0.99, epsilon=0.00001, max_iter=100000)"
   ]
  },
  {
   "cell_type": "code",
   "execution_count": 185,
   "id": "d81cd533",
   "metadata": {},
   "outputs": [
    {
     "data": {
      "text/plain": [
       "[{'State': None,\n",
       "  'Action': None,\n",
       "  'Reward': 0.3333333333333333,\n",
       "  'Error': 0.3333333333333333,\n",
       "  'Time': 0.0006120204925537109,\n",
       "  'Max V': 0.3333333333333333,\n",
       "  'Mean V': 0.041666666666666664,\n",
       "  'Iteration': 1},\n",
       " {'State': None,\n",
       "  'Action': None,\n",
       "  'Reward': 0.4433333333333333,\n",
       "  'Error': 0.21999999999999997,\n",
       "  'Time': 0.0007500648498535156,\n",
       "  'Max V': 0.4433333333333333,\n",
       "  'Mean V': 0.08291666666666667,\n",
       "  'Iteration': 2},\n",
       " {'State': None,\n",
       "  'Action': None,\n",
       "  'Reward': 0.5522333333333334,\n",
       "  'Error': 0.10890000000000005,\n",
       "  'Time': 0.0009641647338867188,\n",
       "  'Max V': 0.5522333333333334,\n",
       "  'Mean V': 0.12829166666666666,\n",
       "  'Iteration': 3},\n",
       " {'State': None,\n",
       "  'Action': None,\n",
       "  'Reward': 0.6121283333333333,\n",
       "  'Error': 0.10781100000000005,\n",
       "  'Time': 0.0013692378997802734,\n",
       "  'Max V': 0.6121283333333333,\n",
       "  'Mean V': 0.17695635416666664,\n",
       "  'Iteration': 4},\n",
       " {'State': None,\n",
       "  'Action': None,\n",
       "  'Reward': 0.6674713133333333,\n",
       "  'Error': 0.09092061000000001,\n",
       "  'Time': 0.0015108585357666016,\n",
       "  'Max V': 0.6674713133333333,\n",
       "  'Mean V': 0.22785213041666663,\n",
       "  'Iteration': 5},\n",
       " {'State': None,\n",
       "  'Action': None,\n",
       "  'Reward': 0.7039976801333332,\n",
       "  'Error': 0.0730527336,\n",
       "  'Time': 0.0016939640045166016,\n",
       "  'Max V': 0.7039976801333332,\n",
       "  'Mean V': 0.2791358016604166,\n",
       "  'Iteration': 6},\n",
       " {'State': None,\n",
       "  'Action': None,\n",
       "  'Reward': 0.7380063366503332,\n",
       "  'Error': 0.06930878100300003,\n",
       "  'Time': 0.001909017562866211,\n",
       "  'Max V': 0.7380063366503332,\n",
       "  'Mean V': 0.3292070910418541,\n",
       "  'Iteration': 7},\n",
       " {'State': None,\n",
       "  'Action': None,\n",
       "  'Reward': 0.7627250335769933,\n",
       "  'Error': 0.06520621775480998,\n",
       "  'Time': 0.002112150192260742,\n",
       "  'Max V': 0.7627250335769933,\n",
       "  'Mean V': 0.37690423180694654,\n",
       "  'Iteration': 8},\n",
       " {'State': None,\n",
       "  'Action': None,\n",
       "  'Reward': 0.7858370152034203,\n",
       "  'Error': 0.0607099720207365,\n",
       "  'Time': 0.002544879913330078,\n",
       "  'Max V': 0.7858370152034203,\n",
       "  'Mean V': 0.42150496511291424,\n",
       "  'Iteration': 9},\n",
       " {'State': None,\n",
       "  'Action': None,\n",
       "  'Reward': 0.8038601416461788,\n",
       "  'Error': 0.057426476700016466,\n",
       "  'Time': 0.0026900768280029297,\n",
       "  'Max V': 0.8038601416461788,\n",
       "  'Mean V': 0.4628954319262558,\n",
       "  'Iteration': 10},\n",
       " {'State': None,\n",
       "  'Action': None,\n",
       "  'Reward': 0.8206564578512455,\n",
       "  'Error': 0.054973475044425235,\n",
       "  'Time': 0.0027740001678466797,\n",
       "  'Max V': 0.8206564578512455,\n",
       "  'Mean V': 0.5007713649289123,\n",
       "  'Iteration': 11},\n",
       " {'State': None,\n",
       "  'Action': None,\n",
       "  'Reward': 0.8346440946244842,\n",
       "  'Error': 0.05403288133694145,\n",
       "  'Time': 0.002933979034423828,\n",
       "  'Max V': 0.8346440946244842,\n",
       "  'Mean V': 0.5353306139166262,\n",
       "  'Iteration': 12},\n",
       " {'State': None,\n",
       "  'Action': None,\n",
       "  'Reward': 0.8474588036519901,\n",
       "  'Error': 0.05014308982959326,\n",
       "  'Time': 0.0030679702758789062,\n",
       "  'Max V': 0.8474588036519901,\n",
       "  'Mean V': 0.5666054143414174,\n",
       "  'Iteration': 13},\n",
       " {'State': None,\n",
       "  'Action': None,\n",
       "  'Reward': 0.8585623488179572,\n",
       "  'Error': 0.04692225111697962,\n",
       "  'Time': 0.0031528472900390625,\n",
       "  'Max V': 0.8585623488179572,\n",
       "  'Mean V': 0.5948474852729326,\n",
       "  'Iteration': 14},\n",
       " {'State': None,\n",
       "  'Action': None,\n",
       "  'Reward': 0.8686064599385261,\n",
       "  'Error': 0.04280392844661707,\n",
       "  'Time': 0.0032341480255126953,\n",
       "  'Max V': 0.8686064599385261,\n",
       "  'Mean V': 0.6202468693201126,\n",
       "  'Iteration': 15},\n",
       " {'State': None,\n",
       "  'Action': None,\n",
       "  'Reward': 0.8774657735266513,\n",
       "  'Error': 0.03909815174006637,\n",
       "  'Time': 0.003300189971923828,\n",
       "  'Max V': 0.8774657735266513,\n",
       "  'Mean V': 0.6430605006608929,\n",
       "  'Iteration': 16},\n",
       " {'State': None,\n",
       "  'Action': None,\n",
       "  'Reward': 0.8854296931568157,\n",
       "  'Error': 0.035297820920345724,\n",
       "  'Time': 0.0033621788024902344,\n",
       "  'Max V': 0.8854296931568157,\n",
       "  'Mean V': 0.6635116849514886,\n",
       "  'Iteration': 17},\n",
       " {'State': None,\n",
       "  'Action': None,\n",
       "  'Reward': 0.8925082732994798,\n",
       "  'Error': 0.031866122762719495,\n",
       "  'Time': 0.003425121307373047,\n",
       "  'Max V': 0.8925082732994798,\n",
       "  'Mean V': 0.6818332400862812,\n",
       "  'Iteration': 18},\n",
       " {'State': None,\n",
       "  'Action': None,\n",
       "  'Reward': 0.8988525195323598,\n",
       "  'Error': 0.028615383590612997,\n",
       "  'Time': 0.0034859180450439453,\n",
       "  'Max V': 0.8988525195323598,\n",
       "  'Mean V': 0.6982322895424535,\n",
       "  'Iteration': 19},\n",
       " {'State': None,\n",
       "  'Action': None,\n",
       "  'Reward': 0.9045100609675656,\n",
       "  'Error': 0.025692612316102093,\n",
       "  'Time': 0.0035462379455566406,\n",
       "  'Max V': 0.9045100609675656,\n",
       "  'Mean V': 0.7129062040325771,\n",
       "  'Iteration': 20},\n",
       " {'State': None,\n",
       "  'Action': None,\n",
       "  'Reward': 0.9095736773330934,\n",
       "  'Error': 0.023013627237343015,\n",
       "  'Time': 0.0036051273345947266,\n",
       "  'Max V': 0.9095736773330934,\n",
       "  'Mean V': 0.726031272372053,\n",
       "  'Iteration': 21},\n",
       " {'State': None,\n",
       "  'Action': None,\n",
       "  'Reward': 0.9140955966353719,\n",
       "  'Error': 0.02061235179297971,\n",
       "  'Time': 0.0036649703979492188,\n",
       "  'Max V': 0.9140955966353719,\n",
       "  'Mean V': 0.7377694581799379,\n",
       "  'Iteration': 22},\n",
       " {'State': None,\n",
       "  'Action': None,\n",
       "  'Reward': 0.9181402431261094,\n",
       "  'Error': 0.018442366122387588,\n",
       "  'Time': 0.0037250518798828125,\n",
       "  'Max V': 0.9181402431261094,\n",
       "  'Mean V': 0.7482655091345798,\n",
       "  'Iteration': 23},\n",
       " {'State': None,\n",
       "  'Action': None,\n",
       "  'Reward': 0.9217544065519274,\n",
       "  'Error': 0.016500336366223833,\n",
       "  'Time': 0.0037848949432373047,\n",
       "  'Max V': 0.9217544065519274,\n",
       "  'Mean V': 0.7576503586811405,\n",
       "  'Iteration': 24},\n",
       " {'State': None,\n",
       "  'Action': None,\n",
       "  'Reward': 0.9249861774143715,\n",
       "  'Error': 0.014756117604506347,\n",
       "  'Time': 0.00384521484375,\n",
       "  'Max V': 0.9249861774143715,\n",
       "  'Mean V': 0.7660410332200023,\n",
       "  'Iteration': 25},\n",
       " {'State': None,\n",
       "  'Action': None,\n",
       "  'Reward': 0.9278747457619498,\n",
       "  'Error': 0.013196178223619293,\n",
       "  'Time': 0.003907203674316406,\n",
       "  'Max V': 0.9278747457619498,\n",
       "  'Mean V': 0.7735426834643682,\n",
       "  'Iteration': 26},\n",
       " {'State': None,\n",
       "  'Action': None,\n",
       "  'Reward': 0.9304573568220147,\n",
       "  'Error': 0.011798843951210003,\n",
       "  'Time': 0.003982067108154297,\n",
       "  'Max V': 0.9304573568220147,\n",
       "  'Mean V': 0.7802492968928176,\n",
       "  'Iteration': 27},\n",
       " {'State': None,\n",
       "  'Action': None,\n",
       "  'Reward': 0.9327659689315138,\n",
       "  'Error': 0.010549473297766232,\n",
       "  'Time': 0.004043102264404297,\n",
       "  'Max V': 0.9327659689315138,\n",
       "  'Mean V': 0.7862450796155634,\n",
       "  'Iteration': 28},\n",
       " {'State': None,\n",
       "  'Action': None,\n",
       "  'Reward': 0.934829932186598,\n",
       "  'Error': 0.009431608717043627,\n",
       "  'Time': 0.004103899002075195,\n",
       "  'Max V': 0.934829932186598,\n",
       "  'Mean V': 0.7916053022659324,\n",
       "  'Iteration': 29},\n",
       " {'State': None,\n",
       "  'Action': None,\n",
       "  'Reward': 0.9366750139596558,\n",
       "  'Error': 0.008432212163059116,\n",
       "  'Time': 0.004164218902587891,\n",
       "  'Max V': 0.9366750139596558,\n",
       "  'Mean V': 0.796397318277744,\n",
       "  'Iteration': 30},\n",
       " {'State': None,\n",
       "  'Action': None,\n",
       "  'Reward': 0.9383245250337178,\n",
       "  'Error': 0.007538444918454124,\n",
       "  'Time': 0.004224061965942383,\n",
       "  'Max V': 0.9383245250337178,\n",
       "  'Mean V': 0.8006813365692508,\n",
       "  'Iteration': 31},\n",
       " {'State': None,\n",
       "  'Action': None,\n",
       "  'Reward': 0.939799138999335,\n",
       "  'Error': 0.006739422465193767,\n",
       "  'Time': 0.004282951354980469,\n",
       "  'Max V': 0.939799138999335,\n",
       "  'Mean V': 0.8045112044200071,\n",
       "  'Iteration': 32},\n",
       " {'State': None,\n",
       "  'Action': None,\n",
       "  'Reward': 0.9411174348022675,\n",
       "  'Error': 0.006024999118140917,\n",
       "  'Time': 0.0043430328369140625,\n",
       "  'Max V': 0.9411174348022675,\n",
       "  'Mean V': 0.8079350586735516,\n",
       "  'Iteration': 33},\n",
       " {'State': None,\n",
       "  'Action': None,\n",
       "  'Reward': 0.9422959633243209,\n",
       "  'Error': 0.005386314963352845,\n",
       "  'Time': 0.004402875900268555,\n",
       "  'Max V': 0.9422959633243209,\n",
       "  'Mean V': 0.8109959402614981,\n",
       "  'Iteration': 34},\n",
       " {'State': None,\n",
       "  'Action': None,\n",
       "  'Reward': 0.9433495550480342,\n",
       "  'Error': 0.00481530377123518,\n",
       "  'Time': 0.004462003707885742,\n",
       "  'Max V': 0.9433495550480342,\n",
       "  'Mean V': 0.8137323263576429,\n",
       "  'Iteration': 35},\n",
       " {'State': None,\n",
       "  'Action': None,\n",
       "  'Reward': 0.9442914476324054,\n",
       "  'Error': 0.00430482895227513,\n",
       "  'Time': 0.004523038864135742,\n",
       "  'Max V': 0.9442914476324054,\n",
       "  'Mean V': 0.8161786174810102,\n",
       "  'Iteration': 36},\n",
       " {'State': None,\n",
       "  'Action': None,\n",
       "  'Reward': 0.9451334874265065,\n",
       "  'Error': 0.003848459439172003,\n",
       "  'Time': 0.004584074020385742,\n",
       "  'Max V': 0.9451334874265065,\n",
       "  'Mean V': 0.8183655668653145,\n",
       "  'Iteration': 37},\n",
       " {'State': None,\n",
       "  'Action': None,\n",
       "  'Reward': 0.9458862576464677,\n",
       "  'Error': 0.0034404723613813415,\n",
       "  'Time': 0.004647016525268555,\n",
       "  'Max V': 0.9458862576464677,\n",
       "  'Mean V': 0.8203206683003202,\n",
       "  'Iteration': 38},\n",
       " {'State': None,\n",
       "  'Action': None,\n",
       "  'Reward': 0.9465592237916476,\n",
       "  'Error': 0.0030757336497874155,\n",
       "  'Time': 0.004708051681518555,\n",
       "  'Max V': 0.9465592237916476,\n",
       "  'Mean V': 0.8220685007002273,\n",
       "  'Iteration': 39},\n",
       " {'State': None,\n",
       "  'Action': None,\n",
       "  'Reward': 0.9471608453276363,\n",
       "  'Error': 0.0027496628825198766,\n",
       "  'Time': 0.004766941070556641,\n",
       "  'Max V': 0.9471608453276363,\n",
       "  'Mean V': 0.8236310375445156,\n",
       "  'Iteration': 40},\n",
       " {'State': None,\n",
       "  'Action': None,\n",
       "  'Reward': 0.9476986863949806,\n",
       "  'Error': 0.002458158949251721,\n",
       "  'Time': 0.004827022552490234,\n",
       "  'Max V': 0.9476986863949806,\n",
       "  'Mean V': 0.8250279227506802,\n",
       "  'Iteration': 41},\n",
       " {'State': None,\n",
       "  'Action': None,\n",
       "  'Reward': 0.9481795083256987,\n",
       "  'Error': 0.00219755883462458,\n",
       "  'Time': 0.004889011383056641,\n",
       "  'Max V': 0.9481795083256987,\n",
       "  'Mean V': 0.8262767177927511,\n",
       "  'Iteration': 42},\n",
       " {'State': None,\n",
       "  'Action': None,\n",
       "  'Reward': 0.9486093561814779,\n",
       "  'Error': 0.0019645856535635,\n",
       "  'Time': 0.004953145980834961,\n",
       "  'Max V': 0.9486093561814779,\n",
       "  'Mean V': 0.8273931223517683,\n",
       "  'Iteration': 43},\n",
       " {'State': None,\n",
       "  'Action': None,\n",
       "  'Reward': 0.9489936338424352,\n",
       "  'Error': 0.001756311094005425,\n",
       "  'Time': 0.005013942718505859,\n",
       "  'Max V': 0.9489936338424352,\n",
       "  'Mean V': 0.8283911717470183,\n",
       "  'Iteration': 44},\n",
       " {'State': None,\n",
       "  'Action': None,\n",
       "  'Reward': 0.9493371724852278,\n",
       "  'Error': 0.0015701165148945817,\n",
       "  'Time': 0.005079030990600586,\n",
       "  'Max V': 0.9493371724852278,\n",
       "  'Mean V': 0.8292834133412241,\n",
       "  'Iteration': 45},\n",
       " {'State': None,\n",
       "  'Action': None,\n",
       "  'Reward': 0.9496442909996479,\n",
       "  'Error': 0.0014036613056650493,\n",
       "  'Time': 0.005141019821166992,\n",
       "  'Max V': 0.9496442909996479,\n",
       "  'Mean V': 0.8300810643049622,\n",
       "  'Iteration': 46},\n",
       " {'State': None,\n",
       "  'Action': None,\n",
       "  'Reward': 0.9499188504759488,\n",
       "  'Error': 0.0012548527234479412,\n",
       "  'Time': 0.005200862884521484,\n",
       "  'Max V': 0.9499188504759488,\n",
       "  'Mean V': 0.8307941526219934,\n",
       "  'Iteration': 47},\n",
       " {'State': None,\n",
       "  'Action': None,\n",
       "  'Reward': 0.9501643026331217,\n",
       "  'Error': 0.0011218200340818996,\n",
       "  'Time': 0.005259990692138672,\n",
       "  'Max V': 0.9501643026331217,\n",
       "  'Mean V': 0.8314316431673172,\n",
       "  'Iteration': 48},\n",
       " {'State': None,\n",
       "  'Action': None,\n",
       "  'Reward': 0.9503837332807576,\n",
       "  'Error': 0.0010028907333483605,\n",
       "  'Time': 0.005318880081176758,\n",
       "  'Max V': 0.9503837332807576,\n",
       "  'Mean V': 0.8320015504071768,\n",
       "  'Iteration': 49},\n",
       " {'State': None,\n",
       "  'Action': None,\n",
       "  'Reward': 0.9505799010737208,\n",
       "  'Error': 0.000896569679074033,\n",
       "  'Time': 0.005380153656005859,\n",
       "  'Max V': 0.9505799010737208,\n",
       "  'Mean V': 0.8325110391587213,\n",
       "  'Iteration': 50},\n",
       " {'State': None,\n",
       "  'Action': None,\n",
       "  'Reward': 0.9507552722173629,\n",
       "  'Error': 0.0008015202025645207,\n",
       "  'Time': 0.005454063415527344,\n",
       "  'Max V': 0.9507552722173629,\n",
       "  'Mean V': 0.8329665146634526,\n",
       "  'Iteration': 51},\n",
       " {'State': None,\n",
       "  'Action': None,\n",
       "  'Reward': 0.9509120514583764,\n",
       "  'Error': 0.000716547359987052,\n",
       "  'Time': 0.005515098571777344,\n",
       "  'Max V': 0.9509120514583764,\n",
       "  'Mean V': 0.8333737031142114,\n",
       "  'Iteration': 52},\n",
       " {'State': None,\n",
       "  'Action': None,\n",
       "  'Reward': 0.9510522098109979,\n",
       "  'Error': 0.0006405828772646505,\n",
       "  'Time': 0.00557398796081543,\n",
       "  'Max V': 0.9510522098109979,\n",
       "  'Mean V': 0.8337377236436336,\n",
       "  'Iteration': 53},\n",
       " {'State': None,\n",
       "  'Action': None,\n",
       "  'Reward': 0.9511775093314536,\n",
       "  'Error': 0.0005726717395024838,\n",
       "  'Time': 0.0056340694427490234,\n",
       "  'Max V': 0.9511775093314536,\n",
       "  'Mean V': 0.8340631526817068,\n",
       "  'Iteration': 54},\n",
       " {'State': None,\n",
       "  'Action': None,\n",
       "  'Reward': 0.9512895252732989,\n",
       "  'Error': 0.0005119601732046508,\n",
       "  'Time': 0.005692958831787109,\n",
       "  'Max V': 0.9512895252732989,\n",
       "  'Mean V': 0.8343540814899622,\n",
       "  'Iteration': 55},\n",
       " {'State': None,\n",
       "  'Action': None,\n",
       "  'Reward': 0.9513896658896046,\n",
       "  'Error': 0.00045768491964304214,\n",
       "  'Time': 0.005752086639404297,\n",
       "  'Max V': 0.9513896658896046,\n",
       "  'Mean V': 0.8346141675965234,\n",
       "  'Iteration': 56},\n",
       " {'State': None,\n",
       "  'Action': None,\n",
       "  'Reward': 0.9514791901384119,\n",
       "  'Error': 0.0004091636352094863,\n",
       "  'Time': 0.005810976028442383,\n",
       "  'Max V': 0.9514791901384119,\n",
       "  'Mean V': 0.8348466807781072,\n",
       "  'Iteration': 57},\n",
       " {'State': None,\n",
       "  'Action': None,\n",
       "  'Reward': 0.9515592235096131,\n",
       "  'Error': 0.0003657863154982177,\n",
       "  'Time': 0.005872011184692383,\n",
       "  'Max V': 0.9515592235096131,\n",
       "  'Mean V': 0.835054544167373,\n",
       "  'Iteration': 58},\n",
       " {'State': None,\n",
       "  'Action': None,\n",
       "  'Reward': 0.9516307721748645,\n",
       "  'Error': 0.00032700762496840063,\n",
       "  'Time': 0.00593113899230957,\n",
       "  'Max V': 0.9516307721748645,\n",
       "  'Mean V': 0.8352403710022287,\n",
       "  'Iteration': 59},\n",
       " {'State': None,\n",
       "  'Action': None,\n",
       "  'Reward': 0.9516947356368595,\n",
       "  'Error': 0.0002923400418979316,\n",
       "  'Time': 0.0059909820556640625,\n",
       "  'Max V': 0.9516947356368595,\n",
       "  'Mean V': 0.8354064974792124,\n",
       "  'Iteration': 60},\n",
       " {'State': None,\n",
       "  'Action': None,\n",
       "  'Reward': 0.9517519180379166,\n",
       "  'Error': 0.0002613477288065935,\n",
       "  'Time': 0.006049156188964844,\n",
       "  'Max V': 0.9517519180379166,\n",
       "  'Mean V': 0.8355550121239144,\n",
       "  'Iteration': 61},\n",
       " {'State': None,\n",
       "  'Action': None,\n",
       "  'Reward': 0.9518030382695002,\n",
       "  'Error': 0.0002336410534528044,\n",
       "  'Time': 0.006108999252319336,\n",
       "  'Max V': 0.9518030382695002,\n",
       "  'Mean V': 0.8356877820477189,\n",
       "  'Iteration': 62},\n",
       " {'State': None,\n",
       "  'Action': None,\n",
       "  'Reward': 0.951848739010098,\n",
       "  'Error': 0.00020887169023964258,\n",
       "  'Time': 0.0062139034271240234,\n",
       "  'Max V': 0.951848739010098,\n",
       "  'Mean V': 0.8358064764209395,\n",
       "  'Iteration': 63},\n",
       " {'State': None,\n",
       "  'Action': None,\n",
       "  'Reward': 0.9518895948048844,\n",
       "  'Error': 0.0001867282412045812,\n",
       "  'Time': 0.006285190582275391,\n",
       "  'Max V': 0.9518895948048844,\n",
       "  'Mean V': 0.8359125874574642,\n",
       "  'Iteration': 64},\n",
       " {'State': None,\n",
       "  'Action': None,\n",
       "  'Reward': 0.9519261192888622,\n",
       "  'Error': 0.00016693232109488143,\n",
       "  'Time': 0.006346940994262695,\n",
       "  'Max V': 0.9519261192888622,\n",
       "  'Mean V': 0.8360074491747207,\n",
       "  'Iteration': 65},\n",
       " {'State': None,\n",
       "  'Action': None,\n",
       "  'Reward': 0.9519587716442197,\n",
       "  'Error': 0.00014923505757147293,\n",
       "  'Time': 0.0064089298248291016,\n",
       "  'Max V': 0.9519587716442197,\n",
       "  'Mean V': 0.8360922541648096,\n",
       "  'Iteration': 66},\n",
       " {'State': None,\n",
       "  'Action': None,\n",
       "  'Reward': 0.9519879623731311,\n",
       "  'Error': 0.00013341396238975012,\n",
       "  'Time': 0.006469249725341797,\n",
       "  'Max V': 0.9519879623731311,\n",
       "  'Mean V': 0.8361680685876558,\n",
       "  'Iteration': 67},\n",
       " {'State': None,\n",
       "  'Action': None,\n",
       "  'Reward': 0.9520140584585448,\n",
       "  'Error': 0.00011927013431178857,\n",
       "  'Time': 0.006528139114379883,\n",
       "  'Max V': 0.9520140584585448,\n",
       "  'Mean V': 0.8362358455746641,\n",
       "  'Iteration': 68},\n",
       " {'State': None,\n",
       "  'Action': None,\n",
       "  'Reward': 0.9520373879778585,\n",
       "  'Error': 0.00010662575853315204,\n",
       "  'Time': 0.006587982177734375,\n",
       "  'Max V': 0.9520373879778585,\n",
       "  'Mean V': 0.8362964372113932,\n",
       "  'Iteration': 69},\n",
       " {'State': None,\n",
       "  'Action': None,\n",
       "  'Reward': 0.9520582442274752,\n",
       "  'Error': 9.53218712159698e-05,\n",
       "  'Time': 0.006648063659667969,\n",
       "  'Max V': 0.9520582442274752,\n",
       "  'Mean V': 0.8363506052498908,\n",
       "  'Iteration': 70},\n",
       " {'State': None,\n",
       "  'Action': None,\n",
       "  'Reward': 0.952076889410097,\n",
       "  'Error': 8.521636100966568e-05,\n",
       "  'Time': 0.006711006164550781,\n",
       "  'Max V': 0.952076889410097,\n",
       "  'Mean V': 0.8363990306853645,\n",
       "  'Iteration': 71},\n",
       " {'State': None,\n",
       "  'Action': None,\n",
       "  'Reward': 0.9520935579311103,\n",
       "  'Error': 7.618218244265229e-05,\n",
       "  'Time': 0.006771087646484375,\n",
       "  'Max V': 0.9520935579311103,\n",
       "  'Mean V': 0.8364423223175863,\n",
       "  'Iteration': 72},\n",
       " {'State': None,\n",
       "  'Action': None,\n",
       "  'Reward': 0.952108459345508,\n",
       "  'Error': 6.810575871762925e-05,\n",
       "  'Time': 0.0068302154541015625,\n",
       "  'Max V': 0.952108459345508,\n",
       "  'Mean V': 0.8364810244046631,\n",
       "  'Iteration': 73},\n",
       " {'State': None,\n",
       "  'Action': None,\n",
       "  'Reward': 0.9521217809923943,\n",
       "  'Error': 6.088555383665373e-05,\n",
       "  'Time': 0.0068891048431396484,\n",
       "  'Max V': 0.9521217809923943,\n",
       "  'Mean V': 0.8365156235053952,\n",
       "  'Iteration': 74},\n",
       " {'State': None,\n",
       "  'Action': None,\n",
       "  'Reward': 0.9521336903501925,\n",
       "  'Error': 5.443079610012447e-05,\n",
       "  'Time': 0.006948947906494141,\n",
       "  'Max V': 0.9521336903501925,\n",
       "  'Mean V': 0.8365465545962455,\n",
       "  'Iteration': 75},\n",
       " {'State': None,\n",
       "  'Action': None,\n",
       "  'Reward': 0.9521443371421676,\n",
       "  'Error': 4.866033693351479e-05,\n",
       "  'Time': 0.007007122039794922,\n",
       "  'Max V': 0.9521443371421676,\n",
       "  'Mean V': 0.8365742065398205,\n",
       "  'Iteration': 76},\n",
       " {'State': None,\n",
       "  'Action': None,\n",
       "  'Reward': 0.9521538552187327,\n",
       "  'Error': 4.3501630697106997e-05,\n",
       "  'Time': 0.0070650577545166016,\n",
       "  'Max V': 0.9521538552187327,\n",
       "  'Mean V': 0.8365989269736123,\n",
       "  'Iteration': 77},\n",
       " {'State': None,\n",
       "  'Action': None,\n",
       "  'Reward': 0.9521623642402022,\n",
       "  'Error': 3.8889822647325545e-05,\n",
       "  'Time': 0.007127046585083008,\n",
       "  'Max V': 0.9521623642402022,\n",
       "  'Mean V': 0.8366210266804628,\n",
       "  'Iteration': 78},\n",
       " {'State': None,\n",
       "  'Action': None,\n",
       "  'Reward': 0.95216997118115,\n",
       "  'Error': 3.476693359094618e-05,\n",
       "  'Time': 0.0071868896484375,\n",
       "  'Max V': 0.95216997118115,\n",
       "  'Mean V': 0.8366407834956948,\n",
       "  'Iteration': 79},\n",
       " {'State': None,\n",
       "  'Action': None,\n",
       "  'Reward': 0.9521767716752836,\n",
       "  'Error': 3.108113097527454e-05,\n",
       "  'Time': 0.0072460174560546875,\n",
       "  'Max V': 0.9521767716752836,\n",
       "  'Mean V': 0.8366584458000301,\n",
       "  'Iteration': 80},\n",
       " {'State': None,\n",
       "  'Action': None,\n",
       "  'Reward': 0.9521828512177404,\n",
       "  'Error': 2.7786077256064523e-05,\n",
       "  'Time': 0.0073070526123046875,\n",
       "  'Max V': 0.9521828512177404,\n",
       "  'Mean V': 0.8366742356422069,\n",
       "  'Iteration': 81},\n",
       " {'State': None,\n",
       "  'Action': None,\n",
       "  'Reward': 0.9521882862399256,\n",
       "  'Error': 2.4840347343846325e-05,\n",
       "  'Time': 0.00736689567565918,\n",
       "  'Max V': 0.9521882862399256,\n",
       "  'Mean V': 0.8366883515305551,\n",
       "  'Iteration': 82},\n",
       " {'State': None,\n",
       "  'Action': None,\n",
       "  'Reward': 0.9521931450703986,\n",
       "  'Error': 2.2206907815514043e-05,\n",
       "  'Time': 0.007426023483276367,\n",
       "  'Max V': 0.9521931450703986,\n",
       "  'Mean V': 0.8367009709286231,\n",
       "  'Iteration': 83},\n",
       " {'State': None,\n",
       "  'Action': None,\n",
       "  'Reward': 0.9521974887938947,\n",
       "  'Error': 1.985265132931069e-05,\n",
       "  'Time': 0.007484912872314453,\n",
       "  'Max V': 0.9521974887938947,\n",
       "  'Mean V': 0.8367122524862317,\n",
       "  'Iteration': 84},\n",
       " {'State': None,\n",
       "  'Action': None,\n",
       "  'Reward': 0.9522013720192746,\n",
       "  'Error': 1.774798040665715e-05,\n",
       "  'Time': 0.0075452327728271484,\n",
       "  'Max V': 0.9522013720192746,\n",
       "  'Mean V': 0.8367223380340043,\n",
       "  'Iteration': 85},\n",
       " {'State': None,\n",
       "  'Action': None,\n",
       "  'Reward': 0.9522048435660626,\n",
       "  'Error': 1.5866435333800055e-05,\n",
       "  'Time': 0.007605075836181641,\n",
       "  'Max V': 0.9522048435660626,\n",
       "  'Mean V': 0.8367313543664474,\n",
       "  'Iteration': 86},\n",
       " {'State': None,\n",
       "  'Action': None,\n",
       "  'Reward': 0.9522079470782008,\n",
       "  'Error': 1.4184361512126209e-05,\n",
       "  'Time': 0.0076639652252197266,\n",
       "  'Max V': 0.9522079470782008,\n",
       "  'Mean V': 0.8367394148359981,\n",
       "  'Iteration': 87},\n",
       " {'State': None,\n",
       "  'Action': None,\n",
       "  'Reward': 0.952210721572736,\n",
       "  'Error': 1.2680612076598763e-05,\n",
       "  'Time': 0.0077250003814697266,\n",
       "  'Max V': 0.952210721572736,\n",
       "  'Mean V': 0.8367466207780803,\n",
       "  'Iteration': 88},\n",
       " {'State': None,\n",
       "  'Action': None,\n",
       "  'Reward': 0.952213201930338,\n",
       "  'Error': 1.133628203864312e-05,\n",
       "  'Time': 0.0077860355377197266,\n",
       "  'Max V': 0.952213201930338,\n",
       "  'Mean V': 0.836753062785083,\n",
       "  'Iteration': 89},\n",
       " {'State': None,\n",
       "  'Action': None,\n",
       "  'Reward': 0.952215419333817,\n",
       "  'Error': 1.0134470614042712e-05,\n",
       "  'Time': 0.007845878601074219,\n",
       "  'Max V': 0.952215419333817,\n",
       "  'Mean V': 0.8367588218452794,\n",
       "  'Iteration': 90},\n",
       " {'State': None,\n",
       "  'Action': None,\n",
       "  'Reward': 0.9522174016601495,\n",
       "  'Error': 9.060068748789618e-06,\n",
       "  'Time': 0.00790715217590332,\n",
       "  'Max V': 0.9522174016601495,\n",
       "  'Mean V': 0.8367639703610033,\n",
       "  'Iteration': 91}]"
      ]
     },
     "execution_count": 185,
     "metadata": {},
     "output_type": "execute_result"
    }
   ],
   "source": [
    "vi.run()"
   ]
  },
  {
   "cell_type": "code",
   "execution_count": 186,
   "id": "741c1190",
   "metadata": {},
   "outputs": [
    {
     "data": {
      "text/plain": [
       "(1, 2, 2, 2, 1, 2, 2, 1, 1, 1, 1, 1, 1, 2, 2, 0)"
      ]
     },
     "execution_count": 186,
     "metadata": {},
     "output_type": "execute_result"
    }
   ],
   "source": [
    "vi.policy"
   ]
  },
  {
   "cell_type": "code",
   "execution_count": 187,
   "id": "a1f73080",
   "metadata": {},
   "outputs": [
    {
     "ename": "AttributeError",
     "evalue": "'ValueIteration' object has no attribute 'iterations'",
     "output_type": "error",
     "traceback": [
      "\u001b[0;31m---------------------------------------------------------------------------\u001b[0m",
      "\u001b[0;31mAttributeError\u001b[0m                            Traceback (most recent call last)",
      "\u001b[0;32m/var/folders/4p/41bttzcx5y163sbdhm1bfdl40000gn/T/ipykernel_22349/72208203.py\u001b[0m in \u001b[0;36m<module>\u001b[0;34m\u001b[0m\n\u001b[0;32m----> 1\u001b[0;31m \u001b[0mvi\u001b[0m\u001b[0;34m.\u001b[0m\u001b[0miterations\u001b[0m\u001b[0;34m\u001b[0m\u001b[0;34m\u001b[0m\u001b[0m\n\u001b[0m",
      "\u001b[0;31mAttributeError\u001b[0m: 'ValueIteration' object has no attribute 'iterations'"
     ]
    }
   ],
   "source": [
    "vi.iterations"
   ]
  },
  {
   "cell_type": "code",
   "execution_count": 189,
   "id": "a651a1ce",
   "metadata": {},
   "outputs": [],
   "source": [
    "vi.setVerbose()"
   ]
  },
  {
   "cell_type": "code",
   "execution_count": 190,
   "id": "48c7d0c8",
   "metadata": {},
   "outputs": [
    {
     "name": "stdout",
     "output_type": "stream",
     "text": [
      " Iteration   Variation\n"
     ]
    },
    {
     "ename": "AttributeError",
     "evalue": "'tuple' object has no attribute 'copy'",
     "output_type": "error",
     "traceback": [
      "\u001b[0;31m---------------------------------------------------------------------------\u001b[0m",
      "\u001b[0;31mAttributeError\u001b[0m                            Traceback (most recent call last)",
      "\u001b[0;32m/var/folders/4p/41bttzcx5y163sbdhm1bfdl40000gn/T/ipykernel_22349/2491318609.py\u001b[0m in \u001b[0;36m<module>\u001b[0;34m\u001b[0m\n\u001b[0;32m----> 1\u001b[0;31m \u001b[0mvi\u001b[0m\u001b[0;34m.\u001b[0m\u001b[0mrun\u001b[0m\u001b[0;34m(\u001b[0m\u001b[0;34m)\u001b[0m\u001b[0;34m\u001b[0m\u001b[0;34m\u001b[0m\u001b[0m\n\u001b[0m",
      "\u001b[0;32m/opt/miniconda3/envs/cs7641/lib/python3.9/site-packages/hiive/mdptoolbox/mdp.py\u001b[0m in \u001b[0;36mrun\u001b[0;34m(self)\u001b[0m\n\u001b[1;32m   1586\u001b[0m             \u001b[0mtake_run_stat\u001b[0m \u001b[0;34m=\u001b[0m \u001b[0mself\u001b[0m\u001b[0;34m.\u001b[0m\u001b[0miter\u001b[0m \u001b[0;34m%\u001b[0m \u001b[0mself\u001b[0m\u001b[0;34m.\u001b[0m\u001b[0mrun_stat_frequency\u001b[0m \u001b[0;34m==\u001b[0m \u001b[0;36m0\u001b[0m \u001b[0;32mor\u001b[0m \u001b[0mself\u001b[0m\u001b[0;34m.\u001b[0m\u001b[0miter\u001b[0m \u001b[0;34m==\u001b[0m \u001b[0mself\u001b[0m\u001b[0;34m.\u001b[0m\u001b[0mmax_iter\u001b[0m\u001b[0;34m\u001b[0m\u001b[0;34m\u001b[0m\u001b[0m\n\u001b[1;32m   1587\u001b[0m \u001b[0;34m\u001b[0m\u001b[0m\n\u001b[0;32m-> 1588\u001b[0;31m             \u001b[0mVprev\u001b[0m \u001b[0;34m=\u001b[0m \u001b[0mself\u001b[0m\u001b[0;34m.\u001b[0m\u001b[0mV\u001b[0m\u001b[0;34m.\u001b[0m\u001b[0mcopy\u001b[0m\u001b[0;34m(\u001b[0m\u001b[0;34m)\u001b[0m\u001b[0;34m\u001b[0m\u001b[0;34m\u001b[0m\u001b[0m\n\u001b[0m\u001b[1;32m   1589\u001b[0m \u001b[0;34m\u001b[0m\u001b[0m\n\u001b[1;32m   1590\u001b[0m             \u001b[0;31m# Bellman Operator: compute policy and value functions\u001b[0m\u001b[0;34m\u001b[0m\u001b[0;34m\u001b[0m\u001b[0m\n",
      "\u001b[0;31mAttributeError\u001b[0m: 'tuple' object has no attribute 'copy'"
     ]
    }
   ],
   "source": [
    "vi.run()"
   ]
  },
  {
   "cell_type": "code",
   "execution_count": 191,
   "id": "7e88f642",
   "metadata": {},
   "outputs": [],
   "source": [
    "vi = mdp.ValueIteration(P, R, 0.99, max_iter=100000)"
   ]
  },
  {
   "cell_type": "code",
   "execution_count": 192,
   "id": "22fbcce5",
   "metadata": {},
   "outputs": [
    {
     "ename": "NameError",
     "evalue": "name 'true' is not defined",
     "output_type": "error",
     "traceback": [
      "\u001b[0;31m---------------------------------------------------------------------------\u001b[0m",
      "\u001b[0;31mNameError\u001b[0m                                 Traceback (most recent call last)",
      "\u001b[0;32m/var/folders/4p/41bttzcx5y163sbdhm1bfdl40000gn/T/ipykernel_22349/2022336365.py\u001b[0m in \u001b[0;36m<module>\u001b[0;34m\u001b[0m\n\u001b[0;32m----> 1\u001b[0;31m \u001b[0mvi\u001b[0m\u001b[0;34m.\u001b[0m\u001b[0msetVerbose\u001b[0m\u001b[0;34m(\u001b[0m\u001b[0mtrue\u001b[0m\u001b[0;34m)\u001b[0m\u001b[0;34m\u001b[0m\u001b[0;34m\u001b[0m\u001b[0m\n\u001b[0m",
      "\u001b[0;31mNameError\u001b[0m: name 'true' is not defined"
     ]
    }
   ],
   "source": [
    "vi.setVerbose(true)"
   ]
  },
  {
   "cell_type": "code",
   "execution_count": 193,
   "id": "d0d91d78",
   "metadata": {},
   "outputs": [
    {
     "ename": "TypeError",
     "evalue": "setVerbose() takes 1 positional argument but 2 were given",
     "output_type": "error",
     "traceback": [
      "\u001b[0;31m---------------------------------------------------------------------------\u001b[0m",
      "\u001b[0;31mTypeError\u001b[0m                                 Traceback (most recent call last)",
      "\u001b[0;32m/var/folders/4p/41bttzcx5y163sbdhm1bfdl40000gn/T/ipykernel_22349/1253507915.py\u001b[0m in \u001b[0;36m<module>\u001b[0;34m\u001b[0m\n\u001b[0;32m----> 1\u001b[0;31m \u001b[0mvi\u001b[0m\u001b[0;34m.\u001b[0m\u001b[0msetVerbose\u001b[0m\u001b[0;34m(\u001b[0m\u001b[0;32mTrue\u001b[0m\u001b[0;34m)\u001b[0m\u001b[0;34m\u001b[0m\u001b[0;34m\u001b[0m\u001b[0m\n\u001b[0m",
      "\u001b[0;31mTypeError\u001b[0m: setVerbose() takes 1 positional argument but 2 were given"
     ]
    }
   ],
   "source": [
    "vi.setVerbose(True)"
   ]
  },
  {
   "cell_type": "code",
   "execution_count": 194,
   "id": "a5692d9d",
   "metadata": {},
   "outputs": [],
   "source": [
    "vi.setVerbose()"
   ]
  },
  {
   "cell_type": "code",
   "execution_count": 195,
   "id": "341a448f",
   "metadata": {},
   "outputs": [
    {
     "name": "stdout",
     "output_type": "stream",
     "text": [
      " Iteration   Variation\n",
      "         1    0.333333\n",
      "         2    0.220000\n",
      "         3    0.108900\n",
      "         4    0.107811\n",
      "         5    0.090921\n",
      "         6    0.073053\n",
      "         7    0.069309\n",
      "         8    0.065206\n",
      "         9    0.060710\n",
      "        10    0.057426\n",
      "        11    0.054973\n",
      "        12    0.054033\n",
      "        13    0.050143\n",
      "        14    0.046922\n",
      "        15    0.042804\n",
      "        16    0.039098\n",
      "        17    0.035298\n",
      "        18    0.031866\n",
      "        19    0.028615\n",
      "        20    0.025693\n",
      "        21    0.023014\n",
      "        22    0.020612\n",
      "        23    0.018442\n",
      "        24    0.016500\n",
      "        25    0.014756\n",
      "        26    0.013196\n",
      "        27    0.011799\n",
      "        28    0.010549\n",
      "        29    0.009432\n",
      "Iterating stopped, epsilon-optimal policy found.\n"
     ]
    },
    {
     "data": {
      "text/plain": [
       "[{'State': None,\n",
       "  'Action': None,\n",
       "  'Reward': 0.3333333333333333,\n",
       "  'Error': 0.3333333333333333,\n",
       "  'Time': 0.0006098747253417969,\n",
       "  'Max V': 0.3333333333333333,\n",
       "  'Mean V': 0.041666666666666664,\n",
       "  'Iteration': 1},\n",
       " {'State': None,\n",
       "  'Action': None,\n",
       "  'Reward': 0.4433333333333333,\n",
       "  'Error': 0.21999999999999997,\n",
       "  'Time': 0.0010607242584228516,\n",
       "  'Max V': 0.4433333333333333,\n",
       "  'Mean V': 0.08291666666666667,\n",
       "  'Iteration': 2},\n",
       " {'State': None,\n",
       "  'Action': None,\n",
       "  'Reward': 0.5522333333333334,\n",
       "  'Error': 0.10890000000000005,\n",
       "  'Time': 0.0012538433074951172,\n",
       "  'Max V': 0.5522333333333334,\n",
       "  'Mean V': 0.12829166666666666,\n",
       "  'Iteration': 3},\n",
       " {'State': None,\n",
       "  'Action': None,\n",
       "  'Reward': 0.6121283333333333,\n",
       "  'Error': 0.10781100000000005,\n",
       "  'Time': 0.0014750957489013672,\n",
       "  'Max V': 0.6121283333333333,\n",
       "  'Mean V': 0.17695635416666664,\n",
       "  'Iteration': 4},\n",
       " {'State': None,\n",
       "  'Action': None,\n",
       "  'Reward': 0.6674713133333333,\n",
       "  'Error': 0.09092061000000001,\n",
       "  'Time': 0.0016489028930664062,\n",
       "  'Max V': 0.6674713133333333,\n",
       "  'Mean V': 0.22785213041666663,\n",
       "  'Iteration': 5},\n",
       " {'State': None,\n",
       "  'Action': None,\n",
       "  'Reward': 0.7039976801333332,\n",
       "  'Error': 0.0730527336,\n",
       "  'Time': 0.0017957687377929688,\n",
       "  'Max V': 0.7039976801333332,\n",
       "  'Mean V': 0.2791358016604166,\n",
       "  'Iteration': 6},\n",
       " {'State': None,\n",
       "  'Action': None,\n",
       "  'Reward': 0.7380063366503332,\n",
       "  'Error': 0.06930878100300003,\n",
       "  'Time': 0.0020799636840820312,\n",
       "  'Max V': 0.7380063366503332,\n",
       "  'Mean V': 0.3292070910418541,\n",
       "  'Iteration': 7},\n",
       " {'State': None,\n",
       "  'Action': None,\n",
       "  'Reward': 0.7627250335769933,\n",
       "  'Error': 0.06520621775480998,\n",
       "  'Time': 0.002798795700073242,\n",
       "  'Max V': 0.7627250335769933,\n",
       "  'Mean V': 0.37690423180694654,\n",
       "  'Iteration': 8},\n",
       " {'State': None,\n",
       "  'Action': None,\n",
       "  'Reward': 0.7858370152034203,\n",
       "  'Error': 0.0607099720207365,\n",
       "  'Time': 0.002992868423461914,\n",
       "  'Max V': 0.7858370152034203,\n",
       "  'Mean V': 0.42150496511291424,\n",
       "  'Iteration': 9},\n",
       " {'State': None,\n",
       "  'Action': None,\n",
       "  'Reward': 0.8038601416461788,\n",
       "  'Error': 0.057426476700016466,\n",
       "  'Time': 0.0031118392944335938,\n",
       "  'Max V': 0.8038601416461788,\n",
       "  'Mean V': 0.4628954319262558,\n",
       "  'Iteration': 10},\n",
       " {'State': None,\n",
       "  'Action': None,\n",
       "  'Reward': 0.8206564578512455,\n",
       "  'Error': 0.054973475044425235,\n",
       "  'Time': 0.0033588409423828125,\n",
       "  'Max V': 0.8206564578512455,\n",
       "  'Mean V': 0.5007713649289123,\n",
       "  'Iteration': 11},\n",
       " {'State': None,\n",
       "  'Action': None,\n",
       "  'Reward': 0.8346440946244842,\n",
       "  'Error': 0.05403288133694145,\n",
       "  'Time': 0.0038268566131591797,\n",
       "  'Max V': 0.8346440946244842,\n",
       "  'Mean V': 0.5353306139166262,\n",
       "  'Iteration': 12},\n",
       " {'State': None,\n",
       "  'Action': None,\n",
       "  'Reward': 0.8474588036519901,\n",
       "  'Error': 0.05014308982959326,\n",
       "  'Time': 0.003972768783569336,\n",
       "  'Max V': 0.8474588036519901,\n",
       "  'Mean V': 0.5666054143414174,\n",
       "  'Iteration': 13},\n",
       " {'State': None,\n",
       "  'Action': None,\n",
       "  'Reward': 0.8585623488179572,\n",
       "  'Error': 0.04692225111697962,\n",
       "  'Time': 0.004263877868652344,\n",
       "  'Max V': 0.8585623488179572,\n",
       "  'Mean V': 0.5948474852729326,\n",
       "  'Iteration': 14},\n",
       " {'State': None,\n",
       "  'Action': None,\n",
       "  'Reward': 0.8686064599385261,\n",
       "  'Error': 0.04280392844661707,\n",
       "  'Time': 0.004374027252197266,\n",
       "  'Max V': 0.8686064599385261,\n",
       "  'Mean V': 0.6202468693201126,\n",
       "  'Iteration': 15},\n",
       " {'State': None,\n",
       "  'Action': None,\n",
       "  'Reward': 0.8774657735266513,\n",
       "  'Error': 0.03909815174006637,\n",
       "  'Time': 0.0044667720794677734,\n",
       "  'Max V': 0.8774657735266513,\n",
       "  'Mean V': 0.6430605006608929,\n",
       "  'Iteration': 16},\n",
       " {'State': None,\n",
       "  'Action': None,\n",
       "  'Reward': 0.8854296931568157,\n",
       "  'Error': 0.035297820920345724,\n",
       "  'Time': 0.0045549869537353516,\n",
       "  'Max V': 0.8854296931568157,\n",
       "  'Mean V': 0.6635116849514886,\n",
       "  'Iteration': 17},\n",
       " {'State': None,\n",
       "  'Action': None,\n",
       "  'Reward': 0.8925082732994798,\n",
       "  'Error': 0.031866122762719495,\n",
       "  'Time': 0.004812002182006836,\n",
       "  'Max V': 0.8925082732994798,\n",
       "  'Mean V': 0.6818332400862812,\n",
       "  'Iteration': 18},\n",
       " {'State': None,\n",
       "  'Action': None,\n",
       "  'Reward': 0.8988525195323598,\n",
       "  'Error': 0.028615383590612997,\n",
       "  'Time': 0.004930973052978516,\n",
       "  'Max V': 0.8988525195323598,\n",
       "  'Mean V': 0.6982322895424535,\n",
       "  'Iteration': 19},\n",
       " {'State': None,\n",
       "  'Action': None,\n",
       "  'Reward': 0.9045100609675656,\n",
       "  'Error': 0.025692612316102093,\n",
       "  'Time': 0.005060911178588867,\n",
       "  'Max V': 0.9045100609675656,\n",
       "  'Mean V': 0.7129062040325771,\n",
       "  'Iteration': 20},\n",
       " {'State': None,\n",
       "  'Action': None,\n",
       "  'Reward': 0.9095736773330934,\n",
       "  'Error': 0.023013627237343015,\n",
       "  'Time': 0.005158901214599609,\n",
       "  'Max V': 0.9095736773330934,\n",
       "  'Mean V': 0.726031272372053,\n",
       "  'Iteration': 21},\n",
       " {'State': None,\n",
       "  'Action': None,\n",
       "  'Reward': 0.9140955966353719,\n",
       "  'Error': 0.02061235179297971,\n",
       "  'Time': 0.005247831344604492,\n",
       "  'Max V': 0.9140955966353719,\n",
       "  'Mean V': 0.7377694581799379,\n",
       "  'Iteration': 22},\n",
       " {'State': None,\n",
       "  'Action': None,\n",
       "  'Reward': 0.9181402431261094,\n",
       "  'Error': 0.018442366122387588,\n",
       "  'Time': 0.005369901657104492,\n",
       "  'Max V': 0.9181402431261094,\n",
       "  'Mean V': 0.7482655091345798,\n",
       "  'Iteration': 23},\n",
       " {'State': None,\n",
       "  'Action': None,\n",
       "  'Reward': 0.9217544065519274,\n",
       "  'Error': 0.016500336366223833,\n",
       "  'Time': 0.005508899688720703,\n",
       "  'Max V': 0.9217544065519274,\n",
       "  'Mean V': 0.7576503586811405,\n",
       "  'Iteration': 24},\n",
       " {'State': None,\n",
       "  'Action': None,\n",
       "  'Reward': 0.9249861774143715,\n",
       "  'Error': 0.014756117604506347,\n",
       "  'Time': 0.005678892135620117,\n",
       "  'Max V': 0.9249861774143715,\n",
       "  'Mean V': 0.7660410332200023,\n",
       "  'Iteration': 25},\n",
       " {'State': None,\n",
       "  'Action': None,\n",
       "  'Reward': 0.9278747457619498,\n",
       "  'Error': 0.013196178223619293,\n",
       "  'Time': 0.005796909332275391,\n",
       "  'Max V': 0.9278747457619498,\n",
       "  'Mean V': 0.7735426834643682,\n",
       "  'Iteration': 26},\n",
       " {'State': None,\n",
       "  'Action': None,\n",
       "  'Reward': 0.9304573568220147,\n",
       "  'Error': 0.011798843951210003,\n",
       "  'Time': 0.006063699722290039,\n",
       "  'Max V': 0.9304573568220147,\n",
       "  'Mean V': 0.7802492968928176,\n",
       "  'Iteration': 27},\n",
       " {'State': None,\n",
       "  'Action': None,\n",
       "  'Reward': 0.9327659689315138,\n",
       "  'Error': 0.010549473297766232,\n",
       "  'Time': 0.006166934967041016,\n",
       "  'Max V': 0.9327659689315138,\n",
       "  'Mean V': 0.7862450796155634,\n",
       "  'Iteration': 28},\n",
       " {'State': None,\n",
       "  'Action': None,\n",
       "  'Reward': 0.934829932186598,\n",
       "  'Error': 0.009431608717043627,\n",
       "  'Time': 0.006311893463134766,\n",
       "  'Max V': 0.934829932186598,\n",
       "  'Mean V': 0.7916053022659324,\n",
       "  'Iteration': 29}]"
      ]
     },
     "execution_count": 195,
     "metadata": {},
     "output_type": "execute_result"
    }
   ],
   "source": [
    "vi.run()"
   ]
  },
  {
   "cell_type": "code",
   "execution_count": 196,
   "id": "963e9280",
   "metadata": {},
   "outputs": [
    {
     "data": {
      "text/plain": [
       "(1, 2, 2, 2, 1, 1, 2, 1, 1, 1, 1, 1, 1, 2, 2, 0)"
      ]
     },
     "execution_count": 196,
     "metadata": {},
     "output_type": "execute_result"
    }
   ],
   "source": [
    "vi.policy"
   ]
  },
  {
   "cell_type": "code",
   "execution_count": 197,
   "id": "f7002a24",
   "metadata": {},
   "outputs": [],
   "source": [
    "vi = mdp.ValueIteration(P, R, 0.99, max_iter=100000)"
   ]
  },
  {
   "cell_type": "code",
   "execution_count": 198,
   "id": "9e03397e",
   "metadata": {},
   "outputs": [
    {
     "ename": "DeprecatedEnv",
     "evalue": "Env FrozenLake-v0 not found (valid versions include ['FrozenLake-v1'])",
     "output_type": "error",
     "traceback": [
      "\u001b[0;31m---------------------------------------------------------------------------\u001b[0m",
      "\u001b[0;31mKeyError\u001b[0m                                  Traceback (most recent call last)",
      "\u001b[0;32m/opt/miniconda3/envs/cs7641/lib/python3.9/site-packages/gym/envs/registration.py\u001b[0m in \u001b[0;36mspec\u001b[0;34m(self, path)\u001b[0m\n\u001b[1;32m    157\u001b[0m         \u001b[0;32mtry\u001b[0m\u001b[0;34m:\u001b[0m\u001b[0;34m\u001b[0m\u001b[0;34m\u001b[0m\u001b[0m\n\u001b[0;32m--> 158\u001b[0;31m             \u001b[0;32mreturn\u001b[0m \u001b[0mself\u001b[0m\u001b[0;34m.\u001b[0m\u001b[0menv_specs\u001b[0m\u001b[0;34m[\u001b[0m\u001b[0mid\u001b[0m\u001b[0;34m]\u001b[0m\u001b[0;34m\u001b[0m\u001b[0;34m\u001b[0m\u001b[0m\n\u001b[0m\u001b[1;32m    159\u001b[0m         \u001b[0;32mexcept\u001b[0m \u001b[0mKeyError\u001b[0m\u001b[0;34m:\u001b[0m\u001b[0;34m\u001b[0m\u001b[0;34m\u001b[0m\u001b[0m\n",
      "\u001b[0;31mKeyError\u001b[0m: 'FrozenLake-v0'",
      "\nDuring handling of the above exception, another exception occurred:\n",
      "\u001b[0;31mDeprecatedEnv\u001b[0m                             Traceback (most recent call last)",
      "\u001b[0;32m/var/folders/4p/41bttzcx5y163sbdhm1bfdl40000gn/T/ipykernel_22349/2865048728.py\u001b[0m in \u001b[0;36m<module>\u001b[0;34m\u001b[0m\n\u001b[0;32m----> 1\u001b[0;31m \u001b[0mP\u001b[0m\u001b[0;34m,\u001b[0m \u001b[0mR\u001b[0m \u001b[0;34m=\u001b[0m \u001b[0mhiive\u001b[0m\u001b[0;34m.\u001b[0m\u001b[0mmdptoolbox\u001b[0m\u001b[0;34m.\u001b[0m\u001b[0mexample\u001b[0m\u001b[0;34m.\u001b[0m\u001b[0mopenai\u001b[0m\u001b[0;34m(\u001b[0m\u001b[0;34m\"FrozenLake-v0\"\u001b[0m\u001b[0;34m)\u001b[0m\u001b[0;34m\u001b[0m\u001b[0;34m\u001b[0m\u001b[0m\n\u001b[0m",
      "\u001b[0;32m/opt/miniconda3/envs/cs7641/lib/python3.9/site-packages/hiive/mdptoolbox/example.py\u001b[0m in \u001b[0;36mopenai\u001b[0;34m(env_name, render, **kwargs)\u001b[0m\n\u001b[1;32m    462\u001b[0m     \"\"\"\n\u001b[1;32m    463\u001b[0m \u001b[0;34m\u001b[0m\u001b[0m\n\u001b[0;32m--> 464\u001b[0;31m     \u001b[0menv\u001b[0m \u001b[0;34m=\u001b[0m \u001b[0mopenai_\u001b[0m\u001b[0;34m.\u001b[0m\u001b[0mOpenAI_MDPToolbox\u001b[0m\u001b[0;34m(\u001b[0m\u001b[0menv_name\u001b[0m\u001b[0;34m,\u001b[0m \u001b[0mrender\u001b[0m\u001b[0;34m,\u001b[0m \u001b[0;34m**\u001b[0m\u001b[0mkwargs\u001b[0m\u001b[0;34m)\u001b[0m\u001b[0;34m\u001b[0m\u001b[0;34m\u001b[0m\u001b[0m\n\u001b[0m\u001b[1;32m    465\u001b[0m     \u001b[0;32mreturn\u001b[0m \u001b[0menv\u001b[0m\u001b[0;34m.\u001b[0m\u001b[0mP\u001b[0m\u001b[0;34m,\u001b[0m \u001b[0menv\u001b[0m\u001b[0;34m.\u001b[0m\u001b[0mR\u001b[0m\u001b[0;34m\u001b[0m\u001b[0;34m\u001b[0m\u001b[0m\n",
      "\u001b[0;32m/opt/miniconda3/envs/cs7641/lib/python3.9/site-packages/hiive/mdptoolbox/openai.py\u001b[0m in \u001b[0;36m__init__\u001b[0;34m(self, openAI_env_name, render, **kwargs)\u001b[0m\n\u001b[1;32m     25\u001b[0m         \u001b[0mself\u001b[0m\u001b[0;34m.\u001b[0m\u001b[0menv_name\u001b[0m \u001b[0;34m=\u001b[0m \u001b[0mopenAI_env_name\u001b[0m\u001b[0;34m\u001b[0m\u001b[0;34m\u001b[0m\u001b[0m\n\u001b[1;32m     26\u001b[0m \u001b[0;34m\u001b[0m\u001b[0m\n\u001b[0;32m---> 27\u001b[0;31m         \u001b[0mself\u001b[0m\u001b[0;34m.\u001b[0m\u001b[0menv\u001b[0m \u001b[0;34m=\u001b[0m \u001b[0mgym\u001b[0m\u001b[0;34m.\u001b[0m\u001b[0mmake\u001b[0m\u001b[0;34m(\u001b[0m\u001b[0mself\u001b[0m\u001b[0;34m.\u001b[0m\u001b[0menv_name\u001b[0m\u001b[0;34m,\u001b[0m \u001b[0;34m**\u001b[0m\u001b[0mkwargs\u001b[0m\u001b[0;34m)\u001b[0m\u001b[0;34m\u001b[0m\u001b[0;34m\u001b[0m\u001b[0m\n\u001b[0m\u001b[1;32m     28\u001b[0m         \u001b[0mself\u001b[0m\u001b[0;34m.\u001b[0m\u001b[0menv\u001b[0m\u001b[0;34m.\u001b[0m\u001b[0mreset\u001b[0m\u001b[0;34m(\u001b[0m\u001b[0;34m)\u001b[0m\u001b[0;34m\u001b[0m\u001b[0;34m\u001b[0m\u001b[0m\n\u001b[1;32m     29\u001b[0m \u001b[0;34m\u001b[0m\u001b[0m\n",
      "\u001b[0;32m/opt/miniconda3/envs/cs7641/lib/python3.9/site-packages/gym/envs/registration.py\u001b[0m in \u001b[0;36mmake\u001b[0;34m(id, **kwargs)\u001b[0m\n\u001b[1;32m    233\u001b[0m \u001b[0;34m\u001b[0m\u001b[0m\n\u001b[1;32m    234\u001b[0m \u001b[0;32mdef\u001b[0m \u001b[0mmake\u001b[0m\u001b[0;34m(\u001b[0m\u001b[0mid\u001b[0m\u001b[0;34m,\u001b[0m \u001b[0;34m**\u001b[0m\u001b[0mkwargs\u001b[0m\u001b[0;34m)\u001b[0m\u001b[0;34m:\u001b[0m\u001b[0;34m\u001b[0m\u001b[0;34m\u001b[0m\u001b[0m\n\u001b[0;32m--> 235\u001b[0;31m     \u001b[0;32mreturn\u001b[0m \u001b[0mregistry\u001b[0m\u001b[0;34m.\u001b[0m\u001b[0mmake\u001b[0m\u001b[0;34m(\u001b[0m\u001b[0mid\u001b[0m\u001b[0;34m,\u001b[0m \u001b[0;34m**\u001b[0m\u001b[0mkwargs\u001b[0m\u001b[0;34m)\u001b[0m\u001b[0;34m\u001b[0m\u001b[0;34m\u001b[0m\u001b[0m\n\u001b[0m\u001b[1;32m    236\u001b[0m \u001b[0;34m\u001b[0m\u001b[0m\n\u001b[1;32m    237\u001b[0m \u001b[0;34m\u001b[0m\u001b[0m\n",
      "\u001b[0;32m/opt/miniconda3/envs/cs7641/lib/python3.9/site-packages/gym/envs/registration.py\u001b[0m in \u001b[0;36mmake\u001b[0;34m(self, path, **kwargs)\u001b[0m\n\u001b[1;32m    126\u001b[0m         \u001b[0;32melse\u001b[0m\u001b[0;34m:\u001b[0m\u001b[0;34m\u001b[0m\u001b[0;34m\u001b[0m\u001b[0m\n\u001b[1;32m    127\u001b[0m             \u001b[0mlogger\u001b[0m\u001b[0;34m.\u001b[0m\u001b[0minfo\u001b[0m\u001b[0;34m(\u001b[0m\u001b[0;34m\"Making new env: %s\"\u001b[0m\u001b[0;34m,\u001b[0m \u001b[0mpath\u001b[0m\u001b[0;34m)\u001b[0m\u001b[0;34m\u001b[0m\u001b[0;34m\u001b[0m\u001b[0m\n\u001b[0;32m--> 128\u001b[0;31m         \u001b[0mspec\u001b[0m \u001b[0;34m=\u001b[0m \u001b[0mself\u001b[0m\u001b[0;34m.\u001b[0m\u001b[0mspec\u001b[0m\u001b[0;34m(\u001b[0m\u001b[0mpath\u001b[0m\u001b[0;34m)\u001b[0m\u001b[0;34m\u001b[0m\u001b[0;34m\u001b[0m\u001b[0m\n\u001b[0m\u001b[1;32m    129\u001b[0m         \u001b[0menv\u001b[0m \u001b[0;34m=\u001b[0m \u001b[0mspec\u001b[0m\u001b[0;34m.\u001b[0m\u001b[0mmake\u001b[0m\u001b[0;34m(\u001b[0m\u001b[0;34m**\u001b[0m\u001b[0mkwargs\u001b[0m\u001b[0;34m)\u001b[0m\u001b[0;34m\u001b[0m\u001b[0;34m\u001b[0m\u001b[0m\n\u001b[1;32m    130\u001b[0m         \u001b[0;32mreturn\u001b[0m \u001b[0menv\u001b[0m\u001b[0;34m\u001b[0m\u001b[0;34m\u001b[0m\u001b[0m\n",
      "\u001b[0;32m/opt/miniconda3/envs/cs7641/lib/python3.9/site-packages/gym/envs/registration.py\u001b[0m in \u001b[0;36mspec\u001b[0;34m(self, path)\u001b[0m\n\u001b[1;32m    183\u001b[0m             ]\n\u001b[1;32m    184\u001b[0m             \u001b[0;32mif\u001b[0m \u001b[0mmatching_envs\u001b[0m\u001b[0;34m:\u001b[0m\u001b[0;34m\u001b[0m\u001b[0;34m\u001b[0m\u001b[0m\n\u001b[0;32m--> 185\u001b[0;31m                 raise error.DeprecatedEnv(\n\u001b[0m\u001b[1;32m    186\u001b[0m                     \"Env {} not found (valid versions include {})\".format(\n\u001b[1;32m    187\u001b[0m                         \u001b[0mid\u001b[0m\u001b[0;34m,\u001b[0m \u001b[0mmatching_envs\u001b[0m\u001b[0;34m\u001b[0m\u001b[0;34m\u001b[0m\u001b[0m\n",
      "\u001b[0;31mDeprecatedEnv\u001b[0m: Env FrozenLake-v0 not found (valid versions include ['FrozenLake-v1'])"
     ]
    }
   ],
   "source": [
    "P, R = hiive.mdptoolbox.example.openai(\"FrozenLake-v0\")"
   ]
  },
  {
   "cell_type": "code",
   "execution_count": 199,
   "id": "d6713bed",
   "metadata": {},
   "outputs": [],
   "source": [
    "P, R = hiive.mdptoolbox.example.openai(\"FrozenLake-v1\")"
   ]
  },
  {
   "cell_type": "code",
   "execution_count": 200,
   "id": "837d2477",
   "metadata": {},
   "outputs": [],
   "source": [
    "vi = mdp.ValueIteration(P, R, 0.99, max_iter=100000)"
   ]
  },
  {
   "cell_type": "code",
   "execution_count": 201,
   "id": "9bd1d8e0",
   "metadata": {},
   "outputs": [
    {
     "ename": "TypeError",
     "evalue": "'NoneType' object is not subscriptable",
     "output_type": "error",
     "traceback": [
      "\u001b[0;31m---------------------------------------------------------------------------\u001b[0m",
      "\u001b[0;31mTypeError\u001b[0m                                 Traceback (most recent call last)",
      "\u001b[0;32m/var/folders/4p/41bttzcx5y163sbdhm1bfdl40000gn/T/ipykernel_22349/656893007.py\u001b[0m in \u001b[0;36m<module>\u001b[0;34m\u001b[0m\n\u001b[0;32m----> 1\u001b[0;31m \u001b[0mget_score\u001b[0m\u001b[0;34m(\u001b[0m\u001b[0menv\u001b[0m\u001b[0;34m,\u001b[0m \u001b[0mvi\u001b[0m\u001b[0;34m.\u001b[0m\u001b[0mpolicy\u001b[0m\u001b[0;34m)\u001b[0m\u001b[0;34m\u001b[0m\u001b[0;34m\u001b[0m\u001b[0m\n\u001b[0m",
      "\u001b[0;32m/var/folders/4p/41bttzcx5y163sbdhm1bfdl40000gn/T/ipykernel_22349/452922668.py\u001b[0m in \u001b[0;36mget_score\u001b[0;34m(env, policy, episodes)\u001b[0m\n\u001b[1;32m      7\u001b[0m     \u001b[0;32mwhile\u001b[0m \u001b[0;32mTrue\u001b[0m\u001b[0;34m:\u001b[0m\u001b[0;34m\u001b[0m\u001b[0;34m\u001b[0m\u001b[0m\n\u001b[1;32m      8\u001b[0m \u001b[0;34m\u001b[0m\u001b[0m\n\u001b[0;32m----> 9\u001b[0;31m       \u001b[0maction\u001b[0m \u001b[0;34m=\u001b[0m \u001b[0mpolicy\u001b[0m\u001b[0;34m[\u001b[0m\u001b[0mobservation\u001b[0m\u001b[0;34m]\u001b[0m\u001b[0;34m\u001b[0m\u001b[0;34m\u001b[0m\u001b[0m\n\u001b[0m\u001b[1;32m     10\u001b[0m       \u001b[0mobservation\u001b[0m\u001b[0;34m,\u001b[0m \u001b[0mreward\u001b[0m\u001b[0;34m,\u001b[0m \u001b[0mdone\u001b[0m\u001b[0;34m,\u001b[0m \u001b[0m_\u001b[0m \u001b[0;34m=\u001b[0m \u001b[0menv\u001b[0m\u001b[0;34m.\u001b[0m\u001b[0mstep\u001b[0m\u001b[0;34m(\u001b[0m\u001b[0maction\u001b[0m\u001b[0;34m)\u001b[0m\u001b[0;34m\u001b[0m\u001b[0;34m\u001b[0m\u001b[0m\n\u001b[1;32m     11\u001b[0m       \u001b[0msteps\u001b[0m\u001b[0;34m+=\u001b[0m\u001b[0;36m1\u001b[0m\u001b[0;34m\u001b[0m\u001b[0;34m\u001b[0m\u001b[0m\n",
      "\u001b[0;31mTypeError\u001b[0m: 'NoneType' object is not subscriptable"
     ]
    }
   ],
   "source": [
    "get_score(env, vi.policy)"
   ]
  },
  {
   "cell_type": "code",
   "execution_count": 202,
   "id": "129f2171",
   "metadata": {},
   "outputs": [
    {
     "data": {
      "text/plain": [
       "[{'State': None,\n",
       "  'Action': None,\n",
       "  'Reward': 0.3333333333333333,\n",
       "  'Error': 0.3333333333333333,\n",
       "  'Time': 0.00015091896057128906,\n",
       "  'Max V': 0.3333333333333333,\n",
       "  'Mean V': 0.020833333333333332,\n",
       "  'Iteration': 1},\n",
       " {'State': None,\n",
       "  'Action': None,\n",
       "  'Reward': 0.4433333333333333,\n",
       "  'Error': 0.10999999999999999,\n",
       "  'Time': 0.0010700225830078125,\n",
       "  'Max V': 0.4433333333333333,\n",
       "  'Mean V': 0.041458333333333326,\n",
       "  'Iteration': 2},\n",
       " {'State': None,\n",
       "  'Action': None,\n",
       "  'Reward': 0.5159333333333332,\n",
       "  'Error': 0.07259999999999998,\n",
       "  'Time': 0.0011899471282958984,\n",
       "  'Max V': 0.5159333333333332,\n",
       "  'Mean V': 0.059608333333333326,\n",
       "  'Iteration': 3},\n",
       " {'State': None,\n",
       "  'Action': None,\n",
       "  'Reward': 0.5638493333333332,\n",
       "  'Error': 0.07187399999999997,\n",
       "  'Time': 0.001302957534790039,\n",
       "  'Max V': 0.5638493333333332,\n",
       "  'Mean V': 0.07607945833333331,\n",
       "  'Iteration': 4},\n",
       " {'State': None,\n",
       "  'Action': None,\n",
       "  'Reward': 0.6033800333333332,\n",
       "  'Error': 0.05138990999999998,\n",
       "  'Time': 0.0014679431915283203,\n",
       "  'Max V': 0.6033800333333332,\n",
       "  'Mean V': 0.09115053770833331,\n",
       "  'Iteration': 5},\n",
       " {'State': None,\n",
       "  'Action': None,\n",
       "  'Reward': 0.6333838346333333,\n",
       "  'Error': 0.046962471599999944,\n",
       "  'Time': 0.001798868179321289,\n",
       "  'Max V': 0.6333838346333333,\n",
       "  'Mean V': 0.10501098939583331,\n",
       "  'Iteration': 6},\n",
       " {'State': None,\n",
       "  'Action': None,\n",
       "  'Reward': 0.6587827046903332,\n",
       "  'Error': 0.036591592455000044,\n",
       "  'Time': 0.001889944076538086,\n",
       "  'Max V': 0.6587827046903332,\n",
       "  'Mean V': 0.1178449523377708,\n",
       "  'Iteration': 7},\n",
       " {'State': None,\n",
       "  'Action': None,\n",
       "  'Reward': 0.6792395573192933,\n",
       "  'Error': 0.032532078139109966,\n",
       "  'Time': 0.0019598007202148438,\n",
       "  'Max V': 0.6792395573192933,\n",
       "  'Mean V': 0.12976035868675706,\n",
       "  'Iteration': 8},\n",
       " {'State': None,\n",
       "  'Action': None,\n",
       "  'Reward': 0.6967259044727563,\n",
       "  'Error': 0.027143686332051276,\n",
       "  'Time': 0.002023935317993164,\n",
       "  'Max V': 0.6967259044727563,\n",
       "  'Mean V': 0.14086219671699693,\n",
       "  'Iteration': 9},\n",
       " {'State': None,\n",
       "  'Action': None,\n",
       "  'Reward': 0.7113145810697702,\n",
       "  'Error': 0.02354609308659078,\n",
       "  'Time': 0.0020868778228759766,\n",
       "  'Max V': 0.7113145810697702,\n",
       "  'Mean V': 0.15122162679788287,\n",
       "  'Iteration': 10},\n",
       " {'State': None,\n",
       "  'Action': None,\n",
       "  'Reward': 0.7238990550653597,\n",
       "  'Error': 0.020911158412143915,\n",
       "  'Time': 0.002202749252319336,\n",
       "  'Max V': 0.7238990550653597,\n",
       "  'Mean V': 0.16090567309012782,\n",
       "  'Iteration': 11},\n",
       " {'State': None,\n",
       "  'Action': None,\n",
       "  'Reward': 0.7346544153314808,\n",
       "  'Error': 0.01847145519388335,\n",
       "  'Time': 0.002401113510131836,\n",
       "  'Max V': 0.7346544153314808,\n",
       "  'Mean V': 0.16997211605419865,\n",
       "  'Iteration': 12},\n",
       " {'State': None,\n",
       "  'Action': None,\n",
       "  'Reward': 0.7440301782582033,\n",
       "  'Error': 0.017180929893530705,\n",
       "  'Time': 0.0025548934936523438,\n",
       "  'Max V': 0.7440301782582033,\n",
       "  'Mean V': 0.178505497264691,\n",
       "  'Iteration': 13},\n",
       " {'State': None,\n",
       "  'Action': None,\n",
       "  'Reward': 0.7521922958197383,\n",
       "  'Error': 0.016209989407701186,\n",
       "  'Time': 0.0026938915252685547,\n",
       "  'Max V': 0.7521922958197383,\n",
       "  'Mean V': 0.18655788478504845,\n",
       "  'Iteration': 14},\n",
       " {'State': None,\n",
       "  'Action': None,\n",
       "  'Reward': 0.7593887230317445,\n",
       "  'Error': 0.015224503886402091,\n",
       "  'Time': 0.002949953079223633,\n",
       "  'Max V': 0.7593887230317445,\n",
       "  'Mean V': 0.19419860317046067,\n",
       "  'Iteration': 15},\n",
       " {'State': None,\n",
       "  'Action': None,\n",
       "  'Reward': 0.765749084294411,\n",
       "  'Error': 0.01461738574811522,\n",
       "  'Time': 0.003036975860595703,\n",
       "  'Max V': 0.765749084294411,\n",
       "  'Mean V': 0.20148272027173736,\n",
       "  'Iteration': 16},\n",
       " {'State': None,\n",
       "  'Action': None,\n",
       "  'Reward': 0.7714210577265268,\n",
       "  'Error': 0.014287398416160696,\n",
       "  'Time': 0.0031070709228515625,\n",
       "  'Max V': 0.7714210577265268,\n",
       "  'Mean V': 0.20844313759678504,\n",
       "  'Iteration': 17},\n",
       " {'State': None,\n",
       "  'Action': None,\n",
       "  'Reward': 0.7765013577802422,\n",
       "  'Error': 0.01411130572852573,\n",
       "  'Time': 0.003170013427734375,\n",
       "  'Max V': 0.7765013577802422,\n",
       "  'Mean V': 0.2151047686954941,\n",
       "  'Iteration': 18},\n",
       " {'State': None,\n",
       "  'Action': None,\n",
       "  'Reward': 0.7810850533170925,\n",
       "  'Error': 0.013904261156616415,\n",
       "  'Time': 0.0032320022583007812,\n",
       "  'Max V': 0.7810850533170925,\n",
       "  'Mean V': 0.221488088151711,\n",
       "  'Iteration': 19},\n",
       " {'State': None,\n",
       "  'Action': None,\n",
       "  'Reward': 0.7852433897263188,\n",
       "  'Error': 0.013637953842208284,\n",
       "  'Time': 0.0033719539642333984,\n",
       "  'Max V': 0.7852433897263188,\n",
       "  'Mean V': 0.22760998144848338,\n",
       "  'Iteration': 20},\n",
       " {'State': None,\n",
       "  'Action': None,\n",
       "  'Reward': 0.7890401027686509,\n",
       "  'Error': 0.013326381085000977,\n",
       "  'Time': 0.0035021305084228516,\n",
       "  'Max V': 0.7890401027686509,\n",
       "  'Mean V': 0.23348485170076594,\n",
       "  'Iteration': 21},\n",
       " {'State': None,\n",
       "  'Action': None,\n",
       "  'Reward': 0.7925251429595621,\n",
       "  'Error': 0.01298285571280669,\n",
       "  'Time': 0.0035660266876220703,\n",
       "  'Max V': 0.7925251429595621,\n",
       "  'Mean V': 0.23912509802408208,\n",
       "  'Iteration': 22},\n",
       " {'State': None,\n",
       "  'Action': None,\n",
       "  'Reward': 0.7957415840732716,\n",
       "  'Error': 0.012616672855588318,\n",
       "  'Time': 0.0036270618438720703,\n",
       "  'Max V': 0.7957415840732716,\n",
       "  'Mean V': 0.2445416942509478,\n",
       "  'Iteration': 23},\n",
       " {'State': None,\n",
       "  'Action': None,\n",
       "  'Reward': 0.7987241317111686,\n",
       "  'Error': 0.012235982864894634,\n",
       "  'Time': 0.0037250518798828125,\n",
       "  'Max V': 0.7987241317111686,\n",
       "  'Mean V': 0.24974447809198802,\n",
       "  'Iteration': 24},\n",
       " {'State': None,\n",
       "  'Action': None,\n",
       "  'Reward': 0.8015022464199217,\n",
       "  'Error': 0.011846765319929148,\n",
       "  'Time': 0.003824949264526367,\n",
       "  'Max V': 0.8015022464199217,\n",
       "  'Mean V': 0.2547424478312753,\n",
       "  'Iteration': 25},\n",
       " {'State': None,\n",
       "  'Action': None,\n",
       "  'Reward': 0.8041000993921856,\n",
       "  'Error': 0.011454008226288726,\n",
       "  'Time': 0.0038988590240478516,\n",
       "  'Max V': 0.8041000993921856,\n",
       "  'Mean V': 0.259543927204678,\n",
       "  'Iteration': 26},\n",
       " {'State': None,\n",
       "  'Action': None,\n",
       "  'Reward': 0.8065381156675328,\n",
       "  'Error': 0.011061446209745085,\n",
       "  'Time': 0.003965854644775391,\n",
       "  'Max V': 0.8065381156675328,\n",
       "  'Mean V': 0.26415671586451994,\n",
       "  'Iteration': 27},\n",
       " {'State': None,\n",
       "  'Action': None,\n",
       "  'Reward': 0.8088332888846095,\n",
       "  'Error': 0.0106720802975383,\n",
       "  'Time': 0.004027843475341797,\n",
       "  'Max V': 0.8088332888846095,\n",
       "  'Mean V': 0.26858817908260074,\n",
       "  'Iteration': 28},\n",
       " {'State': None,\n",
       "  'Action': None,\n",
       "  'Reward': 0.8110000136159641,\n",
       "  'Error': 0.010288156039263363,\n",
       "  'Time': 0.004173994064331055,\n",
       "  'Max V': 0.8110000136159641,\n",
       "  'Mean V': 0.27284532340906553,\n",
       "  'Iteration': 29},\n",
       " {'State': None,\n",
       "  'Action': None,\n",
       "  'Reward': 0.8130504201301785,\n",
       "  'Error': 0.009911412580849988,\n",
       "  'Time': 0.004272937774658203,\n",
       "  'Max V': 0.8130504201301785,\n",
       "  'Mean V': 0.27693484400401597,\n",
       "  'Iteration': 30}]"
      ]
     },
     "execution_count": 202,
     "metadata": {},
     "output_type": "execute_result"
    }
   ],
   "source": [
    "vi.run()"
   ]
  },
  {
   "cell_type": "code",
   "execution_count": 203,
   "id": "ca3c6784",
   "metadata": {},
   "outputs": [
    {
     "name": "stdout",
     "output_type": "stream",
     "text": [
      "----------------------------------------------\n",
      "You took an average of 38 steps to get the frisbee\n",
      "And you fell in the hole 25.40 % of the times\n",
      "----------------------------------------------\n"
     ]
    }
   ],
   "source": [
    "get_score(env, vi.policy)"
   ]
  },
  {
   "cell_type": "code",
   "execution_count": 204,
   "id": "16b8ea83",
   "metadata": {},
   "outputs": [
    {
     "data": {
      "text/plain": [
       "(0, 3, 0, 3, 0, 0, 0, 0, 3, 1, 0, 0, 0, 2, 1, 0)"
      ]
     },
     "execution_count": 204,
     "metadata": {},
     "output_type": "execute_result"
    }
   ],
   "source": [
    "vi.policy"
   ]
  },
  {
   "cell_type": "code",
   "execution_count": 205,
   "id": "bff9dd8b",
   "metadata": {},
   "outputs": [
    {
     "ename": "NameError",
     "evalue": "name 'plt' is not defined",
     "output_type": "error",
     "traceback": [
      "\u001b[0;31m---------------------------------------------------------------------------\u001b[0m",
      "\u001b[0;31mNameError\u001b[0m                                 Traceback (most recent call last)",
      "\u001b[0;32m/var/folders/4p/41bttzcx5y163sbdhm1bfdl40000gn/T/ipykernel_22349/2273761208.py\u001b[0m in \u001b[0;36m<module>\u001b[0;34m\u001b[0m\n\u001b[0;32m----> 1\u001b[0;31m \u001b[0mplt\u001b[0m\u001b[0;34m.\u001b[0m\u001b[0mfigure\u001b[0m\u001b[0;34m(\u001b[0m\u001b[0;34m)\u001b[0m\u001b[0;34m\u001b[0m\u001b[0;34m\u001b[0m\u001b[0m\n\u001b[0m",
      "\u001b[0;31mNameError\u001b[0m: name 'plt' is not defined"
     ]
    }
   ],
   "source": [
    "plt.figure()"
   ]
  },
  {
   "cell_type": "code",
   "execution_count": 206,
   "id": "3490f3cb",
   "metadata": {},
   "outputs": [],
   "source": [
    "import matplotlib.pyplot as plt\n"
   ]
  },
  {
   "cell_type": "code",
   "execution_count": 207,
   "id": "deb340fe",
   "metadata": {},
   "outputs": [
    {
     "data": {
      "text/plain": [
       "[{'State': None,\n",
       "  'Action': None,\n",
       "  'Reward': 0.3333333333333333,\n",
       "  'Error': 0.3333333333333333,\n",
       "  'Time': 0.00015091896057128906,\n",
       "  'Max V': 0.3333333333333333,\n",
       "  'Mean V': 0.020833333333333332,\n",
       "  'Iteration': 1},\n",
       " {'State': None,\n",
       "  'Action': None,\n",
       "  'Reward': 0.4433333333333333,\n",
       "  'Error': 0.10999999999999999,\n",
       "  'Time': 0.0010700225830078125,\n",
       "  'Max V': 0.4433333333333333,\n",
       "  'Mean V': 0.041458333333333326,\n",
       "  'Iteration': 2},\n",
       " {'State': None,\n",
       "  'Action': None,\n",
       "  'Reward': 0.5159333333333332,\n",
       "  'Error': 0.07259999999999998,\n",
       "  'Time': 0.0011899471282958984,\n",
       "  'Max V': 0.5159333333333332,\n",
       "  'Mean V': 0.059608333333333326,\n",
       "  'Iteration': 3},\n",
       " {'State': None,\n",
       "  'Action': None,\n",
       "  'Reward': 0.5638493333333332,\n",
       "  'Error': 0.07187399999999997,\n",
       "  'Time': 0.001302957534790039,\n",
       "  'Max V': 0.5638493333333332,\n",
       "  'Mean V': 0.07607945833333331,\n",
       "  'Iteration': 4},\n",
       " {'State': None,\n",
       "  'Action': None,\n",
       "  'Reward': 0.6033800333333332,\n",
       "  'Error': 0.05138990999999998,\n",
       "  'Time': 0.0014679431915283203,\n",
       "  'Max V': 0.6033800333333332,\n",
       "  'Mean V': 0.09115053770833331,\n",
       "  'Iteration': 5},\n",
       " {'State': None,\n",
       "  'Action': None,\n",
       "  'Reward': 0.6333838346333333,\n",
       "  'Error': 0.046962471599999944,\n",
       "  'Time': 0.001798868179321289,\n",
       "  'Max V': 0.6333838346333333,\n",
       "  'Mean V': 0.10501098939583331,\n",
       "  'Iteration': 6},\n",
       " {'State': None,\n",
       "  'Action': None,\n",
       "  'Reward': 0.6587827046903332,\n",
       "  'Error': 0.036591592455000044,\n",
       "  'Time': 0.001889944076538086,\n",
       "  'Max V': 0.6587827046903332,\n",
       "  'Mean V': 0.1178449523377708,\n",
       "  'Iteration': 7},\n",
       " {'State': None,\n",
       "  'Action': None,\n",
       "  'Reward': 0.6792395573192933,\n",
       "  'Error': 0.032532078139109966,\n",
       "  'Time': 0.0019598007202148438,\n",
       "  'Max V': 0.6792395573192933,\n",
       "  'Mean V': 0.12976035868675706,\n",
       "  'Iteration': 8},\n",
       " {'State': None,\n",
       "  'Action': None,\n",
       "  'Reward': 0.6967259044727563,\n",
       "  'Error': 0.027143686332051276,\n",
       "  'Time': 0.002023935317993164,\n",
       "  'Max V': 0.6967259044727563,\n",
       "  'Mean V': 0.14086219671699693,\n",
       "  'Iteration': 9},\n",
       " {'State': None,\n",
       "  'Action': None,\n",
       "  'Reward': 0.7113145810697702,\n",
       "  'Error': 0.02354609308659078,\n",
       "  'Time': 0.0020868778228759766,\n",
       "  'Max V': 0.7113145810697702,\n",
       "  'Mean V': 0.15122162679788287,\n",
       "  'Iteration': 10},\n",
       " {'State': None,\n",
       "  'Action': None,\n",
       "  'Reward': 0.7238990550653597,\n",
       "  'Error': 0.020911158412143915,\n",
       "  'Time': 0.002202749252319336,\n",
       "  'Max V': 0.7238990550653597,\n",
       "  'Mean V': 0.16090567309012782,\n",
       "  'Iteration': 11},\n",
       " {'State': None,\n",
       "  'Action': None,\n",
       "  'Reward': 0.7346544153314808,\n",
       "  'Error': 0.01847145519388335,\n",
       "  'Time': 0.002401113510131836,\n",
       "  'Max V': 0.7346544153314808,\n",
       "  'Mean V': 0.16997211605419865,\n",
       "  'Iteration': 12},\n",
       " {'State': None,\n",
       "  'Action': None,\n",
       "  'Reward': 0.7440301782582033,\n",
       "  'Error': 0.017180929893530705,\n",
       "  'Time': 0.0025548934936523438,\n",
       "  'Max V': 0.7440301782582033,\n",
       "  'Mean V': 0.178505497264691,\n",
       "  'Iteration': 13},\n",
       " {'State': None,\n",
       "  'Action': None,\n",
       "  'Reward': 0.7521922958197383,\n",
       "  'Error': 0.016209989407701186,\n",
       "  'Time': 0.0026938915252685547,\n",
       "  'Max V': 0.7521922958197383,\n",
       "  'Mean V': 0.18655788478504845,\n",
       "  'Iteration': 14},\n",
       " {'State': None,\n",
       "  'Action': None,\n",
       "  'Reward': 0.7593887230317445,\n",
       "  'Error': 0.015224503886402091,\n",
       "  'Time': 0.002949953079223633,\n",
       "  'Max V': 0.7593887230317445,\n",
       "  'Mean V': 0.19419860317046067,\n",
       "  'Iteration': 15},\n",
       " {'State': None,\n",
       "  'Action': None,\n",
       "  'Reward': 0.765749084294411,\n",
       "  'Error': 0.01461738574811522,\n",
       "  'Time': 0.003036975860595703,\n",
       "  'Max V': 0.765749084294411,\n",
       "  'Mean V': 0.20148272027173736,\n",
       "  'Iteration': 16},\n",
       " {'State': None,\n",
       "  'Action': None,\n",
       "  'Reward': 0.7714210577265268,\n",
       "  'Error': 0.014287398416160696,\n",
       "  'Time': 0.0031070709228515625,\n",
       "  'Max V': 0.7714210577265268,\n",
       "  'Mean V': 0.20844313759678504,\n",
       "  'Iteration': 17},\n",
       " {'State': None,\n",
       "  'Action': None,\n",
       "  'Reward': 0.7765013577802422,\n",
       "  'Error': 0.01411130572852573,\n",
       "  'Time': 0.003170013427734375,\n",
       "  'Max V': 0.7765013577802422,\n",
       "  'Mean V': 0.2151047686954941,\n",
       "  'Iteration': 18},\n",
       " {'State': None,\n",
       "  'Action': None,\n",
       "  'Reward': 0.7810850533170925,\n",
       "  'Error': 0.013904261156616415,\n",
       "  'Time': 0.0032320022583007812,\n",
       "  'Max V': 0.7810850533170925,\n",
       "  'Mean V': 0.221488088151711,\n",
       "  'Iteration': 19},\n",
       " {'State': None,\n",
       "  'Action': None,\n",
       "  'Reward': 0.7852433897263188,\n",
       "  'Error': 0.013637953842208284,\n",
       "  'Time': 0.0033719539642333984,\n",
       "  'Max V': 0.7852433897263188,\n",
       "  'Mean V': 0.22760998144848338,\n",
       "  'Iteration': 20},\n",
       " {'State': None,\n",
       "  'Action': None,\n",
       "  'Reward': 0.7890401027686509,\n",
       "  'Error': 0.013326381085000977,\n",
       "  'Time': 0.0035021305084228516,\n",
       "  'Max V': 0.7890401027686509,\n",
       "  'Mean V': 0.23348485170076594,\n",
       "  'Iteration': 21},\n",
       " {'State': None,\n",
       "  'Action': None,\n",
       "  'Reward': 0.7925251429595621,\n",
       "  'Error': 0.01298285571280669,\n",
       "  'Time': 0.0035660266876220703,\n",
       "  'Max V': 0.7925251429595621,\n",
       "  'Mean V': 0.23912509802408208,\n",
       "  'Iteration': 22},\n",
       " {'State': None,\n",
       "  'Action': None,\n",
       "  'Reward': 0.7957415840732716,\n",
       "  'Error': 0.012616672855588318,\n",
       "  'Time': 0.0036270618438720703,\n",
       "  'Max V': 0.7957415840732716,\n",
       "  'Mean V': 0.2445416942509478,\n",
       "  'Iteration': 23},\n",
       " {'State': None,\n",
       "  'Action': None,\n",
       "  'Reward': 0.7987241317111686,\n",
       "  'Error': 0.012235982864894634,\n",
       "  'Time': 0.0037250518798828125,\n",
       "  'Max V': 0.7987241317111686,\n",
       "  'Mean V': 0.24974447809198802,\n",
       "  'Iteration': 24},\n",
       " {'State': None,\n",
       "  'Action': None,\n",
       "  'Reward': 0.8015022464199217,\n",
       "  'Error': 0.011846765319929148,\n",
       "  'Time': 0.003824949264526367,\n",
       "  'Max V': 0.8015022464199217,\n",
       "  'Mean V': 0.2547424478312753,\n",
       "  'Iteration': 25},\n",
       " {'State': None,\n",
       "  'Action': None,\n",
       "  'Reward': 0.8041000993921856,\n",
       "  'Error': 0.011454008226288726,\n",
       "  'Time': 0.0038988590240478516,\n",
       "  'Max V': 0.8041000993921856,\n",
       "  'Mean V': 0.259543927204678,\n",
       "  'Iteration': 26},\n",
       " {'State': None,\n",
       "  'Action': None,\n",
       "  'Reward': 0.8065381156675328,\n",
       "  'Error': 0.011061446209745085,\n",
       "  'Time': 0.003965854644775391,\n",
       "  'Max V': 0.8065381156675328,\n",
       "  'Mean V': 0.26415671586451994,\n",
       "  'Iteration': 27},\n",
       " {'State': None,\n",
       "  'Action': None,\n",
       "  'Reward': 0.8088332888846095,\n",
       "  'Error': 0.0106720802975383,\n",
       "  'Time': 0.004027843475341797,\n",
       "  'Max V': 0.8088332888846095,\n",
       "  'Mean V': 0.26858817908260074,\n",
       "  'Iteration': 28},\n",
       " {'State': None,\n",
       "  'Action': None,\n",
       "  'Reward': 0.8110000136159641,\n",
       "  'Error': 0.010288156039263363,\n",
       "  'Time': 0.004173994064331055,\n",
       "  'Max V': 0.8110000136159641,\n",
       "  'Mean V': 0.27284532340906553,\n",
       "  'Iteration': 29},\n",
       " {'State': None,\n",
       "  'Action': None,\n",
       "  'Reward': 0.8130504201301785,\n",
       "  'Error': 0.009911412580849988,\n",
       "  'Time': 0.004272937774658203,\n",
       "  'Max V': 0.8130504201301785,\n",
       "  'Mean V': 0.27693484400401597,\n",
       "  'Iteration': 30}]"
      ]
     },
     "execution_count": 207,
     "metadata": {},
     "output_type": "execute_result"
    }
   ],
   "source": [
    "vi.run_stats"
   ]
  },
  {
   "cell_type": "code",
   "execution_count": 208,
   "id": "53a4f384",
   "metadata": {},
   "outputs": [],
   "source": [
    "def get_stats_list(stats):\n",
    "\n",
    "    errors = [stat['Error'] for stat in stats]\n",
    "    reward = [stat['Reward'] for stat in stats]\n",
    "    mean_v = [stat['Mean V'] for stat in stats]\n",
    "    times = [stat['Time'] for stat in stats]\n",
    "\n",
    "    return errors, reward, mean_v, times"
   ]
  },
  {
   "cell_type": "code",
   "execution_count": 209,
   "id": "3e912c03",
   "metadata": {},
   "outputs": [],
   "source": [
    "errors, reward, mean_v, times = get_stats_list(vi.run_stats)"
   ]
  },
  {
   "cell_type": "code",
   "execution_count": 210,
   "id": "baee0a5e",
   "metadata": {},
   "outputs": [
    {
     "data": {
      "text/plain": [
       "<Figure size 432x288 with 0 Axes>"
      ]
     },
     "execution_count": 210,
     "metadata": {},
     "output_type": "execute_result"
    },
    {
     "data": {
      "text/plain": [
       "<Figure size 432x288 with 0 Axes>"
      ]
     },
     "metadata": {},
     "output_type": "display_data"
    }
   ],
   "source": [
    "plt.figure()"
   ]
  },
  {
   "cell_type": "code",
   "execution_count": 211,
   "id": "3a7174bd",
   "metadata": {},
   "outputs": [
    {
     "ename": "NameError",
     "evalue": "name 'gamma' is not defined",
     "output_type": "error",
     "traceback": [
      "\u001b[0;31m---------------------------------------------------------------------------\u001b[0m",
      "\u001b[0;31mNameError\u001b[0m                                 Traceback (most recent call last)",
      "\u001b[0;32m/var/folders/4p/41bttzcx5y163sbdhm1bfdl40000gn/T/ipykernel_22349/3077201002.py\u001b[0m in \u001b[0;36m<module>\u001b[0;34m\u001b[0m\n\u001b[0;32m----> 1\u001b[0;31m \u001b[0mplt\u001b[0m\u001b[0;34m.\u001b[0m\u001b[0mplot\u001b[0m\u001b[0;34m(\u001b[0m\u001b[0mtimes\u001b[0m\u001b[0;34m,\u001b[0m \u001b[0;34m\"-o\"\u001b[0m\u001b[0;34m,\u001b[0m \u001b[0mlabel\u001b[0m\u001b[0;34m=\u001b[0m\u001b[0;34mf'{gamma}'\u001b[0m\u001b[0;34m)\u001b[0m\u001b[0;34m\u001b[0m\u001b[0;34m\u001b[0m\u001b[0m\n\u001b[0m\u001b[1;32m      2\u001b[0m \u001b[0mplt\u001b[0m\u001b[0;34m.\u001b[0m\u001b[0mxlabel\u001b[0m\u001b[0;34m(\u001b[0m\u001b[0;34m\"iteration\"\u001b[0m\u001b[0;34m)\u001b[0m\u001b[0;34m\u001b[0m\u001b[0;34m\u001b[0m\u001b[0m\n\u001b[1;32m      3\u001b[0m \u001b[0mplt\u001b[0m\u001b[0;34m.\u001b[0m\u001b[0mylabel\u001b[0m\u001b[0;34m(\u001b[0m\u001b[0;34m\"time\"\u001b[0m\u001b[0;34m)\u001b[0m\u001b[0;34m\u001b[0m\u001b[0;34m\u001b[0m\u001b[0m\n\u001b[1;32m      4\u001b[0m \u001b[0mplt\u001b[0m\u001b[0;34m.\u001b[0m\u001b[0mtitle\u001b[0m\u001b[0;34m(\u001b[0m\u001b[0;34mf\" iteration vs time {size}\"\u001b[0m\u001b[0;34m)\u001b[0m\u001b[0;34m\u001b[0m\u001b[0;34m\u001b[0m\u001b[0m\n\u001b[1;32m      5\u001b[0m \u001b[0mplt\u001b[0m\u001b[0;34m.\u001b[0m\u001b[0mlegend\u001b[0m\u001b[0;34m(\u001b[0m\u001b[0mloc\u001b[0m\u001b[0;34m=\u001b[0m\u001b[0;34m\"upper right\"\u001b[0m\u001b[0;34m)\u001b[0m\u001b[0;34m\u001b[0m\u001b[0;34m\u001b[0m\u001b[0m\n",
      "\u001b[0;31mNameError\u001b[0m: name 'gamma' is not defined"
     ]
    }
   ],
   "source": [
    "    plt.plot(times, \"-o\", label=f'{gamma}')\n",
    "    plt.xlabel(\"iteration\")\n",
    "    plt.ylabel(\"time\")\n",
    "    plt.title(f\" iteration vs time {size}\")\n",
    "    plt.legend(loc=\"upper right\")\n",
    "    plt.savefig(f\"{size}_{alg}_iter_num_vs_time.png\")"
   ]
  },
  {
   "cell_type": "code",
   "execution_count": 212,
   "id": "81a2f864",
   "metadata": {},
   "outputs": [
    {
     "data": {
      "image/png": "[encoded data removed]",
      "text/plain": [
       "<Figure size 432x288 with 1 Axes>"
      ]
     },
     "metadata": {
      "needs_background": "light"
     },
     "output_type": "display_data"
    }
   ],
   "source": [
    "    plt.plot(times, \"-o\")\n",
    "    plt.xlabel(\"iteration\")\n",
    "    plt.ylabel(\"time\")\n",
    "    plt.title(f\" iteration vs time\")\n",
    "    plt.show()"
   ]
  },
  {
   "cell_type": "code",
   "execution_count": 213,
   "id": "0d71465d",
   "metadata": {},
   "outputs": [
    {
     "name": "stderr",
     "output_type": "stream",
     "text": [
      "No handles with labels found to put in legend.\n"
     ]
    },
    {
     "data": {
      "text/plain": [
       "<matplotlib.legend.Legend at 0x14f5c47c0>"
      ]
     },
     "execution_count": 213,
     "metadata": {},
     "output_type": "execute_result"
    },
    {
     "data": {
      "image/png": "[encoded data removed]",
      "text/plain": [
       "<Figure size 432x288 with 1 Axes>"
      ]
     },
     "metadata": {
      "needs_background": "light"
     },
     "output_type": "display_data"
    }
   ],
   "source": [
    "plt.figure()\n",
    "plt.plot(mean_v, \"-o\")\n",
    "plt.xlabel(\"iteration\")\n",
    "plt.ylabel(\"mean V\")\n",
    "plt.title(f\" iteration vs Mean V\")\n",
    "plt.legend(loc=\"upper right\")"
   ]
  },
  {
   "cell_type": "code",
   "execution_count": 214,
   "id": "5afe4f82",
   "metadata": {},
   "outputs": [
    {
     "ename": "TypeError",
     "evalue": "'list' object is not callable",
     "output_type": "error",
     "traceback": [
      "\u001b[0;31m---------------------------------------------------------------------------\u001b[0m",
      "\u001b[0;31mTypeError\u001b[0m                                 Traceback (most recent call last)",
      "\u001b[0;32m/var/folders/4p/41bttzcx5y163sbdhm1bfdl40000gn/T/ipykernel_22349/1633261085.py\u001b[0m in \u001b[0;36m<module>\u001b[0;34m\u001b[0m\n\u001b[0;32m----> 1\u001b[0;31m \u001b[0mvi\u001b[0m\u001b[0;34m.\u001b[0m\u001b[0mrun_stats\u001b[0m\u001b[0;34m(\u001b[0m\u001b[0;34m)\u001b[0m\u001b[0;34m\u001b[0m\u001b[0;34m\u001b[0m\u001b[0m\n\u001b[0m",
      "\u001b[0;31mTypeError\u001b[0m: 'list' object is not callable"
     ]
    }
   ],
   "source": [
    "vi.run_stats()"
   ]
  },
  {
   "cell_type": "code",
   "execution_count": 215,
   "id": "3292701c",
   "metadata": {},
   "outputs": [
    {
     "data": {
      "text/plain": [
       "[{'State': None,\n",
       "  'Action': None,\n",
       "  'Reward': 0.3333333333333333,\n",
       "  'Error': 0.3333333333333333,\n",
       "  'Time': 0.00015091896057128906,\n",
       "  'Max V': 0.3333333333333333,\n",
       "  'Mean V': 0.020833333333333332,\n",
       "  'Iteration': 1},\n",
       " {'State': None,\n",
       "  'Action': None,\n",
       "  'Reward': 0.4433333333333333,\n",
       "  'Error': 0.10999999999999999,\n",
       "  'Time': 0.0010700225830078125,\n",
       "  'Max V': 0.4433333333333333,\n",
       "  'Mean V': 0.041458333333333326,\n",
       "  'Iteration': 2},\n",
       " {'State': None,\n",
       "  'Action': None,\n",
       "  'Reward': 0.5159333333333332,\n",
       "  'Error': 0.07259999999999998,\n",
       "  'Time': 0.0011899471282958984,\n",
       "  'Max V': 0.5159333333333332,\n",
       "  'Mean V': 0.059608333333333326,\n",
       "  'Iteration': 3},\n",
       " {'State': None,\n",
       "  'Action': None,\n",
       "  'Reward': 0.5638493333333332,\n",
       "  'Error': 0.07187399999999997,\n",
       "  'Time': 0.001302957534790039,\n",
       "  'Max V': 0.5638493333333332,\n",
       "  'Mean V': 0.07607945833333331,\n",
       "  'Iteration': 4},\n",
       " {'State': None,\n",
       "  'Action': None,\n",
       "  'Reward': 0.6033800333333332,\n",
       "  'Error': 0.05138990999999998,\n",
       "  'Time': 0.0014679431915283203,\n",
       "  'Max V': 0.6033800333333332,\n",
       "  'Mean V': 0.09115053770833331,\n",
       "  'Iteration': 5},\n",
       " {'State': None,\n",
       "  'Action': None,\n",
       "  'Reward': 0.6333838346333333,\n",
       "  'Error': 0.046962471599999944,\n",
       "  'Time': 0.001798868179321289,\n",
       "  'Max V': 0.6333838346333333,\n",
       "  'Mean V': 0.10501098939583331,\n",
       "  'Iteration': 6},\n",
       " {'State': None,\n",
       "  'Action': None,\n",
       "  'Reward': 0.6587827046903332,\n",
       "  'Error': 0.036591592455000044,\n",
       "  'Time': 0.001889944076538086,\n",
       "  'Max V': 0.6587827046903332,\n",
       "  'Mean V': 0.1178449523377708,\n",
       "  'Iteration': 7},\n",
       " {'State': None,\n",
       "  'Action': None,\n",
       "  'Reward': 0.6792395573192933,\n",
       "  'Error': 0.032532078139109966,\n",
       "  'Time': 0.0019598007202148438,\n",
       "  'Max V': 0.6792395573192933,\n",
       "  'Mean V': 0.12976035868675706,\n",
       "  'Iteration': 8},\n",
       " {'State': None,\n",
       "  'Action': None,\n",
       "  'Reward': 0.6967259044727563,\n",
       "  'Error': 0.027143686332051276,\n",
       "  'Time': 0.002023935317993164,\n",
       "  'Max V': 0.6967259044727563,\n",
       "  'Mean V': 0.14086219671699693,\n",
       "  'Iteration': 9},\n",
       " {'State': None,\n",
       "  'Action': None,\n",
       "  'Reward': 0.7113145810697702,\n",
       "  'Error': 0.02354609308659078,\n",
       "  'Time': 0.0020868778228759766,\n",
       "  'Max V': 0.7113145810697702,\n",
       "  'Mean V': 0.15122162679788287,\n",
       "  'Iteration': 10},\n",
       " {'State': None,\n",
       "  'Action': None,\n",
       "  'Reward': 0.7238990550653597,\n",
       "  'Error': 0.020911158412143915,\n",
       "  'Time': 0.002202749252319336,\n",
       "  'Max V': 0.7238990550653597,\n",
       "  'Mean V': 0.16090567309012782,\n",
       "  'Iteration': 11},\n",
       " {'State': None,\n",
       "  'Action': None,\n",
       "  'Reward': 0.7346544153314808,\n",
       "  'Error': 0.01847145519388335,\n",
       "  'Time': 0.002401113510131836,\n",
       "  'Max V': 0.7346544153314808,\n",
       "  'Mean V': 0.16997211605419865,\n",
       "  'Iteration': 12},\n",
       " {'State': None,\n",
       "  'Action': None,\n",
       "  'Reward': 0.7440301782582033,\n",
       "  'Error': 0.017180929893530705,\n",
       "  'Time': 0.0025548934936523438,\n",
       "  'Max V': 0.7440301782582033,\n",
       "  'Mean V': 0.178505497264691,\n",
       "  'Iteration': 13},\n",
       " {'State': None,\n",
       "  'Action': None,\n",
       "  'Reward': 0.7521922958197383,\n",
       "  'Error': 0.016209989407701186,\n",
       "  'Time': 0.0026938915252685547,\n",
       "  'Max V': 0.7521922958197383,\n",
       "  'Mean V': 0.18655788478504845,\n",
       "  'Iteration': 14},\n",
       " {'State': None,\n",
       "  'Action': None,\n",
       "  'Reward': 0.7593887230317445,\n",
       "  'Error': 0.015224503886402091,\n",
       "  'Time': 0.002949953079223633,\n",
       "  'Max V': 0.7593887230317445,\n",
       "  'Mean V': 0.19419860317046067,\n",
       "  'Iteration': 15},\n",
       " {'State': None,\n",
       "  'Action': None,\n",
       "  'Reward': 0.765749084294411,\n",
       "  'Error': 0.01461738574811522,\n",
       "  'Time': 0.003036975860595703,\n",
       "  'Max V': 0.765749084294411,\n",
       "  'Mean V': 0.20148272027173736,\n",
       "  'Iteration': 16},\n",
       " {'State': None,\n",
       "  'Action': None,\n",
       "  'Reward': 0.7714210577265268,\n",
       "  'Error': 0.014287398416160696,\n",
       "  'Time': 0.0031070709228515625,\n",
       "  'Max V': 0.7714210577265268,\n",
       "  'Mean V': 0.20844313759678504,\n",
       "  'Iteration': 17},\n",
       " {'State': None,\n",
       "  'Action': None,\n",
       "  'Reward': 0.7765013577802422,\n",
       "  'Error': 0.01411130572852573,\n",
       "  'Time': 0.003170013427734375,\n",
       "  'Max V': 0.7765013577802422,\n",
       "  'Mean V': 0.2151047686954941,\n",
       "  'Iteration': 18},\n",
       " {'State': None,\n",
       "  'Action': None,\n",
       "  'Reward': 0.7810850533170925,\n",
       "  'Error': 0.013904261156616415,\n",
       "  'Time': 0.0032320022583007812,\n",
       "  'Max V': 0.7810850533170925,\n",
       "  'Mean V': 0.221488088151711,\n",
       "  'Iteration': 19},\n",
       " {'State': None,\n",
       "  'Action': None,\n",
       "  'Reward': 0.7852433897263188,\n",
       "  'Error': 0.013637953842208284,\n",
       "  'Time': 0.0033719539642333984,\n",
       "  'Max V': 0.7852433897263188,\n",
       "  'Mean V': 0.22760998144848338,\n",
       "  'Iteration': 20},\n",
       " {'State': None,\n",
       "  'Action': None,\n",
       "  'Reward': 0.7890401027686509,\n",
       "  'Error': 0.013326381085000977,\n",
       "  'Time': 0.0035021305084228516,\n",
       "  'Max V': 0.7890401027686509,\n",
       "  'Mean V': 0.23348485170076594,\n",
       "  'Iteration': 21},\n",
       " {'State': None,\n",
       "  'Action': None,\n",
       "  'Reward': 0.7925251429595621,\n",
       "  'Error': 0.01298285571280669,\n",
       "  'Time': 0.0035660266876220703,\n",
       "  'Max V': 0.7925251429595621,\n",
       "  'Mean V': 0.23912509802408208,\n",
       "  'Iteration': 22},\n",
       " {'State': None,\n",
       "  'Action': None,\n",
       "  'Reward': 0.7957415840732716,\n",
       "  'Error': 0.012616672855588318,\n",
       "  'Time': 0.0036270618438720703,\n",
       "  'Max V': 0.7957415840732716,\n",
       "  'Mean V': 0.2445416942509478,\n",
       "  'Iteration': 23},\n",
       " {'State': None,\n",
       "  'Action': None,\n",
       "  'Reward': 0.7987241317111686,\n",
       "  'Error': 0.012235982864894634,\n",
       "  'Time': 0.0037250518798828125,\n",
       "  'Max V': 0.7987241317111686,\n",
       "  'Mean V': 0.24974447809198802,\n",
       "  'Iteration': 24},\n",
       " {'State': None,\n",
       "  'Action': None,\n",
       "  'Reward': 0.8015022464199217,\n",
       "  'Error': 0.011846765319929148,\n",
       "  'Time': 0.003824949264526367,\n",
       "  'Max V': 0.8015022464199217,\n",
       "  'Mean V': 0.2547424478312753,\n",
       "  'Iteration': 25},\n",
       " {'State': None,\n",
       "  'Action': None,\n",
       "  'Reward': 0.8041000993921856,\n",
       "  'Error': 0.011454008226288726,\n",
       "  'Time': 0.0038988590240478516,\n",
       "  'Max V': 0.8041000993921856,\n",
       "  'Mean V': 0.259543927204678,\n",
       "  'Iteration': 26},\n",
       " {'State': None,\n",
       "  'Action': None,\n",
       "  'Reward': 0.8065381156675328,\n",
       "  'Error': 0.011061446209745085,\n",
       "  'Time': 0.003965854644775391,\n",
       "  'Max V': 0.8065381156675328,\n",
       "  'Mean V': 0.26415671586451994,\n",
       "  'Iteration': 27},\n",
       " {'State': None,\n",
       "  'Action': None,\n",
       "  'Reward': 0.8088332888846095,\n",
       "  'Error': 0.0106720802975383,\n",
       "  'Time': 0.004027843475341797,\n",
       "  'Max V': 0.8088332888846095,\n",
       "  'Mean V': 0.26858817908260074,\n",
       "  'Iteration': 28},\n",
       " {'State': None,\n",
       "  'Action': None,\n",
       "  'Reward': 0.8110000136159641,\n",
       "  'Error': 0.010288156039263363,\n",
       "  'Time': 0.004173994064331055,\n",
       "  'Max V': 0.8110000136159641,\n",
       "  'Mean V': 0.27284532340906553,\n",
       "  'Iteration': 29},\n",
       " {'State': None,\n",
       "  'Action': None,\n",
       "  'Reward': 0.8130504201301785,\n",
       "  'Error': 0.009911412580849988,\n",
       "  'Time': 0.004272937774658203,\n",
       "  'Max V': 0.8130504201301785,\n",
       "  'Mean V': 0.27693484400401597,\n",
       "  'Iteration': 30}]"
      ]
     },
     "execution_count": 215,
     "metadata": {},
     "output_type": "execute_result"
    }
   ],
   "source": [
    "vi.run_stats"
   ]
  },
  {
   "cell_type": "code",
   "execution_count": 216,
   "id": "bf55a259",
   "metadata": {},
   "outputs": [
    {
     "data": {
      "text/plain": [
       "(0, 3, 0, 3, 0, 0, 0, 0, 3, 1, 0, 0, 0, 2, 1, 0)"
      ]
     },
     "execution_count": 216,
     "metadata": {},
     "output_type": "execute_result"
    }
   ],
   "source": [
    "vi.policy"
   ]
  },
  {
   "cell_type": "code",
   "execution_count": 217,
   "id": "51d209d9",
   "metadata": {},
   "outputs": [],
   "source": [
    "vi = mdp.ValueIteration(P, R, 0.9, epsilon=0.005, max_iter=10000)"
   ]
  },
  {
   "cell_type": "code",
   "execution_count": 218,
   "id": "40f34f87",
   "metadata": {},
   "outputs": [
    {
     "data": {
      "text/plain": [
       "[{'State': None,\n",
       "  'Action': None,\n",
       "  'Reward': 0.3333333333333333,\n",
       "  'Error': 0.3333333333333333,\n",
       "  'Time': 0.0007078647613525391,\n",
       "  'Max V': 0.3333333333333333,\n",
       "  'Mean V': 0.020833333333333332,\n",
       "  'Iteration': 1},\n",
       " {'State': None,\n",
       "  'Action': None,\n",
       "  'Reward': 0.4333333333333333,\n",
       "  'Error': 0.09999999999999999,\n",
       "  'Time': 0.0010879039764404297,\n",
       "  'Max V': 0.4333333333333333,\n",
       "  'Mean V': 0.03958333333333333,\n",
       "  'Iteration': 2},\n",
       " {'State': None,\n",
       "  'Action': None,\n",
       "  'Reward': 0.4933333333333333,\n",
       "  'Error': 0.06,\n",
       "  'Time': 0.0014259815216064453,\n",
       "  'Max V': 0.4933333333333333,\n",
       "  'Mean V': 0.05458333333333333,\n",
       "  'Iteration': 3},\n",
       " {'State': None,\n",
       "  'Action': None,\n",
       "  'Reward': 0.5293333333333333,\n",
       "  'Error': 0.05400000000000002,\n",
       "  'Time': 0.0015277862548828125,\n",
       "  'Max V': 0.5293333333333333,\n",
       "  'Mean V': 0.06695833333333333,\n",
       "  'Iteration': 4},\n",
       " {'State': None,\n",
       "  'Action': None,\n",
       "  'Reward': 0.5563333333333333,\n",
       "  'Error': 0.03510000000000002,\n",
       "  'Time': 0.0017499923706054688,\n",
       "  'Max V': 0.5563333333333333,\n",
       "  'Mean V': 0.07725208333333333,\n",
       "  'Iteration': 5},\n",
       " {'State': None,\n",
       "  'Action': None,\n",
       "  'Reward': 0.5749633333333333,\n",
       "  'Error': 0.02915999999999999,\n",
       "  'Time': 0.0019469261169433594,\n",
       "  'Max V': 0.5749633333333333,\n",
       "  'Mean V': 0.08585833333333333,\n",
       "  'Iteration': 6},\n",
       " {'State': None,\n",
       "  'Action': None,\n",
       "  'Reward': 0.5893003333333333,\n",
       "  'Error': 0.02065499999999998,\n",
       "  'Time': 0.0022499561309814453,\n",
       "  'Max V': 0.5893003333333333,\n",
       "  'Mean V': 0.09310277083333332,\n",
       "  'Iteration': 7},\n",
       " {'State': None,\n",
       "  'Action': None,\n",
       "  'Reward': 0.5997979333333333,\n",
       "  'Error': 0.01669409999999999,\n",
       "  'Time': 0.002553701400756836,\n",
       "  'Max V': 0.5997979333333333,\n",
       "  'Mean V': 0.09921725833333334,\n",
       "  'Iteration': 8},\n",
       " {'State': None,\n",
       "  'Action': None,\n",
       "  'Reward': 0.6079554433333333,\n",
       "  'Error': 0.012662729999999983,\n",
       "  'Time': 0.0031588077545166016,\n",
       "  'Max V': 0.6079554433333333,\n",
       "  'Mean V': 0.10439634770833334,\n",
       "  'Iteration': 9},\n",
       " {'State': None,\n",
       "  'Action': None,\n",
       "  'Reward': 0.6141424663333332,\n",
       "  'Error': 0.009985842000000023,\n",
       "  'Time': 0.003253936767578125,\n",
       "  'Max V': 0.6141424663333332,\n",
       "  'Mean V': 0.10878975733333332,\n",
       "  'Iteration': 10},\n",
       " {'State': None,\n",
       "  'Action': None,\n",
       "  'Reward': 0.6189943258333332,\n",
       "  'Error': 0.008062156799999998,\n",
       "  'Time': 0.003365755081176758,\n",
       "  'Max V': 0.6189943258333332,\n",
       "  'Mean V': 0.11252337639583332,\n",
       "  'Iteration': 11},\n",
       " {'State': None,\n",
       "  'Action': None,\n",
       "  'Reward': 0.6227640139933333,\n",
       "  'Error': 0.0064741323600000095,\n",
       "  'Time': 0.003453969955444336,\n",
       "  'Max V': 0.6227640139933333,\n",
       "  'Mean V': 0.11569910542708332,\n",
       "  'Iteration': 12},\n",
       " {'State': None,\n",
       "  'Action': None,\n",
       "  'Reward': 0.6257514210013333,\n",
       "  'Error': 0.005474373740999988,\n",
       "  'Time': 0.0035567283630371094,\n",
       "  'Max V': 0.6257514210013333,\n",
       "  'Mean V': 0.11840292223145832,\n",
       "  'Iteration': 13},\n",
       " {'State': None,\n",
       "  'Action': None,\n",
       "  'Reward': 0.6281156957221333,\n",
       "  'Error': 0.004692570885900013,\n",
       "  'Time': 0.00362396240234375,\n",
       "  'Max V': 0.6281156957221333,\n",
       "  'Mean V': 0.12071259410452706,\n",
       "  'Iteration': 14}]"
      ]
     },
     "execution_count": 218,
     "metadata": {},
     "output_type": "execute_result"
    }
   ],
   "source": [
    "vi.run()"
   ]
  },
  {
   "cell_type": "code",
   "execution_count": 219,
   "id": "d5f6938f",
   "metadata": {},
   "outputs": [],
   "source": [
    "P, R = hiive.mdptoolbox.example.openai(\"FrozenLake-v1\")"
   ]
  },
  {
   "cell_type": "code",
   "execution_count": 220,
   "id": "f9f483fb",
   "metadata": {},
   "outputs": [],
   "source": [
    "vi = mdp.ValueIteration(P, R, 0.9, epsilon=0.005, max_iter=10000)"
   ]
  },
  {
   "cell_type": "code",
   "execution_count": 221,
   "id": "c8879354",
   "metadata": {},
   "outputs": [
    {
     "data": {
      "text/plain": [
       "[{'State': None,\n",
       "  'Action': None,\n",
       "  'Reward': 0.3333333333333333,\n",
       "  'Error': 0.3333333333333333,\n",
       "  'Time': 0.00035309791564941406,\n",
       "  'Max V': 0.3333333333333333,\n",
       "  'Mean V': 0.020833333333333332,\n",
       "  'Iteration': 1},\n",
       " {'State': None,\n",
       "  'Action': None,\n",
       "  'Reward': 0.4333333333333333,\n",
       "  'Error': 0.09999999999999999,\n",
       "  'Time': 0.0004661083221435547,\n",
       "  'Max V': 0.4333333333333333,\n",
       "  'Mean V': 0.03958333333333333,\n",
       "  'Iteration': 2},\n",
       " {'State': None,\n",
       "  'Action': None,\n",
       "  'Reward': 0.4933333333333333,\n",
       "  'Error': 0.06,\n",
       "  'Time': 0.0008502006530761719,\n",
       "  'Max V': 0.4933333333333333,\n",
       "  'Mean V': 0.05458333333333333,\n",
       "  'Iteration': 3},\n",
       " {'State': None,\n",
       "  'Action': None,\n",
       "  'Reward': 0.5293333333333333,\n",
       "  'Error': 0.05400000000000002,\n",
       "  'Time': 0.0010180473327636719,\n",
       "  'Max V': 0.5293333333333333,\n",
       "  'Mean V': 0.06695833333333333,\n",
       "  'Iteration': 4},\n",
       " {'State': None,\n",
       "  'Action': None,\n",
       "  'Reward': 0.5563333333333333,\n",
       "  'Error': 0.03510000000000002,\n",
       "  'Time': 0.001146078109741211,\n",
       "  'Max V': 0.5563333333333333,\n",
       "  'Mean V': 0.07725208333333333,\n",
       "  'Iteration': 5},\n",
       " {'State': None,\n",
       "  'Action': None,\n",
       "  'Reward': 0.5749633333333333,\n",
       "  'Error': 0.02915999999999999,\n",
       "  'Time': 0.0012810230255126953,\n",
       "  'Max V': 0.5749633333333333,\n",
       "  'Mean V': 0.08585833333333333,\n",
       "  'Iteration': 6},\n",
       " {'State': None,\n",
       "  'Action': None,\n",
       "  'Reward': 0.5893003333333333,\n",
       "  'Error': 0.02065499999999998,\n",
       "  'Time': 0.0013880729675292969,\n",
       "  'Max V': 0.5893003333333333,\n",
       "  'Mean V': 0.09310277083333332,\n",
       "  'Iteration': 7},\n",
       " {'State': None,\n",
       "  'Action': None,\n",
       "  'Reward': 0.5997979333333333,\n",
       "  'Error': 0.01669409999999999,\n",
       "  'Time': 0.0014710426330566406,\n",
       "  'Max V': 0.5997979333333333,\n",
       "  'Mean V': 0.09921725833333334,\n",
       "  'Iteration': 8},\n",
       " {'State': None,\n",
       "  'Action': None,\n",
       "  'Reward': 0.6079554433333333,\n",
       "  'Error': 0.012662729999999983,\n",
       "  'Time': 0.0016109943389892578,\n",
       "  'Max V': 0.6079554433333333,\n",
       "  'Mean V': 0.10439634770833334,\n",
       "  'Iteration': 9},\n",
       " {'State': None,\n",
       "  'Action': None,\n",
       "  'Reward': 0.6141424663333332,\n",
       "  'Error': 0.009985842000000023,\n",
       "  'Time': 0.001750946044921875,\n",
       "  'Max V': 0.6141424663333332,\n",
       "  'Mean V': 0.10878975733333332,\n",
       "  'Iteration': 10},\n",
       " {'State': None,\n",
       "  'Action': None,\n",
       "  'Reward': 0.6189943258333332,\n",
       "  'Error': 0.008062156799999998,\n",
       "  'Time': 0.0020771026611328125,\n",
       "  'Max V': 0.6189943258333332,\n",
       "  'Mean V': 0.11252337639583332,\n",
       "  'Iteration': 11},\n",
       " {'State': None,\n",
       "  'Action': None,\n",
       "  'Reward': 0.6227640139933333,\n",
       "  'Error': 0.0064741323600000095,\n",
       "  'Time': 0.002187013626098633,\n",
       "  'Max V': 0.6227640139933333,\n",
       "  'Mean V': 0.11569910542708332,\n",
       "  'Iteration': 12},\n",
       " {'State': None,\n",
       "  'Action': None,\n",
       "  'Reward': 0.6257514210013333,\n",
       "  'Error': 0.005474373740999988,\n",
       "  'Time': 0.002279043197631836,\n",
       "  'Max V': 0.6257514210013333,\n",
       "  'Mean V': 0.11840292223145832,\n",
       "  'Iteration': 13},\n",
       " {'State': None,\n",
       "  'Action': None,\n",
       "  'Reward': 0.6281156957221333,\n",
       "  'Error': 0.004692570885900013,\n",
       "  'Time': 0.0023801326751708984,\n",
       "  'Max V': 0.6281156957221333,\n",
       "  'Mean V': 0.12071259410452706,\n",
       "  'Iteration': 14}]"
      ]
     },
     "execution_count": 221,
     "metadata": {},
     "output_type": "execute_result"
    }
   ],
   "source": [
    "vi.run()"
   ]
  },
  {
   "cell_type": "code",
   "execution_count": 222,
   "id": "47c32d7c",
   "metadata": {},
   "outputs": [],
   "source": [
    "hiive.mdptoolbox.mdp.QLearning?"
   ]
  },
  {
   "cell_type": "code",
   "execution_count": 223,
   "id": "43f732c3",
   "metadata": {},
   "outputs": [
    {
     "ename": "AttributeError",
     "evalue": "'FrozenLakeEnv' object has no attribute 'state'",
     "output_type": "error",
     "traceback": [
      "\u001b[0;31m---------------------------------------------------------------------------\u001b[0m",
      "\u001b[0;31mAttributeError\u001b[0m                            Traceback (most recent call last)",
      "\u001b[0;32m/var/folders/4p/41bttzcx5y163sbdhm1bfdl40000gn/T/ipykernel_22349/2119990402.py\u001b[0m in \u001b[0;36m<module>\u001b[0;34m\u001b[0m\n\u001b[0;32m----> 1\u001b[0;31m \u001b[0menv\u001b[0m\u001b[0;34m.\u001b[0m\u001b[0mstate\u001b[0m\u001b[0;34m\u001b[0m\u001b[0;34m\u001b[0m\u001b[0m\n\u001b[0m",
      "\u001b[0;32m/opt/miniconda3/envs/cs7641/lib/python3.9/site-packages/gym/core.py\u001b[0m in \u001b[0;36m__getattr__\u001b[0;34m(self, name)\u001b[0m\n\u001b[1;32m    236\u001b[0m                 \u001b[0;34m\"attempted to get missing private attribute '{}'\"\u001b[0m\u001b[0;34m.\u001b[0m\u001b[0mformat\u001b[0m\u001b[0;34m(\u001b[0m\u001b[0mname\u001b[0m\u001b[0;34m)\u001b[0m\u001b[0;34m\u001b[0m\u001b[0;34m\u001b[0m\u001b[0m\n\u001b[1;32m    237\u001b[0m             )\n\u001b[0;32m--> 238\u001b[0;31m         \u001b[0;32mreturn\u001b[0m \u001b[0mgetattr\u001b[0m\u001b[0;34m(\u001b[0m\u001b[0mself\u001b[0m\u001b[0;34m.\u001b[0m\u001b[0menv\u001b[0m\u001b[0;34m,\u001b[0m \u001b[0mname\u001b[0m\u001b[0;34m)\u001b[0m\u001b[0;34m\u001b[0m\u001b[0;34m\u001b[0m\u001b[0m\n\u001b[0m\u001b[1;32m    239\u001b[0m \u001b[0;34m\u001b[0m\u001b[0m\n\u001b[1;32m    240\u001b[0m     \u001b[0;34m@\u001b[0m\u001b[0mproperty\u001b[0m\u001b[0;34m\u001b[0m\u001b[0;34m\u001b[0m\u001b[0m\n",
      "\u001b[0;31mAttributeError\u001b[0m: 'FrozenLakeEnv' object has no attribute 'state'"
     ]
    }
   ],
   "source": [
    "env.state"
   ]
  },
  {
   "cell_type": "code",
   "execution_count": 224,
   "id": "8f0072d8",
   "metadata": {},
   "outputs": [
    {
     "data": {
      "text/plain": [
       "16"
      ]
     },
     "execution_count": 224,
     "metadata": {},
     "output_type": "execute_result"
    }
   ],
   "source": [
    "env.nS"
   ]
  },
  {
   "cell_type": "code",
   "execution_count": 225,
   "id": "20155680",
   "metadata": {},
   "outputs": [
    {
     "ename": "AttributeError",
     "evalue": "'FrozenLakeEnv' object has no attribute 'states'",
     "output_type": "error",
     "traceback": [
      "\u001b[0;31m---------------------------------------------------------------------------\u001b[0m",
      "\u001b[0;31mAttributeError\u001b[0m                            Traceback (most recent call last)",
      "\u001b[0;32m/var/folders/4p/41bttzcx5y163sbdhm1bfdl40000gn/T/ipykernel_22349/1262429319.py\u001b[0m in \u001b[0;36m<module>\u001b[0;34m\u001b[0m\n\u001b[0;32m----> 1\u001b[0;31m \u001b[0menv\u001b[0m\u001b[0;34m.\u001b[0m\u001b[0mstates\u001b[0m\u001b[0;34m\u001b[0m\u001b[0;34m\u001b[0m\u001b[0m\n\u001b[0m",
      "\u001b[0;32m/opt/miniconda3/envs/cs7641/lib/python3.9/site-packages/gym/core.py\u001b[0m in \u001b[0;36m__getattr__\u001b[0;34m(self, name)\u001b[0m\n\u001b[1;32m    236\u001b[0m                 \u001b[0;34m\"attempted to get missing private attribute '{}'\"\u001b[0m\u001b[0;34m.\u001b[0m\u001b[0mformat\u001b[0m\u001b[0;34m(\u001b[0m\u001b[0mname\u001b[0m\u001b[0;34m)\u001b[0m\u001b[0;34m\u001b[0m\u001b[0;34m\u001b[0m\u001b[0m\n\u001b[1;32m    237\u001b[0m             )\n\u001b[0;32m--> 238\u001b[0;31m         \u001b[0;32mreturn\u001b[0m \u001b[0mgetattr\u001b[0m\u001b[0;34m(\u001b[0m\u001b[0mself\u001b[0m\u001b[0;34m.\u001b[0m\u001b[0menv\u001b[0m\u001b[0;34m,\u001b[0m \u001b[0mname\u001b[0m\u001b[0;34m)\u001b[0m\u001b[0;34m\u001b[0m\u001b[0;34m\u001b[0m\u001b[0m\n\u001b[0m\u001b[1;32m    239\u001b[0m \u001b[0;34m\u001b[0m\u001b[0m\n\u001b[1;32m    240\u001b[0m     \u001b[0;34m@\u001b[0m\u001b[0mproperty\u001b[0m\u001b[0;34m\u001b[0m\u001b[0;34m\u001b[0m\u001b[0m\n",
      "\u001b[0;31mAttributeError\u001b[0m: 'FrozenLakeEnv' object has no attribute 'states'"
     ]
    }
   ],
   "source": [
    "env.states"
   ]
  },
  {
   "cell_type": "code",
   "execution_count": 226,
   "id": "04879db6",
   "metadata": {},
   "outputs": [
    {
     "data": {
      "text/plain": [
       "Discrete(16)"
      ]
     },
     "execution_count": 226,
     "metadata": {},
     "output_type": "execute_result"
    }
   ],
   "source": [
    "env.observation_space"
   ]
  },
  {
   "cell_type": "code",
   "execution_count": 227,
   "id": "29f0cc79",
   "metadata": {},
   "outputs": [
    {
     "ename": "TypeError",
     "evalue": "'Discrete' object is not subscriptable",
     "output_type": "error",
     "traceback": [
      "\u001b[0;31m---------------------------------------------------------------------------\u001b[0m",
      "\u001b[0;31mTypeError\u001b[0m                                 Traceback (most recent call last)",
      "\u001b[0;32m/var/folders/4p/41bttzcx5y163sbdhm1bfdl40000gn/T/ipykernel_22349/2722330478.py\u001b[0m in \u001b[0;36m<module>\u001b[0;34m\u001b[0m\n\u001b[0;32m----> 1\u001b[0;31m \u001b[0menv\u001b[0m\u001b[0;34m.\u001b[0m\u001b[0mobservation_space\u001b[0m\u001b[0;34m[\u001b[0m\u001b[0;36m0\u001b[0m\u001b[0;34m]\u001b[0m\u001b[0;34m\u001b[0m\u001b[0;34m\u001b[0m\u001b[0m\n\u001b[0m",
      "\u001b[0;31mTypeError\u001b[0m: 'Discrete' object is not subscriptable"
     ]
    }
   ],
   "source": [
    "env.observation_space[0]"
   ]
  },
  {
   "cell_type": "code",
   "execution_count": 228,
   "id": "82ce1e7d",
   "metadata": {},
   "outputs": [
    {
     "data": {
      "text/plain": [
       "{'render.modes': ['human', 'ansi']}"
      ]
     },
     "execution_count": 228,
     "metadata": {},
     "output_type": "execute_result"
    }
   ],
   "source": [
    "env.metadata"
   ]
  },
  {
   "cell_type": "code",
   "execution_count": 229,
   "id": "20a15ec6",
   "metadata": {},
   "outputs": [
    {
     "data": {
      "text/plain": [
       "<gym.envs.toy_text.frozen_lake.FrozenLakeEnv at 0x1190ff430>"
      ]
     },
     "execution_count": 229,
     "metadata": {},
     "output_type": "execute_result"
    }
   ],
   "source": [
    "env.env"
   ]
  },
  {
   "cell_type": "code",
   "execution_count": 230,
   "id": "16639fcb",
   "metadata": {},
   "outputs": [
    {
     "data": {
      "text/plain": [
       "15"
      ]
     },
     "execution_count": 230,
     "metadata": {},
     "output_type": "execute_result"
    }
   ],
   "source": [
    "env.env.s"
   ]
  },
  {
   "cell_type": "code",
   "execution_count": 231,
   "id": "780921ee",
   "metadata": {},
   "outputs": [
    {
     "data": {
      "text/plain": [
       "array([[b'S', b'F', b'F', b'F'],\n",
       "       [b'F', b'H', b'F', b'H'],\n",
       "       [b'F', b'F', b'F', b'H'],\n",
       "       [b'H', b'F', b'F', b'G']], dtype='|S1')"
      ]
     },
     "execution_count": 231,
     "metadata": {},
     "output_type": "execute_result"
    }
   ],
   "source": [
    "env.desc"
   ]
  },
  {
   "cell_type": "code",
   "execution_count": 234,
   "id": "3b359821",
   "metadata": {},
   "outputs": [
    {
     "data": {
      "text/plain": [
       "b'S'"
      ]
     },
     "execution_count": 234,
     "metadata": {},
     "output_type": "execute_result"
    }
   ],
   "source": [
    "env.desc[0][0]"
   ]
  },
  {
   "cell_type": "code",
   "execution_count": 236,
   "id": "f2dd6a37",
   "metadata": {},
   "outputs": [
    {
     "name": "stderr",
     "output_type": "stream",
     "text": [
      "/var/folders/4p/41bttzcx5y163sbdhm1bfdl40000gn/T/ipykernel_22349/991767171.py:1: DeprecationWarning: tostring() is deprecated. Use tobytes() instead.\n",
      "  env.desc.tostring()\n"
     ]
    },
    {
     "data": {
      "text/plain": [
       "b'SFFFFHFHFFFHHFFG'"
      ]
     },
     "execution_count": 236,
     "metadata": {},
     "output_type": "execute_result"
    }
   ],
   "source": [
    "env.desc.tostring()"
   ]
  },
  {
   "cell_type": "code",
   "execution_count": 237,
   "id": "42cff6e9",
   "metadata": {},
   "outputs": [
    {
     "data": {
      "text/plain": [
       "array([[b'S', b'F', b'F', b'F'],\n",
       "       [b'F', b'H', b'F', b'H'],\n",
       "       [b'F', b'F', b'F', b'H'],\n",
       "       [b'H', b'F', b'F', b'G']], dtype='|S1')"
      ]
     },
     "execution_count": 237,
     "metadata": {},
     "output_type": "execute_result"
    }
   ],
   "source": [
    "env.desc"
   ]
  },
  {
   "cell_type": "code",
   "execution_count": 238,
   "id": "59a4fcef",
   "metadata": {},
   "outputs": [
    {
     "data": {
      "text/plain": [
       "array([[b'S', b'F', b'F', b'F'],\n",
       "       [b'F', b'H', b'F', b'H'],\n",
       "       [b'F', b'F', b'F', b'H'],\n",
       "       [b'H', b'F', b'F', b'G']], dtype='|S1')"
      ]
     },
     "execution_count": 238,
     "metadata": {},
     "output_type": "execute_result"
    }
   ],
   "source": [
    "env.desc"
   ]
  },
  {
   "cell_type": "code",
   "execution_count": 239,
   "id": "2a4e062d",
   "metadata": {},
   "outputs": [
    {
     "ename": "NameError",
     "evalue": "name 'string' is not defined",
     "output_type": "error",
     "traceback": [
      "\u001b[0;31m---------------------------------------------------------------------------\u001b[0m",
      "\u001b[0;31mNameError\u001b[0m                                 Traceback (most recent call last)",
      "\u001b[0;32m/var/folders/4p/41bttzcx5y163sbdhm1bfdl40000gn/T/ipykernel_22349/1148085766.py\u001b[0m in \u001b[0;36m<module>\u001b[0;34m\u001b[0m\n\u001b[0;32m----> 1\u001b[0;31m \u001b[0menv\u001b[0m\u001b[0;34m.\u001b[0m\u001b[0mdesc\u001b[0m\u001b[0;34m.\u001b[0m\u001b[0mastype\u001b[0m\u001b[0;34m(\u001b[0m\u001b[0mstring\u001b[0m\u001b[0;34m)\u001b[0m\u001b[0;34m\u001b[0m\u001b[0;34m\u001b[0m\u001b[0m\n\u001b[0m",
      "\u001b[0;31mNameError\u001b[0m: name 'string' is not defined"
     ]
    }
   ],
   "source": [
    "env.desc.astype(string)"
   ]
  },
  {
   "cell_type": "code",
   "execution_count": 240,
   "id": "03236874",
   "metadata": {},
   "outputs": [
    {
     "ename": "NameError",
     "evalue": "name 'String' is not defined",
     "output_type": "error",
     "traceback": [
      "\u001b[0;31m---------------------------------------------------------------------------\u001b[0m",
      "\u001b[0;31mNameError\u001b[0m                                 Traceback (most recent call last)",
      "\u001b[0;32m/var/folders/4p/41bttzcx5y163sbdhm1bfdl40000gn/T/ipykernel_22349/3497550040.py\u001b[0m in \u001b[0;36m<module>\u001b[0;34m\u001b[0m\n\u001b[0;32m----> 1\u001b[0;31m \u001b[0menv\u001b[0m\u001b[0;34m.\u001b[0m\u001b[0mdesc\u001b[0m\u001b[0;34m.\u001b[0m\u001b[0mastype\u001b[0m\u001b[0;34m(\u001b[0m\u001b[0mString\u001b[0m\u001b[0;34m)\u001b[0m\u001b[0;34m\u001b[0m\u001b[0;34m\u001b[0m\u001b[0m\n\u001b[0m",
      "\u001b[0;31mNameError\u001b[0m: name 'String' is not defined"
     ]
    }
   ],
   "source": [
    "env.desc.astype(String)"
   ]
  },
  {
   "cell_type": "code",
   "execution_count": 241,
   "id": "9c542c4b",
   "metadata": {},
   "outputs": [
    {
     "data": {
      "text/plain": [
       "array([['S', 'F', 'F', 'F'],\n",
       "       ['F', 'H', 'F', 'H'],\n",
       "       ['F', 'F', 'F', 'H'],\n",
       "       ['H', 'F', 'F', 'G']], dtype='<U1')"
      ]
     },
     "execution_count": 241,
     "metadata": {},
     "output_type": "execute_result"
    }
   ],
   "source": [
    "env.desc.astype(str)"
   ]
  },
  {
   "cell_type": "code",
   "execution_count": 242,
   "id": "80615ba7",
   "metadata": {},
   "outputs": [
    {
     "data": {
      "text/plain": [
       "<function ndarray.flatten>"
      ]
     },
     "execution_count": 242,
     "metadata": {},
     "output_type": "execute_result"
    }
   ],
   "source": [
    "env.desc.astype(str).flatten"
   ]
  },
  {
   "cell_type": "code",
   "execution_count": 243,
   "id": "a86b8657",
   "metadata": {},
   "outputs": [
    {
     "data": {
      "text/plain": [
       "array(['S', 'F', 'F', 'F', 'F', 'H', 'F', 'H', 'F', 'F', 'F', 'H', 'H',\n",
       "       'F', 'F', 'G'], dtype='<U1')"
      ]
     },
     "execution_count": 243,
     "metadata": {},
     "output_type": "execute_result"
    }
   ],
   "source": [
    "env.desc.astype(str).flatten()"
   ]
  },
  {
   "cell_type": "code",
   "execution_count": 244,
   "id": "75c7fda7",
   "metadata": {},
   "outputs": [
    {
     "data": {
      "text/plain": [
       "'G'"
      ]
     },
     "execution_count": 244,
     "metadata": {},
     "output_type": "execute_result"
    }
   ],
   "source": [
    "env.desc.astype(str).flatten()[15]"
   ]
  },
  {
   "cell_type": "code",
   "execution_count": 245,
   "id": "6bd4a68f",
   "metadata": {},
   "outputs": [
    {
     "ename": "NameError",
     "evalue": "name 'size' is not defined",
     "output_type": "error",
     "traceback": [
      "\u001b[0;31m---------------------------------------------------------------------------\u001b[0m",
      "\u001b[0;31mNameError\u001b[0m                                 Traceback (most recent call last)",
      "\u001b[0;32m/var/folders/4p/41bttzcx5y163sbdhm1bfdl40000gn/T/ipykernel_22349/1445013059.py\u001b[0m in \u001b[0;36m<module>\u001b[0;34m\u001b[0m\n\u001b[0;32m----> 1\u001b[0;31m \u001b[0mP\u001b[0m\u001b[0;34m,\u001b[0m \u001b[0mR\u001b[0m \u001b[0;34m=\u001b[0m \u001b[0mhiive\u001b[0m\u001b[0;34m.\u001b[0m\u001b[0mmdptoolbox\u001b[0m\u001b[0;34m.\u001b[0m\u001b[0mexample\u001b[0m\u001b[0;34m.\u001b[0m\u001b[0mforest\u001b[0m\u001b[0;34m(\u001b[0m\u001b[0mS\u001b[0m\u001b[0;34m=\u001b[0m\u001b[0msize\u001b[0m\u001b[0;34m)\u001b[0m\u001b[0;34m\u001b[0m\u001b[0;34m\u001b[0m\u001b[0m\n\u001b[0m",
      "\u001b[0;31mNameError\u001b[0m: name 'size' is not defined"
     ]
    }
   ],
   "source": [
    "P, R = hiive.mdptoolbox.example.forest(S=size)"
   ]
  },
  {
   "cell_type": "code",
   "execution_count": 246,
   "id": "bd77c088",
   "metadata": {},
   "outputs": [],
   "source": [
    "P, R = hiive.mdptoolbox.example.forest(S=3)"
   ]
  },
  {
   "cell_type": "code",
   "execution_count": 247,
   "id": "0070c60c",
   "metadata": {},
   "outputs": [
    {
     "data": {
      "text/plain": [
       "array([[[0.1, 0.9, 0. ],\n",
       "        [0.1, 0. , 0.9],\n",
       "        [0.1, 0. , 0.9]],\n",
       "\n",
       "       [[1. , 0. , 0. ],\n",
       "        [1. , 0. , 0. ],\n",
       "        [1. , 0. , 0. ]]])"
      ]
     },
     "execution_count": 247,
     "metadata": {},
     "output_type": "execute_result"
    }
   ],
   "source": [
    "P"
   ]
  },
  {
   "cell_type": "code",
   "execution_count": 249,
   "id": "16206e01",
   "metadata": {},
   "outputs": [
    {
     "data": {
      "text/plain": [
       "array([[0., 0.],\n",
       "       [0., 1.],\n",
       "       [4., 2.]])"
      ]
     },
     "execution_count": 249,
     "metadata": {},
     "output_type": "execute_result"
    }
   ],
   "source": [
    "R"
   ]
  },
  {
   "cell_type": "code",
   "execution_count": 250,
   "id": "b43d70cb",
   "metadata": {},
   "outputs": [],
   "source": [
    "P, R = hiive.mdptoolbox.example.forest(S=10)"
   ]
  },
  {
   "cell_type": "code",
   "execution_count": 251,
   "id": "71082fc1",
   "metadata": {},
   "outputs": [
    {
     "data": {
      "text/plain": [
       "array([[[0.1, 0.9, 0. , 0. , 0. , 0. , 0. , 0. , 0. , 0. ],\n",
       "        [0.1, 0. , 0.9, 0. , 0. , 0. , 0. , 0. , 0. , 0. ],\n",
       "        [0.1, 0. , 0. , 0.9, 0. , 0. , 0. , 0. , 0. , 0. ],\n",
       "        [0.1, 0. , 0. , 0. , 0.9, 0. , 0. , 0. , 0. , 0. ],\n",
       "        [0.1, 0. , 0. , 0. , 0. , 0.9, 0. , 0. , 0. , 0. ],\n",
       "        [0.1, 0. , 0. , 0. , 0. , 0. , 0.9, 0. , 0. , 0. ],\n",
       "        [0.1, 0. , 0. , 0. , 0. , 0. , 0. , 0.9, 0. , 0. ],\n",
       "        [0.1, 0. , 0. , 0. , 0. , 0. , 0. , 0. , 0.9, 0. ],\n",
       "        [0.1, 0. , 0. , 0. , 0. , 0. , 0. , 0. , 0. , 0.9],\n",
       "        [0.1, 0. , 0. , 0. , 0. , 0. , 0. , 0. , 0. , 0.9]],\n",
       "\n",
       "       [[1. , 0. , 0. , 0. , 0. , 0. , 0. , 0. , 0. , 0. ],\n",
       "        [1. , 0. , 0. , 0. , 0. , 0. , 0. , 0. , 0. , 0. ],\n",
       "        [1. , 0. , 0. , 0. , 0. , 0. , 0. , 0. , 0. , 0. ],\n",
       "        [1. , 0. , 0. , 0. , 0. , 0. , 0. , 0. , 0. , 0. ],\n",
       "        [1. , 0. , 0. , 0. , 0. , 0. , 0. , 0. , 0. , 0. ],\n",
       "        [1. , 0. , 0. , 0. , 0. , 0. , 0. , 0. , 0. , 0. ],\n",
       "        [1. , 0. , 0. , 0. , 0. , 0. , 0. , 0. , 0. , 0. ],\n",
       "        [1. , 0. , 0. , 0. , 0. , 0. , 0. , 0. , 0. , 0. ],\n",
       "        [1. , 0. , 0. , 0. , 0. , 0. , 0. , 0. , 0. , 0. ],\n",
       "        [1. , 0. , 0. , 0. , 0. , 0. , 0. , 0. , 0. , 0. ]]])"
      ]
     },
     "execution_count": 251,
     "metadata": {},
     "output_type": "execute_result"
    }
   ],
   "source": [
    "P\n"
   ]
  },
  {
   "cell_type": "code",
   "execution_count": 252,
   "id": "00bdb816",
   "metadata": {},
   "outputs": [
    {
     "data": {
      "text/plain": [
       "array([[0., 0.],\n",
       "       [0., 1.],\n",
       "       [0., 1.],\n",
       "       [0., 1.],\n",
       "       [0., 1.],\n",
       "       [0., 1.],\n",
       "       [0., 1.],\n",
       "       [0., 1.],\n",
       "       [0., 1.],\n",
       "       [4., 2.]])"
      ]
     },
     "execution_count": 252,
     "metadata": {},
     "output_type": "execute_result"
    }
   ],
   "source": [
    "R"
   ]
  },
  {
   "cell_type": "code",
   "execution_count": null,
   "id": "4e29821b",
   "metadata": {},
   "outputs": [],
   "source": []
  }
 ],
 "metadata": {
  "kernelspec": {
   "display_name": "Python 3 (ipykernel)",
   "language": "python",
   "name": "python3"
  },
  "language_info": {
   "codemirror_mode": {
    "name": "ipython",
    "version": 3
   },
   "file_extension": ".py",
   "mimetype": "text/x-python",
   "name": "python",
   "nbconvert_exporter": "python",
   "pygments_lexer": "ipython3",
   "version": "3.9.7"
  }
 },
 "nbformat": 4,
 "nbformat_minor": 5
}
